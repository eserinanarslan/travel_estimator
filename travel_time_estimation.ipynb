{
 "cells": [
  {
   "cell_type": "code",
   "execution_count": 1,
   "metadata": {
    "colab": {
     "base_uri": "https://localhost:8080/",
     "height": 71
    },
    "colab_type": "code",
    "executionInfo": {
     "elapsed": 848,
     "status": "ok",
     "timestamp": 1582795184575,
     "user": {
      "displayName": "Eser İnan Arslan",
      "photoUrl": "https://lh3.googleusercontent.com/a-/AAuE7mAEXYsAQ5ofuOAq2VqhAAEj2Kib3xBlNNc3K0sfIQ=s64",
      "userId": "01966049699378036829"
     },
     "user_tz": -180
    },
    "id": "8aHPe-DcpkRS",
    "outputId": "5bd55d26-cc9a-42b2-c917-e323c1897aa9"
   },
   "outputs": [],
   "source": [
    "import pandas as pd\n",
    "import numpy as np\n",
    "\n",
    "import matplotlib.pyplot as plt\n",
    "from sklearn.metrics import mean_squared_error, mean_absolute_error\n",
    "from sklearn.model_selection import cross_val_score\n",
    "from sklearn import linear_model\n",
    "from sklearn.model_selection import train_test_split\n",
    "from sklearn.metrics.scorer import make_scorer\n",
    "%matplotlib inline\n",
    "\n",
    "\n",
    "from sklearn.datasets import make_blobs\n",
    "from sklearn.cluster import MeanShift, estimate_bandwidth\n",
    "from scipy.spatial.distance import cdist \n",
    "\n",
    "from sklearn.cluster import KMeans\n",
    "from datetime import datetime"
   ]
  },
  {
   "cell_type": "code",
   "execution_count": 2,
   "metadata": {
    "colab": {},
    "colab_type": "code",
    "id": "ICJ1g_HHtIHr"
   },
   "outputs": [
    {
     "ename": "ImportError",
     "evalue": "No module named 'google.colab'",
     "output_type": "error",
     "traceback": [
      "\u001b[0;31m---------------------------------------------------------------------------\u001b[0m",
      "\u001b[0;31mImportError\u001b[0m                               Traceback (most recent call last)",
      "\u001b[0;32m<ipython-input-2-ee201b91671e>\u001b[0m in \u001b[0;36m<module>\u001b[0;34m\u001b[0m\n\u001b[0;32m----> 1\u001b[0;31m \u001b[0;32mfrom\u001b[0m \u001b[0mgoogle\u001b[0m\u001b[0;34m.\u001b[0m\u001b[0mcolab\u001b[0m \u001b[0;32mimport\u001b[0m \u001b[0mfiles\u001b[0m\u001b[0;34m\u001b[0m\u001b[0m\n\u001b[0m",
      "\u001b[0;31mImportError\u001b[0m: No module named 'google.colab'"
     ]
    }
   ],
   "source": [
    "from google.colab import files"
   ]
  },
  {
   "cell_type": "code",
   "execution_count": 3,
   "metadata": {
    "colab": {
     "base_uri": "https://localhost:8080/",
     "height": 71,
     "resources": {
      "http://localhost:8080/nbextensions/google.colab/files.js": {
       "data": "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",
       "headers": [
        [
         "content-type",
         "application/javascript"
        ]
       ],
       "ok": true,
       "status": 200,
       "status_text": ""
      }
     }
    },
    "colab_type": "code",
    "executionInfo": {
     "elapsed": 149426,
     "status": "ok",
     "timestamp": 1582700040549,
     "user": {
      "displayName": "Eser İnan Arslan",
      "photoUrl": "https://lh3.googleusercontent.com/a-/AAuE7mAEXYsAQ5ofuOAq2VqhAAEj2Kib3xBlNNc3K0sfIQ=s64",
      "userId": "01966049699378036829"
     },
     "user_tz": -180
    },
    "id": "KMCCQ5gftNSf",
    "outputId": "8f466e42-edd0-43e7-f719-53bf5ca7bdcf"
   },
   "outputs": [
    {
     "data": {
      "text/html": [
       "\n",
       "     <input type=\"file\" id=\"files-755cb712-ba82-4af9-93b6-dccee6a180ff\" name=\"files[]\" multiple disabled />\n",
       "     <output id=\"result-755cb712-ba82-4af9-93b6-dccee6a180ff\">\n",
       "      Upload widget is only available when the cell has been executed in the\n",
       "      current browser session. Please rerun this cell to enable.\n",
       "      </output>\n",
       "      <script src=\"/nbextensions/google.colab/files.js\"></script> "
      ],
      "text/plain": [
       "<IPython.core.display.HTML object>"
      ]
     },
     "metadata": {
      "tags": []
     },
     "output_type": "display_data"
    },
    {
     "name": "stdout",
     "output_type": "stream",
     "text": [
      "Saving train.txt to train.txt\n"
     ]
    }
   ],
   "source": [
    "#Upload train and val label data set file from local to colabs area\n",
    "uploaded = files.upload()"
   ]
  },
  {
   "cell_type": "code",
   "execution_count": 2,
   "metadata": {
    "colab": {
     "base_uri": "https://localhost:8080/",
     "height": 359
    },
    "colab_type": "code",
    "executionInfo": {
     "elapsed": 1715,
     "status": "ok",
     "timestamp": 1582795195475,
     "user": {
      "displayName": "Eser İnan Arslan",
      "photoUrl": "https://lh3.googleusercontent.com/a-/AAuE7mAEXYsAQ5ofuOAq2VqhAAEj2Kib3xBlNNc3K0sfIQ=s64",
      "userId": "01966049699378036829"
     },
     "user_tz": -180
    },
    "id": "coReMpWPtVJ_",
    "outputId": "5d810648-560f-45b4-a93e-027991818f19"
   },
   "outputs": [
    {
     "data": {
      "text/html": [
       "<div>\n",
       "<style scoped>\n",
       "    .dataframe tbody tr th:only-of-type {\n",
       "        vertical-align: middle;\n",
       "    }\n",
       "\n",
       "    .dataframe tbody tr th {\n",
       "        vertical-align: top;\n",
       "    }\n",
       "\n",
       "    .dataframe thead th {\n",
       "        text-align: right;\n",
       "    }\n",
       "</style>\n",
       "<table border=\"1\" class=\"dataframe\">\n",
       "  <thead>\n",
       "    <tr style=\"text-align: right;\">\n",
       "      <th></th>\n",
       "      <th>0</th>\n",
       "      <th>1</th>\n",
       "    </tr>\n",
       "  </thead>\n",
       "  <tbody>\n",
       "    <tr>\n",
       "      <th>0</th>\n",
       "      <td>1278160345</td>\n",
       "      <td>962\\tFriday\\t20\\t39,8851194\\t32,8562758\\t39,87...</td>\n",
       "    </tr>\n",
       "    <tr>\n",
       "      <th>1</th>\n",
       "      <td>1274461376</td>\n",
       "      <td>916\\tTuesday\\t8\\t39,8834635\\t32,8335031\\t39,89...</td>\n",
       "    </tr>\n",
       "    <tr>\n",
       "      <th>2</th>\n",
       "      <td>1278402853</td>\n",
       "      <td>1175\\tSaturday\\t2\\t39,9164664\\t32,7246981\\t39,...</td>\n",
       "    </tr>\n",
       "    <tr>\n",
       "      <th>3</th>\n",
       "      <td>1272398564</td>\n",
       "      <td>1630\\tSaturday\\t15\\t39,93071844\\t32,61985895\\t...</td>\n",
       "    </tr>\n",
       "    <tr>\n",
       "      <th>4</th>\n",
       "      <td>1279996323</td>\n",
       "      <td>561\\tSunday\\t18\\t39,914876\\t32,72881434\\t39,93...</td>\n",
       "    </tr>\n",
       "    <tr>\n",
       "      <th>178085</th>\n",
       "      <td>1271716250</td>\n",
       "      <td>328\\tFriday\\t20\\t39,89996651\\t32,75756675\\t39,...</td>\n",
       "    </tr>\n",
       "    <tr>\n",
       "      <th>178086</th>\n",
       "      <td>1275289045</td>\n",
       "      <td>842\\tWednesday\\t6\\t39,87718115\\t32,81464391\\t3...</td>\n",
       "    </tr>\n",
       "    <tr>\n",
       "      <th>178087</th>\n",
       "      <td>1269676370</td>\n",
       "      <td>517\\tWednesday\\t19\\t39,7956454\\t32,8746088\\t39...</td>\n",
       "    </tr>\n",
       "    <tr>\n",
       "      <th>178088</th>\n",
       "      <td>1273331688</td>\n",
       "      <td>797\\tSunday\\t18\\t39,8658282\\t32,8524761\\t39,88...</td>\n",
       "    </tr>\n",
       "    <tr>\n",
       "      <th>178089</th>\n",
       "      <td>1291915508</td>\n",
       "      <td>919\\tSunday\\t0\\t39,9457001\\t32,7596329\\t39,954...</td>\n",
       "    </tr>\n",
       "  </tbody>\n",
       "</table>\n",
       "</div>"
      ],
      "text/plain": [
       "                 0                                                  1\n",
       "0       1278160345  962\\tFriday\\t20\\t39,8851194\\t32,8562758\\t39,87...\n",
       "1       1274461376  916\\tTuesday\\t8\\t39,8834635\\t32,8335031\\t39,89...\n",
       "2       1278402853  1175\\tSaturday\\t2\\t39,9164664\\t32,7246981\\t39,...\n",
       "3       1272398564  1630\\tSaturday\\t15\\t39,93071844\\t32,61985895\\t...\n",
       "4       1279996323  561\\tSunday\\t18\\t39,914876\\t32,72881434\\t39,93...\n",
       "178085  1271716250  328\\tFriday\\t20\\t39,89996651\\t32,75756675\\t39,...\n",
       "178086  1275289045  842\\tWednesday\\t6\\t39,87718115\\t32,81464391\\t3...\n",
       "178087  1269676370  517\\tWednesday\\t19\\t39,7956454\\t32,8746088\\t39...\n",
       "178088  1273331688  797\\tSunday\\t18\\t39,8658282\\t32,8524761\\t39,88...\n",
       "178089  1291915508  919\\tSunday\\t0\\t39,9457001\\t32,7596329\\t39,954..."
      ]
     },
     "execution_count": 2,
     "metadata": {},
     "output_type": "execute_result"
    }
   ],
   "source": [
    "# Load Train and val label dataset\n",
    "train_df = pd.read_fwf(\"train.txt\", sep=\" \", header=None)\n",
    "#train_df.reset_index()\n",
    "train_df.head(5).append(train_df.tail(5))"
   ]
  },
  {
   "cell_type": "code",
   "execution_count": 3,
   "metadata": {
    "colab": {
     "base_uri": "https://localhost:8080/",
     "height": 34
    },
    "colab_type": "code",
    "executionInfo": {
     "elapsed": 528,
     "status": "ok",
     "timestamp": 1582795195475,
     "user": {
      "displayName": "Eser İnan Arslan",
      "photoUrl": "https://lh3.googleusercontent.com/a-/AAuE7mAEXYsAQ5ofuOAq2VqhAAEj2Kib3xBlNNc3K0sfIQ=s64",
      "userId": "01966049699378036829"
     },
     "user_tz": -180
    },
    "id": "IMgIvFQK25-C",
    "outputId": "75adb81e-6415-45a3-8668-06c3f3e098a4"
   },
   "outputs": [
    {
     "data": {
      "text/plain": [
       "(178090, 2)"
      ]
     },
     "execution_count": 3,
     "metadata": {},
     "output_type": "execute_result"
    }
   ],
   "source": [
    "train_df.shape"
   ]
  },
  {
   "cell_type": "code",
   "execution_count": 4,
   "metadata": {
    "colab": {
     "base_uri": "https://localhost:8080/",
     "height": 204
    },
    "colab_type": "code",
    "executionInfo": {
     "elapsed": 1638,
     "status": "ok",
     "timestamp": 1582795197786,
     "user": {
      "displayName": "Eser İnan Arslan",
      "photoUrl": "https://lh3.googleusercontent.com/a-/AAuE7mAEXYsAQ5ofuOAq2VqhAAEj2Kib3xBlNNc3K0sfIQ=s64",
      "userId": "01966049699378036829"
     },
     "user_tz": -180
    },
    "id": "Q4ELR7jTt-sQ",
    "outputId": "76ed2cbd-fcd1-4067-cb69-576117c70fc5"
   },
   "outputs": [
    {
     "data": {
      "text/html": [
       "<div>\n",
       "<style scoped>\n",
       "    .dataframe tbody tr th:only-of-type {\n",
       "        vertical-align: middle;\n",
       "    }\n",
       "\n",
       "    .dataframe tbody tr th {\n",
       "        vertical-align: top;\n",
       "    }\n",
       "\n",
       "    .dataframe thead th {\n",
       "        text-align: right;\n",
       "    }\n",
       "</style>\n",
       "<table border=\"1\" class=\"dataframe\">\n",
       "  <thead>\n",
       "    <tr style=\"text-align: right;\">\n",
       "      <th></th>\n",
       "      <th>travel_time</th>\n",
       "      <th>travel_day</th>\n",
       "      <th>travel_hour</th>\n",
       "      <th>source_latitute</th>\n",
       "      <th>source_longitute</th>\n",
       "      <th>destination_latitute</th>\n",
       "      <th>destination_longitute</th>\n",
       "    </tr>\n",
       "  </thead>\n",
       "  <tbody>\n",
       "    <tr>\n",
       "      <th>0</th>\n",
       "      <td>962</td>\n",
       "      <td>Friday</td>\n",
       "      <td>20</td>\n",
       "      <td>39,8851194</td>\n",
       "      <td>32,8562758</td>\n",
       "      <td>39,8718379</td>\n",
       "      <td>32,8222507</td>\n",
       "    </tr>\n",
       "    <tr>\n",
       "      <th>1</th>\n",
       "      <td>916</td>\n",
       "      <td>Tuesday</td>\n",
       "      <td>8</td>\n",
       "      <td>39,8834635</td>\n",
       "      <td>32,8335031</td>\n",
       "      <td>39,8912282</td>\n",
       "      <td>32,85792586</td>\n",
       "    </tr>\n",
       "    <tr>\n",
       "      <th>2</th>\n",
       "      <td>1175</td>\n",
       "      <td>Saturday</td>\n",
       "      <td>2</td>\n",
       "      <td>39,9164664</td>\n",
       "      <td>32,7246981</td>\n",
       "      <td>39,9414644</td>\n",
       "      <td>32,7183841</td>\n",
       "    </tr>\n",
       "    <tr>\n",
       "      <th>3</th>\n",
       "      <td>1630</td>\n",
       "      <td>Saturday</td>\n",
       "      <td>15</td>\n",
       "      <td>39,93071844</td>\n",
       "      <td>32,61985895</td>\n",
       "      <td>39,9023246</td>\n",
       "      <td>32,5240639</td>\n",
       "    </tr>\n",
       "    <tr>\n",
       "      <th>4</th>\n",
       "      <td>561</td>\n",
       "      <td>Sunday</td>\n",
       "      <td>18</td>\n",
       "      <td>39,914876</td>\n",
       "      <td>32,72881434</td>\n",
       "      <td>39,9307344</td>\n",
       "      <td>32,7187225</td>\n",
       "    </tr>\n",
       "  </tbody>\n",
       "</table>\n",
       "</div>"
      ],
      "text/plain": [
       "  travel_time travel_day travel_hour source_latitute source_longitute  \\\n",
       "0         962     Friday          20      39,8851194       32,8562758   \n",
       "1         916    Tuesday           8      39,8834635       32,8335031   \n",
       "2        1175   Saturday           2      39,9164664       32,7246981   \n",
       "3        1630   Saturday          15     39,93071844      32,61985895   \n",
       "4         561     Sunday          18       39,914876      32,72881434   \n",
       "\n",
       "  destination_latitute destination_longitute  \n",
       "0           39,8718379            32,8222507  \n",
       "1           39,8912282           32,85792586  \n",
       "2           39,9414644            32,7183841  \n",
       "3           39,9023246            32,5240639  \n",
       "4           39,9307344            32,7187225  "
      ]
     },
     "execution_count": 4,
     "metadata": {},
     "output_type": "execute_result"
    }
   ],
   "source": [
    "split_data = train_df[1].str.split(\"\\t\")\n",
    "data = split_data.to_list()\n",
    "names = [\"travel_time\", \"travel_day\", \"travel_hour\", \"source_latitute\", \"source_longitute\", \"destination_latitute\", \"destination_longitute\"]\n",
    "new_df = pd.DataFrame(data, columns=names)\n",
    "new_df.head(5)"
   ]
  },
  {
   "cell_type": "code",
   "execution_count": 5,
   "metadata": {
    "colab": {
     "base_uri": "https://localhost:8080/",
     "height": 34
    },
    "colab_type": "code",
    "executionInfo": {
     "elapsed": 664,
     "status": "ok",
     "timestamp": 1582795198626,
     "user": {
      "displayName": "Eser İnan Arslan",
      "photoUrl": "https://lh3.googleusercontent.com/a-/AAuE7mAEXYsAQ5ofuOAq2VqhAAEj2Kib3xBlNNc3K0sfIQ=s64",
      "userId": "01966049699378036829"
     },
     "user_tz": -180
    },
    "id": "uDLQJNJ7wi4X",
    "outputId": "83e7019e-c992-482d-edb6-60615357d37c"
   },
   "outputs": [
    {
     "data": {
      "text/plain": [
       "(178090, 7)"
      ]
     },
     "execution_count": 5,
     "metadata": {},
     "output_type": "execute_result"
    }
   ],
   "source": [
    "new_df.shape"
   ]
  },
  {
   "cell_type": "code",
   "execution_count": null,
   "metadata": {
    "colab": {},
    "colab_type": "code",
    "id": "KQGC5Qbf2soD"
   },
   "outputs": [],
   "source": []
  },
  {
   "cell_type": "code",
   "execution_count": 6,
   "metadata": {
    "colab": {
     "base_uri": "https://localhost:8080/",
     "height": 204
    },
    "colab_type": "code",
    "executionInfo": {
     "elapsed": 827,
     "status": "ok",
     "timestamp": 1582795201125,
     "user": {
      "displayName": "Eser İnan Arslan",
      "photoUrl": "https://lh3.googleusercontent.com/a-/AAuE7mAEXYsAQ5ofuOAq2VqhAAEj2Kib3xBlNNc3K0sfIQ=s64",
      "userId": "01966049699378036829"
     },
     "user_tz": -180
    },
    "id": "M9KDWZB1zCn6",
    "outputId": "5941ec08-eccd-477f-92e2-2174284fa8d4"
   },
   "outputs": [
    {
     "data": {
      "text/html": [
       "<div>\n",
       "<style scoped>\n",
       "    .dataframe tbody tr th:only-of-type {\n",
       "        vertical-align: middle;\n",
       "    }\n",
       "\n",
       "    .dataframe tbody tr th {\n",
       "        vertical-align: top;\n",
       "    }\n",
       "\n",
       "    .dataframe thead th {\n",
       "        text-align: right;\n",
       "    }\n",
       "</style>\n",
       "<table border=\"1\" class=\"dataframe\">\n",
       "  <thead>\n",
       "    <tr style=\"text-align: right;\">\n",
       "      <th></th>\n",
       "      <th>travel_id</th>\n",
       "    </tr>\n",
       "  </thead>\n",
       "  <tbody>\n",
       "    <tr>\n",
       "      <th>0</th>\n",
       "      <td>1278160345</td>\n",
       "    </tr>\n",
       "    <tr>\n",
       "      <th>1</th>\n",
       "      <td>1274461376</td>\n",
       "    </tr>\n",
       "    <tr>\n",
       "      <th>2</th>\n",
       "      <td>1278402853</td>\n",
       "    </tr>\n",
       "    <tr>\n",
       "      <th>3</th>\n",
       "      <td>1272398564</td>\n",
       "    </tr>\n",
       "    <tr>\n",
       "      <th>4</th>\n",
       "      <td>1279996323</td>\n",
       "    </tr>\n",
       "  </tbody>\n",
       "</table>\n",
       "</div>"
      ],
      "text/plain": [
       "    travel_id\n",
       "0  1278160345\n",
       "1  1274461376\n",
       "2  1278402853\n",
       "3  1272398564\n",
       "4  1279996323"
      ]
     },
     "execution_count": 6,
     "metadata": {},
     "output_type": "execute_result"
    }
   ],
   "source": [
    "train_df.rename(columns={0: \"travel_id\"}, inplace= True)\n",
    "train_df = train_df.drop(columns=[1])\n",
    "train_df.head(5)"
   ]
  },
  {
   "cell_type": "code",
   "execution_count": 7,
   "metadata": {
    "colab": {
     "base_uri": "https://localhost:8080/",
     "height": 34
    },
    "colab_type": "code",
    "executionInfo": {
     "elapsed": 514,
     "status": "ok",
     "timestamp": 1582795202301,
     "user": {
      "displayName": "Eser İnan Arslan",
      "photoUrl": "https://lh3.googleusercontent.com/a-/AAuE7mAEXYsAQ5ofuOAq2VqhAAEj2Kib3xBlNNc3K0sfIQ=s64",
      "userId": "01966049699378036829"
     },
     "user_tz": -180
    },
    "id": "DQ1R-znD3M-L",
    "outputId": "b67bc3ec-e797-4ebd-cb73-c7aa25df79df"
   },
   "outputs": [
    {
     "data": {
      "text/plain": [
       "(178090, 1)"
      ]
     },
     "execution_count": 7,
     "metadata": {},
     "output_type": "execute_result"
    }
   ],
   "source": [
    "train_df.shape"
   ]
  },
  {
   "cell_type": "code",
   "execution_count": 8,
   "metadata": {
    "colab": {},
    "colab_type": "code",
    "id": "KsQ55HSkzfhJ"
   },
   "outputs": [],
   "source": [
    "train_df = pd.concat([train_df, new_df], axis=1)"
   ]
  },
  {
   "cell_type": "code",
   "execution_count": 9,
   "metadata": {
    "colab": {
     "base_uri": "https://localhost:8080/",
     "height": 359
    },
    "colab_type": "code",
    "executionInfo": {
     "elapsed": 666,
     "status": "ok",
     "timestamp": 1582795205682,
     "user": {
      "displayName": "Eser İnan Arslan",
      "photoUrl": "https://lh3.googleusercontent.com/a-/AAuE7mAEXYsAQ5ofuOAq2VqhAAEj2Kib3xBlNNc3K0sfIQ=s64",
      "userId": "01966049699378036829"
     },
     "user_tz": -180
    },
    "id": "zwofhIID1leW",
    "outputId": "462ce275-0580-4767-d885-ec1271eff6fa"
   },
   "outputs": [
    {
     "data": {
      "text/html": [
       "<div>\n",
       "<style scoped>\n",
       "    .dataframe tbody tr th:only-of-type {\n",
       "        vertical-align: middle;\n",
       "    }\n",
       "\n",
       "    .dataframe tbody tr th {\n",
       "        vertical-align: top;\n",
       "    }\n",
       "\n",
       "    .dataframe thead th {\n",
       "        text-align: right;\n",
       "    }\n",
       "</style>\n",
       "<table border=\"1\" class=\"dataframe\">\n",
       "  <thead>\n",
       "    <tr style=\"text-align: right;\">\n",
       "      <th></th>\n",
       "      <th>travel_id</th>\n",
       "      <th>travel_time</th>\n",
       "      <th>travel_day</th>\n",
       "      <th>travel_hour</th>\n",
       "      <th>source_latitute</th>\n",
       "      <th>source_longitute</th>\n",
       "      <th>destination_latitute</th>\n",
       "      <th>destination_longitute</th>\n",
       "    </tr>\n",
       "  </thead>\n",
       "  <tbody>\n",
       "    <tr>\n",
       "      <th>0</th>\n",
       "      <td>1278160345</td>\n",
       "      <td>962</td>\n",
       "      <td>Friday</td>\n",
       "      <td>20</td>\n",
       "      <td>39,8851194</td>\n",
       "      <td>32,8562758</td>\n",
       "      <td>39,8718379</td>\n",
       "      <td>32,8222507</td>\n",
       "    </tr>\n",
       "    <tr>\n",
       "      <th>1</th>\n",
       "      <td>1274461376</td>\n",
       "      <td>916</td>\n",
       "      <td>Tuesday</td>\n",
       "      <td>8</td>\n",
       "      <td>39,8834635</td>\n",
       "      <td>32,8335031</td>\n",
       "      <td>39,8912282</td>\n",
       "      <td>32,85792586</td>\n",
       "    </tr>\n",
       "    <tr>\n",
       "      <th>2</th>\n",
       "      <td>1278402853</td>\n",
       "      <td>1175</td>\n",
       "      <td>Saturday</td>\n",
       "      <td>2</td>\n",
       "      <td>39,9164664</td>\n",
       "      <td>32,7246981</td>\n",
       "      <td>39,9414644</td>\n",
       "      <td>32,7183841</td>\n",
       "    </tr>\n",
       "    <tr>\n",
       "      <th>3</th>\n",
       "      <td>1272398564</td>\n",
       "      <td>1630</td>\n",
       "      <td>Saturday</td>\n",
       "      <td>15</td>\n",
       "      <td>39,93071844</td>\n",
       "      <td>32,61985895</td>\n",
       "      <td>39,9023246</td>\n",
       "      <td>32,5240639</td>\n",
       "    </tr>\n",
       "    <tr>\n",
       "      <th>4</th>\n",
       "      <td>1279996323</td>\n",
       "      <td>561</td>\n",
       "      <td>Sunday</td>\n",
       "      <td>18</td>\n",
       "      <td>39,914876</td>\n",
       "      <td>32,72881434</td>\n",
       "      <td>39,9307344</td>\n",
       "      <td>32,7187225</td>\n",
       "    </tr>\n",
       "    <tr>\n",
       "      <th>178085</th>\n",
       "      <td>1271716250</td>\n",
       "      <td>328</td>\n",
       "      <td>Friday</td>\n",
       "      <td>20</td>\n",
       "      <td>39,89996651</td>\n",
       "      <td>32,75756675</td>\n",
       "      <td>39,8954665</td>\n",
       "      <td>32,7700688</td>\n",
       "    </tr>\n",
       "    <tr>\n",
       "      <th>178086</th>\n",
       "      <td>1275289045</td>\n",
       "      <td>842</td>\n",
       "      <td>Wednesday</td>\n",
       "      <td>6</td>\n",
       "      <td>39,87718115</td>\n",
       "      <td>32,81464391</td>\n",
       "      <td>39,89683446</td>\n",
       "      <td>32,81631269</td>\n",
       "    </tr>\n",
       "    <tr>\n",
       "      <th>178087</th>\n",
       "      <td>1269676370</td>\n",
       "      <td>517</td>\n",
       "      <td>Wednesday</td>\n",
       "      <td>19</td>\n",
       "      <td>39,7956454</td>\n",
       "      <td>32,8746088</td>\n",
       "      <td>39,80247745</td>\n",
       "      <td>32,88210816</td>\n",
       "    </tr>\n",
       "    <tr>\n",
       "      <th>178088</th>\n",
       "      <td>1273331688</td>\n",
       "      <td>797</td>\n",
       "      <td>Sunday</td>\n",
       "      <td>18</td>\n",
       "      <td>39,8658282</td>\n",
       "      <td>32,8524761</td>\n",
       "      <td>39,8884061</td>\n",
       "      <td>32,8780075</td>\n",
       "    </tr>\n",
       "    <tr>\n",
       "      <th>178089</th>\n",
       "      <td>1291915508</td>\n",
       "      <td>919</td>\n",
       "      <td>Sunday</td>\n",
       "      <td>0</td>\n",
       "      <td>39,9457001</td>\n",
       "      <td>32,7596329</td>\n",
       "      <td>39,9541224</td>\n",
       "      <td>32,7690627</td>\n",
       "    </tr>\n",
       "  </tbody>\n",
       "</table>\n",
       "</div>"
      ],
      "text/plain": [
       "         travel_id travel_time travel_day travel_hour source_latitute  \\\n",
       "0       1278160345         962     Friday          20      39,8851194   \n",
       "1       1274461376         916    Tuesday           8      39,8834635   \n",
       "2       1278402853        1175   Saturday           2      39,9164664   \n",
       "3       1272398564        1630   Saturday          15     39,93071844   \n",
       "4       1279996323         561     Sunday          18       39,914876   \n",
       "178085  1271716250         328     Friday          20     39,89996651   \n",
       "178086  1275289045         842  Wednesday           6     39,87718115   \n",
       "178087  1269676370         517  Wednesday          19      39,7956454   \n",
       "178088  1273331688         797     Sunday          18      39,8658282   \n",
       "178089  1291915508         919     Sunday           0      39,9457001   \n",
       "\n",
       "       source_longitute destination_latitute destination_longitute  \n",
       "0            32,8562758           39,8718379            32,8222507  \n",
       "1            32,8335031           39,8912282           32,85792586  \n",
       "2            32,7246981           39,9414644            32,7183841  \n",
       "3           32,61985895           39,9023246            32,5240639  \n",
       "4           32,72881434           39,9307344            32,7187225  \n",
       "178085      32,75756675           39,8954665            32,7700688  \n",
       "178086      32,81464391          39,89683446           32,81631269  \n",
       "178087       32,8746088          39,80247745           32,88210816  \n",
       "178088       32,8524761           39,8884061            32,8780075  \n",
       "178089       32,7596329           39,9541224            32,7690627  "
      ]
     },
     "execution_count": 9,
     "metadata": {},
     "output_type": "execute_result"
    }
   ],
   "source": [
    "train_df.head(5).append(train_df.tail(5))"
   ]
  },
  {
   "cell_type": "code",
   "execution_count": null,
   "metadata": {
    "colab": {},
    "colab_type": "code",
    "id": "OQjqBXXXPfiC"
   },
   "outputs": [],
   "source": []
  },
  {
   "cell_type": "code",
   "execution_count": 10,
   "metadata": {
    "colab": {},
    "colab_type": "code",
    "id": "OVwnUhtpPffJ"
   },
   "outputs": [],
   "source": [
    "# https://stackoverflow.com/a/18364570\n",
    "def get_columns_bins(column_name):\n",
    "  all_bins = []\n",
    "  \n",
    "  for method in bins_methods:\n",
    "    start = datetime.now()\n",
    "    hist, bin_edges = np.histogram(column_name,bins=method)\n",
    "    all_bins.append(bin_edges)\n",
    "    print(\"Method : {:<7} - Running Time : {:<5} - Number of bins : {:<5} - Head : {} - Tail : {}\".format(method,str(datetime.now()-start), len(bin_edges), bin_edges[:3], bin_edges[-3:-1]))\n",
    "  return all_bins"
   ]
  },
  {
   "cell_type": "code",
   "execution_count": 11,
   "metadata": {
    "colab": {},
    "colab_type": "code",
    "id": "RFGN7DhIPfcM"
   },
   "outputs": [],
   "source": [
    "# https://stackoverflow.com/a/18364570\n",
    "def get_clustering_bins(s, quantile=0.3, n_samples=None):\n",
    "    \n",
    "    series = s.dropna().values.reshape(-1, 1)\n",
    "    \n",
    "    bandwidth = estimate_bandwidth(series, quantile=quantile, n_samples=n_samples)\n",
    "    clustering = MeanShift(bandwidth=bandwidth, bin_seeding=True).fit(series)\n",
    "\n",
    "    d = pd.DataFrame(columns=['data_column', 'label_column'])\n",
    "\n",
    "    d['data_column'] = series.reshape(-1)\n",
    "    d['label_column'] = clustering.labels_\n",
    "    \n",
    "    sorted_vals = d.groupby('label_column')['data_column'].max().sort_values().values\n",
    "    bins = np.insert(sorted_vals, [0] , [series.min()-1])\n",
    "    bins[-1] = bins[-1] + 1\n",
    "    \n",
    "    return bins, range(bins.size-1) "
   ]
  },
  {
   "cell_type": "code",
   "execution_count": 12,
   "metadata": {
    "colab": {},
    "colab_type": "code",
    "id": "oIVfJ_4zPfZX"
   },
   "outputs": [],
   "source": [
    "bins_methods = [ \"auto\", \"fd\", \"doane\", \"scott\", \"stone\", \"rice\", \"sturges\", \"sqrt\"]"
   ]
  },
  {
   "cell_type": "code",
   "execution_count": 13,
   "metadata": {
    "colab": {
     "base_uri": "https://localhost:8080/",
     "height": 170
    },
    "colab_type": "code",
    "executionInfo": {
     "elapsed": 683,
     "status": "ok",
     "timestamp": 1582795212960,
     "user": {
      "displayName": "Eser İnan Arslan",
      "photoUrl": "https://lh3.googleusercontent.com/a-/AAuE7mAEXYsAQ5ofuOAq2VqhAAEj2Kib3xBlNNc3K0sfIQ=s64",
      "userId": "01966049699378036829"
     },
     "user_tz": -180
    },
    "id": "sSVCCXcrPfWh",
    "outputId": "8ec73bcc-dfa8-460f-83e7-2ea064fce678"
   },
   "outputs": [
    {
     "data": {
      "text/plain": [
       "travel_id                 int64\n",
       "travel_time              object\n",
       "travel_day               object\n",
       "travel_hour              object\n",
       "source_latitute          object\n",
       "source_longitute         object\n",
       "destination_latitute     object\n",
       "destination_longitute    object\n",
       "dtype: object"
      ]
     },
     "execution_count": 13,
     "metadata": {},
     "output_type": "execute_result"
    }
   ],
   "source": [
    "train_df.dtypes"
   ]
  },
  {
   "cell_type": "code",
   "execution_count": null,
   "metadata": {
    "colab": {},
    "colab_type": "code",
    "id": "xH4OaxbddGvM"
   },
   "outputs": [],
   "source": []
  },
  {
   "cell_type": "code",
   "execution_count": 14,
   "metadata": {
    "colab": {
     "base_uri": "https://localhost:8080/",
     "height": 51
    },
    "colab_type": "code",
    "executionInfo": {
     "elapsed": 662,
     "status": "ok",
     "timestamp": 1582795214098,
     "user": {
      "displayName": "Eser İnan Arslan",
      "photoUrl": "https://lh3.googleusercontent.com/a-/AAuE7mAEXYsAQ5ofuOAq2VqhAAEj2Kib3xBlNNc3K0sfIQ=s64",
      "userId": "01966049699378036829"
     },
     "user_tz": -180
    },
    "id": "wax0K2QhdGrq",
    "outputId": "31c045a3-ec29-4fc9-e141-b9a296dc470c"
   },
   "outputs": [
    {
     "data": {
      "text/plain": [
       "array(['39,8851194', '39,8834635', '39,9164664', ..., '39,7956454',\n",
       "       '39,8658282', '39,9457001'], dtype=object)"
      ]
     },
     "execution_count": 14,
     "metadata": {},
     "output_type": "execute_result"
    }
   ],
   "source": [
    "train_df.source_latitute.values"
   ]
  },
  {
   "cell_type": "code",
   "execution_count": null,
   "metadata": {
    "colab": {},
    "colab_type": "code",
    "id": "9-MKksLGdbM6"
   },
   "outputs": [],
   "source": []
  },
  {
   "cell_type": "code",
   "execution_count": 15,
   "metadata": {
    "colab": {
     "base_uri": "https://localhost:8080/",
     "height": 221
    },
    "colab_type": "code",
    "executionInfo": {
     "elapsed": 542,
     "status": "ok",
     "timestamp": 1582795215445,
     "user": {
      "displayName": "Eser İnan Arslan",
      "photoUrl": "https://lh3.googleusercontent.com/a-/AAuE7mAEXYsAQ5ofuOAq2VqhAAEj2Kib3xBlNNc3K0sfIQ=s64",
      "userId": "01966049699378036829"
     },
     "user_tz": -180
    },
    "id": "6uZ6sz_BdbJV",
    "outputId": "3a8d75ef-903a-44a6-f5a9-d8dcb34375ab"
   },
   "outputs": [
    {
     "data": {
      "text/plain": [
       "<bound method Series.isnull of 0          39,8851194\n",
       "1          39,8834635\n",
       "2          39,9164664\n",
       "3         39,93071844\n",
       "4           39,914876\n",
       "5         39,87322332\n",
       "6         39,94181921\n",
       "7         39,93340017\n",
       "8          39,8691594\n",
       "9          39,8512194\n",
       "10        39,91245748\n",
       "11         39,8714276\n",
       "12         39,8679657\n",
       "13         39,8761694\n",
       "14        39,84750463\n",
       "15         39,9035535\n",
       "16         39,9554503\n",
       "17        39,87723771\n",
       "18        39,85516073\n",
       "19        39,91525747\n",
       "20        39,91671469\n",
       "21         39,8702774\n",
       "22         39,9425394\n",
       "23         39,7928095\n",
       "24         39,8593394\n",
       "25        39,83617117\n",
       "26         39,9081444\n",
       "27        39,85656836\n",
       "28         39,9307144\n",
       "29        39,86716558\n",
       "             ...     \n",
       "178060    39,93533572\n",
       "178061    39,84406961\n",
       "178062    39,85779669\n",
       "178063    39,84971716\n",
       "178064    39,82500174\n",
       "178065     39,9547324\n",
       "178066      39,857586\n",
       "178067    39,89383795\n",
       "178068     39,9007294\n",
       "178069     39,9307337\n",
       "178070    39,87608435\n",
       "178071    39,87533285\n",
       "178072    39,89609625\n",
       "178073    39,85459997\n",
       "178074    39,87452795\n",
       "178075    39,82988073\n",
       "178076     39,9159799\n",
       "178077     39,8927175\n",
       "178078     39,8463794\n",
       "178079    39,89553549\n",
       "178080    39,87432577\n",
       "178081    39,94986822\n",
       "178082     39,8677094\n",
       "178083    39,85269644\n",
       "178084     39,8564413\n",
       "178085    39,89996651\n",
       "178086    39,87718115\n",
       "178087     39,7956454\n",
       "178088     39,8658282\n",
       "178089     39,9457001\n",
       "Name: source_latitute, Length: 178090, dtype: object>"
      ]
     },
     "execution_count": 15,
     "metadata": {},
     "output_type": "execute_result"
    }
   ],
   "source": [
    "train_df.source_latitute.isnull"
   ]
  },
  {
   "cell_type": "code",
   "execution_count": null,
   "metadata": {
    "colab": {},
    "colab_type": "code",
    "id": "fcT4uFjcdbGq"
   },
   "outputs": [],
   "source": []
  },
  {
   "cell_type": "code",
   "execution_count": 16,
   "metadata": {
    "colab": {
     "base_uri": "https://localhost:8080/",
     "height": 51
    },
    "colab_type": "code",
    "executionInfo": {
     "elapsed": 410,
     "status": "ok",
     "timestamp": 1582795216826,
     "user": {
      "displayName": "Eser İnan Arslan",
      "photoUrl": "https://lh3.googleusercontent.com/a-/AAuE7mAEXYsAQ5ofuOAq2VqhAAEj2Kib3xBlNNc3K0sfIQ=s64",
      "userId": "01966049699378036829"
     },
     "user_tz": -180
    },
    "id": "FAtpOxB0cRC3",
    "outputId": "5616de85-e761-4e54-e11e-ece8e6797418"
   },
   "outputs": [
    {
     "data": {
      "text/plain": [
       "array(['39,8851194', '39,8834635', '39,9164664', ..., '39,7956454',\n",
       "       '39,8658282', '39,9457001'], dtype=object)"
      ]
     },
     "execution_count": 16,
     "metadata": {},
     "output_type": "execute_result"
    }
   ],
   "source": [
    "train_df['source_latitute'].values"
   ]
  },
  {
   "cell_type": "code",
   "execution_count": 17,
   "metadata": {
    "colab": {
     "base_uri": "https://localhost:8080/",
     "height": 51
    },
    "colab_type": "code",
    "executionInfo": {
     "elapsed": 642,
     "status": "ok",
     "timestamp": 1582795219005,
     "user": {
      "displayName": "Eser İnan Arslan",
      "photoUrl": "https://lh3.googleusercontent.com/a-/AAuE7mAEXYsAQ5ofuOAq2VqhAAEj2Kib3xBlNNc3K0sfIQ=s64",
      "userId": "01966049699378036829"
     },
     "user_tz": -180
    },
    "id": "Ib6KkRw6cQ_4",
    "outputId": "3b72147c-3954-46f8-bd48-4751a5ea9f1c"
   },
   "outputs": [
    {
     "data": {
      "text/plain": [
       "array(['Friday', 'Tuesday', 'Saturday', ..., 'Wednesday', 'Sunday',\n",
       "       'Sunday'], dtype=object)"
      ]
     },
     "execution_count": 17,
     "metadata": {},
     "output_type": "execute_result"
    }
   ],
   "source": [
    "train_df['travel_day'].values"
   ]
  },
  {
   "cell_type": "code",
   "execution_count": 18,
   "metadata": {
    "colab": {
     "base_uri": "https://localhost:8080/",
     "height": 51
    },
    "colab_type": "code",
    "executionInfo": {
     "elapsed": 1300,
     "status": "ok",
     "timestamp": 1582795219998,
     "user": {
      "displayName": "Eser İnan Arslan",
      "photoUrl": "https://lh3.googleusercontent.com/a-/AAuE7mAEXYsAQ5ofuOAq2VqhAAEj2Kib3xBlNNc3K0sfIQ=s64",
      "userId": "01966049699378036829"
     },
     "user_tz": -180
    },
    "id": "m_4HR1O-VfIO",
    "outputId": "844cbff1-50d6-4b8a-a70d-f0d401292b69"
   },
   "outputs": [
    {
     "data": {
      "text/plain": [
       "array(['39.8851194', '39.8834635', '39.9164664', ..., '39.7956454',\n",
       "       '39.8658282', '39.9457001'], dtype=object)"
      ]
     },
     "execution_count": 18,
     "metadata": {},
     "output_type": "execute_result"
    }
   ],
   "source": [
    "train_df['source_latitute'] = train_df['source_latitute'].str.replace(',','.')\n",
    "train_df['source_latitute'].values"
   ]
  },
  {
   "cell_type": "code",
   "execution_count": 19,
   "metadata": {
    "colab": {},
    "colab_type": "code",
    "id": "jUudfSOZSznt"
   },
   "outputs": [],
   "source": [
    "#train_df.source_latitute = np.array(train_df.source_latitute, dtype=float)\n",
    "train_df['source_latitute'] = train_df['source_latitute'].astype(float)"
   ]
  },
  {
   "cell_type": "code",
   "execution_count": 20,
   "metadata": {
    "colab": {
     "base_uri": "https://localhost:8080/",
     "height": 170
    },
    "colab_type": "code",
    "executionInfo": {
     "elapsed": 605,
     "status": "ok",
     "timestamp": 1582795221049,
     "user": {
      "displayName": "Eser İnan Arslan",
      "photoUrl": "https://lh3.googleusercontent.com/a-/AAuE7mAEXYsAQ5ofuOAq2VqhAAEj2Kib3xBlNNc3K0sfIQ=s64",
      "userId": "01966049699378036829"
     },
     "user_tz": -180
    },
    "id": "J_oU6_ZRg-bV",
    "outputId": "05a446a1-e2e3-4332-b750-961cecf7d8c8"
   },
   "outputs": [
    {
     "data": {
      "text/plain": [
       "travel_id                  int64\n",
       "travel_time               object\n",
       "travel_day                object\n",
       "travel_hour               object\n",
       "source_latitute          float64\n",
       "source_longitute          object\n",
       "destination_latitute      object\n",
       "destination_longitute     object\n",
       "dtype: object"
      ]
     },
     "execution_count": 20,
     "metadata": {},
     "output_type": "execute_result"
    }
   ],
   "source": [
    "train_df.dtypes"
   ]
  },
  {
   "cell_type": "code",
   "execution_count": null,
   "metadata": {
    "colab": {},
    "colab_type": "code",
    "id": "StkCPLOhSziv"
   },
   "outputs": [],
   "source": []
  },
  {
   "cell_type": "code",
   "execution_count": 21,
   "metadata": {
    "colab": {
     "base_uri": "https://localhost:8080/",
     "height": 173
    },
    "colab_type": "code",
    "executionInfo": {
     "elapsed": 2433,
     "status": "ok",
     "timestamp": 1582795226512,
     "user": {
      "displayName": "Eser İnan Arslan",
      "photoUrl": "https://lh3.googleusercontent.com/a-/AAuE7mAEXYsAQ5ofuOAq2VqhAAEj2Kib3xBlNNc3K0sfIQ=s64",
      "userId": "01966049699378036829"
     },
     "user_tz": -180
    },
    "id": "Gh3U1ERMPfTv",
    "outputId": "acc6e598-e430-428f-9381-0d8a2d8ed19b"
   },
   "outputs": [
    {
     "name": "stdout",
     "output_type": "stream",
     "text": [
      "Method : auto    - Running Time : 0:00:00.008822 - Number of bins : 584   - Head : [38.7160794  38.71846058 38.72084176] - Tail : [40.09954388 40.10192506]\n",
      "Method : fd      - Running Time : 0:00:00.004386 - Number of bins : 584   - Head : [38.7160794  38.71846058 38.72084176] - Tail : [40.09954388 40.10192506]\n",
      "Method : doane   - Running Time : 0:00:00.013332 - Number of bins : 30    - Head : [38.7160794  38.76394929 38.81181918] - Tail : [40.00856646 40.05643635]\n",
      "Method : scott   - Running Time : 0:00:00.002421 - Number of bins : 257   - Head : [38.7160794  38.72150216 38.72692492] - Tail : [40.09346072 40.09888348]\n",
      "Method : stone   - Running Time : 0:00:00.668153 - Number of bins : 394   - Head : [38.7160794  38.71961178 38.72314417] - Tail : [40.09724147 40.10077386]\n",
      "Method : rice    - Running Time : 0:00:00.002312 - Number of bins : 114   - Head : [38.7160794  38.72836459 38.74064979] - Tail : [40.07973585 40.09202105]\n",
      "Method : sturges - Running Time : 0:00:00.002186 - Number of bins : 20    - Head : [38.7160794  38.78914397 38.86220854] - Tail : [39.9581771  40.03124167]\n",
      "Method : sqrt    - Running Time : 0:00:00.002171 - Number of bins : 424   - Head : [38.7160794  38.71936126 38.72264312] - Tail : [40.09774252 40.10102438]\n"
     ]
    }
   ],
   "source": [
    "all_bins_source_latitude = []\n",
    "all_bins_source_latitude = get_columns_bins(train_df.source_latitute)"
   ]
  },
  {
   "cell_type": "code",
   "execution_count": 22,
   "metadata": {
    "colab": {
     "base_uri": "https://localhost:8080/",
     "height": 350
    },
    "colab_type": "code",
    "executionInfo": {
     "elapsed": 1522,
     "status": "ok",
     "timestamp": 1582795226513,
     "user": {
      "displayName": "Eser İnan Arslan",
      "photoUrl": "https://lh3.googleusercontent.com/a-/AAuE7mAEXYsAQ5ofuOAq2VqhAAEj2Kib3xBlNNc3K0sfIQ=s64",
      "userId": "01966049699378036829"
     },
     "user_tz": -180
    },
    "id": "yug2TwgsPfQx",
    "outputId": "bd2e5a85-9eb3-40db-be46-4a76d215c94a"
   },
   "outputs": [
    {
     "data": {
      "text/plain": [
       "array([37.7160794 , 38.7708465 , 38.83037595, 38.89466776, 38.95895957,\n",
       "       39.02325138, 39.08754319, 39.15183499, 39.2161268 , 39.28041861,\n",
       "       39.34471042, 39.40900223, 39.47329404, 39.53758585, 39.60187766,\n",
       "       39.66616947, 39.73046128, 39.79475309, 39.85904489, 39.9233367 ,\n",
       "       39.98762851, 40.04477679, 41.10430624])"
      ]
     },
     "execution_count": 22,
     "metadata": {},
     "output_type": "execute_result"
    },
    {
     "data": {
      "image/png": "[encoded data removed]",
      "text/plain": [
       "<Figure size 432x288 with 1 Axes>"
      ]
     },
     "metadata": {
      "needs_background": "light"
     },
     "output_type": "display_data"
    }
   ],
   "source": [
    "source_latitude_bin,label = get_clustering_bins(pd.Series(all_bins_source_latitude[0]), quantile=0.1, n_samples=20)\n",
    "train_df.source_latitute.hist(bins=source_latitude_bin)\n",
    "source_latitude_bin"
   ]
  },
  {
   "cell_type": "code",
   "execution_count": 23,
   "metadata": {
    "colab": {
     "base_uri": "https://localhost:8080/",
     "height": 408
    },
    "colab_type": "code",
    "executionInfo": {
     "elapsed": 709,
     "status": "ok",
     "timestamp": 1582795226514,
     "user": {
      "displayName": "Eser İnan Arslan",
      "photoUrl": "https://lh3.googleusercontent.com/a-/AAuE7mAEXYsAQ5ofuOAq2VqhAAEj2Kib3xBlNNc3K0sfIQ=s64",
      "userId": "01966049699378036829"
     },
     "user_tz": -180
    },
    "id": "Vs6-nj2s5Wv6",
    "outputId": "7cc73d5b-fb1d-44fd-d42c-86d9b47c10aa"
   },
   "outputs": [
    {
     "data": {
      "text/plain": [
       "(23, (39.859, 39.923]    83692\n",
       " (39.795, 39.859]    43317\n",
       " (39.923, 39.988]    39973\n",
       " (39.73, 39.795]      8489\n",
       " (39.988, 40.045]     1452\n",
       " (38.771, 38.83]       445\n",
       " (39.666, 39.73]       335\n",
       " (37.715, 38.771]      255\n",
       " (38.83, 38.895]        90\n",
       " (40.045, 41.104]       38\n",
       " (38.959, 39.023]        2\n",
       " (38.895, 38.959]        2\n",
       " (39.409, 39.473]        0\n",
       " (39.473, 39.538]        0\n",
       " (39.28, 39.345]         0\n",
       " (39.216, 39.28]         0\n",
       " (39.152, 39.216]        0\n",
       " (39.088, 39.152]        0\n",
       " (39.023, 39.088]        0\n",
       " (39.538, 39.602]        0\n",
       " (39.602, 39.666]        0\n",
       " (39.345, 39.409]        0\n",
       " Name: source_latitute, dtype: int64)"
      ]
     },
     "execution_count": 23,
     "metadata": {},
     "output_type": "execute_result"
    }
   ],
   "source": [
    "len(source_latitude_bin) , train_df.source_latitute.value_counts(bins=source_latitude_bin)\n"
   ]
  },
  {
   "cell_type": "code",
   "execution_count": 24,
   "metadata": {
    "colab": {},
    "colab_type": "code",
    "id": "ZU2ErD3tkapt"
   },
   "outputs": [],
   "source": [
    "train_df2 = train_df.copy()"
   ]
  },
  {
   "cell_type": "code",
   "execution_count": 25,
   "metadata": {
    "colab": {
     "base_uri": "https://localhost:8080/",
     "height": 379
    },
    "colab_type": "code",
    "executionInfo": {
     "elapsed": 733,
     "status": "ok",
     "timestamp": 1582795227383,
     "user": {
      "displayName": "Eser İnan Arslan",
      "photoUrl": "https://lh3.googleusercontent.com/a-/AAuE7mAEXYsAQ5ofuOAq2VqhAAEj2Kib3xBlNNc3K0sfIQ=s64",
      "userId": "01966049699378036829"
     },
     "user_tz": -180
    },
    "id": "pJlAhVQ-mBaL",
    "outputId": "78606cb1-1e4b-4b73-d217-a8b3ca5eb893"
   },
   "outputs": [
    {
     "data": {
      "text/html": [
       "<div>\n",
       "<style scoped>\n",
       "    .dataframe tbody tr th:only-of-type {\n",
       "        vertical-align: middle;\n",
       "    }\n",
       "\n",
       "    .dataframe tbody tr th {\n",
       "        vertical-align: top;\n",
       "    }\n",
       "\n",
       "    .dataframe thead th {\n",
       "        text-align: right;\n",
       "    }\n",
       "</style>\n",
       "<table border=\"1\" class=\"dataframe\">\n",
       "  <thead>\n",
       "    <tr style=\"text-align: right;\">\n",
       "      <th></th>\n",
       "      <th>travel_id</th>\n",
       "      <th>travel_time</th>\n",
       "      <th>travel_day</th>\n",
       "      <th>travel_hour</th>\n",
       "      <th>source_latitute</th>\n",
       "      <th>source_longitute</th>\n",
       "      <th>destination_latitute</th>\n",
       "      <th>destination_longitute</th>\n",
       "      <th>source_latitude_category</th>\n",
       "    </tr>\n",
       "  </thead>\n",
       "  <tbody>\n",
       "    <tr>\n",
       "      <th>0</th>\n",
       "      <td>1278160345</td>\n",
       "      <td>962</td>\n",
       "      <td>Friday</td>\n",
       "      <td>20</td>\n",
       "      <td>39.885119</td>\n",
       "      <td>32,8562758</td>\n",
       "      <td>39,8718379</td>\n",
       "      <td>32,8222507</td>\n",
       "      <td>18</td>\n",
       "    </tr>\n",
       "    <tr>\n",
       "      <th>1</th>\n",
       "      <td>1274461376</td>\n",
       "      <td>916</td>\n",
       "      <td>Tuesday</td>\n",
       "      <td>8</td>\n",
       "      <td>39.883463</td>\n",
       "      <td>32,8335031</td>\n",
       "      <td>39,8912282</td>\n",
       "      <td>32,85792586</td>\n",
       "      <td>18</td>\n",
       "    </tr>\n",
       "    <tr>\n",
       "      <th>2</th>\n",
       "      <td>1278402853</td>\n",
       "      <td>1175</td>\n",
       "      <td>Saturday</td>\n",
       "      <td>2</td>\n",
       "      <td>39.916466</td>\n",
       "      <td>32,7246981</td>\n",
       "      <td>39,9414644</td>\n",
       "      <td>32,7183841</td>\n",
       "      <td>18</td>\n",
       "    </tr>\n",
       "    <tr>\n",
       "      <th>3</th>\n",
       "      <td>1272398564</td>\n",
       "      <td>1630</td>\n",
       "      <td>Saturday</td>\n",
       "      <td>15</td>\n",
       "      <td>39.930718</td>\n",
       "      <td>32,61985895</td>\n",
       "      <td>39,9023246</td>\n",
       "      <td>32,5240639</td>\n",
       "      <td>19</td>\n",
       "    </tr>\n",
       "    <tr>\n",
       "      <th>4</th>\n",
       "      <td>1279996323</td>\n",
       "      <td>561</td>\n",
       "      <td>Sunday</td>\n",
       "      <td>18</td>\n",
       "      <td>39.914876</td>\n",
       "      <td>32,72881434</td>\n",
       "      <td>39,9307344</td>\n",
       "      <td>32,7187225</td>\n",
       "      <td>18</td>\n",
       "    </tr>\n",
       "    <tr>\n",
       "      <th>178085</th>\n",
       "      <td>1271716250</td>\n",
       "      <td>328</td>\n",
       "      <td>Friday</td>\n",
       "      <td>20</td>\n",
       "      <td>39.899967</td>\n",
       "      <td>32,75756675</td>\n",
       "      <td>39,8954665</td>\n",
       "      <td>32,7700688</td>\n",
       "      <td>18</td>\n",
       "    </tr>\n",
       "    <tr>\n",
       "      <th>178086</th>\n",
       "      <td>1275289045</td>\n",
       "      <td>842</td>\n",
       "      <td>Wednesday</td>\n",
       "      <td>6</td>\n",
       "      <td>39.877181</td>\n",
       "      <td>32,81464391</td>\n",
       "      <td>39,89683446</td>\n",
       "      <td>32,81631269</td>\n",
       "      <td>18</td>\n",
       "    </tr>\n",
       "    <tr>\n",
       "      <th>178087</th>\n",
       "      <td>1269676370</td>\n",
       "      <td>517</td>\n",
       "      <td>Wednesday</td>\n",
       "      <td>19</td>\n",
       "      <td>39.795645</td>\n",
       "      <td>32,8746088</td>\n",
       "      <td>39,80247745</td>\n",
       "      <td>32,88210816</td>\n",
       "      <td>17</td>\n",
       "    </tr>\n",
       "    <tr>\n",
       "      <th>178088</th>\n",
       "      <td>1273331688</td>\n",
       "      <td>797</td>\n",
       "      <td>Sunday</td>\n",
       "      <td>18</td>\n",
       "      <td>39.865828</td>\n",
       "      <td>32,8524761</td>\n",
       "      <td>39,8884061</td>\n",
       "      <td>32,8780075</td>\n",
       "      <td>18</td>\n",
       "    </tr>\n",
       "    <tr>\n",
       "      <th>178089</th>\n",
       "      <td>1291915508</td>\n",
       "      <td>919</td>\n",
       "      <td>Sunday</td>\n",
       "      <td>0</td>\n",
       "      <td>39.945700</td>\n",
       "      <td>32,7596329</td>\n",
       "      <td>39,9541224</td>\n",
       "      <td>32,7690627</td>\n",
       "      <td>19</td>\n",
       "    </tr>\n",
       "  </tbody>\n",
       "</table>\n",
       "</div>"
      ],
      "text/plain": [
       "         travel_id travel_time travel_day travel_hour  source_latitute  \\\n",
       "0       1278160345         962     Friday          20        39.885119   \n",
       "1       1274461376         916    Tuesday           8        39.883463   \n",
       "2       1278402853        1175   Saturday           2        39.916466   \n",
       "3       1272398564        1630   Saturday          15        39.930718   \n",
       "4       1279996323         561     Sunday          18        39.914876   \n",
       "178085  1271716250         328     Friday          20        39.899967   \n",
       "178086  1275289045         842  Wednesday           6        39.877181   \n",
       "178087  1269676370         517  Wednesday          19        39.795645   \n",
       "178088  1273331688         797     Sunday          18        39.865828   \n",
       "178089  1291915508         919     Sunday           0        39.945700   \n",
       "\n",
       "       source_longitute destination_latitute destination_longitute  \\\n",
       "0            32,8562758           39,8718379            32,8222507   \n",
       "1            32,8335031           39,8912282           32,85792586   \n",
       "2            32,7246981           39,9414644            32,7183841   \n",
       "3           32,61985895           39,9023246            32,5240639   \n",
       "4           32,72881434           39,9307344            32,7187225   \n",
       "178085      32,75756675           39,8954665            32,7700688   \n",
       "178086      32,81464391          39,89683446           32,81631269   \n",
       "178087       32,8746088          39,80247745           32,88210816   \n",
       "178088       32,8524761           39,8884061            32,8780075   \n",
       "178089       32,7596329           39,9541224            32,7690627   \n",
       "\n",
       "        source_latitude_category  \n",
       "0                             18  \n",
       "1                             18  \n",
       "2                             18  \n",
       "3                             19  \n",
       "4                             18  \n",
       "178085                        18  \n",
       "178086                        18  \n",
       "178087                        17  \n",
       "178088                        18  \n",
       "178089                        19  "
      ]
     },
     "execution_count": 25,
     "metadata": {},
     "output_type": "execute_result"
    }
   ],
   "source": [
    "train_df2['source_latitude_category'] = pd.cut(train_df2.source_latitute, source_latitude_bin).cat.codes\n",
    "train_df2.head(5).append(train_df2.tail(5))"
   ]
  },
  {
   "cell_type": "code",
   "execution_count": null,
   "metadata": {
    "colab": {},
    "colab_type": "code",
    "id": "RBOAmGWPmNzx"
   },
   "outputs": [],
   "source": []
  },
  {
   "cell_type": "code",
   "execution_count": 26,
   "metadata": {
    "colab": {
     "base_uri": "https://localhost:8080/",
     "height": 51
    },
    "colab_type": "code",
    "executionInfo": {
     "elapsed": 1170,
     "status": "ok",
     "timestamp": 1582795228877,
     "user": {
      "displayName": "Eser İnan Arslan",
      "photoUrl": "https://lh3.googleusercontent.com/a-/AAuE7mAEXYsAQ5ofuOAq2VqhAAEj2Kib3xBlNNc3K0sfIQ=s64",
      "userId": "01966049699378036829"
     },
     "user_tz": -180
    },
    "id": "nmAtqD_omcSJ",
    "outputId": "b0529d8c-cfbc-4719-b4ca-aed21da6be28"
   },
   "outputs": [
    {
     "data": {
      "text/plain": [
       "array(['32.8562758', '32.8335031', '32.7246981', ..., '32.8746088',\n",
       "       '32.8524761', '32.7596329'], dtype=object)"
      ]
     },
     "execution_count": 26,
     "metadata": {},
     "output_type": "execute_result"
    }
   ],
   "source": [
    "train_df['source_longitute'] = train_df['source_longitute'].str.replace(',','.')\n",
    "train_df['source_longitute'].values"
   ]
  },
  {
   "cell_type": "code",
   "execution_count": 27,
   "metadata": {
    "colab": {},
    "colab_type": "code",
    "id": "I_ObjxP6mcP2"
   },
   "outputs": [],
   "source": [
    "train_df['source_longitute'] = train_df['source_longitute'].astype(float)"
   ]
  },
  {
   "cell_type": "code",
   "execution_count": 28,
   "metadata": {
    "colab": {
     "base_uri": "https://localhost:8080/",
     "height": 173
    },
    "colab_type": "code",
    "executionInfo": {
     "elapsed": 1883,
     "status": "ok",
     "timestamp": 1582795231576,
     "user": {
      "displayName": "Eser İnan Arslan",
      "photoUrl": "https://lh3.googleusercontent.com/a-/AAuE7mAEXYsAQ5ofuOAq2VqhAAEj2Kib3xBlNNc3K0sfIQ=s64",
      "userId": "01966049699378036829"
     },
     "user_tz": -180
    },
    "id": "yEq2sh96mcNc",
    "outputId": "bf70d18c-0e50-4cf4-936d-bebd45bf1267"
   },
   "outputs": [
    {
     "name": "stdout",
     "output_type": "stream",
     "text": [
      "Method : auto    - Running Time : 0:00:00.006628 - Number of bins : 1027  - Head : [32.4107515  32.41494927 32.41914704] - Tail : [36.70926844 36.71346621]\n",
      "Method : fd      - Running Time : 0:00:00.005383 - Number of bins : 1027  - Head : [32.4107515  32.41494927 32.41914704] - Tail : [36.70926844 36.71346621]\n",
      "Method : doane   - Running Time : 0:00:00.014107 - Number of bins : 31    - Head : [32.4107515  32.55431525 32.697879  ] - Tail : [36.43053648 36.57410023]\n",
      "Method : scott   - Running Time : 0:00:00.003053 - Number of bins : 257   - Head : [32.4107515  32.42757538 32.44439925] - Tail : [36.68401623 36.7008401 ]\n",
      "Method : stone   - Running Time : 0:00:00.690792 - Number of bins : 403   - Head : [32.4107515  32.42146521 32.43217893] - Tail : [36.69623655 36.70695027]\n",
      "Method : rice    - Running Time : 0:00:00.002404 - Number of bins : 114   - Head : [32.4107515  32.44886577 32.48698004] - Tail : [36.64143544 36.67954971]\n",
      "Method : sturges - Running Time : 0:00:00.002331 - Number of bins : 20    - Head : [32.4107515  32.6374311  32.86411071] - Tail : [36.26430477 36.49098438]\n",
      "Method : sqrt    - Running Time : 0:00:00.002107 - Number of bins : 424   - Head : [32.4107515  32.42093333 32.43111515] - Tail : [36.69730033 36.70748215]\n"
     ]
    }
   ],
   "source": [
    "all_bins_source_longitute = []\n",
    "all_bins_source_longitute = get_columns_bins(train_df.source_longitute)"
   ]
  },
  {
   "cell_type": "code",
   "execution_count": 29,
   "metadata": {
    "colab": {
     "base_uri": "https://localhost:8080/",
     "height": 452
    },
    "colab_type": "code",
    "executionInfo": {
     "elapsed": 1299,
     "status": "ok",
     "timestamp": 1582795231836,
     "user": {
      "displayName": "Eser İnan Arslan",
      "photoUrl": "https://lh3.googleusercontent.com/a-/AAuE7mAEXYsAQ5ofuOAq2VqhAAEj2Kib3xBlNNc3K0sfIQ=s64",
      "userId": "01966049699378036829"
     },
     "user_tz": -180
    },
    "id": "eC50iqXlmcLR",
    "outputId": "77f8ee7c-020e-4622-cf28-9725d873a2c5"
   },
   "outputs": [
    {
     "data": {
      "text/plain": [
       "array([31.4107515 , 32.47371806, 32.54088238, 32.63323333, 32.72138651,\n",
       "       32.81373746, 32.90189064, 32.97325274, 33.06560369, 33.15375687,\n",
       "       33.24610782, 33.334261  , 33.42661195, 33.51476513, 33.58612723,\n",
       "       33.67847818, 33.76663135, 33.8589823 , 33.94713548, 34.01849758,\n",
       "       34.11084853, 34.19900171, 34.29135266, 34.37950584, 34.45086794,\n",
       "       34.54321889, 34.63137207, 34.72372302, 34.8118762 , 34.90422715,\n",
       "       34.99238033, 35.06374242, 35.15609337, 35.24424655, 35.3365975 ,\n",
       "       35.42475068, 35.49611278, 35.58846373, 35.67661691, 35.76896786,\n",
       "       35.85712104, 35.94947199, 36.03762517, 36.10898726, 36.20133821,\n",
       "       36.28949139, 36.38184234, 36.46999552, 36.54135762, 36.6295108 ,\n",
       "       37.71766398])"
      ]
     },
     "execution_count": 29,
     "metadata": {},
     "output_type": "execute_result"
    },
    {
     "data": {
      "image/png": "[encoded data removed]",
      "text/plain": [
       "<Figure size 432x288 with 1 Axes>"
      ]
     },
     "metadata": {
      "needs_background": "light"
     },
     "output_type": "display_data"
    }
   ],
   "source": [
    "source_longitute_bin,label = get_clustering_bins(pd.Series(all_bins_source_longitute[0]), quantile=0.04, n_samples=70)\n",
    "train_df.source_longitute.hist(bins=source_longitute_bin)\n",
    "source_longitute_bin"
   ]
  },
  {
   "cell_type": "code",
   "execution_count": 30,
   "metadata": {
    "colab": {
     "base_uri": "https://localhost:8080/",
     "height": 884
    },
    "colab_type": "code",
    "executionInfo": {
     "elapsed": 695,
     "status": "ok",
     "timestamp": 1582795233457,
     "user": {
      "displayName": "Eser İnan Arslan",
      "photoUrl": "https://lh3.googleusercontent.com/a-/AAuE7mAEXYsAQ5ofuOAq2VqhAAEj2Kib3xBlNNc3K0sfIQ=s64",
      "userId": "01966049699378036829"
     },
     "user_tz": -180
    },
    "id": "ArAZ_4TGmcG6",
    "outputId": "c3cee1d7-e7ce-49c1-dc4a-80c9752c03d6"
   },
   "outputs": [
    {
     "data": {
      "text/plain": [
       "(51, (32.721, 32.814]    66199\n",
       " (32.814, 32.902]    54396\n",
       " (32.633, 32.721]    23680\n",
       " (32.541, 32.633]    17168\n",
       " (32.902, 32.973]     8409\n",
       " (32.474, 32.541]     3591\n",
       " (32.973, 33.066]     3244\n",
       " (36.541, 36.63]       587\n",
       " (31.41, 32.474]       569\n",
       " (36.47, 36.541]       161\n",
       " (33.066, 33.154]       40\n",
       " (36.382, 36.47]        35\n",
       " (36.289, 36.382]        6\n",
       " (36.63, 37.718]         5\n",
       " (35.425, 35.496]        0\n",
       " (35.337, 35.425]        0\n",
       " (33.678, 33.767]        0\n",
       " (33.586, 33.678]        0\n",
       " (33.515, 33.586]        0\n",
       " (33.427, 33.515]        0\n",
       " (33.334, 33.427]        0\n",
       " (33.246, 33.334]        0\n",
       " (33.154, 33.246]        0\n",
       " (35.588, 35.677]        0\n",
       " (35.677, 35.769]        0\n",
       " (35.769, 35.857]        0\n",
       " (35.857, 35.949]        0\n",
       " (35.949, 36.038]        0\n",
       " (36.038, 36.109]        0\n",
       " (36.109, 36.201]        0\n",
       " (36.201, 36.289]        0\n",
       " (33.767, 33.859]        0\n",
       " (33.859, 33.947]        0\n",
       " (33.947, 34.018]        0\n",
       " (34.724, 34.812]        0\n",
       " (35.244, 35.337]        0\n",
       " (35.156, 35.244]        0\n",
       " (35.064, 35.156]        0\n",
       " (34.992, 35.064]        0\n",
       " (34.904, 34.992]        0\n",
       " (34.812, 34.904]        0\n",
       " (34.631, 34.724]        0\n",
       " (34.018, 34.111]        0\n",
       " (34.543, 34.631]        0\n",
       " (35.496, 35.588]        0\n",
       " (34.38, 34.451]         0\n",
       " (34.291, 34.38]         0\n",
       " (34.199, 34.291]        0\n",
       " (34.111, 34.199]        0\n",
       " (34.451, 34.543]        0\n",
       " Name: source_longitute, dtype: int64)"
      ]
     },
     "execution_count": 30,
     "metadata": {},
     "output_type": "execute_result"
    }
   ],
   "source": [
    "len(source_longitute_bin) , train_df.source_longitute.value_counts(bins=source_longitute_bin)\n"
   ]
  },
  {
   "cell_type": "code",
   "execution_count": 31,
   "metadata": {
    "colab": {
     "base_uri": "https://localhost:8080/",
     "height": 221
    },
    "colab_type": "code",
    "executionInfo": {
     "elapsed": 586,
     "status": "ok",
     "timestamp": 1582795235578,
     "user": {
      "displayName": "Eser İnan Arslan",
      "photoUrl": "https://lh3.googleusercontent.com/a-/AAuE7mAEXYsAQ5ofuOAq2VqhAAEj2Kib3xBlNNc3K0sfIQ=s64",
      "userId": "01966049699378036829"
     },
     "user_tz": -180
    },
    "id": "CNNwqseppYXE",
    "outputId": "c159a647-033a-421b-e9b4-6017acd7143c"
   },
   "outputs": [
    {
     "data": {
      "text/plain": [
       "<bound method Series.isnull of 0         32.856276\n",
       "1         32.833503\n",
       "2         32.724698\n",
       "3         32.619859\n",
       "4         32.728814\n",
       "5         32.668740\n",
       "6         32.620206\n",
       "7         32.716455\n",
       "8         32.596796\n",
       "9         32.851746\n",
       "10        32.759660\n",
       "11        32.620008\n",
       "12        32.758880\n",
       "13        32.681606\n",
       "14        32.852964\n",
       "15        32.951991\n",
       "16        32.751442\n",
       "17        32.562232\n",
       "18        32.771978\n",
       "19        32.731979\n",
       "20        32.591754\n",
       "21        32.513084\n",
       "22        32.728716\n",
       "23        32.883924\n",
       "24        32.846246\n",
       "25        32.824796\n",
       "26        32.544914\n",
       "27        32.860282\n",
       "28        32.621739\n",
       "29        32.789422\n",
       "            ...    \n",
       "178060    32.794481\n",
       "178061    32.787816\n",
       "178062    32.811692\n",
       "178063    32.770660\n",
       "178064    32.832193\n",
       "178065    32.727283\n",
       "178066    32.831630\n",
       "178067    32.770417\n",
       "178068    32.817276\n",
       "178069    32.639045\n",
       "178070    32.796832\n",
       "178071    32.592294\n",
       "178072    32.734325\n",
       "178073    32.598390\n",
       "178074    32.826032\n",
       "178075    32.805248\n",
       "178076    32.591358\n",
       "178077    32.679569\n",
       "178078    32.789746\n",
       "178079    32.770393\n",
       "178080    32.756383\n",
       "178081    32.631236\n",
       "178082    32.635766\n",
       "178083    32.887525\n",
       "178084    32.848699\n",
       "178085    32.757567\n",
       "178086    32.814644\n",
       "178087    32.874609\n",
       "178088    32.852476\n",
       "178089    32.759633\n",
       "Name: source_longitute, Length: 178090, dtype: float64>"
      ]
     },
     "execution_count": 31,
     "metadata": {},
     "output_type": "execute_result"
    }
   ],
   "source": [
    "train_df.source_longitute.isnull"
   ]
  },
  {
   "cell_type": "code",
   "execution_count": 32,
   "metadata": {
    "colab": {
     "base_uri": "https://localhost:8080/",
     "height": 170
    },
    "colab_type": "code",
    "executionInfo": {
     "elapsed": 501,
     "status": "ok",
     "timestamp": 1582795236513,
     "user": {
      "displayName": "Eser İnan Arslan",
      "photoUrl": "https://lh3.googleusercontent.com/a-/AAuE7mAEXYsAQ5ofuOAq2VqhAAEj2Kib3xBlNNc3K0sfIQ=s64",
      "userId": "01966049699378036829"
     },
     "user_tz": -180
    },
    "id": "A-RXYdLVp3VE",
    "outputId": "bb812a05-87dc-4eca-83a0-b8caa223323e"
   },
   "outputs": [
    {
     "data": {
      "text/plain": [
       "travel_id                  int64\n",
       "travel_time               object\n",
       "travel_day                object\n",
       "travel_hour               object\n",
       "source_latitute          float64\n",
       "source_longitute         float64\n",
       "destination_latitute      object\n",
       "destination_longitute     object\n",
       "dtype: object"
      ]
     },
     "execution_count": 32,
     "metadata": {},
     "output_type": "execute_result"
    }
   ],
   "source": [
    "train_df.dtypes"
   ]
  },
  {
   "cell_type": "code",
   "execution_count": 33,
   "metadata": {
    "colab": {
     "base_uri": "https://localhost:8080/",
     "height": 379
    },
    "colab_type": "code",
    "executionInfo": {
     "elapsed": 711,
     "status": "ok",
     "timestamp": 1582795237634,
     "user": {
      "displayName": "Eser İnan Arslan",
      "photoUrl": "https://lh3.googleusercontent.com/a-/AAuE7mAEXYsAQ5ofuOAq2VqhAAEj2Kib3xBlNNc3K0sfIQ=s64",
      "userId": "01966049699378036829"
     },
     "user_tz": -180
    },
    "id": "i1WsblVXmcEW",
    "outputId": "33d33afa-7321-4a20-c14b-8581a6929c65"
   },
   "outputs": [
    {
     "data": {
      "text/html": [
       "<div>\n",
       "<style scoped>\n",
       "    .dataframe tbody tr th:only-of-type {\n",
       "        vertical-align: middle;\n",
       "    }\n",
       "\n",
       "    .dataframe tbody tr th {\n",
       "        vertical-align: top;\n",
       "    }\n",
       "\n",
       "    .dataframe thead th {\n",
       "        text-align: right;\n",
       "    }\n",
       "</style>\n",
       "<table border=\"1\" class=\"dataframe\">\n",
       "  <thead>\n",
       "    <tr style=\"text-align: right;\">\n",
       "      <th></th>\n",
       "      <th>travel_id</th>\n",
       "      <th>travel_time</th>\n",
       "      <th>travel_day</th>\n",
       "      <th>travel_hour</th>\n",
       "      <th>source_latitute</th>\n",
       "      <th>source_longitute</th>\n",
       "      <th>destination_latitute</th>\n",
       "      <th>destination_longitute</th>\n",
       "      <th>source_latitude_category</th>\n",
       "      <th>source_longitute_category</th>\n",
       "    </tr>\n",
       "  </thead>\n",
       "  <tbody>\n",
       "    <tr>\n",
       "      <th>0</th>\n",
       "      <td>1278160345</td>\n",
       "      <td>962</td>\n",
       "      <td>Friday</td>\n",
       "      <td>20</td>\n",
       "      <td>39.885119</td>\n",
       "      <td>32,8562758</td>\n",
       "      <td>39,8718379</td>\n",
       "      <td>32,8222507</td>\n",
       "      <td>18</td>\n",
       "      <td>5</td>\n",
       "    </tr>\n",
       "    <tr>\n",
       "      <th>1</th>\n",
       "      <td>1274461376</td>\n",
       "      <td>916</td>\n",
       "      <td>Tuesday</td>\n",
       "      <td>8</td>\n",
       "      <td>39.883463</td>\n",
       "      <td>32,8335031</td>\n",
       "      <td>39,8912282</td>\n",
       "      <td>32,85792586</td>\n",
       "      <td>18</td>\n",
       "      <td>5</td>\n",
       "    </tr>\n",
       "    <tr>\n",
       "      <th>2</th>\n",
       "      <td>1278402853</td>\n",
       "      <td>1175</td>\n",
       "      <td>Saturday</td>\n",
       "      <td>2</td>\n",
       "      <td>39.916466</td>\n",
       "      <td>32,7246981</td>\n",
       "      <td>39,9414644</td>\n",
       "      <td>32,7183841</td>\n",
       "      <td>18</td>\n",
       "      <td>4</td>\n",
       "    </tr>\n",
       "    <tr>\n",
       "      <th>3</th>\n",
       "      <td>1272398564</td>\n",
       "      <td>1630</td>\n",
       "      <td>Saturday</td>\n",
       "      <td>15</td>\n",
       "      <td>39.930718</td>\n",
       "      <td>32,61985895</td>\n",
       "      <td>39,9023246</td>\n",
       "      <td>32,5240639</td>\n",
       "      <td>19</td>\n",
       "      <td>2</td>\n",
       "    </tr>\n",
       "    <tr>\n",
       "      <th>4</th>\n",
       "      <td>1279996323</td>\n",
       "      <td>561</td>\n",
       "      <td>Sunday</td>\n",
       "      <td>18</td>\n",
       "      <td>39.914876</td>\n",
       "      <td>32,72881434</td>\n",
       "      <td>39,9307344</td>\n",
       "      <td>32,7187225</td>\n",
       "      <td>18</td>\n",
       "      <td>4</td>\n",
       "    </tr>\n",
       "    <tr>\n",
       "      <th>178085</th>\n",
       "      <td>1271716250</td>\n",
       "      <td>328</td>\n",
       "      <td>Friday</td>\n",
       "      <td>20</td>\n",
       "      <td>39.899967</td>\n",
       "      <td>32,75756675</td>\n",
       "      <td>39,8954665</td>\n",
       "      <td>32,7700688</td>\n",
       "      <td>18</td>\n",
       "      <td>4</td>\n",
       "    </tr>\n",
       "    <tr>\n",
       "      <th>178086</th>\n",
       "      <td>1275289045</td>\n",
       "      <td>842</td>\n",
       "      <td>Wednesday</td>\n",
       "      <td>6</td>\n",
       "      <td>39.877181</td>\n",
       "      <td>32,81464391</td>\n",
       "      <td>39,89683446</td>\n",
       "      <td>32,81631269</td>\n",
       "      <td>18</td>\n",
       "      <td>5</td>\n",
       "    </tr>\n",
       "    <tr>\n",
       "      <th>178087</th>\n",
       "      <td>1269676370</td>\n",
       "      <td>517</td>\n",
       "      <td>Wednesday</td>\n",
       "      <td>19</td>\n",
       "      <td>39.795645</td>\n",
       "      <td>32,8746088</td>\n",
       "      <td>39,80247745</td>\n",
       "      <td>32,88210816</td>\n",
       "      <td>17</td>\n",
       "      <td>5</td>\n",
       "    </tr>\n",
       "    <tr>\n",
       "      <th>178088</th>\n",
       "      <td>1273331688</td>\n",
       "      <td>797</td>\n",
       "      <td>Sunday</td>\n",
       "      <td>18</td>\n",
       "      <td>39.865828</td>\n",
       "      <td>32,8524761</td>\n",
       "      <td>39,8884061</td>\n",
       "      <td>32,8780075</td>\n",
       "      <td>18</td>\n",
       "      <td>5</td>\n",
       "    </tr>\n",
       "    <tr>\n",
       "      <th>178089</th>\n",
       "      <td>1291915508</td>\n",
       "      <td>919</td>\n",
       "      <td>Sunday</td>\n",
       "      <td>0</td>\n",
       "      <td>39.945700</td>\n",
       "      <td>32,7596329</td>\n",
       "      <td>39,9541224</td>\n",
       "      <td>32,7690627</td>\n",
       "      <td>19</td>\n",
       "      <td>4</td>\n",
       "    </tr>\n",
       "  </tbody>\n",
       "</table>\n",
       "</div>"
      ],
      "text/plain": [
       "         travel_id travel_time travel_day travel_hour  source_latitute  \\\n",
       "0       1278160345         962     Friday          20        39.885119   \n",
       "1       1274461376         916    Tuesday           8        39.883463   \n",
       "2       1278402853        1175   Saturday           2        39.916466   \n",
       "3       1272398564        1630   Saturday          15        39.930718   \n",
       "4       1279996323         561     Sunday          18        39.914876   \n",
       "178085  1271716250         328     Friday          20        39.899967   \n",
       "178086  1275289045         842  Wednesday           6        39.877181   \n",
       "178087  1269676370         517  Wednesday          19        39.795645   \n",
       "178088  1273331688         797     Sunday          18        39.865828   \n",
       "178089  1291915508         919     Sunday           0        39.945700   \n",
       "\n",
       "       source_longitute destination_latitute destination_longitute  \\\n",
       "0            32,8562758           39,8718379            32,8222507   \n",
       "1            32,8335031           39,8912282           32,85792586   \n",
       "2            32,7246981           39,9414644            32,7183841   \n",
       "3           32,61985895           39,9023246            32,5240639   \n",
       "4           32,72881434           39,9307344            32,7187225   \n",
       "178085      32,75756675           39,8954665            32,7700688   \n",
       "178086      32,81464391          39,89683446           32,81631269   \n",
       "178087       32,8746088          39,80247745           32,88210816   \n",
       "178088       32,8524761           39,8884061            32,8780075   \n",
       "178089       32,7596329           39,9541224            32,7690627   \n",
       "\n",
       "        source_latitude_category  source_longitute_category  \n",
       "0                             18                          5  \n",
       "1                             18                          5  \n",
       "2                             18                          4  \n",
       "3                             19                          2  \n",
       "4                             18                          4  \n",
       "178085                        18                          4  \n",
       "178086                        18                          5  \n",
       "178087                        17                          5  \n",
       "178088                        18                          5  \n",
       "178089                        19                          4  "
      ]
     },
     "execution_count": 33,
     "metadata": {},
     "output_type": "execute_result"
    }
   ],
   "source": [
    "train_df2['source_longitute_category'] = pd.cut(train_df.source_longitute, source_longitute_bin).cat.codes\n",
    "train_df2.head(5).append(train_df2.tail(5))"
   ]
  },
  {
   "cell_type": "code",
   "execution_count": null,
   "metadata": {
    "colab": {},
    "colab_type": "code",
    "id": "xAX3-KldodFk"
   },
   "outputs": [],
   "source": []
  },
  {
   "cell_type": "code",
   "execution_count": 34,
   "metadata": {
    "colab": {
     "base_uri": "https://localhost:8080/",
     "height": 51
    },
    "colab_type": "code",
    "executionInfo": {
     "elapsed": 859,
     "status": "ok",
     "timestamp": 1582795239686,
     "user": {
      "displayName": "Eser İnan Arslan",
      "photoUrl": "https://lh3.googleusercontent.com/a-/AAuE7mAEXYsAQ5ofuOAq2VqhAAEj2Kib3xBlNNc3K0sfIQ=s64",
      "userId": "01966049699378036829"
     },
     "user_tz": -180
    },
    "id": "Fw92MSG3rD25",
    "outputId": "bcfe0fa1-53b5-4574-a89a-7dc6922f9586"
   },
   "outputs": [
    {
     "data": {
      "text/plain": [
       "array(['39.8718379', '39.8912282', '39.9414644', ..., '39.80247745',\n",
       "       '39.8884061', '39.9541224'], dtype=object)"
      ]
     },
     "execution_count": 34,
     "metadata": {},
     "output_type": "execute_result"
    }
   ],
   "source": [
    "train_df['destination_latitute'] = train_df['destination_latitute'].str.replace(',','.')\n",
    "train_df['destination_latitute'].values"
   ]
  },
  {
   "cell_type": "code",
   "execution_count": 35,
   "metadata": {
    "colab": {},
    "colab_type": "code",
    "id": "zVxK7G-urD0r"
   },
   "outputs": [],
   "source": [
    "train_df['destination_latitute'] = train_df['destination_latitute'].astype(float)"
   ]
  },
  {
   "cell_type": "code",
   "execution_count": 36,
   "metadata": {
    "colab": {
     "base_uri": "https://localhost:8080/",
     "height": 173
    },
    "colab_type": "code",
    "executionInfo": {
     "elapsed": 2170,
     "status": "ok",
     "timestamp": 1582795242412,
     "user": {
      "displayName": "Eser İnan Arslan",
      "photoUrl": "https://lh3.googleusercontent.com/a-/AAuE7mAEXYsAQ5ofuOAq2VqhAAEj2Kib3xBlNNc3K0sfIQ=s64",
      "userId": "01966049699378036829"
     },
     "user_tz": -180
    },
    "id": "5-NQ5S6GrDyA",
    "outputId": "db907e7e-bc9f-4307-9d37-07e92d53ae34"
   },
   "outputs": [
    {
     "name": "stdout",
     "output_type": "stream",
     "text": [
      "Method : auto    - Running Time : 0:00:00.007347 - Number of bins : 18512 - Head : [-1.1268606  -1.12458149 -1.12230238] - Tail : [41.05721618 41.05949529]\n",
      "Method : fd      - Running Time : 0:00:00.005145 - Number of bins : 18512 - Head : [-1.1268606  -1.12458149 -1.12230238] - Tail : [41.05721618 41.05949529]\n",
      "Method : doane   - Running Time : 0:00:00.012999 - Number of bins : 33    - Head : [-1.1268606   0.19153424  1.50992909] - Tail : [38.42498471 39.74337956]\n",
      "Method : scott   - Running Time : 0:00:00.003050 - Number of bins : 736   - Head : [-1.1268606  -1.0694611  -1.01206159] - Tail : [40.94697539 41.0043749 ]\n",
      "Method : stone   - Running Time : 0:00:00.723656 - Number of bins : 416   - Head : [-1.1268606  -1.02520124 -0.92354188] - Tail : [40.85845568 40.96011504]\n",
      "Method : rice    - Running Time : 0:00:00.002558 - Number of bins : 114   - Head : [-1.1268606  -0.75350985 -0.3801591 ] - Tail : [40.3150729  40.68842365]\n",
      "Method : sturges - Running Time : 0:00:00.002403 - Number of bins : 20    - Head : [-1.1268606   1.09359387  3.31404835] - Tail : [36.62086545 38.84131993]\n",
      "Method : sqrt    - Running Time : 0:00:00.002257 - Number of bins : 424   - Head : [-1.1268606  -1.02712387 -0.92738715] - Tail : [40.86230095 40.96203767]\n"
     ]
    }
   ],
   "source": [
    "all_bins_destination_latitute = []\n",
    "all_bins_destination_latitute = get_columns_bins(train_df.destination_latitute)"
   ]
  },
  {
   "cell_type": "code",
   "execution_count": 37,
   "metadata": {
    "colab": {
     "base_uri": "https://localhost:8080/",
     "height": 316
    },
    "colab_type": "code",
    "executionInfo": {
     "elapsed": 1714,
     "status": "ok",
     "timestamp": 1582795243409,
     "user": {
      "displayName": "Eser İnan Arslan",
      "photoUrl": "https://lh3.googleusercontent.com/a-/AAuE7mAEXYsAQ5ofuOAq2VqhAAEj2Kib3xBlNNc3K0sfIQ=s64",
      "userId": "01966049699378036829"
     },
     "user_tz": -180
    },
    "id": "FZ4szZfrrDvm",
    "outputId": "a4b381ec-9da2-4ca7-a9f3-e8a0dc2e5495"
   },
   "outputs": [
    {
     "data": {
      "text/plain": [
       "array([-2.1268606 ,  4.71450245, 10.99801316, 17.28380298, 20.42441878,\n",
       "       23.56731369, 26.7102086 , 29.85538262, 32.99599841, 36.24601157,\n",
       "       42.0617744 ])"
      ]
     },
     "execution_count": 37,
     "metadata": {},
     "output_type": "execute_result"
    },
    {
     "data": {
      "image/png": "[encoded data removed]",
      "text/plain": [
       "<Figure size 432x288 with 1 Axes>"
      ]
     },
     "metadata": {
      "needs_background": "light"
     },
     "output_type": "display_data"
    }
   ],
   "source": [
    "destination_latitute_bin,label = get_clustering_bins(pd.Series(all_bins_destination_latitute[0]), quantile=0.2, n_samples=35)\n",
    "train_df.destination_latitute.hist(bins=destination_latitute_bin)\n",
    "destination_latitute_bin"
   ]
  },
  {
   "cell_type": "code",
   "execution_count": 38,
   "metadata": {
    "colab": {
     "base_uri": "https://localhost:8080/",
     "height": 204
    },
    "colab_type": "code",
    "executionInfo": {
     "elapsed": 577,
     "status": "ok",
     "timestamp": 1582795243409,
     "user": {
      "displayName": "Eser İnan Arslan",
      "photoUrl": "https://lh3.googleusercontent.com/a-/AAuE7mAEXYsAQ5ofuOAq2VqhAAEj2Kib3xBlNNc3K0sfIQ=s64",
      "userId": "01966049699378036829"
     },
     "user_tz": -180
    },
    "id": "4DhxhNCMrnk-",
    "outputId": "17d7e76e-449c-45ee-becb-958589158510"
   },
   "outputs": [
    {
     "data": {
      "text/plain": [
       "(11, (36.246, 42.062]                178000\n",
       " (-2.1279999999999997, 4.715]        90\n",
       " (32.996, 36.246]                     0\n",
       " (29.855, 32.996]                     0\n",
       " (26.71, 29.855]                      0\n",
       " (23.567, 26.71]                      0\n",
       " (20.424, 23.567]                     0\n",
       " (17.284, 20.424]                     0\n",
       " (10.998, 17.284]                     0\n",
       " (4.715, 10.998]                      0\n",
       " Name: destination_latitute, dtype: int64)"
      ]
     },
     "execution_count": 38,
     "metadata": {},
     "output_type": "execute_result"
    }
   ],
   "source": [
    "len(destination_latitute_bin) , train_df.destination_latitute.value_counts(bins=destination_latitute_bin)\n"
   ]
  },
  {
   "cell_type": "code",
   "execution_count": 39,
   "metadata": {
    "colab": {
     "base_uri": "https://localhost:8080/",
     "height": 34
    },
    "colab_type": "code",
    "executionInfo": {
     "elapsed": 511,
     "status": "ok",
     "timestamp": 1582795244571,
     "user": {
      "displayName": "Eser İnan Arslan",
      "photoUrl": "https://lh3.googleusercontent.com/a-/AAuE7mAEXYsAQ5ofuOAq2VqhAAEj2Kib3xBlNNc3K0sfIQ=s64",
      "userId": "01966049699378036829"
     },
     "user_tz": -180
    },
    "id": "EKlQx8TawhV1",
    "outputId": "5aa9a30a-76e3-473b-918b-1ca6e5892555"
   },
   "outputs": [
    {
     "data": {
      "text/plain": [
       "(-1.1268606, 41.0617744, 39.857049481556174)"
      ]
     },
     "execution_count": 39,
     "metadata": {},
     "output_type": "execute_result"
    }
   ],
   "source": [
    "train_df.destination_latitute.min(), train_df.destination_latitute.max(), train_df.destination_latitute.mean()"
   ]
  },
  {
   "cell_type": "code",
   "execution_count": 40,
   "metadata": {
    "colab": {
     "base_uri": "https://localhost:8080/",
     "height": 284
    },
    "colab_type": "code",
    "executionInfo": {
     "elapsed": 866,
     "status": "ok",
     "timestamp": 1582795245774,
     "user": {
      "displayName": "Eser İnan Arslan",
      "photoUrl": "https://lh3.googleusercontent.com/a-/AAuE7mAEXYsAQ5ofuOAq2VqhAAEj2Kib3xBlNNc3K0sfIQ=s64",
      "userId": "01966049699378036829"
     },
     "user_tz": -180
    },
    "id": "tSN9H5I-rvY2",
    "outputId": "ef74af0b-5466-4af0-f18c-6457b37c7e85"
   },
   "outputs": [
    {
     "data": {
      "text/plain": [
       "<matplotlib.axes._subplots.AxesSubplot at 0x7f29084ab8d0>"
      ]
     },
     "execution_count": 40,
     "metadata": {},
     "output_type": "execute_result"
    },
    {
     "data": {
      "image/png": "[encoded data removed]",
      "text/plain": [
       "<Figure size 432x288 with 1 Axes>"
      ]
     },
     "metadata": {
      "needs_background": "light"
     },
     "output_type": "display_data"
    }
   ],
   "source": [
    "final_destination_latitute_bins = [-2, 0, 39, 39.7, 39.8, 39.82, 39.84, 39.86, 39.87, 39.88, 39.89, 39.9, 39.92, 39.94, 39.96, 39.98, 40, 40.1, 41.5 ]\n",
    "train_df.destination_latitute.hist(bins=final_destination_latitute_bins)"
   ]
  },
  {
   "cell_type": "code",
   "execution_count": 41,
   "metadata": {
    "colab": {
     "base_uri": "https://localhost:8080/",
     "height": 340
    },
    "colab_type": "code",
    "executionInfo": {
     "elapsed": 619,
     "status": "ok",
     "timestamp": 1582795246675,
     "user": {
      "displayName": "Eser İnan Arslan",
      "photoUrl": "https://lh3.googleusercontent.com/a-/AAuE7mAEXYsAQ5ofuOAq2VqhAAEj2Kib3xBlNNc3K0sfIQ=s64",
      "userId": "01966049699378036829"
     },
     "user_tz": -180
    },
    "id": "N3BeOyQXx9Yh",
    "outputId": "1d9b3189-3d57-467e-d934-5be3ccd930ab"
   },
   "outputs": [
    {
     "data": {
      "text/plain": [
       "(19, (39.84, 39.86]    28822\n",
       " (39.92, 39.94]    18922\n",
       " (39.9, 39.92]     18168\n",
       " (39.86, 39.87]    16906\n",
       " (39.87, 39.88]    15779\n",
       " (39.94, 39.96]    15073\n",
       " (39.88, 39.89]    14071\n",
       " (39.89, 39.9]     14003\n",
       " (39.7, 39.8]      11263\n",
       " (39.82, 39.84]    10770\n",
       " (39.8, 39.82]      4578\n",
       " (39.96, 39.98]     4435\n",
       " (39.98, 40.0]      3516\n",
       " (0.0, 39.0]         793\n",
       " (40.0, 40.1]        708\n",
       " (39.0, 39.7]        182\n",
       " (-2.001, 0.0]        90\n",
       " (40.1, 41.5]         11\n",
       " Name: destination_latitute, dtype: int64)"
      ]
     },
     "execution_count": 41,
     "metadata": {},
     "output_type": "execute_result"
    }
   ],
   "source": [
    "len(final_destination_latitute_bins),train_df.destination_latitute.value_counts(bins=final_destination_latitute_bins)"
   ]
  },
  {
   "cell_type": "code",
   "execution_count": 42,
   "metadata": {
    "colab": {
     "base_uri": "https://localhost:8080/",
     "height": 379
    },
    "colab_type": "code",
    "executionInfo": {
     "elapsed": 516,
     "status": "ok",
     "timestamp": 1582795247737,
     "user": {
      "displayName": "Eser İnan Arslan",
      "photoUrl": "https://lh3.googleusercontent.com/a-/AAuE7mAEXYsAQ5ofuOAq2VqhAAEj2Kib3xBlNNc3K0sfIQ=s64",
      "userId": "01966049699378036829"
     },
     "user_tz": -180
    },
    "id": "YN1yRJhnyKpv",
    "outputId": "964c1218-c2c2-45ea-a245-01e31a2b906d"
   },
   "outputs": [
    {
     "data": {
      "text/html": [
       "<div>\n",
       "<style scoped>\n",
       "    .dataframe tbody tr th:only-of-type {\n",
       "        vertical-align: middle;\n",
       "    }\n",
       "\n",
       "    .dataframe tbody tr th {\n",
       "        vertical-align: top;\n",
       "    }\n",
       "\n",
       "    .dataframe thead th {\n",
       "        text-align: right;\n",
       "    }\n",
       "</style>\n",
       "<table border=\"1\" class=\"dataframe\">\n",
       "  <thead>\n",
       "    <tr style=\"text-align: right;\">\n",
       "      <th></th>\n",
       "      <th>travel_id</th>\n",
       "      <th>travel_time</th>\n",
       "      <th>travel_day</th>\n",
       "      <th>travel_hour</th>\n",
       "      <th>source_latitute</th>\n",
       "      <th>source_longitute</th>\n",
       "      <th>destination_latitute</th>\n",
       "      <th>destination_longitute</th>\n",
       "      <th>source_latitude_category</th>\n",
       "      <th>source_longitute_category</th>\n",
       "      <th>destination_latitute_category</th>\n",
       "    </tr>\n",
       "  </thead>\n",
       "  <tbody>\n",
       "    <tr>\n",
       "      <th>0</th>\n",
       "      <td>1278160345</td>\n",
       "      <td>962</td>\n",
       "      <td>Friday</td>\n",
       "      <td>20</td>\n",
       "      <td>39.885119</td>\n",
       "      <td>32,8562758</td>\n",
       "      <td>39,8718379</td>\n",
       "      <td>32,8222507</td>\n",
       "      <td>18</td>\n",
       "      <td>5</td>\n",
       "      <td>8</td>\n",
       "    </tr>\n",
       "    <tr>\n",
       "      <th>1</th>\n",
       "      <td>1274461376</td>\n",
       "      <td>916</td>\n",
       "      <td>Tuesday</td>\n",
       "      <td>8</td>\n",
       "      <td>39.883463</td>\n",
       "      <td>32,8335031</td>\n",
       "      <td>39,8912282</td>\n",
       "      <td>32,85792586</td>\n",
       "      <td>18</td>\n",
       "      <td>5</td>\n",
       "      <td>10</td>\n",
       "    </tr>\n",
       "    <tr>\n",
       "      <th>2</th>\n",
       "      <td>1278402853</td>\n",
       "      <td>1175</td>\n",
       "      <td>Saturday</td>\n",
       "      <td>2</td>\n",
       "      <td>39.916466</td>\n",
       "      <td>32,7246981</td>\n",
       "      <td>39,9414644</td>\n",
       "      <td>32,7183841</td>\n",
       "      <td>18</td>\n",
       "      <td>4</td>\n",
       "      <td>13</td>\n",
       "    </tr>\n",
       "    <tr>\n",
       "      <th>3</th>\n",
       "      <td>1272398564</td>\n",
       "      <td>1630</td>\n",
       "      <td>Saturday</td>\n",
       "      <td>15</td>\n",
       "      <td>39.930718</td>\n",
       "      <td>32,61985895</td>\n",
       "      <td>39,9023246</td>\n",
       "      <td>32,5240639</td>\n",
       "      <td>19</td>\n",
       "      <td>2</td>\n",
       "      <td>11</td>\n",
       "    </tr>\n",
       "    <tr>\n",
       "      <th>4</th>\n",
       "      <td>1279996323</td>\n",
       "      <td>561</td>\n",
       "      <td>Sunday</td>\n",
       "      <td>18</td>\n",
       "      <td>39.914876</td>\n",
       "      <td>32,72881434</td>\n",
       "      <td>39,9307344</td>\n",
       "      <td>32,7187225</td>\n",
       "      <td>18</td>\n",
       "      <td>4</td>\n",
       "      <td>12</td>\n",
       "    </tr>\n",
       "    <tr>\n",
       "      <th>178085</th>\n",
       "      <td>1271716250</td>\n",
       "      <td>328</td>\n",
       "      <td>Friday</td>\n",
       "      <td>20</td>\n",
       "      <td>39.899967</td>\n",
       "      <td>32,75756675</td>\n",
       "      <td>39,8954665</td>\n",
       "      <td>32,7700688</td>\n",
       "      <td>18</td>\n",
       "      <td>4</td>\n",
       "      <td>10</td>\n",
       "    </tr>\n",
       "    <tr>\n",
       "      <th>178086</th>\n",
       "      <td>1275289045</td>\n",
       "      <td>842</td>\n",
       "      <td>Wednesday</td>\n",
       "      <td>6</td>\n",
       "      <td>39.877181</td>\n",
       "      <td>32,81464391</td>\n",
       "      <td>39,89683446</td>\n",
       "      <td>32,81631269</td>\n",
       "      <td>18</td>\n",
       "      <td>5</td>\n",
       "      <td>10</td>\n",
       "    </tr>\n",
       "    <tr>\n",
       "      <th>178087</th>\n",
       "      <td>1269676370</td>\n",
       "      <td>517</td>\n",
       "      <td>Wednesday</td>\n",
       "      <td>19</td>\n",
       "      <td>39.795645</td>\n",
       "      <td>32,8746088</td>\n",
       "      <td>39,80247745</td>\n",
       "      <td>32,88210816</td>\n",
       "      <td>17</td>\n",
       "      <td>5</td>\n",
       "      <td>4</td>\n",
       "    </tr>\n",
       "    <tr>\n",
       "      <th>178088</th>\n",
       "      <td>1273331688</td>\n",
       "      <td>797</td>\n",
       "      <td>Sunday</td>\n",
       "      <td>18</td>\n",
       "      <td>39.865828</td>\n",
       "      <td>32,8524761</td>\n",
       "      <td>39,8884061</td>\n",
       "      <td>32,8780075</td>\n",
       "      <td>18</td>\n",
       "      <td>5</td>\n",
       "      <td>9</td>\n",
       "    </tr>\n",
       "    <tr>\n",
       "      <th>178089</th>\n",
       "      <td>1291915508</td>\n",
       "      <td>919</td>\n",
       "      <td>Sunday</td>\n",
       "      <td>0</td>\n",
       "      <td>39.945700</td>\n",
       "      <td>32,7596329</td>\n",
       "      <td>39,9541224</td>\n",
       "      <td>32,7690627</td>\n",
       "      <td>19</td>\n",
       "      <td>4</td>\n",
       "      <td>13</td>\n",
       "    </tr>\n",
       "  </tbody>\n",
       "</table>\n",
       "</div>"
      ],
      "text/plain": [
       "         travel_id travel_time travel_day travel_hour  source_latitute  \\\n",
       "0       1278160345         962     Friday          20        39.885119   \n",
       "1       1274461376         916    Tuesday           8        39.883463   \n",
       "2       1278402853        1175   Saturday           2        39.916466   \n",
       "3       1272398564        1630   Saturday          15        39.930718   \n",
       "4       1279996323         561     Sunday          18        39.914876   \n",
       "178085  1271716250         328     Friday          20        39.899967   \n",
       "178086  1275289045         842  Wednesday           6        39.877181   \n",
       "178087  1269676370         517  Wednesday          19        39.795645   \n",
       "178088  1273331688         797     Sunday          18        39.865828   \n",
       "178089  1291915508         919     Sunday           0        39.945700   \n",
       "\n",
       "       source_longitute destination_latitute destination_longitute  \\\n",
       "0            32,8562758           39,8718379            32,8222507   \n",
       "1            32,8335031           39,8912282           32,85792586   \n",
       "2            32,7246981           39,9414644            32,7183841   \n",
       "3           32,61985895           39,9023246            32,5240639   \n",
       "4           32,72881434           39,9307344            32,7187225   \n",
       "178085      32,75756675           39,8954665            32,7700688   \n",
       "178086      32,81464391          39,89683446           32,81631269   \n",
       "178087       32,8746088          39,80247745           32,88210816   \n",
       "178088       32,8524761           39,8884061            32,8780075   \n",
       "178089       32,7596329           39,9541224            32,7690627   \n",
       "\n",
       "        source_latitude_category  source_longitute_category  \\\n",
       "0                             18                          5   \n",
       "1                             18                          5   \n",
       "2                             18                          4   \n",
       "3                             19                          2   \n",
       "4                             18                          4   \n",
       "178085                        18                          4   \n",
       "178086                        18                          5   \n",
       "178087                        17                          5   \n",
       "178088                        18                          5   \n",
       "178089                        19                          4   \n",
       "\n",
       "        destination_latitute_category  \n",
       "0                                   8  \n",
       "1                                  10  \n",
       "2                                  13  \n",
       "3                                  11  \n",
       "4                                  12  \n",
       "178085                             10  \n",
       "178086                             10  \n",
       "178087                              4  \n",
       "178088                              9  \n",
       "178089                             13  "
      ]
     },
     "execution_count": 42,
     "metadata": {},
     "output_type": "execute_result"
    }
   ],
   "source": [
    "train_df2['destination_latitute_category'] = pd.cut(train_df.destination_latitute, final_destination_latitute_bins).cat.codes\n",
    "train_df2.head(5).append(train_df2.tail(5))"
   ]
  },
  {
   "cell_type": "code",
   "execution_count": null,
   "metadata": {
    "colab": {},
    "colab_type": "code",
    "id": "LHCqM98nzfCW"
   },
   "outputs": [],
   "source": []
  },
  {
   "cell_type": "code",
   "execution_count": 43,
   "metadata": {
    "colab": {
     "base_uri": "https://localhost:8080/",
     "height": 51
    },
    "colab_type": "code",
    "executionInfo": {
     "elapsed": 1004,
     "status": "ok",
     "timestamp": 1582795250072,
     "user": {
      "displayName": "Eser İnan Arslan",
      "photoUrl": "https://lh3.googleusercontent.com/a-/AAuE7mAEXYsAQ5ofuOAq2VqhAAEj2Kib3xBlNNc3K0sfIQ=s64",
      "userId": "01966049699378036829"
     },
     "user_tz": -180
    },
    "id": "bvKHlMSOzn_A",
    "outputId": "82f4397e-0421-4e87-a693-8111179b646a"
   },
   "outputs": [
    {
     "data": {
      "text/plain": [
       "array(['32.8222507', '32.85792586', '32.7183841', ..., '32.88210816',\n",
       "       '32.8780075', '32.7690627'], dtype=object)"
      ]
     },
     "execution_count": 43,
     "metadata": {},
     "output_type": "execute_result"
    }
   ],
   "source": [
    "train_df['destination_longitute'] = train_df['destination_longitute'].str.replace(',','.')\n",
    "train_df['destination_longitute'].values"
   ]
  },
  {
   "cell_type": "code",
   "execution_count": 44,
   "metadata": {
    "colab": {},
    "colab_type": "code",
    "id": "QVJmHzchzn3u"
   },
   "outputs": [],
   "source": [
    "train_df['destination_longitute'] = train_df['destination_longitute'].astype(float)"
   ]
  },
  {
   "cell_type": "code",
   "execution_count": 45,
   "metadata": {
    "colab": {
     "base_uri": "https://localhost:8080/",
     "height": 173
    },
    "colab_type": "code",
    "executionInfo": {
     "elapsed": 1994,
     "status": "ok",
     "timestamp": 1582795252603,
     "user": {
      "displayName": "Eser İnan Arslan",
      "photoUrl": "https://lh3.googleusercontent.com/a-/AAuE7mAEXYsAQ5ofuOAq2VqhAAEj2Kib3xBlNNc3K0sfIQ=s64",
      "userId": "01966049699378036829"
     },
     "user_tz": -180
    },
    "id": "PWF8z1AIzn2P",
    "outputId": "0181ef75-16f8-4ece-d968-16b56667e10f"
   },
   "outputs": [
    {
     "name": "stdout",
     "output_type": "stream",
     "text": [
      "Method : auto    - Running Time : 0:00:00.006045 - Number of bins : 7843  - Head : [3.7246258  3.72883347 3.73304113] - Tail : [36.71272117 36.71692883]\n",
      "Method : fd      - Running Time : 0:00:00.004817 - Number of bins : 7843  - Head : [3.7246258  3.72883347 3.73304113] - Tail : [36.71272117 36.71692883]\n",
      "Method : doane   - Running Time : 0:00:00.012708 - Number of bins : 32    - Head : [3.7246258  4.78902937 5.85343294] - Tail : [34.59232936 35.65673293]\n",
      "Method : scott   - Running Time : 0:00:00.002543 - Number of bins : 752   - Head : [3.7246258  3.76856257 3.81249933] - Tail : [36.63326297 36.67719973]\n",
      "Method : stone   - Running Time : 0:00:00.678154 - Number of bins : 378   - Head : [3.7246258 3.8121497 3.8996736] - Tail : [36.5460887 36.6336126]\n",
      "Method : rice    - Running Time : 0:00:00.002423 - Number of bins : 114   - Head : [3.7246258  4.01663032 4.30863484] - Tail : [36.13712746 36.42913198]\n",
      "Method : sturges - Running Time : 0:00:00.002279 - Number of bins : 20    - Head : [3.7246258  5.46128426 7.19794272] - Tail : [33.24781958 34.98447804]\n",
      "Method : sqrt    - Running Time : 0:00:00.002140 - Number of bins : 424   - Head : [3.7246258  3.80263174 3.88063767] - Tail : [36.56512463 36.64313056]\n"
     ]
    }
   ],
   "source": [
    "all_bins_destination_longitute = []\n",
    "all_bins_destination_longitute = get_columns_bins(train_df.destination_longitute)"
   ]
  },
  {
   "cell_type": "code",
   "execution_count": 46,
   "metadata": {
    "colab": {
     "base_uri": "https://localhost:8080/",
     "height": 503
    },
    "colab_type": "code",
    "executionInfo": {
     "elapsed": 1026,
     "status": "ok",
     "timestamp": 1582795253503,
     "user": {
      "displayName": "Eser İnan Arslan",
      "photoUrl": "https://lh3.googleusercontent.com/a-/AAuE7mAEXYsAQ5ofuOAq2VqhAAEj2Kib3xBlNNc3K0sfIQ=s64",
      "userId": "01966049699378036829"
     },
     "user_tz": -180
    },
    "id": "5Y5yfldQzny1",
    "outputId": "9b1a5d58-1d10-4ca3-f515-62758cf7b729"
   },
   "outputs": [
    {
     "data": {
      "text/plain": [
       "array([ 2.7246258 ,  4.15801532,  4.45255188,  4.88173374,  5.45818387,\n",
       "        6.03042634,  6.46381586,  6.89299771,  7.46944785,  8.04169032,\n",
       "        8.47507984,  8.90426169,  9.33765121,  9.76683306, 10.3432832 ,\n",
       "       10.91552567, 11.34891519, 11.77809704, 12.35454718, 12.92678965,\n",
       "       13.36017917, 13.78936102, 14.36581116, 14.93805363, 15.37144314,\n",
       "       15.800625  , 16.23401452, 16.66319637, 17.2396465 , 17.81188898,\n",
       "       18.24527849, 18.67446035, 19.25091048, 19.82315295, 20.25654247,\n",
       "       20.68572432, 21.26217446, 21.83441693, 22.26780645, 22.6969883 ,\n",
       "       23.13037782, 23.55955967, 24.13600981, 24.70825228, 25.1416418 ,\n",
       "       25.57082365, 26.14727379, 26.71951626, 27.15290578, 27.58208763,\n",
       "       28.15853777, 28.73078024, 29.16416975, 29.59335161, 30.02674113,\n",
       "       30.45592298, 31.03237311, 31.60461559, 32.0380051 , 32.46718696,\n",
       "       33.04363709, 33.61587956, 34.04926908, 34.47845093, 35.05490107,\n",
       "       35.62714354, 36.17414002, 37.7211365 ])"
      ]
     },
     "execution_count": 46,
     "metadata": {},
     "output_type": "execute_result"
    },
    {
     "data": {
      "image/png": "[encoded data removed]",
      "text/plain": [
       "<Figure size 432x288 with 1 Axes>"
      ]
     },
     "metadata": {
      "needs_background": "light"
     },
     "output_type": "display_data"
    }
   ],
   "source": [
    "destination_longitute_bin,label = get_clustering_bins(pd.Series(all_bins_destination_longitute[0]), quantile=0.03, n_samples=120)\n",
    "train_df.destination_longitute.hist(bins=destination_longitute_bin)\n",
    "destination_longitute_bin"
   ]
  },
  {
   "cell_type": "code",
   "execution_count": 47,
   "metadata": {
    "colab": {
     "base_uri": "https://localhost:8080/",
     "height": 221
    },
    "colab_type": "code",
    "executionInfo": {
     "elapsed": 544,
     "status": "ok",
     "timestamp": 1582795254988,
     "user": {
      "displayName": "Eser İnan Arslan",
      "photoUrl": "https://lh3.googleusercontent.com/a-/AAuE7mAEXYsAQ5ofuOAq2VqhAAEj2Kib3xBlNNc3K0sfIQ=s64",
      "userId": "01966049699378036829"
     },
     "user_tz": -180
    },
    "id": "KuShBcPV0I22",
    "outputId": "5c2861cf-6969-404b-d8ac-e82428886aec"
   },
   "outputs": [
    {
     "data": {
      "text/plain": [
       "(68, (32.467, 33.044]    176010\n",
       " (36.174, 37.721]       793\n",
       " (32.038, 32.467]       760\n",
       " (33.044, 33.616]       436\n",
       " (2.724, 4.158]          90\n",
       " (30.027, 30.456]         1\n",
       " (33.616, 34.049]         0\n",
       " (10.343, 10.916]         0\n",
       " (16.663, 17.24]          0\n",
       " (16.234, 16.663]         0\n",
       " (15.801, 16.234]         0\n",
       " (15.371, 15.801]         0\n",
       " (14.938, 15.371]         0\n",
       " (14.366, 14.938]         0\n",
       " (13.789, 14.366]         0\n",
       " (13.36, 13.789]          0\n",
       " (12.927, 13.36]          0\n",
       " (12.355, 12.927]         0\n",
       " (11.778, 12.355]         0\n",
       " (11.349, 11.778]         0\n",
       " (10.916, 11.349]         0\n",
       " (9.767, 10.343]          0\n",
       " (17.812, 18.245]         0\n",
       " (9.338, 9.767]           0\n",
       " (8.904, 9.338]           0\n",
       " (8.475, 8.904]           0\n",
       " (8.042, 8.475]           0\n",
       " (7.469, 8.042]           0\n",
       " (6.893, 7.469]           0\n",
       " (6.464, 6.893]           0\n",
       "                      ...  \n",
       " (34.049, 34.478]         0\n",
       " (18.674, 19.251]         0\n",
       " (34.478, 35.055]         0\n",
       " (35.055, 35.627]         0\n",
       " (31.605, 32.038]         0\n",
       " (31.032, 31.605]         0\n",
       " (30.456, 31.032]         0\n",
       " (29.593, 30.027]         0\n",
       " (29.164, 29.593]         0\n",
       " (28.731, 29.164]         0\n",
       " (28.159, 28.731]         0\n",
       " (27.582, 28.159]         0\n",
       " (27.153, 27.582]         0\n",
       " (26.72, 27.153]          0\n",
       " (26.147, 26.72]          0\n",
       " (25.571, 26.147]         0\n",
       " (25.142, 25.571]         0\n",
       " (24.708, 25.142]         0\n",
       " (24.136, 24.708]         0\n",
       " (23.56, 24.136]          0\n",
       " (23.13, 23.56]           0\n",
       " (22.697, 23.13]          0\n",
       " (22.268, 22.697]         0\n",
       " (21.834, 22.268]         0\n",
       " (21.262, 21.834]         0\n",
       " (20.686, 21.262]         0\n",
       " (20.257, 20.686]         0\n",
       " (35.627, 36.174]         0\n",
       " (19.251, 19.823]         0\n",
       " (19.823, 20.257]         0\n",
       " Name: destination_longitute, Length: 67, dtype: int64)"
      ]
     },
     "execution_count": 47,
     "metadata": {},
     "output_type": "execute_result"
    }
   ],
   "source": [
    "len(destination_longitute_bin),train_df.destination_longitute.value_counts(bins=destination_longitute_bin)"
   ]
  },
  {
   "cell_type": "code",
   "execution_count": null,
   "metadata": {
    "colab": {},
    "colab_type": "code",
    "id": "EsDr0f_f0dl7"
   },
   "outputs": [],
   "source": []
  },
  {
   "cell_type": "code",
   "execution_count": 48,
   "metadata": {
    "colab": {
     "base_uri": "https://localhost:8080/",
     "height": 34
    },
    "colab_type": "code",
    "executionInfo": {
     "elapsed": 625,
     "status": "ok",
     "timestamp": 1582795256855,
     "user": {
      "displayName": "Eser İnan Arslan",
      "photoUrl": "https://lh3.googleusercontent.com/a-/AAuE7mAEXYsAQ5ofuOAq2VqhAAEj2Kib3xBlNNc3K0sfIQ=s64",
      "userId": "01966049699378036829"
     },
     "user_tz": -180
    },
    "id": "wsDCG0IG1QW1",
    "outputId": "5c0ae754-d9f1-41c6-f80d-7cc085d2969d"
   },
   "outputs": [
    {
     "data": {
      "text/plain": [
       "(3.7246258, 36.7211365, 32.77065309663002)"
      ]
     },
     "execution_count": 48,
     "metadata": {},
     "output_type": "execute_result"
    }
   ],
   "source": [
    "train_df.destination_longitute.min(), train_df.destination_longitute.max(), train_df.destination_longitute.mean()"
   ]
  },
  {
   "cell_type": "code",
   "execution_count": null,
   "metadata": {
    "colab": {},
    "colab_type": "code",
    "id": "dfBBmq7U1QTt"
   },
   "outputs": [],
   "source": []
  },
  {
   "cell_type": "code",
   "execution_count": 49,
   "metadata": {
    "colab": {
     "base_uri": "https://localhost:8080/",
     "height": 282
    },
    "colab_type": "code",
    "executionInfo": {
     "elapsed": 1102,
     "status": "ok",
     "timestamp": 1582795258607,
     "user": {
      "displayName": "Eser İnan Arslan",
      "photoUrl": "https://lh3.googleusercontent.com/a-/AAuE7mAEXYsAQ5ofuOAq2VqhAAEj2Kib3xBlNNc3K0sfIQ=s64",
      "userId": "01966049699378036829"
     },
     "user_tz": -180
    },
    "id": "LkozPxvb1GWb",
    "outputId": "91edef7f-050c-4557-b888-690a08590ef2"
   },
   "outputs": [
    {
     "data": {
      "text/plain": [
       "<matplotlib.axes._subplots.AxesSubplot at 0x7f29084ab630>"
      ]
     },
     "execution_count": 49,
     "metadata": {},
     "output_type": "execute_result"
    },
    {
     "data": {
      "image/png": "[encoded data removed]",
      "text/plain": [
       "<Figure size 432x288 with 1 Axes>"
      ]
     },
     "metadata": {
      "needs_background": "light"
     },
     "output_type": "display_data"
    }
   ],
   "source": [
    "final_destination_longitute_bins = [3, 32.2, 32.4, 32.6, 32.65, 32.7, 32.73, 32.76, 32.8, 32.83, 32.86, 32.9, 33, 34, 38]\n",
    "train_df.destination_longitute.hist(bins=final_destination_longitute_bins)"
   ]
  },
  {
   "cell_type": "code",
   "execution_count": 50,
   "metadata": {
    "colab": {
     "base_uri": "https://localhost:8080/",
     "height": 272
    },
    "colab_type": "code",
    "executionInfo": {
     "elapsed": 418,
     "status": "ok",
     "timestamp": 1582795258949,
     "user": {
      "displayName": "Eser İnan Arslan",
      "photoUrl": "https://lh3.googleusercontent.com/a-/AAuE7mAEXYsAQ5ofuOAq2VqhAAEj2Kib3xBlNNc3K0sfIQ=s64",
      "userId": "01966049699378036829"
     },
     "user_tz": -180
    },
    "id": "US2RtefZ1GTe",
    "outputId": "71127dbf-5be5-4b5b-b62f-cc212e745fb3"
   },
   "outputs": [
    {
     "data": {
      "text/plain": [
       "(15, (32.73, 32.76]    26145\n",
       " (32.76, 32.8]     24948\n",
       " (32.8, 32.83]     23906\n",
       " (32.83, 32.86]    22629\n",
       " (32.7, 32.73]     19834\n",
       " (32.4, 32.6]      16849\n",
       " (32.86, 32.9]     13166\n",
       " (32.9, 33.0]      10291\n",
       " (32.65, 32.7]      8515\n",
       " (32.6, 32.65]      7275\n",
       " (33.0, 34.0]       3447\n",
       " (34.0, 38.0]        793\n",
       " (32.2, 32.4]        201\n",
       " (2.999, 32.2]        91\n",
       " Name: destination_longitute, dtype: int64)"
      ]
     },
     "execution_count": 50,
     "metadata": {},
     "output_type": "execute_result"
    }
   ],
   "source": [
    "len(final_destination_longitute_bins),train_df.destination_longitute.value_counts(bins=final_destination_longitute_bins)"
   ]
  },
  {
   "cell_type": "code",
   "execution_count": 51,
   "metadata": {
    "colab": {
     "base_uri": "https://localhost:8080/",
     "height": 379
    },
    "colab_type": "code",
    "executionInfo": {
     "elapsed": 658,
     "status": "ok",
     "timestamp": 1582795260135,
     "user": {
      "displayName": "Eser İnan Arslan",
      "photoUrl": "https://lh3.googleusercontent.com/a-/AAuE7mAEXYsAQ5ofuOAq2VqhAAEj2Kib3xBlNNc3K0sfIQ=s64",
      "userId": "01966049699378036829"
     },
     "user_tz": -180
    },
    "id": "gMlFHR8F1GQ6",
    "outputId": "5e10b6da-7bd8-49d0-c268-6b0f68a9c8d4"
   },
   "outputs": [
    {
     "data": {
      "text/html": [
       "<div>\n",
       "<style scoped>\n",
       "    .dataframe tbody tr th:only-of-type {\n",
       "        vertical-align: middle;\n",
       "    }\n",
       "\n",
       "    .dataframe tbody tr th {\n",
       "        vertical-align: top;\n",
       "    }\n",
       "\n",
       "    .dataframe thead th {\n",
       "        text-align: right;\n",
       "    }\n",
       "</style>\n",
       "<table border=\"1\" class=\"dataframe\">\n",
       "  <thead>\n",
       "    <tr style=\"text-align: right;\">\n",
       "      <th></th>\n",
       "      <th>travel_id</th>\n",
       "      <th>travel_time</th>\n",
       "      <th>travel_day</th>\n",
       "      <th>travel_hour</th>\n",
       "      <th>source_latitute</th>\n",
       "      <th>source_longitute</th>\n",
       "      <th>destination_latitute</th>\n",
       "      <th>destination_longitute</th>\n",
       "      <th>source_latitude_category</th>\n",
       "      <th>source_longitute_category</th>\n",
       "      <th>destination_latitute_category</th>\n",
       "      <th>destination_longitute_category</th>\n",
       "    </tr>\n",
       "  </thead>\n",
       "  <tbody>\n",
       "    <tr>\n",
       "      <th>0</th>\n",
       "      <td>1278160345</td>\n",
       "      <td>962</td>\n",
       "      <td>Friday</td>\n",
       "      <td>20</td>\n",
       "      <td>39.885119</td>\n",
       "      <td>32,8562758</td>\n",
       "      <td>39,8718379</td>\n",
       "      <td>32,8222507</td>\n",
       "      <td>18</td>\n",
       "      <td>5</td>\n",
       "      <td>8</td>\n",
       "      <td>8</td>\n",
       "    </tr>\n",
       "    <tr>\n",
       "      <th>1</th>\n",
       "      <td>1274461376</td>\n",
       "      <td>916</td>\n",
       "      <td>Tuesday</td>\n",
       "      <td>8</td>\n",
       "      <td>39.883463</td>\n",
       "      <td>32,8335031</td>\n",
       "      <td>39,8912282</td>\n",
       "      <td>32,85792586</td>\n",
       "      <td>18</td>\n",
       "      <td>5</td>\n",
       "      <td>10</td>\n",
       "      <td>9</td>\n",
       "    </tr>\n",
       "    <tr>\n",
       "      <th>2</th>\n",
       "      <td>1278402853</td>\n",
       "      <td>1175</td>\n",
       "      <td>Saturday</td>\n",
       "      <td>2</td>\n",
       "      <td>39.916466</td>\n",
       "      <td>32,7246981</td>\n",
       "      <td>39,9414644</td>\n",
       "      <td>32,7183841</td>\n",
       "      <td>18</td>\n",
       "      <td>4</td>\n",
       "      <td>13</td>\n",
       "      <td>5</td>\n",
       "    </tr>\n",
       "    <tr>\n",
       "      <th>3</th>\n",
       "      <td>1272398564</td>\n",
       "      <td>1630</td>\n",
       "      <td>Saturday</td>\n",
       "      <td>15</td>\n",
       "      <td>39.930718</td>\n",
       "      <td>32,61985895</td>\n",
       "      <td>39,9023246</td>\n",
       "      <td>32,5240639</td>\n",
       "      <td>19</td>\n",
       "      <td>2</td>\n",
       "      <td>11</td>\n",
       "      <td>2</td>\n",
       "    </tr>\n",
       "    <tr>\n",
       "      <th>4</th>\n",
       "      <td>1279996323</td>\n",
       "      <td>561</td>\n",
       "      <td>Sunday</td>\n",
       "      <td>18</td>\n",
       "      <td>39.914876</td>\n",
       "      <td>32,72881434</td>\n",
       "      <td>39,9307344</td>\n",
       "      <td>32,7187225</td>\n",
       "      <td>18</td>\n",
       "      <td>4</td>\n",
       "      <td>12</td>\n",
       "      <td>5</td>\n",
       "    </tr>\n",
       "    <tr>\n",
       "      <th>178085</th>\n",
       "      <td>1271716250</td>\n",
       "      <td>328</td>\n",
       "      <td>Friday</td>\n",
       "      <td>20</td>\n",
       "      <td>39.899967</td>\n",
       "      <td>32,75756675</td>\n",
       "      <td>39,8954665</td>\n",
       "      <td>32,7700688</td>\n",
       "      <td>18</td>\n",
       "      <td>4</td>\n",
       "      <td>10</td>\n",
       "      <td>7</td>\n",
       "    </tr>\n",
       "    <tr>\n",
       "      <th>178086</th>\n",
       "      <td>1275289045</td>\n",
       "      <td>842</td>\n",
       "      <td>Wednesday</td>\n",
       "      <td>6</td>\n",
       "      <td>39.877181</td>\n",
       "      <td>32,81464391</td>\n",
       "      <td>39,89683446</td>\n",
       "      <td>32,81631269</td>\n",
       "      <td>18</td>\n",
       "      <td>5</td>\n",
       "      <td>10</td>\n",
       "      <td>8</td>\n",
       "    </tr>\n",
       "    <tr>\n",
       "      <th>178087</th>\n",
       "      <td>1269676370</td>\n",
       "      <td>517</td>\n",
       "      <td>Wednesday</td>\n",
       "      <td>19</td>\n",
       "      <td>39.795645</td>\n",
       "      <td>32,8746088</td>\n",
       "      <td>39,80247745</td>\n",
       "      <td>32,88210816</td>\n",
       "      <td>17</td>\n",
       "      <td>5</td>\n",
       "      <td>4</td>\n",
       "      <td>10</td>\n",
       "    </tr>\n",
       "    <tr>\n",
       "      <th>178088</th>\n",
       "      <td>1273331688</td>\n",
       "      <td>797</td>\n",
       "      <td>Sunday</td>\n",
       "      <td>18</td>\n",
       "      <td>39.865828</td>\n",
       "      <td>32,8524761</td>\n",
       "      <td>39,8884061</td>\n",
       "      <td>32,8780075</td>\n",
       "      <td>18</td>\n",
       "      <td>5</td>\n",
       "      <td>9</td>\n",
       "      <td>10</td>\n",
       "    </tr>\n",
       "    <tr>\n",
       "      <th>178089</th>\n",
       "      <td>1291915508</td>\n",
       "      <td>919</td>\n",
       "      <td>Sunday</td>\n",
       "      <td>0</td>\n",
       "      <td>39.945700</td>\n",
       "      <td>32,7596329</td>\n",
       "      <td>39,9541224</td>\n",
       "      <td>32,7690627</td>\n",
       "      <td>19</td>\n",
       "      <td>4</td>\n",
       "      <td>13</td>\n",
       "      <td>7</td>\n",
       "    </tr>\n",
       "  </tbody>\n",
       "</table>\n",
       "</div>"
      ],
      "text/plain": [
       "         travel_id travel_time travel_day travel_hour  source_latitute  \\\n",
       "0       1278160345         962     Friday          20        39.885119   \n",
       "1       1274461376         916    Tuesday           8        39.883463   \n",
       "2       1278402853        1175   Saturday           2        39.916466   \n",
       "3       1272398564        1630   Saturday          15        39.930718   \n",
       "4       1279996323         561     Sunday          18        39.914876   \n",
       "178085  1271716250         328     Friday          20        39.899967   \n",
       "178086  1275289045         842  Wednesday           6        39.877181   \n",
       "178087  1269676370         517  Wednesday          19        39.795645   \n",
       "178088  1273331688         797     Sunday          18        39.865828   \n",
       "178089  1291915508         919     Sunday           0        39.945700   \n",
       "\n",
       "       source_longitute destination_latitute destination_longitute  \\\n",
       "0            32,8562758           39,8718379            32,8222507   \n",
       "1            32,8335031           39,8912282           32,85792586   \n",
       "2            32,7246981           39,9414644            32,7183841   \n",
       "3           32,61985895           39,9023246            32,5240639   \n",
       "4           32,72881434           39,9307344            32,7187225   \n",
       "178085      32,75756675           39,8954665            32,7700688   \n",
       "178086      32,81464391          39,89683446           32,81631269   \n",
       "178087       32,8746088          39,80247745           32,88210816   \n",
       "178088       32,8524761           39,8884061            32,8780075   \n",
       "178089       32,7596329           39,9541224            32,7690627   \n",
       "\n",
       "        source_latitude_category  source_longitute_category  \\\n",
       "0                             18                          5   \n",
       "1                             18                          5   \n",
       "2                             18                          4   \n",
       "3                             19                          2   \n",
       "4                             18                          4   \n",
       "178085                        18                          4   \n",
       "178086                        18                          5   \n",
       "178087                        17                          5   \n",
       "178088                        18                          5   \n",
       "178089                        19                          4   \n",
       "\n",
       "        destination_latitute_category  destination_longitute_category  \n",
       "0                                   8                               8  \n",
       "1                                  10                               9  \n",
       "2                                  13                               5  \n",
       "3                                  11                               2  \n",
       "4                                  12                               5  \n",
       "178085                             10                               7  \n",
       "178086                             10                               8  \n",
       "178087                              4                              10  \n",
       "178088                              9                              10  \n",
       "178089                             13                               7  "
      ]
     },
     "execution_count": 51,
     "metadata": {},
     "output_type": "execute_result"
    }
   ],
   "source": [
    "train_df2['destination_longitute_category'] = pd.cut(train_df.destination_longitute, final_destination_longitute_bins).cat.codes\n",
    "train_df2.head(5).append(train_df2.tail(5))"
   ]
  },
  {
   "cell_type": "code",
   "execution_count": 52,
   "metadata": {
    "colab": {},
    "colab_type": "code",
    "id": "F5uW9-d81GOc"
   },
   "outputs": [],
   "source": [
    "source_location_df = train_df2.copy()\n",
    "destination_location_df = train_df2.copy()"
   ]
  },
  {
   "cell_type": "code",
   "execution_count": null,
   "metadata": {
    "colab": {},
    "colab_type": "code",
    "id": "WLEkINgC5X3X"
   },
   "outputs": [],
   "source": []
  },
  {
   "cell_type": "code",
   "execution_count": 53,
   "metadata": {
    "colab": {},
    "colab_type": "code",
    "id": "aOn5ZtBp79E4"
   },
   "outputs": [],
   "source": [
    "train_df2['source_longitute'] = train_df2['source_longitute'].str.replace(',','.')\n",
    "train_df2['source_longitute'].values\n",
    "\n",
    "train_df2['source_longitute'] = train_df2['source_longitute'].astype(float)"
   ]
  },
  {
   "cell_type": "code",
   "execution_count": 54,
   "metadata": {
    "colab": {},
    "colab_type": "code",
    "id": "wl_HX0Ew79B3"
   },
   "outputs": [],
   "source": [
    "train_df2['destination_latitute'] = train_df2['destination_latitute'].str.replace(',','.')\n",
    "train_df2['destination_latitute'].values\n",
    "\n",
    "train_df2['destination_latitute'] = train_df2['destination_latitute'].astype(float)"
   ]
  },
  {
   "cell_type": "code",
   "execution_count": 55,
   "metadata": {
    "colab": {},
    "colab_type": "code",
    "id": "oPEvVx_j78_l"
   },
   "outputs": [],
   "source": [
    "train_df2['destination_longitute'] = train_df2['destination_longitute'].str.replace(',','.')\n",
    "train_df2['destination_longitute'].values\n",
    "\n",
    "train_df2['destination_longitute'] = train_df2['destination_longitute'].astype(float)"
   ]
  },
  {
   "cell_type": "code",
   "execution_count": null,
   "metadata": {
    "colab": {},
    "colab_type": "code",
    "id": "n9kY3fYJ789J"
   },
   "outputs": [],
   "source": []
  },
  {
   "cell_type": "code",
   "execution_count": null,
   "metadata": {
    "colab": {},
    "colab_type": "code",
    "id": "517tlcoY786w"
   },
   "outputs": [],
   "source": []
  },
  {
   "cell_type": "code",
   "execution_count": 56,
   "metadata": {
    "colab": {},
    "colab_type": "code",
    "id": "afEtIdXQ783y"
   },
   "outputs": [],
   "source": [
    "#location_df = location_df.drop(columns=['travel_id', 'travel_time', 'travel_day', 'travel_hour'])\n",
    "source_location_df = source_location_df.drop(columns=['travel_id', 'travel_time', 'travel_day', 'travel_hour','destination_latitute', 'destination_longitute', 'destination_latitute_category', 'destination_longitute_category'])\n",
    "destination_location_df = destination_location_df.drop(columns=['travel_id', 'travel_time', 'travel_day', 'travel_hour', 'source_latitute', 'source_longitute', 'source_latitude_category', 'source_longitute_category'])"
   ]
  },
  {
   "cell_type": "code",
   "execution_count": 57,
   "metadata": {
    "colab": {
     "base_uri": "https://localhost:8080/",
     "height": 102
    },
    "colab_type": "code",
    "executionInfo": {
     "elapsed": 410,
     "status": "ok",
     "timestamp": 1582795267909,
     "user": {
      "displayName": "Eser İnan Arslan",
      "photoUrl": "https://lh3.googleusercontent.com/a-/AAuE7mAEXYsAQ5ofuOAq2VqhAAEj2Kib3xBlNNc3K0sfIQ=s64",
      "userId": "01966049699378036829"
     },
     "user_tz": -180
    },
    "id": "L-chB-nVKPm_",
    "outputId": "868802cd-5926-47ed-b6b3-96bf79aa504a"
   },
   "outputs": [
    {
     "data": {
      "text/plain": [
       "source_latitute              float64\n",
       "source_longitute              object\n",
       "source_latitude_category        int8\n",
       "source_longitute_category       int8\n",
       "dtype: object"
      ]
     },
     "execution_count": 57,
     "metadata": {},
     "output_type": "execute_result"
    }
   ],
   "source": [
    "source_location_df.dtypes"
   ]
  },
  {
   "cell_type": "code",
   "execution_count": 58,
   "metadata": {
    "colab": {},
    "colab_type": "code",
    "id": "eTbw14_XJ7bF"
   },
   "outputs": [],
   "source": [
    "source_location_df['source_longitute'] = source_location_df['source_longitute'].str.replace(',','.')\n",
    "source_location_df['source_longitute'].values\n",
    "source_location_df['source_longitute'] = source_location_df['source_longitute'].astype(float)"
   ]
  },
  {
   "cell_type": "code",
   "execution_count": 59,
   "metadata": {
    "colab": {
     "base_uri": "https://localhost:8080/",
     "height": 204
    },
    "colab_type": "code",
    "executionInfo": {
     "elapsed": 688,
     "status": "ok",
     "timestamp": 1582795270943,
     "user": {
      "displayName": "Eser İnan Arslan",
      "photoUrl": "https://lh3.googleusercontent.com/a-/AAuE7mAEXYsAQ5ofuOAq2VqhAAEj2Kib3xBlNNc3K0sfIQ=s64",
      "userId": "01966049699378036829"
     },
     "user_tz": -180
    },
    "id": "NvD4Pc-V781U",
    "outputId": "3a38f9f0-0177-470b-eab4-41ae19ff77b1"
   },
   "outputs": [
    {
     "data": {
      "text/html": [
       "<div>\n",
       "<style scoped>\n",
       "    .dataframe tbody tr th:only-of-type {\n",
       "        vertical-align: middle;\n",
       "    }\n",
       "\n",
       "    .dataframe tbody tr th {\n",
       "        vertical-align: top;\n",
       "    }\n",
       "\n",
       "    .dataframe thead th {\n",
       "        text-align: right;\n",
       "    }\n",
       "</style>\n",
       "<table border=\"1\" class=\"dataframe\">\n",
       "  <thead>\n",
       "    <tr style=\"text-align: right;\">\n",
       "      <th></th>\n",
       "      <th>source_latitute</th>\n",
       "      <th>source_longitute</th>\n",
       "      <th>source_latitude_category</th>\n",
       "      <th>source_longitute_category</th>\n",
       "    </tr>\n",
       "  </thead>\n",
       "  <tbody>\n",
       "    <tr>\n",
       "      <th>0</th>\n",
       "      <td>39.885119</td>\n",
       "      <td>32.856276</td>\n",
       "      <td>18</td>\n",
       "      <td>5</td>\n",
       "    </tr>\n",
       "    <tr>\n",
       "      <th>1</th>\n",
       "      <td>39.883463</td>\n",
       "      <td>32.833503</td>\n",
       "      <td>18</td>\n",
       "      <td>5</td>\n",
       "    </tr>\n",
       "    <tr>\n",
       "      <th>2</th>\n",
       "      <td>39.916466</td>\n",
       "      <td>32.724698</td>\n",
       "      <td>18</td>\n",
       "      <td>4</td>\n",
       "    </tr>\n",
       "    <tr>\n",
       "      <th>3</th>\n",
       "      <td>39.930718</td>\n",
       "      <td>32.619859</td>\n",
       "      <td>19</td>\n",
       "      <td>2</td>\n",
       "    </tr>\n",
       "    <tr>\n",
       "      <th>4</th>\n",
       "      <td>39.914876</td>\n",
       "      <td>32.728814</td>\n",
       "      <td>18</td>\n",
       "      <td>4</td>\n",
       "    </tr>\n",
       "  </tbody>\n",
       "</table>\n",
       "</div>"
      ],
      "text/plain": [
       "   source_latitute  source_longitute  source_latitude_category  \\\n",
       "0        39.885119         32.856276                        18   \n",
       "1        39.883463         32.833503                        18   \n",
       "2        39.916466         32.724698                        18   \n",
       "3        39.930718         32.619859                        19   \n",
       "4        39.914876         32.728814                        18   \n",
       "\n",
       "   source_longitute_category  \n",
       "0                          5  \n",
       "1                          5  \n",
       "2                          4  \n",
       "3                          2  \n",
       "4                          4  "
      ]
     },
     "execution_count": 59,
     "metadata": {},
     "output_type": "execute_result"
    }
   ],
   "source": [
    "source_location_df.head()"
   ]
  },
  {
   "cell_type": "code",
   "execution_count": 60,
   "metadata": {
    "colab": {},
    "colab_type": "code",
    "id": "gX7nbD3lKgaJ"
   },
   "outputs": [],
   "source": [
    "destination_location_df['destination_latitute'] = destination_location_df['destination_latitute'].str.replace(',','.')\n",
    "destination_location_df['destination_latitute'].values\n",
    "\n",
    "destination_location_df['destination_latitute'] = destination_location_df['destination_latitute'].astype(float)\n",
    "\n",
    "destination_location_df['destination_longitute'] = destination_location_df['destination_longitute'].str.replace(',','.')\n",
    "destination_location_df['destination_longitute'].values\n",
    "\n",
    "destination_location_df['destination_longitute'] = destination_location_df['destination_longitute'].astype(float)"
   ]
  },
  {
   "cell_type": "code",
   "execution_count": 61,
   "metadata": {
    "colab": {
     "base_uri": "https://localhost:8080/",
     "height": 204
    },
    "colab_type": "code",
    "executionInfo": {
     "elapsed": 413,
     "status": "ok",
     "timestamp": 1582795272064,
     "user": {
      "displayName": "Eser İnan Arslan",
      "photoUrl": "https://lh3.googleusercontent.com/a-/AAuE7mAEXYsAQ5ofuOAq2VqhAAEj2Kib3xBlNNc3K0sfIQ=s64",
      "userId": "01966049699378036829"
     },
     "user_tz": -180
    },
    "id": "udEK2m7k78yp",
    "outputId": "1d6e8639-9448-47d7-fe96-50050fa8f540"
   },
   "outputs": [
    {
     "data": {
      "text/html": [
       "<div>\n",
       "<style scoped>\n",
       "    .dataframe tbody tr th:only-of-type {\n",
       "        vertical-align: middle;\n",
       "    }\n",
       "\n",
       "    .dataframe tbody tr th {\n",
       "        vertical-align: top;\n",
       "    }\n",
       "\n",
       "    .dataframe thead th {\n",
       "        text-align: right;\n",
       "    }\n",
       "</style>\n",
       "<table border=\"1\" class=\"dataframe\">\n",
       "  <thead>\n",
       "    <tr style=\"text-align: right;\">\n",
       "      <th></th>\n",
       "      <th>destination_latitute</th>\n",
       "      <th>destination_longitute</th>\n",
       "      <th>destination_latitute_category</th>\n",
       "      <th>destination_longitute_category</th>\n",
       "    </tr>\n",
       "  </thead>\n",
       "  <tbody>\n",
       "    <tr>\n",
       "      <th>0</th>\n",
       "      <td>39.871838</td>\n",
       "      <td>32.822251</td>\n",
       "      <td>8</td>\n",
       "      <td>8</td>\n",
       "    </tr>\n",
       "    <tr>\n",
       "      <th>1</th>\n",
       "      <td>39.891228</td>\n",
       "      <td>32.857926</td>\n",
       "      <td>10</td>\n",
       "      <td>9</td>\n",
       "    </tr>\n",
       "    <tr>\n",
       "      <th>2</th>\n",
       "      <td>39.941464</td>\n",
       "      <td>32.718384</td>\n",
       "      <td>13</td>\n",
       "      <td>5</td>\n",
       "    </tr>\n",
       "    <tr>\n",
       "      <th>3</th>\n",
       "      <td>39.902325</td>\n",
       "      <td>32.524064</td>\n",
       "      <td>11</td>\n",
       "      <td>2</td>\n",
       "    </tr>\n",
       "    <tr>\n",
       "      <th>4</th>\n",
       "      <td>39.930734</td>\n",
       "      <td>32.718722</td>\n",
       "      <td>12</td>\n",
       "      <td>5</td>\n",
       "    </tr>\n",
       "  </tbody>\n",
       "</table>\n",
       "</div>"
      ],
      "text/plain": [
       "   destination_latitute  destination_longitute  destination_latitute_category  \\\n",
       "0             39.871838              32.822251                              8   \n",
       "1             39.891228              32.857926                             10   \n",
       "2             39.941464              32.718384                             13   \n",
       "3             39.902325              32.524064                             11   \n",
       "4             39.930734              32.718722                             12   \n",
       "\n",
       "   destination_longitute_category  \n",
       "0                               8  \n",
       "1                               9  \n",
       "2                               5  \n",
       "3                               2  \n",
       "4                               5  "
      ]
     },
     "execution_count": 61,
     "metadata": {},
     "output_type": "execute_result"
    }
   ],
   "source": [
    "destination_location_df.head()"
   ]
  },
  {
   "cell_type": "code",
   "execution_count": 62,
   "metadata": {
    "colab": {},
    "colab_type": "code",
    "id": "v5zBjdth5uB6"
   },
   "outputs": [],
   "source": [
    "distortions = [] \n",
    "inertias = [] \n",
    "source_mapping1 = {} \n",
    "source_mapping2 = {}\n",
    "destination_mapping1 = {} \n",
    "destination_mapping2 = {} \n",
    "K = range(1,20)"
   ]
  },
  {
   "cell_type": "code",
   "execution_count": 63,
   "metadata": {
    "colab": {},
    "colab_type": "code",
    "id": "u2wCQaDQ5t_F"
   },
   "outputs": [],
   "source": [
    "for k in K: \n",
    "    #Building and fitting the model \n",
    "    kmeanModel = KMeans(n_clusters=k).fit(source_location_df) \n",
    "    kmeanModel.fit(source_location_df)     \n",
    "      \n",
    "    distortions.append(sum(np.min(cdist(source_location_df, kmeanModel.cluster_centers_, \n",
    "                      'euclidean'),axis=1)) / source_location_df.shape[0]) \n",
    "    inertias.append(kmeanModel.inertia_) \n",
    "  \n",
    "    source_mapping1[k] = sum(np.min(cdist(source_location_df, kmeanModel.cluster_centers_, \n",
    "                 'euclidean'),axis=1)) / source_location_df.shape[0] \n",
    "    source_mapping2[k] = kmeanModel.inertia_ "
   ]
  },
  {
   "cell_type": "code",
   "execution_count": 64,
   "metadata": {
    "colab": {
     "base_uri": "https://localhost:8080/",
     "height": 340
    },
    "colab_type": "code",
    "executionInfo": {
     "elapsed": 88671,
     "status": "ok",
     "timestamp": 1582795363702,
     "user": {
      "displayName": "Eser İnan Arslan",
      "photoUrl": "https://lh3.googleusercontent.com/a-/AAuE7mAEXYsAQ5ofuOAq2VqhAAEj2Kib3xBlNNc3K0sfIQ=s64",
      "userId": "01966049699378036829"
     },
     "user_tz": -180
    },
    "id": "f-kGYaT45t8I",
    "outputId": "a8857883-314b-43bf-8a67-f9577445ea1b"
   },
   "outputs": [
    {
     "name": "stdout",
     "output_type": "stream",
     "text": [
      "1 : 1.4696929616268015\n",
      "2 : 1.2420217965112248\n",
      "3 : 0.9000535030524554\n",
      "4 : 0.7185640931271984\n",
      "5 : 0.6166964066442623\n",
      "6 : 0.5036044404417136\n",
      "7 : 0.4299595578004079\n",
      "8 : 0.35471506177380413\n",
      "9 : 0.2555691792382945\n",
      "10 : 0.2036784724522111\n",
      "11 : 0.1784297788819927\n",
      "12 : 0.15600110623547178\n",
      "13 : 0.12436656339176975\n",
      "14 : 0.10219764250017423\n",
      "15 : 0.08569960162589789\n",
      "16 : 0.07448341685167123\n",
      "17 : 0.06725121312612357\n",
      "18 : 0.05441500147404105\n",
      "19 : 0.05091376709531624\n"
     ]
    }
   ],
   "source": [
    "for key,val in source_mapping1.items(): \n",
    "\tprint(str(key)+' : '+str(val))"
   ]
  },
  {
   "cell_type": "code",
   "execution_count": 65,
   "metadata": {
    "colab": {
     "base_uri": "https://localhost:8080/",
     "height": 295
    },
    "colab_type": "code",
    "executionInfo": {
     "elapsed": 88166,
     "status": "ok",
     "timestamp": 1582795363702,
     "user": {
      "displayName": "Eser İnan Arslan",
      "photoUrl": "https://lh3.googleusercontent.com/a-/AAuE7mAEXYsAQ5ofuOAq2VqhAAEj2Kib3xBlNNc3K0sfIQ=s64",
      "userId": "01966049699378036829"
     },
     "user_tz": -180
    },
    "id": "j6X11co45ty0",
    "outputId": "54d05f8e-1ef3-4a5e-c53e-29d4c9242eff"
   },
   "outputs": [
    {
     "data": {
      "image/png": "[encoded data removed]",
      "text/plain": [
       "<Figure size 432x288 with 1 Axes>"
      ]
     },
     "metadata": {
      "needs_background": "light"
     },
     "output_type": "display_data"
    }
   ],
   "source": [
    "plt.plot(K, distortions, 'bx-') \n",
    "plt.xlabel('Values of K') \n",
    "plt.ylabel('Distortion') \n",
    "plt.title('The Elbow Method using Distortion') \n",
    "plt.show() \n"
   ]
  },
  {
   "cell_type": "code",
   "execution_count": 66,
   "metadata": {
    "colab": {
     "base_uri": "https://localhost:8080/",
     "height": 340
    },
    "colab_type": "code",
    "executionInfo": {
     "elapsed": 766,
     "status": "ok",
     "timestamp": 1582795370928,
     "user": {
      "displayName": "Eser İnan Arslan",
      "photoUrl": "https://lh3.googleusercontent.com/a-/AAuE7mAEXYsAQ5ofuOAq2VqhAAEj2Kib3xBlNNc3K0sfIQ=s64",
      "userId": "01966049699378036829"
     },
     "user_tz": -180
    },
    "id": "JG5cj7GM9dAr",
    "outputId": "053952c7-a74d-4b8f-c840-f4d4d6d862c3"
   },
   "outputs": [
    {
     "name": "stdout",
     "output_type": "stream",
     "text": [
      "1 : 2126825.969627183\n",
      "2 : 378492.2741511906\n",
      "3 : 186332.44854745566\n",
      "4 : 120505.32164075418\n",
      "5 : 89063.76303514566\n",
      "6 : 65941.38845095155\n",
      "7 : 50145.888345389074\n",
      "8 : 38050.13610040603\n",
      "9 : 28894.896585071223\n",
      "10 : 22368.86826365553\n",
      "11 : 18149.874311481974\n",
      "12 : 15522.851338589582\n",
      "13 : 11932.975165951273\n",
      "14 : 9274.284625660348\n",
      "15 : 7708.2073654160295\n",
      "16 : 6293.052019160532\n",
      "17 : 5546.7828414753\n",
      "18 : 4294.028427537686\n",
      "19 : 3456.743570909814\n"
     ]
    }
   ],
   "source": [
    "for key,val in source_mapping2.items(): \n",
    "\tprint(str(key)+' : '+str(val))"
   ]
  },
  {
   "cell_type": "code",
   "execution_count": 67,
   "metadata": {
    "colab": {
     "base_uri": "https://localhost:8080/",
     "height": 295
    },
    "colab_type": "code",
    "executionInfo": {
     "elapsed": 901,
     "status": "ok",
     "timestamp": 1582795371822,
     "user": {
      "displayName": "Eser İnan Arslan",
      "photoUrl": "https://lh3.googleusercontent.com/a-/AAuE7mAEXYsAQ5ofuOAq2VqhAAEj2Kib3xBlNNc3K0sfIQ=s64",
      "userId": "01966049699378036829"
     },
     "user_tz": -180
    },
    "id": "7Yu3gCD1_epq",
    "outputId": "92068c5c-54b8-4ce3-fcca-a706e7ebcf3e"
   },
   "outputs": [
    {
     "data": {
      "image/png": "[encoded data removed]",
      "text/plain": [
       "<Figure size 432x288 with 1 Axes>"
      ]
     },
     "metadata": {
      "needs_background": "light"
     },
     "output_type": "display_data"
    }
   ],
   "source": [
    "plt.plot(K, inertias, 'bx-') \n",
    "plt.xlabel('Values of K') \n",
    "plt.ylabel('Inertia') \n",
    "plt.title('The Elbow Method using Inertia') \n",
    "plt.show() \n"
   ]
  },
  {
   "cell_type": "code",
   "execution_count": 68,
   "metadata": {
    "colab": {
     "base_uri": "https://localhost:8080/",
     "height": 119
    },
    "colab_type": "code",
    "executionInfo": {
     "elapsed": 3578,
     "status": "ok",
     "timestamp": 1582795375826,
     "user": {
      "displayName": "Eser İnan Arslan",
      "photoUrl": "https://lh3.googleusercontent.com/a-/AAuE7mAEXYsAQ5ofuOAq2VqhAAEj2Kib3xBlNNc3K0sfIQ=s64",
      "userId": "01966049699378036829"
     },
     "user_tz": -180
    },
    "id": "71NvzOCc_ncZ",
    "outputId": "a360904a-a034-42fe-8fe2-3a86af914b3e"
   },
   "outputs": [
    {
     "name": "stdout",
     "output_type": "stream",
     "text": [
      "2020-02-27 17:36:45.552805\n",
      "KMeans(algorithm='auto', copy_x=True, init='k-means++', max_iter=300,\n",
      "    n_clusters=10, n_init=10, n_jobs=None, precompute_distances='auto',\n",
      "    random_state=None, tol=0.0001, verbose=0)\n",
      "2020-02-27 17:36:47.232203\n",
      "0:00:01.679398\n"
     ]
    }
   ],
   "source": [
    "now = datetime.now()\n",
    "print(now)\n",
    "\n",
    "K = 10\n",
    "km = KMeans(n_clusters=K).fit(source_location_df)\n",
    "print(km)\n",
    "\n",
    "end = datetime.now()\n",
    "print(end)\n",
    "print(end-now)"
   ]
  },
  {
   "cell_type": "code",
   "execution_count": null,
   "metadata": {
    "colab": {},
    "colab_type": "code",
    "id": "TPpGD_I_Ai5r"
   },
   "outputs": [],
   "source": []
  },
  {
   "cell_type": "code",
   "execution_count": 69,
   "metadata": {
    "colab": {},
    "colab_type": "code",
    "id": "6lYYTs_KMJC5"
   },
   "outputs": [],
   "source": [
    "distortions2 = [] \n",
    "inertias2 = [] \n",
    "\n",
    "L = range(1,20)"
   ]
  },
  {
   "cell_type": "code",
   "execution_count": 70,
   "metadata": {
    "colab": {},
    "colab_type": "code",
    "id": "aMjU0mFmLbTC"
   },
   "outputs": [],
   "source": [
    "for l in L: \n",
    "    #Building and fitting the model \n",
    "    kmeanModel1 = KMeans(n_clusters=l).fit(destination_location_df) \n",
    "    kmeanModel1.fit(destination_location_df)     \n",
    "      \n",
    "    distortions2.append(sum(np.min(cdist(destination_location_df, kmeanModel1.cluster_centers_, \n",
    "                      'euclidean'),axis=1)) / destination_location_df.shape[0]) \n",
    "    inertias2.append(kmeanModel1.inertia_) \n",
    "  \n",
    "    destination_mapping1[l] = sum(np.min(cdist(destination_location_df, kmeanModel1.cluster_centers_, \n",
    "                 'euclidean'),axis=1)) / destination_location_df.shape[0] \n",
    "    destination_mapping2[l] = kmeanModel1.inertia_ "
   ]
  },
  {
   "cell_type": "code",
   "execution_count": null,
   "metadata": {
    "colab": {},
    "colab_type": "code",
    "id": "UmUpGq3dLbQK"
   },
   "outputs": [],
   "source": []
  },
  {
   "cell_type": "code",
   "execution_count": 71,
   "metadata": {
    "colab": {
     "base_uri": "https://localhost:8080/",
     "height": 340
    },
    "colab_type": "code",
    "executionInfo": {
     "elapsed": 119098,
     "status": "ok",
     "timestamp": 1582795496425,
     "user": {
      "displayName": "Eser İnan Arslan",
      "photoUrl": "https://lh3.googleusercontent.com/a-/AAuE7mAEXYsAQ5ofuOAq2VqhAAEj2Kib3xBlNNc3K0sfIQ=s64",
      "userId": "01966049699378036829"
     },
     "user_tz": -180
    },
    "id": "w3j7jvzDLbNU",
    "outputId": "65050f90-d31a-42bf-a02e-fdbe0a8b19d5"
   },
   "outputs": [
    {
     "name": "stdout",
     "output_type": "stream",
     "text": [
      "1 : 3.8238415705007176\n",
      "2 : 2.437476828668435\n",
      "3 : 2.0663379951726735\n",
      "4 : 1.7729073208280568\n",
      "5 : 1.7254084523997517\n",
      "6 : 1.460742321502419\n",
      "7 : 1.3537324454821353\n",
      "8 : 1.2232317125272403\n",
      "9 : 1.1524091939277563\n",
      "10 : 1.0682663333868803\n",
      "11 : 1.0063212518725142\n",
      "12 : 0.9471209429975173\n",
      "13 : 0.9212938933742653\n",
      "14 : 0.877948428321504\n",
      "15 : 0.8574085199832842\n",
      "16 : 0.821947235811251\n",
      "17 : 0.7858269134586443\n",
      "18 : 0.7725179226535639\n",
      "19 : 0.729573964497455\n"
     ]
    }
   ],
   "source": [
    "for key,val in destination_mapping1.items(): \n",
    "\tprint(str(key)+' : '+str(val))"
   ]
  },
  {
   "cell_type": "code",
   "execution_count": 72,
   "metadata": {
    "colab": {
     "base_uri": "https://localhost:8080/",
     "height": 295
    },
    "colab_type": "code",
    "executionInfo": {
     "elapsed": 117147,
     "status": "ok",
     "timestamp": 1582795496426,
     "user": {
      "displayName": "Eser İnan Arslan",
      "photoUrl": "https://lh3.googleusercontent.com/a-/AAuE7mAEXYsAQ5ofuOAq2VqhAAEj2Kib3xBlNNc3K0sfIQ=s64",
      "userId": "01966049699378036829"
     },
     "user_tz": -180
    },
    "id": "MJIT7NCqLbKs",
    "outputId": "e9c01b9e-0d88-499f-9d70-cd1127163d82"
   },
   "outputs": [
    {
     "data": {
      "image/png": "[encoded data removed]",
      "text/plain": [
       "<Figure size 432x288 with 1 Axes>"
      ]
     },
     "metadata": {
      "needs_background": "light"
     },
     "output_type": "display_data"
    }
   ],
   "source": [
    "plt.plot(L, distortions2, 'bx-') \n",
    "plt.xlabel('Values of L') \n",
    "plt.ylabel('Distortion') \n",
    "plt.title('The Elbow Method using Distortion') \n",
    "plt.show() \n"
   ]
  },
  {
   "cell_type": "code",
   "execution_count": 73,
   "metadata": {
    "colab": {
     "base_uri": "https://localhost:8080/",
     "height": 340
    },
    "colab_type": "code",
    "executionInfo": {
     "elapsed": 113765,
     "status": "ok",
     "timestamp": 1582795496431,
     "user": {
      "displayName": "Eser İnan Arslan",
      "photoUrl": "https://lh3.googleusercontent.com/a-/AAuE7mAEXYsAQ5ofuOAq2VqhAAEj2Kib3xBlNNc3K0sfIQ=s64",
      "userId": "01966049699378036829"
     },
     "user_tz": -180
    },
    "id": "furtgGpBLbIR",
    "outputId": "55e729eb-1867-42fc-cf74-be2e3a276548"
   },
   "outputs": [
    {
     "name": "stdout",
     "output_type": "stream",
     "text": [
      "1 : 3330096.3644392006\n",
      "2 : 1611253.2501198275\n",
      "3 : 1206190.4669199574\n",
      "4 : 905011.0334545576\n",
      "5 : 677331.3891972312\n",
      "6 : 497420.0441558533\n",
      "7 : 412732.50002660876\n",
      "8 : 344798.4140544088\n",
      "9 : 297715.43087113136\n",
      "10 : 259196.2132465952\n",
      "11 : 237142.16243947062\n",
      "12 : 211843.340621316\n",
      "13 : 198314.3099279246\n",
      "14 : 180544.88160797255\n",
      "15 : 168702.9208508611\n",
      "16 : 152013.2162913363\n",
      "17 : 143328.269832171\n",
      "18 : 134670.62985366085\n",
      "19 : 123458.92994155252\n"
     ]
    }
   ],
   "source": [
    "for key,val in destination_mapping2.items(): \n",
    "\tprint(str(key)+' : '+str(val))"
   ]
  },
  {
   "cell_type": "code",
   "execution_count": 74,
   "metadata": {
    "colab": {
     "base_uri": "https://localhost:8080/",
     "height": 295
    },
    "colab_type": "code",
    "executionInfo": {
     "elapsed": 110950,
     "status": "ok",
     "timestamp": 1582795496827,
     "user": {
      "displayName": "Eser İnan Arslan",
      "photoUrl": "https://lh3.googleusercontent.com/a-/AAuE7mAEXYsAQ5ofuOAq2VqhAAEj2Kib3xBlNNc3K0sfIQ=s64",
      "userId": "01966049699378036829"
     },
     "user_tz": -180
    },
    "id": "f1AdFrBmTLUM",
    "outputId": "83a8fbfb-4c29-4832-d974-3006d7e61f61"
   },
   "outputs": [
    {
     "data": {
      "image/png": "[encoded data removed]",
      "text/plain": [
       "<Figure size 432x288 with 1 Axes>"
      ]
     },
     "metadata": {
      "needs_background": "light"
     },
     "output_type": "display_data"
    }
   ],
   "source": [
    "plt.plot(L, inertias2, 'bx-') \n",
    "plt.xlabel('Values of K') \n",
    "plt.ylabel('Inertia') \n",
    "plt.title('The Elbow Method using Inertia') \n",
    "plt.show() "
   ]
  },
  {
   "cell_type": "code",
   "execution_count": 75,
   "metadata": {
    "colab": {
     "base_uri": "https://localhost:8080/",
     "height": 119
    },
    "colab_type": "code",
    "executionInfo": {
     "elapsed": 106359,
     "status": "ok",
     "timestamp": 1582795498306,
     "user": {
      "displayName": "Eser İnan Arslan",
      "photoUrl": "https://lh3.googleusercontent.com/a-/AAuE7mAEXYsAQ5ofuOAq2VqhAAEj2Kib3xBlNNc3K0sfIQ=s64",
      "userId": "01966049699378036829"
     },
     "user_tz": -180
    },
    "id": "Lb_f4IIXTLRn",
    "outputId": "3dfd61e9-7078-4150-e385-48993094b1ac"
   },
   "outputs": [
    {
     "name": "stdout",
     "output_type": "stream",
     "text": [
      "2020-02-27 17:38:01.237274\n",
      "KMeans(algorithm='auto', copy_x=True, init='k-means++', max_iter=300,\n",
      "    n_clusters=4, n_init=10, n_jobs=None, precompute_distances='auto',\n",
      "    random_state=None, tol=0.0001, verbose=0)\n",
      "2020-02-27 17:38:02.310698\n",
      "0:00:01.073424\n"
     ]
    }
   ],
   "source": [
    "now = datetime.now()\n",
    "print(now)\n",
    "\n",
    "L = 4\n",
    "km2 = KMeans(n_clusters=L).fit(destination_location_df)\n",
    "print(km2)\n",
    "\n",
    "end = datetime.now()\n",
    "print(end)\n",
    "print(end-now)"
   ]
  },
  {
   "cell_type": "code",
   "execution_count": null,
   "metadata": {
    "colab": {},
    "colab_type": "code",
    "id": "uzMv2Gt0TLPB"
   },
   "outputs": [],
   "source": []
  },
  {
   "cell_type": "code",
   "execution_count": 76,
   "metadata": {
    "colab": {},
    "colab_type": "code",
    "id": "E03udq22TLMg"
   },
   "outputs": [],
   "source": [
    "train_df2['source_location_cluster'] = km.labels_\n",
    "train_df2['destination_location_cluster'] = km2.labels_\n"
   ]
  },
  {
   "cell_type": "code",
   "execution_count": 77,
   "metadata": {
    "colab": {
     "base_uri": "https://localhost:8080/",
     "height": 379
    },
    "colab_type": "code",
    "executionInfo": {
     "elapsed": 616,
     "status": "ok",
     "timestamp": 1582795593653,
     "user": {
      "displayName": "Eser İnan Arslan",
      "photoUrl": "https://lh3.googleusercontent.com/a-/AAuE7mAEXYsAQ5ofuOAq2VqhAAEj2Kib3xBlNNc3K0sfIQ=s64",
      "userId": "01966049699378036829"
     },
     "user_tz": -180
    },
    "id": "5qVKinfiTLGf",
    "outputId": "f4dabfd9-92a1-463f-c36c-28109f5076e5"
   },
   "outputs": [
    {
     "data": {
      "text/html": [
       "<div>\n",
       "<style scoped>\n",
       "    .dataframe tbody tr th:only-of-type {\n",
       "        vertical-align: middle;\n",
       "    }\n",
       "\n",
       "    .dataframe tbody tr th {\n",
       "        vertical-align: top;\n",
       "    }\n",
       "\n",
       "    .dataframe thead th {\n",
       "        text-align: right;\n",
       "    }\n",
       "</style>\n",
       "<table border=\"1\" class=\"dataframe\">\n",
       "  <thead>\n",
       "    <tr style=\"text-align: right;\">\n",
       "      <th></th>\n",
       "      <th>travel_id</th>\n",
       "      <th>travel_time</th>\n",
       "      <th>travel_day</th>\n",
       "      <th>travel_hour</th>\n",
       "      <th>source_latitute</th>\n",
       "      <th>source_longitute</th>\n",
       "      <th>destination_latitute</th>\n",
       "      <th>destination_longitute</th>\n",
       "      <th>source_latitude_category</th>\n",
       "      <th>source_longitute_category</th>\n",
       "      <th>destination_latitute_category</th>\n",
       "      <th>destination_longitute_category</th>\n",
       "      <th>source_location_cluster</th>\n",
       "      <th>destination_location_cluster</th>\n",
       "    </tr>\n",
       "  </thead>\n",
       "  <tbody>\n",
       "    <tr>\n",
       "      <th>0</th>\n",
       "      <td>1278160345</td>\n",
       "      <td>962</td>\n",
       "      <td>Friday</td>\n",
       "      <td>20</td>\n",
       "      <td>39.885119</td>\n",
       "      <td>32.856276</td>\n",
       "      <td>39.871838</td>\n",
       "      <td>32.822251</td>\n",
       "      <td>18</td>\n",
       "      <td>5</td>\n",
       "      <td>8</td>\n",
       "      <td>8</td>\n",
       "      <td>6</td>\n",
       "      <td>2</td>\n",
       "    </tr>\n",
       "    <tr>\n",
       "      <th>1</th>\n",
       "      <td>1274461376</td>\n",
       "      <td>916</td>\n",
       "      <td>Tuesday</td>\n",
       "      <td>8</td>\n",
       "      <td>39.883463</td>\n",
       "      <td>32.833503</td>\n",
       "      <td>39.891228</td>\n",
       "      <td>32.857926</td>\n",
       "      <td>18</td>\n",
       "      <td>5</td>\n",
       "      <td>10</td>\n",
       "      <td>9</td>\n",
       "      <td>6</td>\n",
       "      <td>2</td>\n",
       "    </tr>\n",
       "    <tr>\n",
       "      <th>2</th>\n",
       "      <td>1278402853</td>\n",
       "      <td>1175</td>\n",
       "      <td>Saturday</td>\n",
       "      <td>2</td>\n",
       "      <td>39.916466</td>\n",
       "      <td>32.724698</td>\n",
       "      <td>39.941464</td>\n",
       "      <td>32.718384</td>\n",
       "      <td>18</td>\n",
       "      <td>4</td>\n",
       "      <td>13</td>\n",
       "      <td>5</td>\n",
       "      <td>3</td>\n",
       "      <td>0</td>\n",
       "    </tr>\n",
       "    <tr>\n",
       "      <th>3</th>\n",
       "      <td>1272398564</td>\n",
       "      <td>1630</td>\n",
       "      <td>Saturday</td>\n",
       "      <td>15</td>\n",
       "      <td>39.930718</td>\n",
       "      <td>32.619859</td>\n",
       "      <td>39.902325</td>\n",
       "      <td>32.524064</td>\n",
       "      <td>19</td>\n",
       "      <td>2</td>\n",
       "      <td>11</td>\n",
       "      <td>2</td>\n",
       "      <td>0</td>\n",
       "      <td>3</td>\n",
       "    </tr>\n",
       "    <tr>\n",
       "      <th>4</th>\n",
       "      <td>1279996323</td>\n",
       "      <td>561</td>\n",
       "      <td>Sunday</td>\n",
       "      <td>18</td>\n",
       "      <td>39.914876</td>\n",
       "      <td>32.728814</td>\n",
       "      <td>39.930734</td>\n",
       "      <td>32.718722</td>\n",
       "      <td>18</td>\n",
       "      <td>4</td>\n",
       "      <td>12</td>\n",
       "      <td>5</td>\n",
       "      <td>3</td>\n",
       "      <td>0</td>\n",
       "    </tr>\n",
       "    <tr>\n",
       "      <th>5</th>\n",
       "      <td>1279263882</td>\n",
       "      <td>1670</td>\n",
       "      <td>Saturday</td>\n",
       "      <td>19</td>\n",
       "      <td>39.873223</td>\n",
       "      <td>32.668740</td>\n",
       "      <td>39.866425</td>\n",
       "      <td>32.600397</td>\n",
       "      <td>18</td>\n",
       "      <td>3</td>\n",
       "      <td>7</td>\n",
       "      <td>3</td>\n",
       "      <td>9</td>\n",
       "      <td>3</td>\n",
       "    </tr>\n",
       "    <tr>\n",
       "      <th>6</th>\n",
       "      <td>1286102719</td>\n",
       "      <td>362</td>\n",
       "      <td>Sunday</td>\n",
       "      <td>2</td>\n",
       "      <td>39.941819</td>\n",
       "      <td>32.620206</td>\n",
       "      <td>39.948514</td>\n",
       "      <td>32.607289</td>\n",
       "      <td>19</td>\n",
       "      <td>2</td>\n",
       "      <td>13</td>\n",
       "      <td>3</td>\n",
       "      <td>0</td>\n",
       "      <td>0</td>\n",
       "    </tr>\n",
       "    <tr>\n",
       "      <th>7</th>\n",
       "      <td>1286767924</td>\n",
       "      <td>1178</td>\n",
       "      <td>Monday</td>\n",
       "      <td>8</td>\n",
       "      <td>39.933400</td>\n",
       "      <td>32.716455</td>\n",
       "      <td>39.938480</td>\n",
       "      <td>32.753487</td>\n",
       "      <td>19</td>\n",
       "      <td>3</td>\n",
       "      <td>12</td>\n",
       "      <td>6</td>\n",
       "      <td>0</td>\n",
       "      <td>0</td>\n",
       "    </tr>\n",
       "    <tr>\n",
       "      <th>8</th>\n",
       "      <td>1280823318</td>\n",
       "      <td>1043</td>\n",
       "      <td>Monday</td>\n",
       "      <td>19</td>\n",
       "      <td>39.869159</td>\n",
       "      <td>32.596796</td>\n",
       "      <td>39.866107</td>\n",
       "      <td>32.552084</td>\n",
       "      <td>18</td>\n",
       "      <td>2</td>\n",
       "      <td>7</td>\n",
       "      <td>2</td>\n",
       "      <td>4</td>\n",
       "      <td>3</td>\n",
       "    </tr>\n",
       "    <tr>\n",
       "      <th>9</th>\n",
       "      <td>1276163525</td>\n",
       "      <td>705</td>\n",
       "      <td>Thursday</td>\n",
       "      <td>5</td>\n",
       "      <td>39.851219</td>\n",
       "      <td>32.851746</td>\n",
       "      <td>39.858495</td>\n",
       "      <td>32.814374</td>\n",
       "      <td>17</td>\n",
       "      <td>5</td>\n",
       "      <td>6</td>\n",
       "      <td>8</td>\n",
       "      <td>2</td>\n",
       "      <td>2</td>\n",
       "    </tr>\n",
       "  </tbody>\n",
       "</table>\n",
       "</div>"
      ],
      "text/plain": [
       "    travel_id travel_time travel_day travel_hour  source_latitute  \\\n",
       "0  1278160345         962     Friday          20        39.885119   \n",
       "1  1274461376         916    Tuesday           8        39.883463   \n",
       "2  1278402853        1175   Saturday           2        39.916466   \n",
       "3  1272398564        1630   Saturday          15        39.930718   \n",
       "4  1279996323         561     Sunday          18        39.914876   \n",
       "5  1279263882        1670   Saturday          19        39.873223   \n",
       "6  1286102719         362     Sunday           2        39.941819   \n",
       "7  1286767924        1178     Monday           8        39.933400   \n",
       "8  1280823318        1043     Monday          19        39.869159   \n",
       "9  1276163525         705   Thursday           5        39.851219   \n",
       "\n",
       "   source_longitute  destination_latitute  destination_longitute  \\\n",
       "0         32.856276             39.871838              32.822251   \n",
       "1         32.833503             39.891228              32.857926   \n",
       "2         32.724698             39.941464              32.718384   \n",
       "3         32.619859             39.902325              32.524064   \n",
       "4         32.728814             39.930734              32.718722   \n",
       "5         32.668740             39.866425              32.600397   \n",
       "6         32.620206             39.948514              32.607289   \n",
       "7         32.716455             39.938480              32.753487   \n",
       "8         32.596796             39.866107              32.552084   \n",
       "9         32.851746             39.858495              32.814374   \n",
       "\n",
       "   source_latitude_category  source_longitute_category  \\\n",
       "0                        18                          5   \n",
       "1                        18                          5   \n",
       "2                        18                          4   \n",
       "3                        19                          2   \n",
       "4                        18                          4   \n",
       "5                        18                          3   \n",
       "6                        19                          2   \n",
       "7                        19                          3   \n",
       "8                        18                          2   \n",
       "9                        17                          5   \n",
       "\n",
       "   destination_latitute_category  destination_longitute_category  \\\n",
       "0                              8                               8   \n",
       "1                             10                               9   \n",
       "2                             13                               5   \n",
       "3                             11                               2   \n",
       "4                             12                               5   \n",
       "5                              7                               3   \n",
       "6                             13                               3   \n",
       "7                             12                               6   \n",
       "8                              7                               2   \n",
       "9                              6                               8   \n",
       "\n",
       "   source_location_cluster  destination_location_cluster  \n",
       "0                        6                             2  \n",
       "1                        6                             2  \n",
       "2                        3                             0  \n",
       "3                        0                             3  \n",
       "4                        3                             0  \n",
       "5                        9                             3  \n",
       "6                        0                             0  \n",
       "7                        0                             0  \n",
       "8                        4                             3  \n",
       "9                        2                             2  "
      ]
     },
     "execution_count": 77,
     "metadata": {},
     "output_type": "execute_result"
    }
   ],
   "source": [
    "train_df2.head(10)"
   ]
  },
  {
   "cell_type": "code",
   "execution_count": 78,
   "metadata": {
    "colab": {},
    "colab_type": "code",
    "id": "7LplfugVU-Ih"
   },
   "outputs": [],
   "source": [
    "import math  \n",
    "def calculateDistance(x1,y1,x2,y2):  \n",
    "     dist = np.sqrt((x2 - x1)**2 + (y2 - y1)**2)  \n",
    "     return dist"
   ]
  },
  {
   "cell_type": "code",
   "execution_count": 79,
   "metadata": {
    "colab": {
     "base_uri": "https://localhost:8080/",
     "height": 272
    },
    "colab_type": "code",
    "executionInfo": {
     "elapsed": 752,
     "status": "ok",
     "timestamp": 1582795597246,
     "user": {
      "displayName": "Eser İnan Arslan",
      "photoUrl": "https://lh3.googleusercontent.com/a-/AAuE7mAEXYsAQ5ofuOAq2VqhAAEj2Kib3xBlNNc3K0sfIQ=s64",
      "userId": "01966049699378036829"
     },
     "user_tz": -180
    },
    "id": "EfqmEDXXr6Zn",
    "outputId": "20590340-0fb8-4d38-9bad-822e10d9c3aa"
   },
   "outputs": [
    {
     "data": {
      "text/plain": [
       "travel_id                           int64\n",
       "travel_time                        object\n",
       "travel_day                         object\n",
       "travel_hour                        object\n",
       "source_latitute                   float64\n",
       "source_longitute                  float64\n",
       "destination_latitute              float64\n",
       "destination_longitute             float64\n",
       "source_latitude_category             int8\n",
       "source_longitute_category            int8\n",
       "destination_latitute_category        int8\n",
       "destination_longitute_category       int8\n",
       "source_location_cluster             int32\n",
       "destination_location_cluster        int32\n",
       "dtype: object"
      ]
     },
     "execution_count": 79,
     "metadata": {},
     "output_type": "execute_result"
    }
   ],
   "source": [
    "train_df2.dtypes"
   ]
  },
  {
   "cell_type": "code",
   "execution_count": null,
   "metadata": {
    "colab": {},
    "colab_type": "code",
    "id": "F80biugRtIY-"
   },
   "outputs": [],
   "source": []
  },
  {
   "cell_type": "code",
   "execution_count": 80,
   "metadata": {
    "colab": {},
    "colab_type": "code",
    "id": "vuTFhjs8kvlP"
   },
   "outputs": [],
   "source": [
    "train_df2['distance'] = calculateDistance(train_df2['source_latitute'], train_df2['source_longitute'], train_df2['destination_latitute'], train_df2['destination_longitute'])"
   ]
  },
  {
   "cell_type": "code",
   "execution_count": 81,
   "metadata": {
    "colab": {
     "base_uri": "https://localhost:8080/",
     "height": 224
    },
    "colab_type": "code",
    "executionInfo": {
     "elapsed": 607,
     "status": "ok",
     "timestamp": 1582795601401,
     "user": {
      "displayName": "Eser İnan Arslan",
      "photoUrl": "https://lh3.googleusercontent.com/a-/AAuE7mAEXYsAQ5ofuOAq2VqhAAEj2Kib3xBlNNc3K0sfIQ=s64",
      "userId": "01966049699378036829"
     },
     "user_tz": -180
    },
    "id": "iLehXgTopAEX",
    "outputId": "03de2b05-048f-40a2-92ca-205cb0ee6172"
   },
   "outputs": [
    {
     "data": {
      "text/html": [
       "<div>\n",
       "<style scoped>\n",
       "    .dataframe tbody tr th:only-of-type {\n",
       "        vertical-align: middle;\n",
       "    }\n",
       "\n",
       "    .dataframe tbody tr th {\n",
       "        vertical-align: top;\n",
       "    }\n",
       "\n",
       "    .dataframe thead th {\n",
       "        text-align: right;\n",
       "    }\n",
       "</style>\n",
       "<table border=\"1\" class=\"dataframe\">\n",
       "  <thead>\n",
       "    <tr style=\"text-align: right;\">\n",
       "      <th></th>\n",
       "      <th>travel_id</th>\n",
       "      <th>travel_time</th>\n",
       "      <th>travel_day</th>\n",
       "      <th>travel_hour</th>\n",
       "      <th>source_latitute</th>\n",
       "      <th>source_longitute</th>\n",
       "      <th>destination_latitute</th>\n",
       "      <th>destination_longitute</th>\n",
       "      <th>source_latitude_category</th>\n",
       "      <th>source_longitute_category</th>\n",
       "      <th>destination_latitute_category</th>\n",
       "      <th>destination_longitute_category</th>\n",
       "      <th>source_location_cluster</th>\n",
       "      <th>destination_location_cluster</th>\n",
       "      <th>distance</th>\n",
       "    </tr>\n",
       "  </thead>\n",
       "  <tbody>\n",
       "    <tr>\n",
       "      <th>0</th>\n",
       "      <td>1278160345</td>\n",
       "      <td>962</td>\n",
       "      <td>Friday</td>\n",
       "      <td>20</td>\n",
       "      <td>39.885119</td>\n",
       "      <td>32.856276</td>\n",
       "      <td>39.871838</td>\n",
       "      <td>32.822251</td>\n",
       "      <td>18</td>\n",
       "      <td>5</td>\n",
       "      <td>8</td>\n",
       "      <td>8</td>\n",
       "      <td>6</td>\n",
       "      <td>2</td>\n",
       "      <td>0.036525</td>\n",
       "    </tr>\n",
       "    <tr>\n",
       "      <th>1</th>\n",
       "      <td>1274461376</td>\n",
       "      <td>916</td>\n",
       "      <td>Tuesday</td>\n",
       "      <td>8</td>\n",
       "      <td>39.883463</td>\n",
       "      <td>32.833503</td>\n",
       "      <td>39.891228</td>\n",
       "      <td>32.857926</td>\n",
       "      <td>18</td>\n",
       "      <td>5</td>\n",
       "      <td>10</td>\n",
       "      <td>9</td>\n",
       "      <td>6</td>\n",
       "      <td>2</td>\n",
       "      <td>0.025627</td>\n",
       "    </tr>\n",
       "    <tr>\n",
       "      <th>2</th>\n",
       "      <td>1278402853</td>\n",
       "      <td>1175</td>\n",
       "      <td>Saturday</td>\n",
       "      <td>2</td>\n",
       "      <td>39.916466</td>\n",
       "      <td>32.724698</td>\n",
       "      <td>39.941464</td>\n",
       "      <td>32.718384</td>\n",
       "      <td>18</td>\n",
       "      <td>4</td>\n",
       "      <td>13</td>\n",
       "      <td>5</td>\n",
       "      <td>3</td>\n",
       "      <td>0</td>\n",
       "      <td>0.025783</td>\n",
       "    </tr>\n",
       "    <tr>\n",
       "      <th>3</th>\n",
       "      <td>1272398564</td>\n",
       "      <td>1630</td>\n",
       "      <td>Saturday</td>\n",
       "      <td>15</td>\n",
       "      <td>39.930718</td>\n",
       "      <td>32.619859</td>\n",
       "      <td>39.902325</td>\n",
       "      <td>32.524064</td>\n",
       "      <td>19</td>\n",
       "      <td>2</td>\n",
       "      <td>11</td>\n",
       "      <td>2</td>\n",
       "      <td>0</td>\n",
       "      <td>3</td>\n",
       "      <td>0.099914</td>\n",
       "    </tr>\n",
       "    <tr>\n",
       "      <th>4</th>\n",
       "      <td>1279996323</td>\n",
       "      <td>561</td>\n",
       "      <td>Sunday</td>\n",
       "      <td>18</td>\n",
       "      <td>39.914876</td>\n",
       "      <td>32.728814</td>\n",
       "      <td>39.930734</td>\n",
       "      <td>32.718722</td>\n",
       "      <td>18</td>\n",
       "      <td>4</td>\n",
       "      <td>12</td>\n",
       "      <td>5</td>\n",
       "      <td>3</td>\n",
       "      <td>0</td>\n",
       "      <td>0.018797</td>\n",
       "    </tr>\n",
       "  </tbody>\n",
       "</table>\n",
       "</div>"
      ],
      "text/plain": [
       "    travel_id travel_time travel_day travel_hour  source_latitute  \\\n",
       "0  1278160345         962     Friday          20        39.885119   \n",
       "1  1274461376         916    Tuesday           8        39.883463   \n",
       "2  1278402853        1175   Saturday           2        39.916466   \n",
       "3  1272398564        1630   Saturday          15        39.930718   \n",
       "4  1279996323         561     Sunday          18        39.914876   \n",
       "\n",
       "   source_longitute  destination_latitute  destination_longitute  \\\n",
       "0         32.856276             39.871838              32.822251   \n",
       "1         32.833503             39.891228              32.857926   \n",
       "2         32.724698             39.941464              32.718384   \n",
       "3         32.619859             39.902325              32.524064   \n",
       "4         32.728814             39.930734              32.718722   \n",
       "\n",
       "   source_latitude_category  source_longitute_category  \\\n",
       "0                        18                          5   \n",
       "1                        18                          5   \n",
       "2                        18                          4   \n",
       "3                        19                          2   \n",
       "4                        18                          4   \n",
       "\n",
       "   destination_latitute_category  destination_longitute_category  \\\n",
       "0                              8                               8   \n",
       "1                             10                               9   \n",
       "2                             13                               5   \n",
       "3                             11                               2   \n",
       "4                             12                               5   \n",
       "\n",
       "   source_location_cluster  destination_location_cluster  distance  \n",
       "0                        6                             2  0.036525  \n",
       "1                        6                             2  0.025627  \n",
       "2                        3                             0  0.025783  \n",
       "3                        0                             3  0.099914  \n",
       "4                        3                             0  0.018797  "
      ]
     },
     "execution_count": 81,
     "metadata": {},
     "output_type": "execute_result"
    }
   ],
   "source": [
    "train_df2.head(5)"
   ]
  },
  {
   "cell_type": "code",
   "execution_count": 82,
   "metadata": {
    "colab": {
     "base_uri": "https://localhost:8080/",
     "height": 289
    },
    "colab_type": "code",
    "executionInfo": {
     "elapsed": 536,
     "status": "ok",
     "timestamp": 1582795602168,
     "user": {
      "displayName": "Eser İnan Arslan",
      "photoUrl": "https://lh3.googleusercontent.com/a-/AAuE7mAEXYsAQ5ofuOAq2VqhAAEj2Kib3xBlNNc3K0sfIQ=s64",
      "userId": "01966049699378036829"
     },
     "user_tz": -180
    },
    "id": "77K8Zy2pxcfo",
    "outputId": "0855c7bd-7bdb-44f9-d03a-3fb6a706da8d"
   },
   "outputs": [
    {
     "data": {
      "text/plain": [
       "travel_id                           int64\n",
       "travel_time                        object\n",
       "travel_day                         object\n",
       "travel_hour                        object\n",
       "source_latitute                   float64\n",
       "source_longitute                  float64\n",
       "destination_latitute              float64\n",
       "destination_longitute             float64\n",
       "source_latitude_category             int8\n",
       "source_longitute_category            int8\n",
       "destination_latitute_category        int8\n",
       "destination_longitute_category       int8\n",
       "source_location_cluster             int32\n",
       "destination_location_cluster        int32\n",
       "distance                          float64\n",
       "dtype: object"
      ]
     },
     "execution_count": 82,
     "metadata": {},
     "output_type": "execute_result"
    }
   ],
   "source": [
    "train_df2.dtypes"
   ]
  },
  {
   "cell_type": "code",
   "execution_count": null,
   "metadata": {
    "colab": {},
    "colab_type": "code",
    "id": "xVH5oegav_vy"
   },
   "outputs": [],
   "source": []
  },
  {
   "cell_type": "code",
   "execution_count": 83,
   "metadata": {
    "colab": {},
    "colab_type": "code",
    "id": "W7T6GVM0wIlR"
   },
   "outputs": [],
   "source": [
    "train_df2 = pd.concat([train_df2.drop(['travel_day'], axis=1), pd.get_dummies(train_df2.travel_day)], axis=1)"
   ]
  },
  {
   "cell_type": "code",
   "execution_count": 84,
   "metadata": {
    "colab": {
     "base_uri": "https://localhost:8080/",
     "height": 439
    },
    "colab_type": "code",
    "executionInfo": {
     "elapsed": 443,
     "status": "ok",
     "timestamp": 1582795605036,
     "user": {
      "displayName": "Eser İnan Arslan",
      "photoUrl": "https://lh3.googleusercontent.com/a-/AAuE7mAEXYsAQ5ofuOAq2VqhAAEj2Kib3xBlNNc3K0sfIQ=s64",
      "userId": "01966049699378036829"
     },
     "user_tz": -180
    },
    "id": "R7o-5_kz0dYG",
    "outputId": "dd026498-c55b-496b-89aa-2f254d9c5f8a"
   },
   "outputs": [
    {
     "data": {
      "text/html": [
       "<div>\n",
       "<style scoped>\n",
       "    .dataframe tbody tr th:only-of-type {\n",
       "        vertical-align: middle;\n",
       "    }\n",
       "\n",
       "    .dataframe tbody tr th {\n",
       "        vertical-align: top;\n",
       "    }\n",
       "\n",
       "    .dataframe thead th {\n",
       "        text-align: right;\n",
       "    }\n",
       "</style>\n",
       "<table border=\"1\" class=\"dataframe\">\n",
       "  <thead>\n",
       "    <tr style=\"text-align: right;\">\n",
       "      <th></th>\n",
       "      <th>travel_id</th>\n",
       "      <th>travel_time</th>\n",
       "      <th>travel_hour</th>\n",
       "      <th>source_latitute</th>\n",
       "      <th>source_longitute</th>\n",
       "      <th>destination_latitute</th>\n",
       "      <th>destination_longitute</th>\n",
       "      <th>source_latitude_category</th>\n",
       "      <th>source_longitute_category</th>\n",
       "      <th>destination_latitute_category</th>\n",
       "      <th>...</th>\n",
       "      <th>source_location_cluster</th>\n",
       "      <th>destination_location_cluster</th>\n",
       "      <th>distance</th>\n",
       "      <th>Friday</th>\n",
       "      <th>Monday</th>\n",
       "      <th>Saturday</th>\n",
       "      <th>Sunday</th>\n",
       "      <th>Thursday</th>\n",
       "      <th>Tuesday</th>\n",
       "      <th>Wednesday</th>\n",
       "    </tr>\n",
       "  </thead>\n",
       "  <tbody>\n",
       "    <tr>\n",
       "      <th>0</th>\n",
       "      <td>1278160345</td>\n",
       "      <td>962</td>\n",
       "      <td>20</td>\n",
       "      <td>39.885119</td>\n",
       "      <td>32.856276</td>\n",
       "      <td>39.871838</td>\n",
       "      <td>32.822251</td>\n",
       "      <td>18</td>\n",
       "      <td>5</td>\n",
       "      <td>8</td>\n",
       "      <td>...</td>\n",
       "      <td>6</td>\n",
       "      <td>2</td>\n",
       "      <td>0.036525</td>\n",
       "      <td>1</td>\n",
       "      <td>0</td>\n",
       "      <td>0</td>\n",
       "      <td>0</td>\n",
       "      <td>0</td>\n",
       "      <td>0</td>\n",
       "      <td>0</td>\n",
       "    </tr>\n",
       "    <tr>\n",
       "      <th>1</th>\n",
       "      <td>1274461376</td>\n",
       "      <td>916</td>\n",
       "      <td>8</td>\n",
       "      <td>39.883463</td>\n",
       "      <td>32.833503</td>\n",
       "      <td>39.891228</td>\n",
       "      <td>32.857926</td>\n",
       "      <td>18</td>\n",
       "      <td>5</td>\n",
       "      <td>10</td>\n",
       "      <td>...</td>\n",
       "      <td>6</td>\n",
       "      <td>2</td>\n",
       "      <td>0.025627</td>\n",
       "      <td>0</td>\n",
       "      <td>0</td>\n",
       "      <td>0</td>\n",
       "      <td>0</td>\n",
       "      <td>0</td>\n",
       "      <td>1</td>\n",
       "      <td>0</td>\n",
       "    </tr>\n",
       "    <tr>\n",
       "      <th>2</th>\n",
       "      <td>1278402853</td>\n",
       "      <td>1175</td>\n",
       "      <td>2</td>\n",
       "      <td>39.916466</td>\n",
       "      <td>32.724698</td>\n",
       "      <td>39.941464</td>\n",
       "      <td>32.718384</td>\n",
       "      <td>18</td>\n",
       "      <td>4</td>\n",
       "      <td>13</td>\n",
       "      <td>...</td>\n",
       "      <td>3</td>\n",
       "      <td>0</td>\n",
       "      <td>0.025783</td>\n",
       "      <td>0</td>\n",
       "      <td>0</td>\n",
       "      <td>1</td>\n",
       "      <td>0</td>\n",
       "      <td>0</td>\n",
       "      <td>0</td>\n",
       "      <td>0</td>\n",
       "    </tr>\n",
       "    <tr>\n",
       "      <th>3</th>\n",
       "      <td>1272398564</td>\n",
       "      <td>1630</td>\n",
       "      <td>15</td>\n",
       "      <td>39.930718</td>\n",
       "      <td>32.619859</td>\n",
       "      <td>39.902325</td>\n",
       "      <td>32.524064</td>\n",
       "      <td>19</td>\n",
       "      <td>2</td>\n",
       "      <td>11</td>\n",
       "      <td>...</td>\n",
       "      <td>0</td>\n",
       "      <td>3</td>\n",
       "      <td>0.099914</td>\n",
       "      <td>0</td>\n",
       "      <td>0</td>\n",
       "      <td>1</td>\n",
       "      <td>0</td>\n",
       "      <td>0</td>\n",
       "      <td>0</td>\n",
       "      <td>0</td>\n",
       "    </tr>\n",
       "    <tr>\n",
       "      <th>4</th>\n",
       "      <td>1279996323</td>\n",
       "      <td>561</td>\n",
       "      <td>18</td>\n",
       "      <td>39.914876</td>\n",
       "      <td>32.728814</td>\n",
       "      <td>39.930734</td>\n",
       "      <td>32.718722</td>\n",
       "      <td>18</td>\n",
       "      <td>4</td>\n",
       "      <td>12</td>\n",
       "      <td>...</td>\n",
       "      <td>3</td>\n",
       "      <td>0</td>\n",
       "      <td>0.018797</td>\n",
       "      <td>0</td>\n",
       "      <td>0</td>\n",
       "      <td>0</td>\n",
       "      <td>1</td>\n",
       "      <td>0</td>\n",
       "      <td>0</td>\n",
       "      <td>0</td>\n",
       "    </tr>\n",
       "  </tbody>\n",
       "</table>\n",
       "<p>5 rows × 21 columns</p>\n",
       "</div>"
      ],
      "text/plain": [
       "    travel_id travel_time travel_hour  source_latitute  source_longitute  \\\n",
       "0  1278160345         962          20        39.885119         32.856276   \n",
       "1  1274461376         916           8        39.883463         32.833503   \n",
       "2  1278402853        1175           2        39.916466         32.724698   \n",
       "3  1272398564        1630          15        39.930718         32.619859   \n",
       "4  1279996323         561          18        39.914876         32.728814   \n",
       "\n",
       "   destination_latitute  destination_longitute  source_latitude_category  \\\n",
       "0             39.871838              32.822251                        18   \n",
       "1             39.891228              32.857926                        18   \n",
       "2             39.941464              32.718384                        18   \n",
       "3             39.902325              32.524064                        19   \n",
       "4             39.930734              32.718722                        18   \n",
       "\n",
       "   source_longitute_category  destination_latitute_category  ...  \\\n",
       "0                          5                              8  ...   \n",
       "1                          5                             10  ...   \n",
       "2                          4                             13  ...   \n",
       "3                          2                             11  ...   \n",
       "4                          4                             12  ...   \n",
       "\n",
       "   source_location_cluster  destination_location_cluster  distance  Friday  \\\n",
       "0                        6                             2  0.036525       1   \n",
       "1                        6                             2  0.025627       0   \n",
       "2                        3                             0  0.025783       0   \n",
       "3                        0                             3  0.099914       0   \n",
       "4                        3                             0  0.018797       0   \n",
       "\n",
       "   Monday  Saturday  Sunday  Thursday  Tuesday  Wednesday  \n",
       "0       0         0       0         0        0          0  \n",
       "1       0         0       0         0        1          0  \n",
       "2       0         1       0         0        0          0  \n",
       "3       0         1       0         0        0          0  \n",
       "4       0         0       1         0        0          0  \n",
       "\n",
       "[5 rows x 21 columns]"
      ]
     },
     "execution_count": 84,
     "metadata": {},
     "output_type": "execute_result"
    }
   ],
   "source": [
    "train_df2.head(5)"
   ]
  },
  {
   "cell_type": "code",
   "execution_count": 85,
   "metadata": {
    "colab": {},
    "colab_type": "code",
    "id": "gITQYbYa6pl6"
   },
   "outputs": [],
   "source": [
    "train_df2['travel_hour'] = train_df2['travel_hour'].astype(int)"
   ]
  },
  {
   "cell_type": "code",
   "execution_count": 86,
   "metadata": {
    "colab": {
     "base_uri": "https://localhost:8080/",
     "height": 34
    },
    "colab_type": "code",
    "executionInfo": {
     "elapsed": 648,
     "status": "ok",
     "timestamp": 1582795607088,
     "user": {
      "displayName": "Eser İnan Arslan",
      "photoUrl": "https://lh3.googleusercontent.com/a-/AAuE7mAEXYsAQ5ofuOAq2VqhAAEj2Kib3xBlNNc3K0sfIQ=s64",
      "userId": "01966049699378036829"
     },
     "user_tz": -180
    },
    "id": "LUByan2D4WfB",
    "outputId": "0a1e1185-6d47-4b49-84f8-dca24ba98e4b"
   },
   "outputs": [
    {
     "data": {
      "text/plain": [
       "(0, 23)"
      ]
     },
     "execution_count": 86,
     "metadata": {},
     "output_type": "execute_result"
    }
   ],
   "source": [
    "train_df2.travel_hour.min(), train_df2.travel_hour.max()"
   ]
  },
  {
   "cell_type": "code",
   "execution_count": 87,
   "metadata": {
    "colab": {
     "base_uri": "https://localhost:8080/",
     "height": 391
    },
    "colab_type": "code",
    "executionInfo": {
     "elapsed": 372,
     "status": "ok",
     "timestamp": 1582795608060,
     "user": {
      "displayName": "Eser İnan Arslan",
      "photoUrl": "https://lh3.googleusercontent.com/a-/AAuE7mAEXYsAQ5ofuOAq2VqhAAEj2Kib3xBlNNc3K0sfIQ=s64",
      "userId": "01966049699378036829"
     },
     "user_tz": -180
    },
    "id": "2jDlg08k6pjo",
    "outputId": "dc339e7e-9dea-45da-ae74-bda6b632179c"
   },
   "outputs": [
    {
     "data": {
      "text/plain": [
       "travel_id                           int64\n",
       "travel_time                        object\n",
       "travel_hour                         int64\n",
       "source_latitute                   float64\n",
       "source_longitute                  float64\n",
       "destination_latitute              float64\n",
       "destination_longitute             float64\n",
       "source_latitude_category             int8\n",
       "source_longitute_category            int8\n",
       "destination_latitute_category        int8\n",
       "destination_longitute_category       int8\n",
       "source_location_cluster             int32\n",
       "destination_location_cluster        int32\n",
       "distance                          float64\n",
       "Friday                              uint8\n",
       "Monday                              uint8\n",
       "Saturday                            uint8\n",
       "Sunday                              uint8\n",
       "Thursday                            uint8\n",
       "Tuesday                             uint8\n",
       "Wednesday                           uint8\n",
       "dtype: object"
      ]
     },
     "execution_count": 87,
     "metadata": {},
     "output_type": "execute_result"
    }
   ],
   "source": [
    "train_df2.dtypes"
   ]
  },
  {
   "cell_type": "code",
   "execution_count": 88,
   "metadata": {
    "colab": {
     "base_uri": "https://localhost:8080/",
     "height": 282
    },
    "colab_type": "code",
    "executionInfo": {
     "elapsed": 569,
     "status": "ok",
     "timestamp": 1582795609475,
     "user": {
      "displayName": "Eser İnan Arslan",
      "photoUrl": "https://lh3.googleusercontent.com/a-/AAuE7mAEXYsAQ5ofuOAq2VqhAAEj2Kib3xBlNNc3K0sfIQ=s64",
      "userId": "01966049699378036829"
     },
     "user_tz": -180
    },
    "id": "ETA1JHD06phV",
    "outputId": "11fe1ea6-315b-4f3f-8284-56e5b6d43ff0"
   },
   "outputs": [
    {
     "data": {
      "text/plain": [
       "<matplotlib.axes._subplots.AxesSubplot at 0x7f29079236d8>"
      ]
     },
     "execution_count": 88,
     "metadata": {},
     "output_type": "execute_result"
    },
    {
     "data": {
      "image/png": "[encoded data removed]",
      "text/plain": [
       "<Figure size 432x288 with 1 Axes>"
      ]
     },
     "metadata": {
      "needs_background": "light"
     },
     "output_type": "display_data"
    }
   ],
   "source": [
    "travel_hour_bins = [0, 1, 6, 7, 8, 9, 12, 13, 14, 16, 17, 18, 19, 22, 24]\n",
    "\n",
    "train_df2.destination_longitute.hist(bins=travel_hour_bins)"
   ]
  },
  {
   "cell_type": "code",
   "execution_count": 89,
   "metadata": {
    "colab": {
     "base_uri": "https://localhost:8080/",
     "height": 272
    },
    "colab_type": "code",
    "executionInfo": {
     "elapsed": 666,
     "status": "ok",
     "timestamp": 1582795611586,
     "user": {
      "displayName": "Eser İnan Arslan",
      "photoUrl": "https://lh3.googleusercontent.com/a-/AAuE7mAEXYsAQ5ofuOAq2VqhAAEj2Kib3xBlNNc3K0sfIQ=s64",
      "userId": "01966049699378036829"
     },
     "user_tz": -180
    },
    "id": "U9SblFXX6pfR",
    "outputId": "4624331a-7ee5-48d0-f782-6cee392eba60"
   },
   "outputs": [
    {
     "data": {
      "text/plain": [
       "(15, (9.0, 12.0]      25615\n",
       " (19.0, 22.0]     22690\n",
       " (7.0, 8.0]       19141\n",
       " (8.0, 9.0]       14896\n",
       " (14.0, 16.0]     14747\n",
       " (18.0, 19.0]     11380\n",
       " (17.0, 18.0]     10995\n",
       " (1.0, 6.0]       10638\n",
       " (6.0, 7.0]       10005\n",
       " (12.0, 13.0]      8510\n",
       " (-0.001, 1.0]     8471\n",
       " (16.0, 17.0]      8093\n",
       " (13.0, 14.0]      6738\n",
       " (22.0, 24.0]      6171\n",
       " Name: travel_hour, dtype: int64)"
      ]
     },
     "execution_count": 89,
     "metadata": {},
     "output_type": "execute_result"
    }
   ],
   "source": [
    "len(travel_hour_bins),train_df2.travel_hour.value_counts(bins=travel_hour_bins)"
   ]
  },
  {
   "cell_type": "code",
   "execution_count": 90,
   "metadata": {
    "colab": {
     "base_uri": "https://localhost:8080/",
     "height": 379
    },
    "colab_type": "code",
    "executionInfo": {
     "elapsed": 599,
     "status": "ok",
     "timestamp": 1582795613125,
     "user": {
      "displayName": "Eser İnan Arslan",
      "photoUrl": "https://lh3.googleusercontent.com/a-/AAuE7mAEXYsAQ5ofuOAq2VqhAAEj2Kib3xBlNNc3K0sfIQ=s64",
      "userId": "01966049699378036829"
     },
     "user_tz": -180
    },
    "id": "aANGA_lZ6pbr",
    "outputId": "a9f7c241-9e62-4304-9c33-734253803210"
   },
   "outputs": [
    {
     "data": {
      "text/html": [
       "<div>\n",
       "<style scoped>\n",
       "    .dataframe tbody tr th:only-of-type {\n",
       "        vertical-align: middle;\n",
       "    }\n",
       "\n",
       "    .dataframe tbody tr th {\n",
       "        vertical-align: top;\n",
       "    }\n",
       "\n",
       "    .dataframe thead th {\n",
       "        text-align: right;\n",
       "    }\n",
       "</style>\n",
       "<table border=\"1\" class=\"dataframe\">\n",
       "  <thead>\n",
       "    <tr style=\"text-align: right;\">\n",
       "      <th></th>\n",
       "      <th>travel_id</th>\n",
       "      <th>travel_time</th>\n",
       "      <th>travel_hour</th>\n",
       "      <th>source_latitute</th>\n",
       "      <th>source_longitute</th>\n",
       "      <th>destination_latitute</th>\n",
       "      <th>destination_longitute</th>\n",
       "      <th>source_latitude_category</th>\n",
       "      <th>source_longitute_category</th>\n",
       "      <th>destination_latitute_category</th>\n",
       "      <th>...</th>\n",
       "      <th>destination_location_cluster</th>\n",
       "      <th>distance</th>\n",
       "      <th>Friday</th>\n",
       "      <th>Monday</th>\n",
       "      <th>Saturday</th>\n",
       "      <th>Sunday</th>\n",
       "      <th>Thursday</th>\n",
       "      <th>Tuesday</th>\n",
       "      <th>Wednesday</th>\n",
       "      <th>travel_hour_category</th>\n",
       "    </tr>\n",
       "  </thead>\n",
       "  <tbody>\n",
       "    <tr>\n",
       "      <th>0</th>\n",
       "      <td>1278160345</td>\n",
       "      <td>962</td>\n",
       "      <td>20</td>\n",
       "      <td>39.885119</td>\n",
       "      <td>32.856276</td>\n",
       "      <td>39.871838</td>\n",
       "      <td>32.822251</td>\n",
       "      <td>18</td>\n",
       "      <td>5</td>\n",
       "      <td>8</td>\n",
       "      <td>...</td>\n",
       "      <td>2</td>\n",
       "      <td>0.036525</td>\n",
       "      <td>1</td>\n",
       "      <td>0</td>\n",
       "      <td>0</td>\n",
       "      <td>0</td>\n",
       "      <td>0</td>\n",
       "      <td>0</td>\n",
       "      <td>0</td>\n",
       "      <td>12</td>\n",
       "    </tr>\n",
       "    <tr>\n",
       "      <th>1</th>\n",
       "      <td>1274461376</td>\n",
       "      <td>916</td>\n",
       "      <td>8</td>\n",
       "      <td>39.883463</td>\n",
       "      <td>32.833503</td>\n",
       "      <td>39.891228</td>\n",
       "      <td>32.857926</td>\n",
       "      <td>18</td>\n",
       "      <td>5</td>\n",
       "      <td>10</td>\n",
       "      <td>...</td>\n",
       "      <td>2</td>\n",
       "      <td>0.025627</td>\n",
       "      <td>0</td>\n",
       "      <td>0</td>\n",
       "      <td>0</td>\n",
       "      <td>0</td>\n",
       "      <td>0</td>\n",
       "      <td>1</td>\n",
       "      <td>0</td>\n",
       "      <td>3</td>\n",
       "    </tr>\n",
       "    <tr>\n",
       "      <th>2</th>\n",
       "      <td>1278402853</td>\n",
       "      <td>1175</td>\n",
       "      <td>2</td>\n",
       "      <td>39.916466</td>\n",
       "      <td>32.724698</td>\n",
       "      <td>39.941464</td>\n",
       "      <td>32.718384</td>\n",
       "      <td>18</td>\n",
       "      <td>4</td>\n",
       "      <td>13</td>\n",
       "      <td>...</td>\n",
       "      <td>0</td>\n",
       "      <td>0.025783</td>\n",
       "      <td>0</td>\n",
       "      <td>0</td>\n",
       "      <td>1</td>\n",
       "      <td>0</td>\n",
       "      <td>0</td>\n",
       "      <td>0</td>\n",
       "      <td>0</td>\n",
       "      <td>1</td>\n",
       "    </tr>\n",
       "    <tr>\n",
       "      <th>3</th>\n",
       "      <td>1272398564</td>\n",
       "      <td>1630</td>\n",
       "      <td>15</td>\n",
       "      <td>39.930718</td>\n",
       "      <td>32.619859</td>\n",
       "      <td>39.902325</td>\n",
       "      <td>32.524064</td>\n",
       "      <td>19</td>\n",
       "      <td>2</td>\n",
       "      <td>11</td>\n",
       "      <td>...</td>\n",
       "      <td>3</td>\n",
       "      <td>0.099914</td>\n",
       "      <td>0</td>\n",
       "      <td>0</td>\n",
       "      <td>1</td>\n",
       "      <td>0</td>\n",
       "      <td>0</td>\n",
       "      <td>0</td>\n",
       "      <td>0</td>\n",
       "      <td>8</td>\n",
       "    </tr>\n",
       "    <tr>\n",
       "      <th>4</th>\n",
       "      <td>1279996323</td>\n",
       "      <td>561</td>\n",
       "      <td>18</td>\n",
       "      <td>39.914876</td>\n",
       "      <td>32.728814</td>\n",
       "      <td>39.930734</td>\n",
       "      <td>32.718722</td>\n",
       "      <td>18</td>\n",
       "      <td>4</td>\n",
       "      <td>12</td>\n",
       "      <td>...</td>\n",
       "      <td>0</td>\n",
       "      <td>0.018797</td>\n",
       "      <td>0</td>\n",
       "      <td>0</td>\n",
       "      <td>0</td>\n",
       "      <td>1</td>\n",
       "      <td>0</td>\n",
       "      <td>0</td>\n",
       "      <td>0</td>\n",
       "      <td>10</td>\n",
       "    </tr>\n",
       "    <tr>\n",
       "      <th>178085</th>\n",
       "      <td>1271716250</td>\n",
       "      <td>328</td>\n",
       "      <td>20</td>\n",
       "      <td>39.899967</td>\n",
       "      <td>32.757567</td>\n",
       "      <td>39.895466</td>\n",
       "      <td>32.770069</td>\n",
       "      <td>18</td>\n",
       "      <td>4</td>\n",
       "      <td>10</td>\n",
       "      <td>...</td>\n",
       "      <td>2</td>\n",
       "      <td>0.013287</td>\n",
       "      <td>1</td>\n",
       "      <td>0</td>\n",
       "      <td>0</td>\n",
       "      <td>0</td>\n",
       "      <td>0</td>\n",
       "      <td>0</td>\n",
       "      <td>0</td>\n",
       "      <td>12</td>\n",
       "    </tr>\n",
       "    <tr>\n",
       "      <th>178086</th>\n",
       "      <td>1275289045</td>\n",
       "      <td>842</td>\n",
       "      <td>6</td>\n",
       "      <td>39.877181</td>\n",
       "      <td>32.814644</td>\n",
       "      <td>39.896834</td>\n",
       "      <td>32.816313</td>\n",
       "      <td>18</td>\n",
       "      <td>5</td>\n",
       "      <td>10</td>\n",
       "      <td>...</td>\n",
       "      <td>2</td>\n",
       "      <td>0.019724</td>\n",
       "      <td>0</td>\n",
       "      <td>0</td>\n",
       "      <td>0</td>\n",
       "      <td>0</td>\n",
       "      <td>0</td>\n",
       "      <td>0</td>\n",
       "      <td>1</td>\n",
       "      <td>1</td>\n",
       "    </tr>\n",
       "    <tr>\n",
       "      <th>178087</th>\n",
       "      <td>1269676370</td>\n",
       "      <td>517</td>\n",
       "      <td>19</td>\n",
       "      <td>39.795645</td>\n",
       "      <td>32.874609</td>\n",
       "      <td>39.802477</td>\n",
       "      <td>32.882108</td>\n",
       "      <td>17</td>\n",
       "      <td>5</td>\n",
       "      <td>4</td>\n",
       "      <td>...</td>\n",
       "      <td>1</td>\n",
       "      <td>0.010145</td>\n",
       "      <td>0</td>\n",
       "      <td>0</td>\n",
       "      <td>0</td>\n",
       "      <td>0</td>\n",
       "      <td>0</td>\n",
       "      <td>0</td>\n",
       "      <td>1</td>\n",
       "      <td>11</td>\n",
       "    </tr>\n",
       "    <tr>\n",
       "      <th>178088</th>\n",
       "      <td>1273331688</td>\n",
       "      <td>797</td>\n",
       "      <td>18</td>\n",
       "      <td>39.865828</td>\n",
       "      <td>32.852476</td>\n",
       "      <td>39.888406</td>\n",
       "      <td>32.878008</td>\n",
       "      <td>18</td>\n",
       "      <td>5</td>\n",
       "      <td>9</td>\n",
       "      <td>...</td>\n",
       "      <td>2</td>\n",
       "      <td>0.034082</td>\n",
       "      <td>0</td>\n",
       "      <td>0</td>\n",
       "      <td>0</td>\n",
       "      <td>1</td>\n",
       "      <td>0</td>\n",
       "      <td>0</td>\n",
       "      <td>0</td>\n",
       "      <td>10</td>\n",
       "    </tr>\n",
       "    <tr>\n",
       "      <th>178089</th>\n",
       "      <td>1291915508</td>\n",
       "      <td>919</td>\n",
       "      <td>0</td>\n",
       "      <td>39.945700</td>\n",
       "      <td>32.759633</td>\n",
       "      <td>39.954122</td>\n",
       "      <td>32.769063</td>\n",
       "      <td>19</td>\n",
       "      <td>4</td>\n",
       "      <td>13</td>\n",
       "      <td>...</td>\n",
       "      <td>0</td>\n",
       "      <td>0.012643</td>\n",
       "      <td>0</td>\n",
       "      <td>0</td>\n",
       "      <td>0</td>\n",
       "      <td>1</td>\n",
       "      <td>0</td>\n",
       "      <td>0</td>\n",
       "      <td>0</td>\n",
       "      <td>-1</td>\n",
       "    </tr>\n",
       "  </tbody>\n",
       "</table>\n",
       "<p>10 rows × 22 columns</p>\n",
       "</div>"
      ],
      "text/plain": [
       "         travel_id travel_time  travel_hour  source_latitute  \\\n",
       "0       1278160345         962           20        39.885119   \n",
       "1       1274461376         916            8        39.883463   \n",
       "2       1278402853        1175            2        39.916466   \n",
       "3       1272398564        1630           15        39.930718   \n",
       "4       1279996323         561           18        39.914876   \n",
       "178085  1271716250         328           20        39.899967   \n",
       "178086  1275289045         842            6        39.877181   \n",
       "178087  1269676370         517           19        39.795645   \n",
       "178088  1273331688         797           18        39.865828   \n",
       "178089  1291915508         919            0        39.945700   \n",
       "\n",
       "        source_longitute  destination_latitute  destination_longitute  \\\n",
       "0              32.856276             39.871838              32.822251   \n",
       "1              32.833503             39.891228              32.857926   \n",
       "2              32.724698             39.941464              32.718384   \n",
       "3              32.619859             39.902325              32.524064   \n",
       "4              32.728814             39.930734              32.718722   \n",
       "178085         32.757567             39.895466              32.770069   \n",
       "178086         32.814644             39.896834              32.816313   \n",
       "178087         32.874609             39.802477              32.882108   \n",
       "178088         32.852476             39.888406              32.878008   \n",
       "178089         32.759633             39.954122              32.769063   \n",
       "\n",
       "        source_latitude_category  source_longitute_category  \\\n",
       "0                             18                          5   \n",
       "1                             18                          5   \n",
       "2                             18                          4   \n",
       "3                             19                          2   \n",
       "4                             18                          4   \n",
       "178085                        18                          4   \n",
       "178086                        18                          5   \n",
       "178087                        17                          5   \n",
       "178088                        18                          5   \n",
       "178089                        19                          4   \n",
       "\n",
       "        destination_latitute_category  ...  destination_location_cluster  \\\n",
       "0                                   8  ...                             2   \n",
       "1                                  10  ...                             2   \n",
       "2                                  13  ...                             0   \n",
       "3                                  11  ...                             3   \n",
       "4                                  12  ...                             0   \n",
       "178085                             10  ...                             2   \n",
       "178086                             10  ...                             2   \n",
       "178087                              4  ...                             1   \n",
       "178088                              9  ...                             2   \n",
       "178089                             13  ...                             0   \n",
       "\n",
       "        distance  Friday  Monday  Saturday  Sunday  Thursday  Tuesday  \\\n",
       "0       0.036525       1       0         0       0         0        0   \n",
       "1       0.025627       0       0         0       0         0        1   \n",
       "2       0.025783       0       0         1       0         0        0   \n",
       "3       0.099914       0       0         1       0         0        0   \n",
       "4       0.018797       0       0         0       1         0        0   \n",
       "178085  0.013287       1       0         0       0         0        0   \n",
       "178086  0.019724       0       0         0       0         0        0   \n",
       "178087  0.010145       0       0         0       0         0        0   \n",
       "178088  0.034082       0       0         0       1         0        0   \n",
       "178089  0.012643       0       0         0       1         0        0   \n",
       "\n",
       "        Wednesday  travel_hour_category  \n",
       "0               0                    12  \n",
       "1               0                     3  \n",
       "2               0                     1  \n",
       "3               0                     8  \n",
       "4               0                    10  \n",
       "178085          0                    12  \n",
       "178086          1                     1  \n",
       "178087          1                    11  \n",
       "178088          0                    10  \n",
       "178089          0                    -1  \n",
       "\n",
       "[10 rows x 22 columns]"
      ]
     },
     "execution_count": 90,
     "metadata": {},
     "output_type": "execute_result"
    }
   ],
   "source": [
    "train_df2['travel_hour_category'] = pd.cut(train_df2.travel_hour, travel_hour_bins).cat.codes\n",
    "train_df2.head(5).append(train_df2.tail(5))"
   ]
  },
  {
   "cell_type": "code",
   "execution_count": 91,
   "metadata": {
    "colab": {},
    "colab_type": "code",
    "id": "r07A6fLcBwV8"
   },
   "outputs": [],
   "source": [
    "train_df2['additional1_travel_hour_category'] = train_df2['travel_hour_category']\n",
    "train_df2['additional2_travel_hour_category'] = train_df2['travel_hour_category']\n",
    "train_df2['additional3_travel_hour_category'] = train_df2['travel_hour_category']"
   ]
  },
  {
   "cell_type": "code",
   "execution_count": 92,
   "metadata": {
    "colab": {
     "base_uri": "https://localhost:8080/",
     "height": 379
    },
    "colab_type": "code",
    "executionInfo": {
     "elapsed": 606,
     "status": "ok",
     "timestamp": 1582795617475,
     "user": {
      "displayName": "Eser İnan Arslan",
      "photoUrl": "https://lh3.googleusercontent.com/a-/AAuE7mAEXYsAQ5ofuOAq2VqhAAEj2Kib3xBlNNc3K0sfIQ=s64",
      "userId": "01966049699378036829"
     },
     "user_tz": -180
    },
    "id": "wuULpn8aGOpv",
    "outputId": "00d5a4f9-b489-425b-a2fc-ce3caffe3bdc"
   },
   "outputs": [
    {
     "data": {
      "text/html": [
       "<div>\n",
       "<style scoped>\n",
       "    .dataframe tbody tr th:only-of-type {\n",
       "        vertical-align: middle;\n",
       "    }\n",
       "\n",
       "    .dataframe tbody tr th {\n",
       "        vertical-align: top;\n",
       "    }\n",
       "\n",
       "    .dataframe thead th {\n",
       "        text-align: right;\n",
       "    }\n",
       "</style>\n",
       "<table border=\"1\" class=\"dataframe\">\n",
       "  <thead>\n",
       "    <tr style=\"text-align: right;\">\n",
       "      <th></th>\n",
       "      <th>travel_id</th>\n",
       "      <th>travel_time</th>\n",
       "      <th>travel_hour</th>\n",
       "      <th>source_latitute</th>\n",
       "      <th>source_longitute</th>\n",
       "      <th>destination_latitute</th>\n",
       "      <th>destination_longitute</th>\n",
       "      <th>source_latitude_category</th>\n",
       "      <th>source_longitute_category</th>\n",
       "      <th>destination_latitute_category</th>\n",
       "      <th>...</th>\n",
       "      <th>Monday</th>\n",
       "      <th>Saturday</th>\n",
       "      <th>Sunday</th>\n",
       "      <th>Thursday</th>\n",
       "      <th>Tuesday</th>\n",
       "      <th>Wednesday</th>\n",
       "      <th>travel_hour_category</th>\n",
       "      <th>additional1_travel_hour_category</th>\n",
       "      <th>additional2_travel_hour_category</th>\n",
       "      <th>additional3_travel_hour_category</th>\n",
       "    </tr>\n",
       "  </thead>\n",
       "  <tbody>\n",
       "    <tr>\n",
       "      <th>0</th>\n",
       "      <td>1278160345</td>\n",
       "      <td>962</td>\n",
       "      <td>20</td>\n",
       "      <td>39.885119</td>\n",
       "      <td>32.856276</td>\n",
       "      <td>39.871838</td>\n",
       "      <td>32.822251</td>\n",
       "      <td>18</td>\n",
       "      <td>5</td>\n",
       "      <td>8</td>\n",
       "      <td>...</td>\n",
       "      <td>0</td>\n",
       "      <td>0</td>\n",
       "      <td>0</td>\n",
       "      <td>0</td>\n",
       "      <td>0</td>\n",
       "      <td>0</td>\n",
       "      <td>12</td>\n",
       "      <td>12</td>\n",
       "      <td>12</td>\n",
       "      <td>12</td>\n",
       "    </tr>\n",
       "    <tr>\n",
       "      <th>1</th>\n",
       "      <td>1274461376</td>\n",
       "      <td>916</td>\n",
       "      <td>8</td>\n",
       "      <td>39.883463</td>\n",
       "      <td>32.833503</td>\n",
       "      <td>39.891228</td>\n",
       "      <td>32.857926</td>\n",
       "      <td>18</td>\n",
       "      <td>5</td>\n",
       "      <td>10</td>\n",
       "      <td>...</td>\n",
       "      <td>0</td>\n",
       "      <td>0</td>\n",
       "      <td>0</td>\n",
       "      <td>0</td>\n",
       "      <td>1</td>\n",
       "      <td>0</td>\n",
       "      <td>3</td>\n",
       "      <td>3</td>\n",
       "      <td>3</td>\n",
       "      <td>3</td>\n",
       "    </tr>\n",
       "    <tr>\n",
       "      <th>2</th>\n",
       "      <td>1278402853</td>\n",
       "      <td>1175</td>\n",
       "      <td>2</td>\n",
       "      <td>39.916466</td>\n",
       "      <td>32.724698</td>\n",
       "      <td>39.941464</td>\n",
       "      <td>32.718384</td>\n",
       "      <td>18</td>\n",
       "      <td>4</td>\n",
       "      <td>13</td>\n",
       "      <td>...</td>\n",
       "      <td>0</td>\n",
       "      <td>1</td>\n",
       "      <td>0</td>\n",
       "      <td>0</td>\n",
       "      <td>0</td>\n",
       "      <td>0</td>\n",
       "      <td>1</td>\n",
       "      <td>1</td>\n",
       "      <td>1</td>\n",
       "      <td>1</td>\n",
       "    </tr>\n",
       "    <tr>\n",
       "      <th>3</th>\n",
       "      <td>1272398564</td>\n",
       "      <td>1630</td>\n",
       "      <td>15</td>\n",
       "      <td>39.930718</td>\n",
       "      <td>32.619859</td>\n",
       "      <td>39.902325</td>\n",
       "      <td>32.524064</td>\n",
       "      <td>19</td>\n",
       "      <td>2</td>\n",
       "      <td>11</td>\n",
       "      <td>...</td>\n",
       "      <td>0</td>\n",
       "      <td>1</td>\n",
       "      <td>0</td>\n",
       "      <td>0</td>\n",
       "      <td>0</td>\n",
       "      <td>0</td>\n",
       "      <td>8</td>\n",
       "      <td>8</td>\n",
       "      <td>8</td>\n",
       "      <td>8</td>\n",
       "    </tr>\n",
       "    <tr>\n",
       "      <th>4</th>\n",
       "      <td>1279996323</td>\n",
       "      <td>561</td>\n",
       "      <td>18</td>\n",
       "      <td>39.914876</td>\n",
       "      <td>32.728814</td>\n",
       "      <td>39.930734</td>\n",
       "      <td>32.718722</td>\n",
       "      <td>18</td>\n",
       "      <td>4</td>\n",
       "      <td>12</td>\n",
       "      <td>...</td>\n",
       "      <td>0</td>\n",
       "      <td>0</td>\n",
       "      <td>1</td>\n",
       "      <td>0</td>\n",
       "      <td>0</td>\n",
       "      <td>0</td>\n",
       "      <td>10</td>\n",
       "      <td>10</td>\n",
       "      <td>10</td>\n",
       "      <td>10</td>\n",
       "    </tr>\n",
       "    <tr>\n",
       "      <th>5</th>\n",
       "      <td>1279263882</td>\n",
       "      <td>1670</td>\n",
       "      <td>19</td>\n",
       "      <td>39.873223</td>\n",
       "      <td>32.668740</td>\n",
       "      <td>39.866425</td>\n",
       "      <td>32.600397</td>\n",
       "      <td>18</td>\n",
       "      <td>3</td>\n",
       "      <td>7</td>\n",
       "      <td>...</td>\n",
       "      <td>0</td>\n",
       "      <td>1</td>\n",
       "      <td>0</td>\n",
       "      <td>0</td>\n",
       "      <td>0</td>\n",
       "      <td>0</td>\n",
       "      <td>11</td>\n",
       "      <td>11</td>\n",
       "      <td>11</td>\n",
       "      <td>11</td>\n",
       "    </tr>\n",
       "    <tr>\n",
       "      <th>6</th>\n",
       "      <td>1286102719</td>\n",
       "      <td>362</td>\n",
       "      <td>2</td>\n",
       "      <td>39.941819</td>\n",
       "      <td>32.620206</td>\n",
       "      <td>39.948514</td>\n",
       "      <td>32.607289</td>\n",
       "      <td>19</td>\n",
       "      <td>2</td>\n",
       "      <td>13</td>\n",
       "      <td>...</td>\n",
       "      <td>0</td>\n",
       "      <td>0</td>\n",
       "      <td>1</td>\n",
       "      <td>0</td>\n",
       "      <td>0</td>\n",
       "      <td>0</td>\n",
       "      <td>1</td>\n",
       "      <td>1</td>\n",
       "      <td>1</td>\n",
       "      <td>1</td>\n",
       "    </tr>\n",
       "    <tr>\n",
       "      <th>7</th>\n",
       "      <td>1286767924</td>\n",
       "      <td>1178</td>\n",
       "      <td>8</td>\n",
       "      <td>39.933400</td>\n",
       "      <td>32.716455</td>\n",
       "      <td>39.938480</td>\n",
       "      <td>32.753487</td>\n",
       "      <td>19</td>\n",
       "      <td>3</td>\n",
       "      <td>12</td>\n",
       "      <td>...</td>\n",
       "      <td>1</td>\n",
       "      <td>0</td>\n",
       "      <td>0</td>\n",
       "      <td>0</td>\n",
       "      <td>0</td>\n",
       "      <td>0</td>\n",
       "      <td>3</td>\n",
       "      <td>3</td>\n",
       "      <td>3</td>\n",
       "      <td>3</td>\n",
       "    </tr>\n",
       "    <tr>\n",
       "      <th>8</th>\n",
       "      <td>1280823318</td>\n",
       "      <td>1043</td>\n",
       "      <td>19</td>\n",
       "      <td>39.869159</td>\n",
       "      <td>32.596796</td>\n",
       "      <td>39.866107</td>\n",
       "      <td>32.552084</td>\n",
       "      <td>18</td>\n",
       "      <td>2</td>\n",
       "      <td>7</td>\n",
       "      <td>...</td>\n",
       "      <td>1</td>\n",
       "      <td>0</td>\n",
       "      <td>0</td>\n",
       "      <td>0</td>\n",
       "      <td>0</td>\n",
       "      <td>0</td>\n",
       "      <td>11</td>\n",
       "      <td>11</td>\n",
       "      <td>11</td>\n",
       "      <td>11</td>\n",
       "    </tr>\n",
       "    <tr>\n",
       "      <th>9</th>\n",
       "      <td>1276163525</td>\n",
       "      <td>705</td>\n",
       "      <td>5</td>\n",
       "      <td>39.851219</td>\n",
       "      <td>32.851746</td>\n",
       "      <td>39.858495</td>\n",
       "      <td>32.814374</td>\n",
       "      <td>17</td>\n",
       "      <td>5</td>\n",
       "      <td>6</td>\n",
       "      <td>...</td>\n",
       "      <td>0</td>\n",
       "      <td>0</td>\n",
       "      <td>0</td>\n",
       "      <td>1</td>\n",
       "      <td>0</td>\n",
       "      <td>0</td>\n",
       "      <td>1</td>\n",
       "      <td>1</td>\n",
       "      <td>1</td>\n",
       "      <td>1</td>\n",
       "    </tr>\n",
       "  </tbody>\n",
       "</table>\n",
       "<p>10 rows × 25 columns</p>\n",
       "</div>"
      ],
      "text/plain": [
       "    travel_id travel_time  travel_hour  source_latitute  source_longitute  \\\n",
       "0  1278160345         962           20        39.885119         32.856276   \n",
       "1  1274461376         916            8        39.883463         32.833503   \n",
       "2  1278402853        1175            2        39.916466         32.724698   \n",
       "3  1272398564        1630           15        39.930718         32.619859   \n",
       "4  1279996323         561           18        39.914876         32.728814   \n",
       "5  1279263882        1670           19        39.873223         32.668740   \n",
       "6  1286102719         362            2        39.941819         32.620206   \n",
       "7  1286767924        1178            8        39.933400         32.716455   \n",
       "8  1280823318        1043           19        39.869159         32.596796   \n",
       "9  1276163525         705            5        39.851219         32.851746   \n",
       "\n",
       "   destination_latitute  destination_longitute  source_latitude_category  \\\n",
       "0             39.871838              32.822251                        18   \n",
       "1             39.891228              32.857926                        18   \n",
       "2             39.941464              32.718384                        18   \n",
       "3             39.902325              32.524064                        19   \n",
       "4             39.930734              32.718722                        18   \n",
       "5             39.866425              32.600397                        18   \n",
       "6             39.948514              32.607289                        19   \n",
       "7             39.938480              32.753487                        19   \n",
       "8             39.866107              32.552084                        18   \n",
       "9             39.858495              32.814374                        17   \n",
       "\n",
       "   source_longitute_category  destination_latitute_category  ...  Monday  \\\n",
       "0                          5                              8  ...       0   \n",
       "1                          5                             10  ...       0   \n",
       "2                          4                             13  ...       0   \n",
       "3                          2                             11  ...       0   \n",
       "4                          4                             12  ...       0   \n",
       "5                          3                              7  ...       0   \n",
       "6                          2                             13  ...       0   \n",
       "7                          3                             12  ...       1   \n",
       "8                          2                              7  ...       1   \n",
       "9                          5                              6  ...       0   \n",
       "\n",
       "   Saturday  Sunday  Thursday  Tuesday  Wednesday  travel_hour_category  \\\n",
       "0         0       0         0        0          0                    12   \n",
       "1         0       0         0        1          0                     3   \n",
       "2         1       0         0        0          0                     1   \n",
       "3         1       0         0        0          0                     8   \n",
       "4         0       1         0        0          0                    10   \n",
       "5         1       0         0        0          0                    11   \n",
       "6         0       1         0        0          0                     1   \n",
       "7         0       0         0        0          0                     3   \n",
       "8         0       0         0        0          0                    11   \n",
       "9         0       0         1        0          0                     1   \n",
       "\n",
       "   additional1_travel_hour_category  additional2_travel_hour_category  \\\n",
       "0                                12                                12   \n",
       "1                                 3                                 3   \n",
       "2                                 1                                 1   \n",
       "3                                 8                                 8   \n",
       "4                                10                                10   \n",
       "5                                11                                11   \n",
       "6                                 1                                 1   \n",
       "7                                 3                                 3   \n",
       "8                                11                                11   \n",
       "9                                 1                                 1   \n",
       "\n",
       "   additional3_travel_hour_category  \n",
       "0                                12  \n",
       "1                                 3  \n",
       "2                                 1  \n",
       "3                                 8  \n",
       "4                                10  \n",
       "5                                11  \n",
       "6                                 1  \n",
       "7                                 3  \n",
       "8                                11  \n",
       "9                                 1  \n",
       "\n",
       "[10 rows x 25 columns]"
      ]
     },
     "execution_count": 92,
     "metadata": {},
     "output_type": "execute_result"
    }
   ],
   "source": [
    "train_df2.head(10)"
   ]
  },
  {
   "cell_type": "code",
   "execution_count": 93,
   "metadata": {
    "colab": {},
    "colab_type": "code",
    "id": "-UZOyPuHGRl7"
   },
   "outputs": [],
   "source": [
    "train_df2['additional1_distance'] = train_df2['distance']\n",
    "train_df2['additional2_distance'] = train_df2['distance']\n",
    "train_df2['additional3_distance'] = train_df2['distance']"
   ]
  },
  {
   "cell_type": "code",
   "execution_count": 94,
   "metadata": {
    "colab": {
     "base_uri": "https://localhost:8080/",
     "height": 34
    },
    "colab_type": "code",
    "executionInfo": {
     "elapsed": 673,
     "status": "ok",
     "timestamp": 1582795620997,
     "user": {
      "displayName": "Eser İnan Arslan",
      "photoUrl": "https://lh3.googleusercontent.com/a-/AAuE7mAEXYsAQ5ofuOAq2VqhAAEj2Kib3xBlNNc3K0sfIQ=s64",
      "userId": "01966049699378036829"
     },
     "user_tz": -180
    },
    "id": "16vmSb05HJXa",
    "outputId": "944891be-968b-4542-ee7b-adac43f70927"
   },
   "outputs": [
    {
     "data": {
      "text/plain": [
       "(178090, 28)"
      ]
     },
     "execution_count": 94,
     "metadata": {},
     "output_type": "execute_result"
    }
   ],
   "source": [
    "train_df2.shape"
   ]
  },
  {
   "cell_type": "code",
   "execution_count": null,
   "metadata": {
    "colab": {},
    "colab_type": "code",
    "id": "PqiXIpxiHLzU"
   },
   "outputs": [],
   "source": []
  },
  {
   "cell_type": "code",
   "execution_count": 95,
   "metadata": {
    "colab": {},
    "colab_type": "code",
    "id": "7XlbO1WpLZD7"
   },
   "outputs": [],
   "source": [
    "import xgboost as xgb\n",
    "from sklearn.datasets import make_classification\n",
    "from sklearn.metrics import mean_squared_error, mean_absolute_error, mean_squared_log_error, make_scorer\n",
    "from sklearn.model_selection import train_test_split, validation_curve, GridSearchCV\n",
    "from datetime import datetime\n",
    "\n",
    "from sklearn.pipeline import make_pipeline\n",
    "\n",
    "from sklearn.tree import DecisionTreeRegressor, export_graphviz"
   ]
  },
  {
   "cell_type": "code",
   "execution_count": 96,
   "metadata": {
    "colab": {},
    "colab_type": "code",
    "id": "91j915aoLZBe"
   },
   "outputs": [],
   "source": [
    "#Define mape method\n",
    "def mean_absolute_percentage_error(y_true, y_pred): \n",
    "    return np.mean(np.abs((y_true - y_pred) / y_true)) * 100"
   ]
  },
  {
   "cell_type": "code",
   "execution_count": 97,
   "metadata": {
    "colab": {},
    "colab_type": "code",
    "id": "fgjFVvaXOy9p"
   },
   "outputs": [],
   "source": [
    "train_df2['travel_time'] = train_df2['travel_time'].astype(int)"
   ]
  },
  {
   "cell_type": "code",
   "execution_count": 98,
   "metadata": {
    "colab": {
     "base_uri": "https://localhost:8080/",
     "height": 510
    },
    "colab_type": "code",
    "executionInfo": {
     "elapsed": 812,
     "status": "ok",
     "timestamp": 1582795651554,
     "user": {
      "displayName": "Eser İnan Arslan",
      "photoUrl": "https://lh3.googleusercontent.com/a-/AAuE7mAEXYsAQ5ofuOAq2VqhAAEj2Kib3xBlNNc3K0sfIQ=s64",
      "userId": "01966049699378036829"
     },
     "user_tz": -180
    },
    "id": "SntgXtrhOANW",
    "outputId": "fd04f957-84e6-48e7-f7fb-9279c4c2fc27"
   },
   "outputs": [
    {
     "data": {
      "text/plain": [
       "travel_id                             int64\n",
       "travel_time                           int64\n",
       "travel_hour                           int64\n",
       "source_latitute                     float64\n",
       "source_longitute                    float64\n",
       "destination_latitute                float64\n",
       "destination_longitute               float64\n",
       "source_latitude_category               int8\n",
       "source_longitute_category              int8\n",
       "destination_latitute_category          int8\n",
       "destination_longitute_category         int8\n",
       "source_location_cluster               int32\n",
       "destination_location_cluster          int32\n",
       "distance                            float64\n",
       "Friday                                uint8\n",
       "Monday                                uint8\n",
       "Saturday                              uint8\n",
       "Sunday                                uint8\n",
       "Thursday                              uint8\n",
       "Tuesday                               uint8\n",
       "Wednesday                             uint8\n",
       "travel_hour_category                   int8\n",
       "additional1_travel_hour_category       int8\n",
       "additional2_travel_hour_category       int8\n",
       "additional3_travel_hour_category       int8\n",
       "additional1_distance                float64\n",
       "additional2_distance                float64\n",
       "additional3_distance                float64\n",
       "dtype: object"
      ]
     },
     "execution_count": 98,
     "metadata": {},
     "output_type": "execute_result"
    }
   ],
   "source": [
    "train_df2.dtypes"
   ]
  },
  {
   "cell_type": "code",
   "execution_count": 99,
   "metadata": {
    "colab": {
     "base_uri": "https://localhost:8080/",
     "height": 937
    },
    "colab_type": "code",
    "executionInfo": {
     "elapsed": 1009,
     "status": "ok",
     "timestamp": 1582795653489,
     "user": {
      "displayName": "Eser İnan Arslan",
      "photoUrl": "https://lh3.googleusercontent.com/a-/AAuE7mAEXYsAQ5ofuOAq2VqhAAEj2Kib3xBlNNc3K0sfIQ=s64",
      "userId": "01966049699378036829"
     },
     "user_tz": -180
    },
    "id": "Ze8mxgJtLY_G",
    "outputId": "4b11ad58-782e-45e2-be98-1e046303ff45"
   },
   "outputs": [
    {
     "data": {
      "text/html": [
       "<div>\n",
       "<style scoped>\n",
       "    .dataframe tbody tr th:only-of-type {\n",
       "        vertical-align: middle;\n",
       "    }\n",
       "\n",
       "    .dataframe tbody tr th {\n",
       "        vertical-align: top;\n",
       "    }\n",
       "\n",
       "    .dataframe thead th {\n",
       "        text-align: right;\n",
       "    }\n",
       "</style>\n",
       "<table border=\"1\" class=\"dataframe\">\n",
       "  <thead>\n",
       "    <tr style=\"text-align: right;\">\n",
       "      <th></th>\n",
       "      <th>travel_id</th>\n",
       "      <th>travel_time</th>\n",
       "      <th>travel_hour</th>\n",
       "      <th>source_latitute</th>\n",
       "      <th>source_longitute</th>\n",
       "      <th>destination_latitute</th>\n",
       "      <th>destination_longitute</th>\n",
       "      <th>source_latitude_category</th>\n",
       "      <th>source_longitute_category</th>\n",
       "      <th>destination_latitute_category</th>\n",
       "      <th>...</th>\n",
       "      <th>Thursday</th>\n",
       "      <th>Tuesday</th>\n",
       "      <th>Wednesday</th>\n",
       "      <th>travel_hour_category</th>\n",
       "      <th>additional1_travel_hour_category</th>\n",
       "      <th>additional2_travel_hour_category</th>\n",
       "      <th>additional3_travel_hour_category</th>\n",
       "      <th>additional1_distance</th>\n",
       "      <th>additional2_distance</th>\n",
       "      <th>additional3_distance</th>\n",
       "    </tr>\n",
       "  </thead>\n",
       "  <tbody>\n",
       "    <tr>\n",
       "      <th>travel_id</th>\n",
       "      <td>1.000000</td>\n",
       "      <td>-0.015877</td>\n",
       "      <td>0.073609</td>\n",
       "      <td>0.005211</td>\n",
       "      <td>-0.004560</td>\n",
       "      <td>-0.000068</td>\n",
       "      <td>-0.001993</td>\n",
       "      <td>0.006074</td>\n",
       "      <td>-0.004479</td>\n",
       "      <td>0.003828</td>\n",
       "      <td>...</td>\n",
       "      <td>-0.061285</td>\n",
       "      <td>0.006489</td>\n",
       "      <td>0.044742</td>\n",
       "      <td>0.069406</td>\n",
       "      <td>0.069406</td>\n",
       "      <td>0.069406</td>\n",
       "      <td>0.069406</td>\n",
       "      <td>0.000010</td>\n",
       "      <td>0.000010</td>\n",
       "      <td>0.000010</td>\n",
       "    </tr>\n",
       "    <tr>\n",
       "      <th>travel_time</th>\n",
       "      <td>-0.015877</td>\n",
       "      <td>1.000000</td>\n",
       "      <td>0.054904</td>\n",
       "      <td>0.029756</td>\n",
       "      <td>-0.026259</td>\n",
       "      <td>-0.016109</td>\n",
       "      <td>-0.029980</td>\n",
       "      <td>0.024078</td>\n",
       "      <td>-0.026893</td>\n",
       "      <td>0.030509</td>\n",
       "      <td>...</td>\n",
       "      <td>0.013739</td>\n",
       "      <td>-0.001526</td>\n",
       "      <td>0.002855</td>\n",
       "      <td>0.049717</td>\n",
       "      <td>0.049717</td>\n",
       "      <td>0.049717</td>\n",
       "      <td>0.049717</td>\n",
       "      <td>0.042395</td>\n",
       "      <td>0.042395</td>\n",
       "      <td>0.042395</td>\n",
       "    </tr>\n",
       "    <tr>\n",
       "      <th>travel_hour</th>\n",
       "      <td>0.073609</td>\n",
       "      <td>0.054904</td>\n",
       "      <td>1.000000</td>\n",
       "      <td>-0.010691</td>\n",
       "      <td>0.016195</td>\n",
       "      <td>-0.003114</td>\n",
       "      <td>0.004148</td>\n",
       "      <td>-0.012149</td>\n",
       "      <td>0.015930</td>\n",
       "      <td>-0.021261</td>\n",
       "      <td>...</td>\n",
       "      <td>-0.004023</td>\n",
       "      <td>-0.007326</td>\n",
       "      <td>-0.000617</td>\n",
       "      <td>0.990372</td>\n",
       "      <td>0.990372</td>\n",
       "      <td>0.990372</td>\n",
       "      <td>0.990372</td>\n",
       "      <td>-0.000285</td>\n",
       "      <td>-0.000285</td>\n",
       "      <td>-0.000285</td>\n",
       "    </tr>\n",
       "    <tr>\n",
       "      <th>source_latitute</th>\n",
       "      <td>0.005211</td>\n",
       "      <td>0.029756</td>\n",
       "      <td>-0.010691</td>\n",
       "      <td>1.000000</td>\n",
       "      <td>-0.876927</td>\n",
       "      <td>0.088030</td>\n",
       "      <td>-0.337202</td>\n",
       "      <td>0.978504</td>\n",
       "      <td>-0.870378</td>\n",
       "      <td>0.557225</td>\n",
       "      <td>...</td>\n",
       "      <td>0.002702</td>\n",
       "      <td>0.002255</td>\n",
       "      <td>-0.000748</td>\n",
       "      <td>-0.008539</td>\n",
       "      <td>-0.008539</td>\n",
       "      <td>-0.008539</td>\n",
       "      <td>-0.008539</td>\n",
       "      <td>0.000386</td>\n",
       "      <td>0.000386</td>\n",
       "      <td>0.000386</td>\n",
       "    </tr>\n",
       "    <tr>\n",
       "      <th>source_longitute</th>\n",
       "      <td>-0.004560</td>\n",
       "      <td>-0.026259</td>\n",
       "      <td>0.016195</td>\n",
       "      <td>-0.876927</td>\n",
       "      <td>1.000000</td>\n",
       "      <td>-0.082521</td>\n",
       "      <td>0.378965</td>\n",
       "      <td>-0.852526</td>\n",
       "      <td>0.995586</td>\n",
       "      <td>-0.311039</td>\n",
       "      <td>...</td>\n",
       "      <td>-0.001364</td>\n",
       "      <td>0.000282</td>\n",
       "      <td>0.002820</td>\n",
       "      <td>0.015337</td>\n",
       "      <td>0.015337</td>\n",
       "      <td>0.015337</td>\n",
       "      <td>0.015337</td>\n",
       "      <td>0.001095</td>\n",
       "      <td>0.001095</td>\n",
       "      <td>0.001095</td>\n",
       "    </tr>\n",
       "    <tr>\n",
       "      <th>destination_latitute</th>\n",
       "      <td>-0.000068</td>\n",
       "      <td>-0.016109</td>\n",
       "      <td>-0.003114</td>\n",
       "      <td>0.088030</td>\n",
       "      <td>-0.082521</td>\n",
       "      <td>1.000000</td>\n",
       "      <td>0.886079</td>\n",
       "      <td>0.085875</td>\n",
       "      <td>-0.082312</td>\n",
       "      <td>0.123975</td>\n",
       "      <td>...</td>\n",
       "      <td>0.000034</td>\n",
       "      <td>0.001642</td>\n",
       "      <td>0.002685</td>\n",
       "      <td>-0.002391</td>\n",
       "      <td>-0.002391</td>\n",
       "      <td>-0.002391</td>\n",
       "      <td>-0.002391</td>\n",
       "      <td>-0.994876</td>\n",
       "      <td>-0.994876</td>\n",
       "      <td>-0.994876</td>\n",
       "    </tr>\n",
       "    <tr>\n",
       "      <th>destination_longitute</th>\n",
       "      <td>-0.001993</td>\n",
       "      <td>-0.029980</td>\n",
       "      <td>0.004148</td>\n",
       "      <td>-0.337202</td>\n",
       "      <td>0.378965</td>\n",
       "      <td>0.886079</td>\n",
       "      <td>1.000000</td>\n",
       "      <td>-0.327871</td>\n",
       "      <td>0.377003</td>\n",
       "      <td>-0.067883</td>\n",
       "      <td>...</td>\n",
       "      <td>-0.000250</td>\n",
       "      <td>0.001369</td>\n",
       "      <td>0.003814</td>\n",
       "      <td>0.004426</td>\n",
       "      <td>0.004426</td>\n",
       "      <td>0.004426</td>\n",
       "      <td>0.004426</td>\n",
       "      <td>-0.921389</td>\n",
       "      <td>-0.921389</td>\n",
       "      <td>-0.921389</td>\n",
       "    </tr>\n",
       "    <tr>\n",
       "      <th>source_latitude_category</th>\n",
       "      <td>0.006074</td>\n",
       "      <td>0.024078</td>\n",
       "      <td>-0.012149</td>\n",
       "      <td>0.978504</td>\n",
       "      <td>-0.852526</td>\n",
       "      <td>0.085875</td>\n",
       "      <td>-0.327871</td>\n",
       "      <td>1.000000</td>\n",
       "      <td>-0.845908</td>\n",
       "      <td>0.553371</td>\n",
       "      <td>...</td>\n",
       "      <td>0.003159</td>\n",
       "      <td>0.001458</td>\n",
       "      <td>-0.001276</td>\n",
       "      <td>-0.010207</td>\n",
       "      <td>-0.010207</td>\n",
       "      <td>-0.010207</td>\n",
       "      <td>-0.010207</td>\n",
       "      <td>0.000213</td>\n",
       "      <td>0.000213</td>\n",
       "      <td>0.000213</td>\n",
       "    </tr>\n",
       "    <tr>\n",
       "      <th>source_longitute_category</th>\n",
       "      <td>-0.004479</td>\n",
       "      <td>-0.026893</td>\n",
       "      <td>0.015930</td>\n",
       "      <td>-0.870378</td>\n",
       "      <td>0.995586</td>\n",
       "      <td>-0.082312</td>\n",
       "      <td>0.377003</td>\n",
       "      <td>-0.845908</td>\n",
       "      <td>1.000000</td>\n",
       "      <td>-0.302196</td>\n",
       "      <td>...</td>\n",
       "      <td>-0.000793</td>\n",
       "      <td>0.001017</td>\n",
       "      <td>0.003456</td>\n",
       "      <td>0.015027</td>\n",
       "      <td>0.015027</td>\n",
       "      <td>0.015027</td>\n",
       "      <td>0.015027</td>\n",
       "      <td>0.001489</td>\n",
       "      <td>0.001489</td>\n",
       "      <td>0.001489</td>\n",
       "    </tr>\n",
       "    <tr>\n",
       "      <th>destination_latitute_category</th>\n",
       "      <td>0.003828</td>\n",
       "      <td>0.030509</td>\n",
       "      <td>-0.021261</td>\n",
       "      <td>0.557225</td>\n",
       "      <td>-0.311039</td>\n",
       "      <td>0.123975</td>\n",
       "      <td>-0.067883</td>\n",
       "      <td>0.553371</td>\n",
       "      <td>-0.302196</td>\n",
       "      <td>1.000000</td>\n",
       "      <td>...</td>\n",
       "      <td>0.000723</td>\n",
       "      <td>0.001943</td>\n",
       "      <td>0.001270</td>\n",
       "      <td>-0.016726</td>\n",
       "      <td>-0.016726</td>\n",
       "      <td>-0.016726</td>\n",
       "      <td>-0.016726</td>\n",
       "      <td>-0.063277</td>\n",
       "      <td>-0.063277</td>\n",
       "      <td>-0.063277</td>\n",
       "    </tr>\n",
       "    <tr>\n",
       "      <th>destination_longitute_category</th>\n",
       "      <td>-0.005687</td>\n",
       "      <td>-0.100110</td>\n",
       "      <td>0.035344</td>\n",
       "      <td>-0.411642</td>\n",
       "      <td>0.466057</td>\n",
       "      <td>0.018181</td>\n",
       "      <td>0.254472</td>\n",
       "      <td>-0.410107</td>\n",
       "      <td>0.457998</td>\n",
       "      <td>-0.500098</td>\n",
       "      <td>...</td>\n",
       "      <td>0.007951</td>\n",
       "      <td>0.004479</td>\n",
       "      <td>0.009220</td>\n",
       "      <td>0.032548</td>\n",
       "      <td>0.032548</td>\n",
       "      <td>0.032548</td>\n",
       "      <td>0.032548</td>\n",
       "      <td>-0.057870</td>\n",
       "      <td>-0.057870</td>\n",
       "      <td>-0.057870</td>\n",
       "    </tr>\n",
       "    <tr>\n",
       "      <th>source_location_cluster</th>\n",
       "      <td>0.003823</td>\n",
       "      <td>0.016639</td>\n",
       "      <td>0.009261</td>\n",
       "      <td>0.139097</td>\n",
       "      <td>-0.066102</td>\n",
       "      <td>0.009574</td>\n",
       "      <td>-0.032911</td>\n",
       "      <td>0.103820</td>\n",
       "      <td>-0.053320</td>\n",
       "      <td>0.122370</td>\n",
       "      <td>...</td>\n",
       "      <td>-0.001604</td>\n",
       "      <td>0.005872</td>\n",
       "      <td>0.005355</td>\n",
       "      <td>0.011601</td>\n",
       "      <td>0.011601</td>\n",
       "      <td>0.011601</td>\n",
       "      <td>0.011601</td>\n",
       "      <td>0.004070</td>\n",
       "      <td>0.004070</td>\n",
       "      <td>0.004070</td>\n",
       "    </tr>\n",
       "    <tr>\n",
       "      <th>destination_location_cluster</th>\n",
       "      <td>-0.000054</td>\n",
       "      <td>0.010457</td>\n",
       "      <td>-0.001105</td>\n",
       "      <td>-0.174982</td>\n",
       "      <td>-0.040300</td>\n",
       "      <td>-0.058886</td>\n",
       "      <td>-0.057219</td>\n",
       "      <td>-0.171396</td>\n",
       "      <td>-0.042651</td>\n",
       "      <td>-0.473033</td>\n",
       "      <td>...</td>\n",
       "      <td>0.000632</td>\n",
       "      <td>0.000532</td>\n",
       "      <td>0.001379</td>\n",
       "      <td>-0.006998</td>\n",
       "      <td>-0.006998</td>\n",
       "      <td>-0.006998</td>\n",
       "      <td>-0.006998</td>\n",
       "      <td>0.039337</td>\n",
       "      <td>0.039337</td>\n",
       "      <td>0.039337</td>\n",
       "    </tr>\n",
       "    <tr>\n",
       "      <th>distance</th>\n",
       "      <td>0.000010</td>\n",
       "      <td>0.042395</td>\n",
       "      <td>-0.000285</td>\n",
       "      <td>0.000386</td>\n",
       "      <td>0.001095</td>\n",
       "      <td>-0.994876</td>\n",
       "      <td>-0.921389</td>\n",
       "      <td>0.000213</td>\n",
       "      <td>0.001489</td>\n",
       "      <td>-0.063277</td>\n",
       "      <td>...</td>\n",
       "      <td>0.000305</td>\n",
       "      <td>-0.001344</td>\n",
       "      <td>-0.002522</td>\n",
       "      <td>-0.000836</td>\n",
       "      <td>-0.000836</td>\n",
       "      <td>-0.000836</td>\n",
       "      <td>-0.000836</td>\n",
       "      <td>1.000000</td>\n",
       "      <td>1.000000</td>\n",
       "      <td>1.000000</td>\n",
       "    </tr>\n",
       "    <tr>\n",
       "      <th>Friday</th>\n",
       "      <td>-0.017924</td>\n",
       "      <td>0.025402</td>\n",
       "      <td>0.018206</td>\n",
       "      <td>-0.004376</td>\n",
       "      <td>0.008238</td>\n",
       "      <td>-0.002414</td>\n",
       "      <td>0.001420</td>\n",
       "      <td>-0.004119</td>\n",
       "      <td>0.008054</td>\n",
       "      <td>-0.002222</td>\n",
       "      <td>...</td>\n",
       "      <td>-0.166554</td>\n",
       "      <td>-0.177123</td>\n",
       "      <td>-0.183335</td>\n",
       "      <td>0.015895</td>\n",
       "      <td>0.015895</td>\n",
       "      <td>0.015895</td>\n",
       "      <td>0.015895</td>\n",
       "      <td>0.001817</td>\n",
       "      <td>0.001817</td>\n",
       "      <td>0.001817</td>\n",
       "    </tr>\n",
       "    <tr>\n",
       "      <th>Monday</th>\n",
       "      <td>-0.051517</td>\n",
       "      <td>-0.018819</td>\n",
       "      <td>-0.053345</td>\n",
       "      <td>0.000492</td>\n",
       "      <td>-0.002301</td>\n",
       "      <td>0.001461</td>\n",
       "      <td>0.000698</td>\n",
       "      <td>-0.000932</td>\n",
       "      <td>-0.002081</td>\n",
       "      <td>-0.001302</td>\n",
       "      <td>...</td>\n",
       "      <td>-0.174483</td>\n",
       "      <td>-0.185555</td>\n",
       "      <td>-0.192063</td>\n",
       "      <td>-0.049398</td>\n",
       "      <td>-0.049398</td>\n",
       "      <td>-0.049398</td>\n",
       "      <td>-0.049398</td>\n",
       "      <td>-0.001338</td>\n",
       "      <td>-0.001338</td>\n",
       "      <td>-0.001338</td>\n",
       "    </tr>\n",
       "    <tr>\n",
       "      <th>Saturday</th>\n",
       "      <td>0.028564</td>\n",
       "      <td>0.015685</td>\n",
       "      <td>0.046655</td>\n",
       "      <td>-0.003541</td>\n",
       "      <td>-0.000694</td>\n",
       "      <td>-0.005561</td>\n",
       "      <td>-0.006033</td>\n",
       "      <td>-0.002215</td>\n",
       "      <td>-0.001747</td>\n",
       "      <td>-0.006276</td>\n",
       "      <td>...</td>\n",
       "      <td>-0.158636</td>\n",
       "      <td>-0.168702</td>\n",
       "      <td>-0.174619</td>\n",
       "      <td>0.051640</td>\n",
       "      <td>0.051640</td>\n",
       "      <td>0.051640</td>\n",
       "      <td>0.051640</td>\n",
       "      <td>0.005064</td>\n",
       "      <td>0.005064</td>\n",
       "      <td>0.005064</td>\n",
       "    </tr>\n",
       "    <tr>\n",
       "      <th>Sunday</th>\n",
       "      <td>0.058186</td>\n",
       "      <td>-0.041890</td>\n",
       "      <td>0.004685</td>\n",
       "      <td>0.003574</td>\n",
       "      <td>-0.008248</td>\n",
       "      <td>0.001986</td>\n",
       "      <td>-0.001749</td>\n",
       "      <td>0.004573</td>\n",
       "      <td>-0.009433</td>\n",
       "      <td>0.006458</td>\n",
       "      <td>...</td>\n",
       "      <td>-0.136836</td>\n",
       "      <td>-0.145519</td>\n",
       "      <td>-0.150623</td>\n",
       "      <td>0.012193</td>\n",
       "      <td>0.012193</td>\n",
       "      <td>0.012193</td>\n",
       "      <td>0.012193</td>\n",
       "      <td>-0.001828</td>\n",
       "      <td>-0.001828</td>\n",
       "      <td>-0.001828</td>\n",
       "    </tr>\n",
       "    <tr>\n",
       "      <th>Thursday</th>\n",
       "      <td>-0.061285</td>\n",
       "      <td>0.013739</td>\n",
       "      <td>-0.004023</td>\n",
       "      <td>0.002702</td>\n",
       "      <td>-0.001364</td>\n",
       "      <td>0.000034</td>\n",
       "      <td>-0.000250</td>\n",
       "      <td>0.003159</td>\n",
       "      <td>-0.000793</td>\n",
       "      <td>0.000723</td>\n",
       "      <td>...</td>\n",
       "      <td>1.000000</td>\n",
       "      <td>-0.174102</td>\n",
       "      <td>-0.180207</td>\n",
       "      <td>-0.008322</td>\n",
       "      <td>-0.008322</td>\n",
       "      <td>-0.008322</td>\n",
       "      <td>-0.008322</td>\n",
       "      <td>0.000305</td>\n",
       "      <td>0.000305</td>\n",
       "      <td>0.000305</td>\n",
       "    </tr>\n",
       "    <tr>\n",
       "      <th>Tuesday</th>\n",
       "      <td>0.006489</td>\n",
       "      <td>-0.001526</td>\n",
       "      <td>-0.007326</td>\n",
       "      <td>0.002255</td>\n",
       "      <td>0.000282</td>\n",
       "      <td>0.001642</td>\n",
       "      <td>0.001369</td>\n",
       "      <td>0.001458</td>\n",
       "      <td>0.001017</td>\n",
       "      <td>0.001943</td>\n",
       "      <td>...</td>\n",
       "      <td>-0.174102</td>\n",
       "      <td>1.000000</td>\n",
       "      <td>-0.191642</td>\n",
       "      <td>-0.011909</td>\n",
       "      <td>-0.011909</td>\n",
       "      <td>-0.011909</td>\n",
       "      <td>-0.011909</td>\n",
       "      <td>-0.001344</td>\n",
       "      <td>-0.001344</td>\n",
       "      <td>-0.001344</td>\n",
       "    </tr>\n",
       "    <tr>\n",
       "      <th>Wednesday</th>\n",
       "      <td>0.044742</td>\n",
       "      <td>0.002855</td>\n",
       "      <td>-0.000617</td>\n",
       "      <td>-0.000748</td>\n",
       "      <td>0.002820</td>\n",
       "      <td>0.002685</td>\n",
       "      <td>0.003814</td>\n",
       "      <td>-0.001276</td>\n",
       "      <td>0.003456</td>\n",
       "      <td>0.001270</td>\n",
       "      <td>...</td>\n",
       "      <td>-0.180207</td>\n",
       "      <td>-0.191642</td>\n",
       "      <td>1.000000</td>\n",
       "      <td>-0.004479</td>\n",
       "      <td>-0.004479</td>\n",
       "      <td>-0.004479</td>\n",
       "      <td>-0.004479</td>\n",
       "      <td>-0.002522</td>\n",
       "      <td>-0.002522</td>\n",
       "      <td>-0.002522</td>\n",
       "    </tr>\n",
       "    <tr>\n",
       "      <th>travel_hour_category</th>\n",
       "      <td>0.069406</td>\n",
       "      <td>0.049717</td>\n",
       "      <td>0.990372</td>\n",
       "      <td>-0.008539</td>\n",
       "      <td>0.015337</td>\n",
       "      <td>-0.002391</td>\n",
       "      <td>0.004426</td>\n",
       "      <td>-0.010207</td>\n",
       "      <td>0.015027</td>\n",
       "      <td>-0.016726</td>\n",
       "      <td>...</td>\n",
       "      <td>-0.008322</td>\n",
       "      <td>-0.011909</td>\n",
       "      <td>-0.004479</td>\n",
       "      <td>1.000000</td>\n",
       "      <td>1.000000</td>\n",
       "      <td>1.000000</td>\n",
       "      <td>1.000000</td>\n",
       "      <td>-0.000836</td>\n",
       "      <td>-0.000836</td>\n",
       "      <td>-0.000836</td>\n",
       "    </tr>\n",
       "    <tr>\n",
       "      <th>additional1_travel_hour_category</th>\n",
       "      <td>0.069406</td>\n",
       "      <td>0.049717</td>\n",
       "      <td>0.990372</td>\n",
       "      <td>-0.008539</td>\n",
       "      <td>0.015337</td>\n",
       "      <td>-0.002391</td>\n",
       "      <td>0.004426</td>\n",
       "      <td>-0.010207</td>\n",
       "      <td>0.015027</td>\n",
       "      <td>-0.016726</td>\n",
       "      <td>...</td>\n",
       "      <td>-0.008322</td>\n",
       "      <td>-0.011909</td>\n",
       "      <td>-0.004479</td>\n",
       "      <td>1.000000</td>\n",
       "      <td>1.000000</td>\n",
       "      <td>1.000000</td>\n",
       "      <td>1.000000</td>\n",
       "      <td>-0.000836</td>\n",
       "      <td>-0.000836</td>\n",
       "      <td>-0.000836</td>\n",
       "    </tr>\n",
       "    <tr>\n",
       "      <th>additional2_travel_hour_category</th>\n",
       "      <td>0.069406</td>\n",
       "      <td>0.049717</td>\n",
       "      <td>0.990372</td>\n",
       "      <td>-0.008539</td>\n",
       "      <td>0.015337</td>\n",
       "      <td>-0.002391</td>\n",
       "      <td>0.004426</td>\n",
       "      <td>-0.010207</td>\n",
       "      <td>0.015027</td>\n",
       "      <td>-0.016726</td>\n",
       "      <td>...</td>\n",
       "      <td>-0.008322</td>\n",
       "      <td>-0.011909</td>\n",
       "      <td>-0.004479</td>\n",
       "      <td>1.000000</td>\n",
       "      <td>1.000000</td>\n",
       "      <td>1.000000</td>\n",
       "      <td>1.000000</td>\n",
       "      <td>-0.000836</td>\n",
       "      <td>-0.000836</td>\n",
       "      <td>-0.000836</td>\n",
       "    </tr>\n",
       "    <tr>\n",
       "      <th>additional3_travel_hour_category</th>\n",
       "      <td>0.069406</td>\n",
       "      <td>0.049717</td>\n",
       "      <td>0.990372</td>\n",
       "      <td>-0.008539</td>\n",
       "      <td>0.015337</td>\n",
       "      <td>-0.002391</td>\n",
       "      <td>0.004426</td>\n",
       "      <td>-0.010207</td>\n",
       "      <td>0.015027</td>\n",
       "      <td>-0.016726</td>\n",
       "      <td>...</td>\n",
       "      <td>-0.008322</td>\n",
       "      <td>-0.011909</td>\n",
       "      <td>-0.004479</td>\n",
       "      <td>1.000000</td>\n",
       "      <td>1.000000</td>\n",
       "      <td>1.000000</td>\n",
       "      <td>1.000000</td>\n",
       "      <td>-0.000836</td>\n",
       "      <td>-0.000836</td>\n",
       "      <td>-0.000836</td>\n",
       "    </tr>\n",
       "    <tr>\n",
       "      <th>additional1_distance</th>\n",
       "      <td>0.000010</td>\n",
       "      <td>0.042395</td>\n",
       "      <td>-0.000285</td>\n",
       "      <td>0.000386</td>\n",
       "      <td>0.001095</td>\n",
       "      <td>-0.994876</td>\n",
       "      <td>-0.921389</td>\n",
       "      <td>0.000213</td>\n",
       "      <td>0.001489</td>\n",
       "      <td>-0.063277</td>\n",
       "      <td>...</td>\n",
       "      <td>0.000305</td>\n",
       "      <td>-0.001344</td>\n",
       "      <td>-0.002522</td>\n",
       "      <td>-0.000836</td>\n",
       "      <td>-0.000836</td>\n",
       "      <td>-0.000836</td>\n",
       "      <td>-0.000836</td>\n",
       "      <td>1.000000</td>\n",
       "      <td>1.000000</td>\n",
       "      <td>1.000000</td>\n",
       "    </tr>\n",
       "    <tr>\n",
       "      <th>additional2_distance</th>\n",
       "      <td>0.000010</td>\n",
       "      <td>0.042395</td>\n",
       "      <td>-0.000285</td>\n",
       "      <td>0.000386</td>\n",
       "      <td>0.001095</td>\n",
       "      <td>-0.994876</td>\n",
       "      <td>-0.921389</td>\n",
       "      <td>0.000213</td>\n",
       "      <td>0.001489</td>\n",
       "      <td>-0.063277</td>\n",
       "      <td>...</td>\n",
       "      <td>0.000305</td>\n",
       "      <td>-0.001344</td>\n",
       "      <td>-0.002522</td>\n",
       "      <td>-0.000836</td>\n",
       "      <td>-0.000836</td>\n",
       "      <td>-0.000836</td>\n",
       "      <td>-0.000836</td>\n",
       "      <td>1.000000</td>\n",
       "      <td>1.000000</td>\n",
       "      <td>1.000000</td>\n",
       "    </tr>\n",
       "    <tr>\n",
       "      <th>additional3_distance</th>\n",
       "      <td>0.000010</td>\n",
       "      <td>0.042395</td>\n",
       "      <td>-0.000285</td>\n",
       "      <td>0.000386</td>\n",
       "      <td>0.001095</td>\n",
       "      <td>-0.994876</td>\n",
       "      <td>-0.921389</td>\n",
       "      <td>0.000213</td>\n",
       "      <td>0.001489</td>\n",
       "      <td>-0.063277</td>\n",
       "      <td>...</td>\n",
       "      <td>0.000305</td>\n",
       "      <td>-0.001344</td>\n",
       "      <td>-0.002522</td>\n",
       "      <td>-0.000836</td>\n",
       "      <td>-0.000836</td>\n",
       "      <td>-0.000836</td>\n",
       "      <td>-0.000836</td>\n",
       "      <td>1.000000</td>\n",
       "      <td>1.000000</td>\n",
       "      <td>1.000000</td>\n",
       "    </tr>\n",
       "  </tbody>\n",
       "</table>\n",
       "<p>28 rows × 28 columns</p>\n",
       "</div>"
      ],
      "text/plain": [
       "                                  travel_id  travel_time  travel_hour  \\\n",
       "travel_id                          1.000000    -0.015877     0.073609   \n",
       "travel_time                       -0.015877     1.000000     0.054904   \n",
       "travel_hour                        0.073609     0.054904     1.000000   \n",
       "source_latitute                    0.005211     0.029756    -0.010691   \n",
       "source_longitute                  -0.004560    -0.026259     0.016195   \n",
       "destination_latitute              -0.000068    -0.016109    -0.003114   \n",
       "destination_longitute             -0.001993    -0.029980     0.004148   \n",
       "source_latitude_category           0.006074     0.024078    -0.012149   \n",
       "source_longitute_category         -0.004479    -0.026893     0.015930   \n",
       "destination_latitute_category      0.003828     0.030509    -0.021261   \n",
       "destination_longitute_category    -0.005687    -0.100110     0.035344   \n",
       "source_location_cluster            0.003823     0.016639     0.009261   \n",
       "destination_location_cluster      -0.000054     0.010457    -0.001105   \n",
       "distance                           0.000010     0.042395    -0.000285   \n",
       "Friday                            -0.017924     0.025402     0.018206   \n",
       "Monday                            -0.051517    -0.018819    -0.053345   \n",
       "Saturday                           0.028564     0.015685     0.046655   \n",
       "Sunday                             0.058186    -0.041890     0.004685   \n",
       "Thursday                          -0.061285     0.013739    -0.004023   \n",
       "Tuesday                            0.006489    -0.001526    -0.007326   \n",
       "Wednesday                          0.044742     0.002855    -0.000617   \n",
       "travel_hour_category               0.069406     0.049717     0.990372   \n",
       "additional1_travel_hour_category   0.069406     0.049717     0.990372   \n",
       "additional2_travel_hour_category   0.069406     0.049717     0.990372   \n",
       "additional3_travel_hour_category   0.069406     0.049717     0.990372   \n",
       "additional1_distance               0.000010     0.042395    -0.000285   \n",
       "additional2_distance               0.000010     0.042395    -0.000285   \n",
       "additional3_distance               0.000010     0.042395    -0.000285   \n",
       "\n",
       "                                  source_latitute  source_longitute  \\\n",
       "travel_id                                0.005211         -0.004560   \n",
       "travel_time                              0.029756         -0.026259   \n",
       "travel_hour                             -0.010691          0.016195   \n",
       "source_latitute                          1.000000         -0.876927   \n",
       "source_longitute                        -0.876927          1.000000   \n",
       "destination_latitute                     0.088030         -0.082521   \n",
       "destination_longitute                   -0.337202          0.378965   \n",
       "source_latitude_category                 0.978504         -0.852526   \n",
       "source_longitute_category               -0.870378          0.995586   \n",
       "destination_latitute_category            0.557225         -0.311039   \n",
       "destination_longitute_category          -0.411642          0.466057   \n",
       "source_location_cluster                  0.139097         -0.066102   \n",
       "destination_location_cluster            -0.174982         -0.040300   \n",
       "distance                                 0.000386          0.001095   \n",
       "Friday                                  -0.004376          0.008238   \n",
       "Monday                                   0.000492         -0.002301   \n",
       "Saturday                                -0.003541         -0.000694   \n",
       "Sunday                                   0.003574         -0.008248   \n",
       "Thursday                                 0.002702         -0.001364   \n",
       "Tuesday                                  0.002255          0.000282   \n",
       "Wednesday                               -0.000748          0.002820   \n",
       "travel_hour_category                    -0.008539          0.015337   \n",
       "additional1_travel_hour_category        -0.008539          0.015337   \n",
       "additional2_travel_hour_category        -0.008539          0.015337   \n",
       "additional3_travel_hour_category        -0.008539          0.015337   \n",
       "additional1_distance                     0.000386          0.001095   \n",
       "additional2_distance                     0.000386          0.001095   \n",
       "additional3_distance                     0.000386          0.001095   \n",
       "\n",
       "                                  destination_latitute  destination_longitute  \\\n",
       "travel_id                                    -0.000068              -0.001993   \n",
       "travel_time                                  -0.016109              -0.029980   \n",
       "travel_hour                                  -0.003114               0.004148   \n",
       "source_latitute                               0.088030              -0.337202   \n",
       "source_longitute                             -0.082521               0.378965   \n",
       "destination_latitute                          1.000000               0.886079   \n",
       "destination_longitute                         0.886079               1.000000   \n",
       "source_latitude_category                      0.085875              -0.327871   \n",
       "source_longitute_category                    -0.082312               0.377003   \n",
       "destination_latitute_category                 0.123975              -0.067883   \n",
       "destination_longitute_category                0.018181               0.254472   \n",
       "source_location_cluster                       0.009574              -0.032911   \n",
       "destination_location_cluster                 -0.058886              -0.057219   \n",
       "distance                                     -0.994876              -0.921389   \n",
       "Friday                                       -0.002414               0.001420   \n",
       "Monday                                        0.001461               0.000698   \n",
       "Saturday                                     -0.005561              -0.006033   \n",
       "Sunday                                        0.001986              -0.001749   \n",
       "Thursday                                      0.000034              -0.000250   \n",
       "Tuesday                                       0.001642               0.001369   \n",
       "Wednesday                                     0.002685               0.003814   \n",
       "travel_hour_category                         -0.002391               0.004426   \n",
       "additional1_travel_hour_category             -0.002391               0.004426   \n",
       "additional2_travel_hour_category             -0.002391               0.004426   \n",
       "additional3_travel_hour_category             -0.002391               0.004426   \n",
       "additional1_distance                         -0.994876              -0.921389   \n",
       "additional2_distance                         -0.994876              -0.921389   \n",
       "additional3_distance                         -0.994876              -0.921389   \n",
       "\n",
       "                                  source_latitude_category  \\\n",
       "travel_id                                         0.006074   \n",
       "travel_time                                       0.024078   \n",
       "travel_hour                                      -0.012149   \n",
       "source_latitute                                   0.978504   \n",
       "source_longitute                                 -0.852526   \n",
       "destination_latitute                              0.085875   \n",
       "destination_longitute                            -0.327871   \n",
       "source_latitude_category                          1.000000   \n",
       "source_longitute_category                        -0.845908   \n",
       "destination_latitute_category                     0.553371   \n",
       "destination_longitute_category                   -0.410107   \n",
       "source_location_cluster                           0.103820   \n",
       "destination_location_cluster                     -0.171396   \n",
       "distance                                          0.000213   \n",
       "Friday                                           -0.004119   \n",
       "Monday                                           -0.000932   \n",
       "Saturday                                         -0.002215   \n",
       "Sunday                                            0.004573   \n",
       "Thursday                                          0.003159   \n",
       "Tuesday                                           0.001458   \n",
       "Wednesday                                        -0.001276   \n",
       "travel_hour_category                             -0.010207   \n",
       "additional1_travel_hour_category                 -0.010207   \n",
       "additional2_travel_hour_category                 -0.010207   \n",
       "additional3_travel_hour_category                 -0.010207   \n",
       "additional1_distance                              0.000213   \n",
       "additional2_distance                              0.000213   \n",
       "additional3_distance                              0.000213   \n",
       "\n",
       "                                  source_longitute_category  \\\n",
       "travel_id                                         -0.004479   \n",
       "travel_time                                       -0.026893   \n",
       "travel_hour                                        0.015930   \n",
       "source_latitute                                   -0.870378   \n",
       "source_longitute                                   0.995586   \n",
       "destination_latitute                              -0.082312   \n",
       "destination_longitute                              0.377003   \n",
       "source_latitude_category                          -0.845908   \n",
       "source_longitute_category                          1.000000   \n",
       "destination_latitute_category                     -0.302196   \n",
       "destination_longitute_category                     0.457998   \n",
       "source_location_cluster                           -0.053320   \n",
       "destination_location_cluster                      -0.042651   \n",
       "distance                                           0.001489   \n",
       "Friday                                             0.008054   \n",
       "Monday                                            -0.002081   \n",
       "Saturday                                          -0.001747   \n",
       "Sunday                                            -0.009433   \n",
       "Thursday                                          -0.000793   \n",
       "Tuesday                                            0.001017   \n",
       "Wednesday                                          0.003456   \n",
       "travel_hour_category                               0.015027   \n",
       "additional1_travel_hour_category                   0.015027   \n",
       "additional2_travel_hour_category                   0.015027   \n",
       "additional3_travel_hour_category                   0.015027   \n",
       "additional1_distance                               0.001489   \n",
       "additional2_distance                               0.001489   \n",
       "additional3_distance                               0.001489   \n",
       "\n",
       "                                  destination_latitute_category  ...  \\\n",
       "travel_id                                              0.003828  ...   \n",
       "travel_time                                            0.030509  ...   \n",
       "travel_hour                                           -0.021261  ...   \n",
       "source_latitute                                        0.557225  ...   \n",
       "source_longitute                                      -0.311039  ...   \n",
       "destination_latitute                                   0.123975  ...   \n",
       "destination_longitute                                 -0.067883  ...   \n",
       "source_latitude_category                               0.553371  ...   \n",
       "source_longitute_category                             -0.302196  ...   \n",
       "destination_latitute_category                          1.000000  ...   \n",
       "destination_longitute_category                        -0.500098  ...   \n",
       "source_location_cluster                                0.122370  ...   \n",
       "destination_location_cluster                          -0.473033  ...   \n",
       "distance                                              -0.063277  ...   \n",
       "Friday                                                -0.002222  ...   \n",
       "Monday                                                -0.001302  ...   \n",
       "Saturday                                              -0.006276  ...   \n",
       "Sunday                                                 0.006458  ...   \n",
       "Thursday                                               0.000723  ...   \n",
       "Tuesday                                                0.001943  ...   \n",
       "Wednesday                                              0.001270  ...   \n",
       "travel_hour_category                                  -0.016726  ...   \n",
       "additional1_travel_hour_category                      -0.016726  ...   \n",
       "additional2_travel_hour_category                      -0.016726  ...   \n",
       "additional3_travel_hour_category                      -0.016726  ...   \n",
       "additional1_distance                                  -0.063277  ...   \n",
       "additional2_distance                                  -0.063277  ...   \n",
       "additional3_distance                                  -0.063277  ...   \n",
       "\n",
       "                                  Thursday   Tuesday  Wednesday  \\\n",
       "travel_id                        -0.061285  0.006489   0.044742   \n",
       "travel_time                       0.013739 -0.001526   0.002855   \n",
       "travel_hour                      -0.004023 -0.007326  -0.000617   \n",
       "source_latitute                   0.002702  0.002255  -0.000748   \n",
       "source_longitute                 -0.001364  0.000282   0.002820   \n",
       "destination_latitute              0.000034  0.001642   0.002685   \n",
       "destination_longitute            -0.000250  0.001369   0.003814   \n",
       "source_latitude_category          0.003159  0.001458  -0.001276   \n",
       "source_longitute_category        -0.000793  0.001017   0.003456   \n",
       "destination_latitute_category     0.000723  0.001943   0.001270   \n",
       "destination_longitute_category    0.007951  0.004479   0.009220   \n",
       "source_location_cluster          -0.001604  0.005872   0.005355   \n",
       "destination_location_cluster      0.000632  0.000532   0.001379   \n",
       "distance                          0.000305 -0.001344  -0.002522   \n",
       "Friday                           -0.166554 -0.177123  -0.183335   \n",
       "Monday                           -0.174483 -0.185555  -0.192063   \n",
       "Saturday                         -0.158636 -0.168702  -0.174619   \n",
       "Sunday                           -0.136836 -0.145519  -0.150623   \n",
       "Thursday                          1.000000 -0.174102  -0.180207   \n",
       "Tuesday                          -0.174102  1.000000  -0.191642   \n",
       "Wednesday                        -0.180207 -0.191642   1.000000   \n",
       "travel_hour_category             -0.008322 -0.011909  -0.004479   \n",
       "additional1_travel_hour_category -0.008322 -0.011909  -0.004479   \n",
       "additional2_travel_hour_category -0.008322 -0.011909  -0.004479   \n",
       "additional3_travel_hour_category -0.008322 -0.011909  -0.004479   \n",
       "additional1_distance              0.000305 -0.001344  -0.002522   \n",
       "additional2_distance              0.000305 -0.001344  -0.002522   \n",
       "additional3_distance              0.000305 -0.001344  -0.002522   \n",
       "\n",
       "                                  travel_hour_category  \\\n",
       "travel_id                                     0.069406   \n",
       "travel_time                                   0.049717   \n",
       "travel_hour                                   0.990372   \n",
       "source_latitute                              -0.008539   \n",
       "source_longitute                              0.015337   \n",
       "destination_latitute                         -0.002391   \n",
       "destination_longitute                         0.004426   \n",
       "source_latitude_category                     -0.010207   \n",
       "source_longitute_category                     0.015027   \n",
       "destination_latitute_category                -0.016726   \n",
       "destination_longitute_category                0.032548   \n",
       "source_location_cluster                       0.011601   \n",
       "destination_location_cluster                 -0.006998   \n",
       "distance                                     -0.000836   \n",
       "Friday                                        0.015895   \n",
       "Monday                                       -0.049398   \n",
       "Saturday                                      0.051640   \n",
       "Sunday                                        0.012193   \n",
       "Thursday                                     -0.008322   \n",
       "Tuesday                                      -0.011909   \n",
       "Wednesday                                    -0.004479   \n",
       "travel_hour_category                          1.000000   \n",
       "additional1_travel_hour_category              1.000000   \n",
       "additional2_travel_hour_category              1.000000   \n",
       "additional3_travel_hour_category              1.000000   \n",
       "additional1_distance                         -0.000836   \n",
       "additional2_distance                         -0.000836   \n",
       "additional3_distance                         -0.000836   \n",
       "\n",
       "                                  additional1_travel_hour_category  \\\n",
       "travel_id                                                 0.069406   \n",
       "travel_time                                               0.049717   \n",
       "travel_hour                                               0.990372   \n",
       "source_latitute                                          -0.008539   \n",
       "source_longitute                                          0.015337   \n",
       "destination_latitute                                     -0.002391   \n",
       "destination_longitute                                     0.004426   \n",
       "source_latitude_category                                 -0.010207   \n",
       "source_longitute_category                                 0.015027   \n",
       "destination_latitute_category                            -0.016726   \n",
       "destination_longitute_category                            0.032548   \n",
       "source_location_cluster                                   0.011601   \n",
       "destination_location_cluster                             -0.006998   \n",
       "distance                                                 -0.000836   \n",
       "Friday                                                    0.015895   \n",
       "Monday                                                   -0.049398   \n",
       "Saturday                                                  0.051640   \n",
       "Sunday                                                    0.012193   \n",
       "Thursday                                                 -0.008322   \n",
       "Tuesday                                                  -0.011909   \n",
       "Wednesday                                                -0.004479   \n",
       "travel_hour_category                                      1.000000   \n",
       "additional1_travel_hour_category                          1.000000   \n",
       "additional2_travel_hour_category                          1.000000   \n",
       "additional3_travel_hour_category                          1.000000   \n",
       "additional1_distance                                     -0.000836   \n",
       "additional2_distance                                     -0.000836   \n",
       "additional3_distance                                     -0.000836   \n",
       "\n",
       "                                  additional2_travel_hour_category  \\\n",
       "travel_id                                                 0.069406   \n",
       "travel_time                                               0.049717   \n",
       "travel_hour                                               0.990372   \n",
       "source_latitute                                          -0.008539   \n",
       "source_longitute                                          0.015337   \n",
       "destination_latitute                                     -0.002391   \n",
       "destination_longitute                                     0.004426   \n",
       "source_latitude_category                                 -0.010207   \n",
       "source_longitute_category                                 0.015027   \n",
       "destination_latitute_category                            -0.016726   \n",
       "destination_longitute_category                            0.032548   \n",
       "source_location_cluster                                   0.011601   \n",
       "destination_location_cluster                             -0.006998   \n",
       "distance                                                 -0.000836   \n",
       "Friday                                                    0.015895   \n",
       "Monday                                                   -0.049398   \n",
       "Saturday                                                  0.051640   \n",
       "Sunday                                                    0.012193   \n",
       "Thursday                                                 -0.008322   \n",
       "Tuesday                                                  -0.011909   \n",
       "Wednesday                                                -0.004479   \n",
       "travel_hour_category                                      1.000000   \n",
       "additional1_travel_hour_category                          1.000000   \n",
       "additional2_travel_hour_category                          1.000000   \n",
       "additional3_travel_hour_category                          1.000000   \n",
       "additional1_distance                                     -0.000836   \n",
       "additional2_distance                                     -0.000836   \n",
       "additional3_distance                                     -0.000836   \n",
       "\n",
       "                                  additional3_travel_hour_category  \\\n",
       "travel_id                                                 0.069406   \n",
       "travel_time                                               0.049717   \n",
       "travel_hour                                               0.990372   \n",
       "source_latitute                                          -0.008539   \n",
       "source_longitute                                          0.015337   \n",
       "destination_latitute                                     -0.002391   \n",
       "destination_longitute                                     0.004426   \n",
       "source_latitude_category                                 -0.010207   \n",
       "source_longitute_category                                 0.015027   \n",
       "destination_latitute_category                            -0.016726   \n",
       "destination_longitute_category                            0.032548   \n",
       "source_location_cluster                                   0.011601   \n",
       "destination_location_cluster                             -0.006998   \n",
       "distance                                                 -0.000836   \n",
       "Friday                                                    0.015895   \n",
       "Monday                                                   -0.049398   \n",
       "Saturday                                                  0.051640   \n",
       "Sunday                                                    0.012193   \n",
       "Thursday                                                 -0.008322   \n",
       "Tuesday                                                  -0.011909   \n",
       "Wednesday                                                -0.004479   \n",
       "travel_hour_category                                      1.000000   \n",
       "additional1_travel_hour_category                          1.000000   \n",
       "additional2_travel_hour_category                          1.000000   \n",
       "additional3_travel_hour_category                          1.000000   \n",
       "additional1_distance                                     -0.000836   \n",
       "additional2_distance                                     -0.000836   \n",
       "additional3_distance                                     -0.000836   \n",
       "\n",
       "                                  additional1_distance  additional2_distance  \\\n",
       "travel_id                                     0.000010              0.000010   \n",
       "travel_time                                   0.042395              0.042395   \n",
       "travel_hour                                  -0.000285             -0.000285   \n",
       "source_latitute                               0.000386              0.000386   \n",
       "source_longitute                              0.001095              0.001095   \n",
       "destination_latitute                         -0.994876             -0.994876   \n",
       "destination_longitute                        -0.921389             -0.921389   \n",
       "source_latitude_category                      0.000213              0.000213   \n",
       "source_longitute_category                     0.001489              0.001489   \n",
       "destination_latitute_category                -0.063277             -0.063277   \n",
       "destination_longitute_category               -0.057870             -0.057870   \n",
       "source_location_cluster                       0.004070              0.004070   \n",
       "destination_location_cluster                  0.039337              0.039337   \n",
       "distance                                      1.000000              1.000000   \n",
       "Friday                                        0.001817              0.001817   \n",
       "Monday                                       -0.001338             -0.001338   \n",
       "Saturday                                      0.005064              0.005064   \n",
       "Sunday                                       -0.001828             -0.001828   \n",
       "Thursday                                      0.000305              0.000305   \n",
       "Tuesday                                      -0.001344             -0.001344   \n",
       "Wednesday                                    -0.002522             -0.002522   \n",
       "travel_hour_category                         -0.000836             -0.000836   \n",
       "additional1_travel_hour_category             -0.000836             -0.000836   \n",
       "additional2_travel_hour_category             -0.000836             -0.000836   \n",
       "additional3_travel_hour_category             -0.000836             -0.000836   \n",
       "additional1_distance                          1.000000              1.000000   \n",
       "additional2_distance                          1.000000              1.000000   \n",
       "additional3_distance                          1.000000              1.000000   \n",
       "\n",
       "                                  additional3_distance  \n",
       "travel_id                                     0.000010  \n",
       "travel_time                                   0.042395  \n",
       "travel_hour                                  -0.000285  \n",
       "source_latitute                               0.000386  \n",
       "source_longitute                              0.001095  \n",
       "destination_latitute                         -0.994876  \n",
       "destination_longitute                        -0.921389  \n",
       "source_latitude_category                      0.000213  \n",
       "source_longitute_category                     0.001489  \n",
       "destination_latitute_category                -0.063277  \n",
       "destination_longitute_category               -0.057870  \n",
       "source_location_cluster                       0.004070  \n",
       "destination_location_cluster                  0.039337  \n",
       "distance                                      1.000000  \n",
       "Friday                                        0.001817  \n",
       "Monday                                       -0.001338  \n",
       "Saturday                                      0.005064  \n",
       "Sunday                                       -0.001828  \n",
       "Thursday                                      0.000305  \n",
       "Tuesday                                      -0.001344  \n",
       "Wednesday                                    -0.002522  \n",
       "travel_hour_category                         -0.000836  \n",
       "additional1_travel_hour_category             -0.000836  \n",
       "additional2_travel_hour_category             -0.000836  \n",
       "additional3_travel_hour_category             -0.000836  \n",
       "additional1_distance                          1.000000  \n",
       "additional2_distance                          1.000000  \n",
       "additional3_distance                          1.000000  \n",
       "\n",
       "[28 rows x 28 columns]"
      ]
     },
     "execution_count": 99,
     "metadata": {},
     "output_type": "execute_result"
    }
   ],
   "source": [
    "#Calculate correlations\n",
    "corr = train_df2.corr()\n",
    "corr"
   ]
  },
  {
   "cell_type": "code",
   "execution_count": 100,
   "metadata": {
    "colab": {},
    "colab_type": "code",
    "id": "2HIwsUnlLY8R"
   },
   "outputs": [],
   "source": [
    "cr = corr.copy()"
   ]
  },
  {
   "cell_type": "code",
   "execution_count": 101,
   "metadata": {
    "colab": {},
    "colab_type": "code",
    "id": "wdUqjBIXLY3P"
   },
   "outputs": [],
   "source": [
    "top_corr_columns = []"
   ]
  },
  {
   "cell_type": "code",
   "execution_count": 102,
   "metadata": {
    "colab": {
     "base_uri": "https://localhost:8080/",
     "height": 34
    },
    "colab_type": "code",
    "executionInfo": {
     "elapsed": 650,
     "status": "ok",
     "timestamp": 1582795656002,
     "user": {
      "displayName": "Eser İnan Arslan",
      "photoUrl": "https://lh3.googleusercontent.com/a-/AAuE7mAEXYsAQ5ofuOAq2VqhAAEj2Kib3xBlNNc3K0sfIQ=s64",
      "userId": "01966049699378036829"
     },
     "user_tz": -180
    },
    "id": "tYpNHqvHNZVl",
    "outputId": "8cc261d2-d678-43e1-c3f4-74286ffa72d0"
   },
   "outputs": [
    {
     "data": {
      "text/plain": [
       "25"
      ]
     },
     "execution_count": 102,
     "metadata": {},
     "output_type": "execute_result"
    }
   ],
   "source": [
    "#Determine best correlate columns over 0.01\n",
    "top_corr_columns = cr.loc[:, 'travel_time'][:-1]\n",
    "best_accurate_columns = top_corr_columns[abs(top_corr_columns) > 0.01].sort_values(ascending=False)\n",
    "len(best_accurate_columns)"
   ]
  },
  {
   "cell_type": "code",
   "execution_count": 103,
   "metadata": {
    "colab": {
     "base_uri": "https://localhost:8080/",
     "height": 459
    },
    "colab_type": "code",
    "executionInfo": {
     "elapsed": 605,
     "status": "ok",
     "timestamp": 1582795657384,
     "user": {
      "displayName": "Eser İnan Arslan",
      "photoUrl": "https://lh3.googleusercontent.com/a-/AAuE7mAEXYsAQ5ofuOAq2VqhAAEj2Kib3xBlNNc3K0sfIQ=s64",
      "userId": "01966049699378036829"
     },
     "user_tz": -180
    },
    "id": "xZwQEf37Nf5P",
    "outputId": "916d3bde-728a-45f4-a956-435d89e116f4"
   },
   "outputs": [
    {
     "data": {
      "text/plain": [
       "travel_time                         1.000000\n",
       "travel_hour                         0.054904\n",
       "additional3_travel_hour_category    0.049717\n",
       "additional2_travel_hour_category    0.049717\n",
       "additional1_travel_hour_category    0.049717\n",
       "travel_hour_category                0.049717\n",
       "additional2_distance                0.042395\n",
       "distance                            0.042395\n",
       "additional1_distance                0.042395\n",
       "destination_latitute_category       0.030509\n",
       "source_latitute                     0.029756\n",
       "Friday                              0.025402\n",
       "source_latitude_category            0.024078\n",
       "source_location_cluster             0.016639\n",
       "Saturday                            0.015685\n",
       "Thursday                            0.013739\n",
       "destination_location_cluster        0.010457\n",
       "travel_id                          -0.015877\n",
       "destination_latitute               -0.016109\n",
       "Monday                             -0.018819\n",
       "source_longitute                   -0.026259\n",
       "source_longitute_category          -0.026893\n",
       "destination_longitute              -0.029980\n",
       "Sunday                             -0.041890\n",
       "destination_longitute_category     -0.100110\n",
       "Name: travel_time, dtype: float64"
      ]
     },
     "execution_count": 103,
     "metadata": {},
     "output_type": "execute_result"
    }
   ],
   "source": [
    "best_accurate_columns"
   ]
  },
  {
   "cell_type": "code",
   "execution_count": 104,
   "metadata": {
    "colab": {},
    "colab_type": "code",
    "id": "ksBtNX1APT1N"
   },
   "outputs": [],
   "source": [
    "train_df3 = train_df2[best_accurate_columns.keys()]"
   ]
  },
  {
   "cell_type": "code",
   "execution_count": null,
   "metadata": {
    "colab": {},
    "colab_type": "code",
    "id": "L6uT-JFJQOXk"
   },
   "outputs": [],
   "source": []
  },
  {
   "cell_type": "code",
   "execution_count": 105,
   "metadata": {
    "colab": {
     "base_uri": "https://localhost:8080/",
     "height": 34
    },
    "colab_type": "code",
    "executionInfo": {
     "elapsed": 4318,
     "status": "ok",
     "timestamp": 1582795665794,
     "user": {
      "displayName": "Eser İnan Arslan",
      "photoUrl": "https://lh3.googleusercontent.com/a-/AAuE7mAEXYsAQ5ofuOAq2VqhAAEj2Kib3xBlNNc3K0sfIQ=s64",
      "userId": "01966049699378036829"
     },
     "user_tz": -180
    },
    "id": "pbppOGXjQgou",
    "outputId": "4fd8fb2a-b07b-4f74-b0de-459cf80828d8"
   },
   "outputs": [
    {
     "name": "stdout",
     "output_type": "stream",
     "text": [
      "Requirement already satisfied: sns in /.virtualenvs/bigdata/lib/python3.5/site-packages (0.1)\n",
      "Note: you may need to restart the kernel to use updated packages.\n"
     ]
    }
   ],
   "source": [
    "pip install sns"
   ]
  },
  {
   "cell_type": "code",
   "execution_count": 106,
   "metadata": {
    "colab": {},
    "colab_type": "code",
    "id": "bf5GW50KQglV"
   },
   "outputs": [],
   "source": [
    "import seaborn as sns"
   ]
  },
  {
   "cell_type": "code",
   "execution_count": 107,
   "metadata": {
    "colab": {
     "base_uri": "https://localhost:8080/",
     "height": 651
    },
    "colab_type": "code",
    "executionInfo": {
     "elapsed": 2001,
     "status": "ok",
     "timestamp": 1582795666372,
     "user": {
      "displayName": "Eser İnan Arslan",
      "photoUrl": "https://lh3.googleusercontent.com/a-/AAuE7mAEXYsAQ5ofuOAq2VqhAAEj2Kib3xBlNNc3K0sfIQ=s64",
      "userId": "01966049699378036829"
     },
     "user_tz": -180
    },
    "id": "5om1h8QwQgiu",
    "outputId": "33de1d87-6025-4af2-ab11-df232d66f702"
   },
   "outputs": [
    {
     "name": "stdout",
     "output_type": "stream",
     "text": [
      "count    178090.000000\n",
      "mean       1089.282346\n",
      "std         608.855162\n",
      "min         155.000000\n",
      "25%         681.000000\n",
      "50%         948.000000\n",
      "75%        1334.000000\n",
      "max       10719.000000\n",
      "Name: travel_time, dtype: float64\n"
     ]
    },
    {
     "data": {
      "image/png": "[encoded data removed]",
      "text/plain": [
       "<Figure size 648x576 with 1 Axes>"
      ]
     },
     "metadata": {
      "needs_background": "light"
     },
     "output_type": "display_data"
    }
   ],
   "source": [
    "print(train_df2['travel_time'].describe())\n",
    "plt.figure(figsize=(9, 8))\n",
    "sns.distplot(train_df2['travel_time'], color='r', bins=30, hist_kws={'alpha': 0.4});"
   ]
  },
  {
   "cell_type": "code",
   "execution_count": null,
   "metadata": {
    "colab": {},
    "colab_type": "code",
    "id": "GWt0vXYaQggg"
   },
   "outputs": [],
   "source": []
  },
  {
   "cell_type": "code",
   "execution_count": 108,
   "metadata": {
    "colab": {},
    "colab_type": "code",
    "id": "7POqEtacQgeL"
   },
   "outputs": [],
   "source": [
    "# Prediction with two input variables\n",
    "\n",
    "X = train_df3.copy()\n",
    "X = X.drop(columns=['travel_time'])\n",
    "#source_location_df = source_location_df.drop(columns=['travel_id', 'travel_time', 'travel_day', 'travel_hour','destination_latitute', 'destination_longitute', 'destination_latitute_category', 'destination_longitute_category'])\n",
    "y = train_df3['travel_time']"
   ]
  },
  {
   "cell_type": "code",
   "execution_count": 109,
   "metadata": {
    "colab": {
     "base_uri": "https://localhost:8080/",
     "height": 131
    },
    "colab_type": "code",
    "executionInfo": {
     "elapsed": 667,
     "status": "ok",
     "timestamp": 1582795671322,
     "user": {
      "displayName": "Eser İnan Arslan",
      "photoUrl": "https://lh3.googleusercontent.com/a-/AAuE7mAEXYsAQ5ofuOAq2VqhAAEj2Kib3xBlNNc3K0sfIQ=s64",
      "userId": "01966049699378036829"
     },
     "user_tz": -180
    },
    "id": "bwhUbckQQgcV",
    "outputId": "15efcfc0-bd43-4146-f8a6-494bfa0c097e"
   },
   "outputs": [
    {
     "data": {
      "text/html": [
       "<div>\n",
       "<style scoped>\n",
       "    .dataframe tbody tr th:only-of-type {\n",
       "        vertical-align: middle;\n",
       "    }\n",
       "\n",
       "    .dataframe tbody tr th {\n",
       "        vertical-align: top;\n",
       "    }\n",
       "\n",
       "    .dataframe thead th {\n",
       "        text-align: right;\n",
       "    }\n",
       "</style>\n",
       "<table border=\"1\" class=\"dataframe\">\n",
       "  <thead>\n",
       "    <tr style=\"text-align: right;\">\n",
       "      <th></th>\n",
       "      <th>travel_hour</th>\n",
       "      <th>additional3_travel_hour_category</th>\n",
       "      <th>additional2_travel_hour_category</th>\n",
       "      <th>additional1_travel_hour_category</th>\n",
       "      <th>travel_hour_category</th>\n",
       "      <th>additional2_distance</th>\n",
       "      <th>distance</th>\n",
       "      <th>additional1_distance</th>\n",
       "      <th>destination_latitute_category</th>\n",
       "      <th>source_latitute</th>\n",
       "      <th>...</th>\n",
       "      <th>Thursday</th>\n",
       "      <th>destination_location_cluster</th>\n",
       "      <th>travel_id</th>\n",
       "      <th>destination_latitute</th>\n",
       "      <th>Monday</th>\n",
       "      <th>source_longitute</th>\n",
       "      <th>source_longitute_category</th>\n",
       "      <th>destination_longitute</th>\n",
       "      <th>Sunday</th>\n",
       "      <th>destination_longitute_category</th>\n",
       "    </tr>\n",
       "  </thead>\n",
       "  <tbody>\n",
       "    <tr>\n",
       "      <th>0</th>\n",
       "      <td>20</td>\n",
       "      <td>12</td>\n",
       "      <td>12</td>\n",
       "      <td>12</td>\n",
       "      <td>12</td>\n",
       "      <td>0.036525</td>\n",
       "      <td>0.036525</td>\n",
       "      <td>0.036525</td>\n",
       "      <td>8</td>\n",
       "      <td>39.885119</td>\n",
       "      <td>...</td>\n",
       "      <td>0</td>\n",
       "      <td>2</td>\n",
       "      <td>1278160345</td>\n",
       "      <td>39.871838</td>\n",
       "      <td>0</td>\n",
       "      <td>32.856276</td>\n",
       "      <td>5</td>\n",
       "      <td>32.822251</td>\n",
       "      <td>0</td>\n",
       "      <td>8</td>\n",
       "    </tr>\n",
       "    <tr>\n",
       "      <th>1</th>\n",
       "      <td>8</td>\n",
       "      <td>3</td>\n",
       "      <td>3</td>\n",
       "      <td>3</td>\n",
       "      <td>3</td>\n",
       "      <td>0.025627</td>\n",
       "      <td>0.025627</td>\n",
       "      <td>0.025627</td>\n",
       "      <td>10</td>\n",
       "      <td>39.883463</td>\n",
       "      <td>...</td>\n",
       "      <td>0</td>\n",
       "      <td>2</td>\n",
       "      <td>1274461376</td>\n",
       "      <td>39.891228</td>\n",
       "      <td>0</td>\n",
       "      <td>32.833503</td>\n",
       "      <td>5</td>\n",
       "      <td>32.857926</td>\n",
       "      <td>0</td>\n",
       "      <td>9</td>\n",
       "    </tr>\n",
       "  </tbody>\n",
       "</table>\n",
       "<p>2 rows × 24 columns</p>\n",
       "</div>"
      ],
      "text/plain": [
       "   travel_hour  additional3_travel_hour_category  \\\n",
       "0           20                                12   \n",
       "1            8                                 3   \n",
       "\n",
       "   additional2_travel_hour_category  additional1_travel_hour_category  \\\n",
       "0                                12                                12   \n",
       "1                                 3                                 3   \n",
       "\n",
       "   travel_hour_category  additional2_distance  distance  additional1_distance  \\\n",
       "0                    12              0.036525  0.036525              0.036525   \n",
       "1                     3              0.025627  0.025627              0.025627   \n",
       "\n",
       "   destination_latitute_category  source_latitute  ...  Thursday  \\\n",
       "0                              8        39.885119  ...         0   \n",
       "1                             10        39.883463  ...         0   \n",
       "\n",
       "   destination_location_cluster   travel_id  destination_latitute  Monday  \\\n",
       "0                             2  1278160345             39.871838       0   \n",
       "1                             2  1274461376             39.891228       0   \n",
       "\n",
       "   source_longitute  source_longitute_category  destination_longitute  Sunday  \\\n",
       "0         32.856276                          5              32.822251       0   \n",
       "1         32.833503                          5              32.857926       0   \n",
       "\n",
       "   destination_longitute_category  \n",
       "0                               8  \n",
       "1                               9  \n",
       "\n",
       "[2 rows x 24 columns]"
      ]
     },
     "execution_count": 109,
     "metadata": {},
     "output_type": "execute_result"
    }
   ],
   "source": [
    "X.head(2)"
   ]
  },
  {
   "cell_type": "code",
   "execution_count": null,
   "metadata": {
    "colab": {},
    "colab_type": "code",
    "id": "1k9ClUcZQgZR"
   },
   "outputs": [],
   "source": []
  },
  {
   "cell_type": "code",
   "execution_count": 110,
   "metadata": {
    "colab": {
     "base_uri": "https://localhost:8080/",
     "height": 85
    },
    "colab_type": "code",
    "executionInfo": {
     "elapsed": 3321,
     "status": "ok",
     "timestamp": 1582795675154,
     "user": {
      "displayName": "Eser İnan Arslan",
      "photoUrl": "https://lh3.googleusercontent.com/a-/AAuE7mAEXYsAQ5ofuOAq2VqhAAEj2Kib3xBlNNc3K0sfIQ=s64",
      "userId": "01966049699378036829"
     },
     "user_tz": -180
    },
    "id": "9TF7Nk3PQgWa",
    "outputId": "d2ff91c0-41ec-4ad8-8545-a29dbf2dbe92"
   },
   "outputs": [
    {
     "name": "stdout",
     "output_type": "stream",
     "text": [
      "Test MAE: 321.52751879294533\n",
      "Test MAPE: 34.99550416242991\n",
      "Intercept: -384435.70025410154\n",
      "[]\n"
     ]
    }
   ],
   "source": [
    "#Linear Regression Model\n",
    "mae, mape = [], []\n",
    "for i in range(1,10):\n",
    "    X_train, X_test, y_train, y_test = train_test_split(X, y, test_size=0.1)\n",
    "    #X = X.fillna(X.mean()) #is this ok?\n",
    "    #print(\"Tur : \", i)\n",
    "    X_train = X_train.fillna(X_train.mean())\n",
    "    X_test = X_test.fillna(X_test.mean())\n",
    "    #print(\"TurV2 : \", i)\n",
    "    lm = linear_model.LinearRegression()\n",
    "    model_1 = lm.fit(X_train, y_train)\n",
    "    #print(\"TurV3 : \", i)\n",
    "    test_predictions = model_1.predict(X_test)\n",
    "    #print(\"TurV4 : \", i)\n",
    "    mae.append(mean_absolute_error(y_test, test_predictions))\n",
    "    mape.append(mean_absolute_percentage_error(y_test, test_predictions))\n",
    "    #print(\"TurV5 : \", i)\n",
    "\n",
    "print(\"Test MAE:\", np.mean(mae))\n",
    "print(\"Test MAPE:\", np.mean(mape))\n",
    "print (\"Intercept:\", model_1.intercept_)\n",
    "#combined = np.vstack((important_columns, model_1.coef_)).T\n",
    "combined = np.empty((0, len(model_1.coef_)), dtype='f')\n",
    "\n",
    "print(combined)"
   ]
  },
  {
   "cell_type": "code",
   "execution_count": 111,
   "metadata": {
    "colab": {
     "base_uri": "https://localhost:8080/",
     "height": 612
    },
    "colab_type": "code",
    "executionInfo": {
     "elapsed": 33693,
     "status": "ok",
     "timestamp": 1582795707905,
     "user": {
      "displayName": "Eser İnan Arslan",
      "photoUrl": "https://lh3.googleusercontent.com/a-/AAuE7mAEXYsAQ5ofuOAq2VqhAAEj2Kib3xBlNNc3K0sfIQ=s64",
      "userId": "01966049699378036829"
     },
     "user_tz": -180
    },
    "id": "q1SuuAHvS92d",
    "outputId": "36eb5680-3a07-4850-8df4-069e351fd7e2"
   },
   "outputs": [
    {
     "name": "stdout",
     "output_type": "stream",
     "text": [
      "(106854, 324)\n",
      "(106854,)\n",
      "(106854, 324)\n",
      "(106854,)\n",
      "(106854, 324)\n",
      "(106854,)\n",
      "(106854, 324)\n",
      "(106854,)\n",
      "(106854, 324)\n",
      "(106854,)\n",
      "(106854, 324)\n",
      "(106854,)\n",
      "(106854, 324)\n",
      "(106854,)\n",
      "(106854, 324)\n",
      "(106854,)\n",
      "(106854, 324)\n",
      "(106854,)\n",
      "Test MAE: 325.13566791647\n",
      "Test MAPE: 35.28916129120381\n",
      "Intercept: -484619.8406569837\n"
     ]
    }
   ],
   "source": [
    "#Polynomial linear regrassion\n",
    "from sklearn.preprocessing import PolynomialFeatures\n",
    "\n",
    "X = X.fillna(X.mean())\n",
    "#print(\"burda\")\n",
    "poly = PolynomialFeatures(degree=2, include_bias=False)\n",
    "#print(\"burdaaa\")\n",
    "X_train_transform = poly.fit_transform(X)\n",
    "\n",
    "\n",
    "mae, mape = [], []\n",
    "for i in range(1,10):\n",
    "    X_train, X_test, y_train, y_test = train_test_split(X_train_transform, y, test_size=0.4)\n",
    "    print(X_train.shape)\n",
    "    print(y_train.shape)\n",
    "\n",
    "    lm = linear_model.LinearRegression()\n",
    "    model_4 = lm.fit(X_train, y_train)\n",
    "    test_predictions = model_4.predict(X_test)\n",
    "    mae.append(mean_absolute_error(y_test, test_predictions))\n",
    "    mape.append(mean_absolute_percentage_error(y_test, test_predictions))\n",
    "\n",
    "print(\"Test MAE:\", np.mean(mae))\n",
    "print(\"Test MAPE:\", np.mean(mape))\n",
    "print (\"Intercept:\", model_4.intercept_)\n",
    "#print(X);"
   ]
  },
  {
   "cell_type": "code",
   "execution_count": null,
   "metadata": {
    "colab": {},
    "colab_type": "code",
    "id": "lK_7uw5vS9z-"
   },
   "outputs": [],
   "source": []
  },
  {
   "cell_type": "code",
   "execution_count": 112,
   "metadata": {},
   "outputs": [
    {
     "name": "stdout",
     "output_type": "stream",
     "text": [
      "(106854, 24)\n",
      "(106854,)\n",
      "(106854, 24)\n",
      "(106854,)\n",
      "Test MAE: 325.9631406231873\n",
      "Test MAPE: 36.18569895661699\n",
      "Intercept: -365740.39725497714\n"
     ]
    }
   ],
   "source": [
    "#Lasso linear Regression\n",
    "mae, mape = [], []\n",
    "\n",
    "for i in range(1,3):\n",
    "    X_train, X_test, y_train, y_test = train_test_split(X, y, test_size=0.4)\n",
    "    print(X_train.shape)\n",
    "    print(y_train.shape)\n",
    "    \n",
    "    predictor_cols = [col for col in X_train \n",
    "                  if col != 'travel_time']\n",
    "    \n",
    "    clf = linear_model.Lasso(alpha=1, max_iter=100000)\n",
    "    model_6 = clf.fit(X_train[predictor_cols], y_train)\n",
    "    test_predictions = model_6.predict(X_test[predictor_cols])\n",
    "    \n",
    "    mae.append(mean_absolute_error(y_test, test_predictions))\n",
    "    mape.append(mean_absolute_percentage_error(y_test, test_predictions))\n",
    "\n",
    "print(\"Test MAE:\", np.mean(mae))\n",
    "print(\"Test MAPE:\", np.mean(mape))\n",
    "print (\"Intercept:\", model_6.intercept_)\n",
    "#print(X);"
   ]
  },
  {
   "cell_type": "code",
   "execution_count": null,
   "metadata": {},
   "outputs": [],
   "source": []
  },
  {
   "cell_type": "code",
   "execution_count": 113,
   "metadata": {
    "colab": {
     "base_uri": "https://localhost:8080/",
     "height": 85
    },
    "colab_type": "code",
    "executionInfo": {
     "elapsed": 30754,
     "status": "ok",
     "timestamp": 1582795707906,
     "user": {
      "displayName": "Eser İnan Arslan",
      "photoUrl": "https://lh3.googleusercontent.com/a-/AAuE7mAEXYsAQ5ofuOAq2VqhAAEj2Kib3xBlNNc3K0sfIQ=s64",
      "userId": "01966049699378036829"
     },
     "user_tz": -180
    },
    "id": "GDZq0m3NS9yT",
    "outputId": "898b4386-288e-43ee-9bcd-3eb6fb24b19f"
   },
   "outputs": [],
   "source": [
    "data_dmatrix = xgb.DMatrix(data=X,label=y)"
   ]
  },
  {
   "cell_type": "code",
   "execution_count": 114,
   "metadata": {
    "colab": {
     "base_uri": "https://localhost:8080/",
     "height": 1000
    },
    "colab_type": "code",
    "executionInfo": {
     "elapsed": 215206,
     "status": "ok",
     "timestamp": 1582795893013,
     "user": {
      "displayName": "Eser İnan Arslan",
      "photoUrl": "https://lh3.googleusercontent.com/a-/AAuE7mAEXYsAQ5ofuOAq2VqhAAEj2Kib3xBlNNc3K0sfIQ=s64",
      "userId": "01966049699378036829"
     },
     "user_tz": -180
    },
    "id": "bORN8xrQS9wm",
    "outputId": "0eb2ceda-6d2e-4313-831d-1d1c069b86d2"
   },
   "outputs": [
    {
     "name": "stdout",
     "output_type": "stream",
     "text": [
      "(106854, 24)\n",
      "(106854,)\n",
      "(106854, 24)\n",
      "(106854,)\n",
      "(106854, 24)\n",
      "(106854,)\n",
      "(106854, 24)\n",
      "(106854,)\n",
      "(106854, 24)\n",
      "(106854,)\n",
      "(106854, 24)\n",
      "(106854,)\n",
      "(106854, 24)\n",
      "(106854,)\n",
      "(106854, 24)\n",
      "(106854,)\n",
      "(106854, 24)\n",
      "(106854,)\n",
      "Test MAE: 253.6861155408178\n",
      "Test MAPE: 25.687232944700455\n"
     ]
    }
   ],
   "source": [
    "#XGBRegressor Model\n",
    "mae, mape = [], []\n",
    "for i in range(1,10):\n",
    "    X_train, X_test, y_train, y_test = train_test_split(X, y, test_size=0.4)\n",
    "    print(X_train.shape)\n",
    "    print(y_train.shape)\n",
    "    #X = X.fillna(X.mean()) #is this ok?\n",
    "    #X_train = X_train.fillna(X_train.mean())\n",
    "    #X_test = X_test.fillna(X_test.mean())\n",
    "\n",
    "    xg_reg = xgb.XGBRegressor(objective ='reg:linear', colsample_bytree = 0.9, learning_rate = 0.5, \n",
    "                              max_depth = 10, alpha = 10, n_estimators = 50)\n",
    "    model_5 =xg_reg.fit(X_train,y_train)\n",
    "    test_predictions = model_5.predict(X_test)\n",
    "    \n",
    "    mae.append(mean_absolute_error(y_test, test_predictions))\n",
    "    mape.append(mean_absolute_percentage_error(y_test, test_predictions))\n",
    "\n",
    "print(\"Test MAE:\", np.mean(mae))\n",
    "print(\"Test MAPE:\", np.mean(mape))\n",
    "#print (\"Intercept:\", model_5.intercept_)\n",
    "#print(X);"
   ]
  },
  {
   "cell_type": "code",
   "execution_count": null,
   "metadata": {
    "colab": {},
    "colab_type": "code",
    "id": "89IHRHV-S9uY"
   },
   "outputs": [],
   "source": []
  },
  {
   "cell_type": "code",
   "execution_count": 115,
   "metadata": {},
   "outputs": [],
   "source": [
    "from sklearn.model_selection import learning_curve, GridSearchCV"
   ]
  },
  {
   "cell_type": "code",
   "execution_count": null,
   "metadata": {},
   "outputs": [],
   "source": []
  },
  {
   "cell_type": "code",
   "execution_count": null,
   "metadata": {},
   "outputs": [],
   "source": [
    "#GridSearch to determine best parameters\n",
    "param_grid = {\n",
    "    'n_estimators': [50, 200, 700],\n",
    "    'max_features': ['auto', 'sqrt', 'log2']\n",
    "}\n",
    "#print(\"Burda\")\n",
    "grid_search_model = GridSearchCV(estimator=model_5, param_grid=param_grid, cv=5, refit=True)\n",
    "#print(\"Burdaa\")\n",
    "grid_search_model.fit(X, y)\n",
    "#print(\"Burdaaa\")\n",
    "print(grid_search_model.best_estimator_)"
   ]
  },
  {
   "cell_type": "code",
   "execution_count": 116,
   "metadata": {},
   "outputs": [],
   "source": [
    "#Set XGBRegressor parameters from gridsearchCV\n",
    "final_xg_reg = xgb.XGBRegressor(alpha=10, base_score=0.5, booster='gbtree', colsample_bylevel=1,\n",
    "             colsample_bynode=1, colsample_bytree=0.9, gamma=0,\n",
    "             importance_type='gain', learning_rate=0.5, max_delta_step=0,\n",
    "             max_depth=10, max_features='auto', min_child_weight=1,\n",
    "             missing=None, n_estimators=50, n_jobs=1, nthread=None,\n",
    "             objective='reg:linear', random_state=0, reg_alpha=0, reg_lambda=1,\n",
    "             scale_pos_weight=1, seed=None, silent=None, subsample=1,\n",
    "             verbosity=1)"
   ]
  },
  {
   "cell_type": "code",
   "execution_count": 207,
   "metadata": {},
   "outputs": [
    {
     "data": {
      "text/plain": [
       "(XGBRegressor(alpha=10, base_score=0.5, booster='gbtree', colsample_bylevel=1,\n",
       "        colsample_bynode=1, colsample_bytree=0.9, gamma=0,\n",
       "        importance_type='gain', learning_rate=0.5, max_delta_step=0,\n",
       "        max_depth=10, max_features='auto', min_child_weight=1, missing=None,\n",
       "        n_estimators=50, n_jobs=1, nthread=None, objective='reg:linear',\n",
       "        random_state=0, reg_alpha=0, reg_lambda=1, scale_pos_weight=1,\n",
       "        seed=None, silent=None, subsample=1, verbosity=1),\n",
       " XGBRegressor(alpha=10, base_score=0.5, booster='gbtree', colsample_bylevel=1,\n",
       "        colsample_bynode=1, colsample_bytree=0.9, gamma=0,\n",
       "        importance_type='gain', learning_rate=0.5, max_delta_step=0,\n",
       "        max_depth=10, max_features='auto', min_child_weight=1, missing=None,\n",
       "        n_estimators=50, n_jobs=1, nthread=None, objective='reg:linear',\n",
       "        random_state=0, reg_alpha=0, reg_lambda=1, scale_pos_weight=1,\n",
       "        seed=None, silent=None, subsample=1, verbosity=1))"
      ]
     },
     "execution_count": 207,
     "metadata": {},
     "output_type": "execute_result"
    }
   ],
   "source": []
  },
  {
   "cell_type": "code",
   "execution_count": 195,
   "metadata": {},
   "outputs": [
    {
     "name": "stdout",
     "output_type": "stream",
     "text": [
      "[17:53:29] /workspace/src/tree/updater_prune.cc:74: tree pruning end, 1 roots, 970 extra nodes, 0 pruned nodes, max_depth=10\n",
      "[17:53:29] /workspace/src/tree/updater_prune.cc:74: tree pruning end, 1 roots, 1552 extra nodes, 0 pruned nodes, max_depth=10\n",
      "[17:53:29] /workspace/src/tree/updater_prune.cc:74: tree pruning end, 1 roots, 1520 extra nodes, 0 pruned nodes, max_depth=10\n",
      "[17:53:30] /workspace/src/tree/updater_prune.cc:74: tree pruning end, 1 roots, 1586 extra nodes, 0 pruned nodes, max_depth=10\n",
      "[17:53:30] /workspace/src/tree/updater_prune.cc:74: tree pruning end, 1 roots, 1462 extra nodes, 0 pruned nodes, max_depth=10\n",
      "[17:53:30] /workspace/src/tree/updater_prune.cc:74: tree pruning end, 1 roots, 1358 extra nodes, 0 pruned nodes, max_depth=10\n",
      "[17:53:30] /workspace/src/tree/updater_prune.cc:74: tree pruning end, 1 roots, 1076 extra nodes, 0 pruned nodes, max_depth=10\n",
      "[17:53:30] /workspace/src/tree/updater_prune.cc:74: tree pruning end, 1 roots, 610 extra nodes, 0 pruned nodes, max_depth=10\n",
      "[17:53:31] /workspace/src/tree/updater_prune.cc:74: tree pruning end, 1 roots, 1406 extra nodes, 0 pruned nodes, max_depth=10\n",
      "[17:53:31] /workspace/src/tree/updater_prune.cc:74: tree pruning end, 1 roots, 878 extra nodes, 0 pruned nodes, max_depth=10\n",
      "[17:53:31] /workspace/src/tree/updater_prune.cc:74: tree pruning end, 1 roots, 932 extra nodes, 0 pruned nodes, max_depth=10\n",
      "[17:53:31] /workspace/src/tree/updater_prune.cc:74: tree pruning end, 1 roots, 1308 extra nodes, 0 pruned nodes, max_depth=10\n",
      "[17:53:32] /workspace/src/tree/updater_prune.cc:74: tree pruning end, 1 roots, 972 extra nodes, 0 pruned nodes, max_depth=10\n",
      "[17:53:32] /workspace/src/tree/updater_prune.cc:74: tree pruning end, 1 roots, 622 extra nodes, 0 pruned nodes, max_depth=10\n",
      "[17:53:32] /workspace/src/tree/updater_prune.cc:74: tree pruning end, 1 roots, 338 extra nodes, 0 pruned nodes, max_depth=10\n",
      "[17:53:32] /workspace/src/tree/updater_prune.cc:74: tree pruning end, 1 roots, 496 extra nodes, 0 pruned nodes, max_depth=10\n",
      "[17:53:32] /workspace/src/tree/updater_prune.cc:74: tree pruning end, 1 roots, 1360 extra nodes, 0 pruned nodes, max_depth=10\n",
      "[17:53:33] /workspace/src/tree/updater_prune.cc:74: tree pruning end, 1 roots, 932 extra nodes, 0 pruned nodes, max_depth=10\n",
      "[17:53:33] /workspace/src/tree/updater_prune.cc:74: tree pruning end, 1 roots, 872 extra nodes, 0 pruned nodes, max_depth=10\n",
      "[17:53:33] /workspace/src/tree/updater_prune.cc:74: tree pruning end, 1 roots, 990 extra nodes, 0 pruned nodes, max_depth=10\n",
      "[17:53:33] /workspace/src/tree/updater_prune.cc:74: tree pruning end, 1 roots, 720 extra nodes, 0 pruned nodes, max_depth=10\n",
      "[17:53:33] /workspace/src/tree/updater_prune.cc:74: tree pruning end, 1 roots, 528 extra nodes, 0 pruned nodes, max_depth=10\n",
      "[17:53:34] /workspace/src/tree/updater_prune.cc:74: tree pruning end, 1 roots, 776 extra nodes, 0 pruned nodes, max_depth=10\n",
      "[17:53:34] /workspace/src/tree/updater_prune.cc:74: tree pruning end, 1 roots, 888 extra nodes, 0 pruned nodes, max_depth=10\n",
      "[17:53:34] /workspace/src/tree/updater_prune.cc:74: tree pruning end, 1 roots, 1180 extra nodes, 0 pruned nodes, max_depth=10\n",
      "[17:53:34] /workspace/src/tree/updater_prune.cc:74: tree pruning end, 1 roots, 708 extra nodes, 0 pruned nodes, max_depth=10\n",
      "[17:53:35] /workspace/src/tree/updater_prune.cc:74: tree pruning end, 1 roots, 768 extra nodes, 0 pruned nodes, max_depth=10\n",
      "[17:53:35] /workspace/src/tree/updater_prune.cc:74: tree pruning end, 1 roots, 490 extra nodes, 0 pruned nodes, max_depth=10\n",
      "[17:53:35] /workspace/src/tree/updater_prune.cc:74: tree pruning end, 1 roots, 516 extra nodes, 0 pruned nodes, max_depth=10\n",
      "[17:53:35] /workspace/src/tree/updater_prune.cc:74: tree pruning end, 1 roots, 704 extra nodes, 0 pruned nodes, max_depth=10\n",
      "[17:53:35] /workspace/src/tree/updater_prune.cc:74: tree pruning end, 1 roots, 542 extra nodes, 0 pruned nodes, max_depth=10\n",
      "[17:53:35] /workspace/src/tree/updater_prune.cc:74: tree pruning end, 1 roots, 302 extra nodes, 0 pruned nodes, max_depth=10\n",
      "[17:53:36] /workspace/src/tree/updater_prune.cc:74: tree pruning end, 1 roots, 356 extra nodes, 0 pruned nodes, max_depth=10\n",
      "[17:53:36] /workspace/src/tree/updater_prune.cc:74: tree pruning end, 1 roots, 410 extra nodes, 0 pruned nodes, max_depth=10\n",
      "[17:53:36] /workspace/src/tree/updater_prune.cc:74: tree pruning end, 1 roots, 402 extra nodes, 0 pruned nodes, max_depth=10\n",
      "[17:53:36] /workspace/src/tree/updater_prune.cc:74: tree pruning end, 1 roots, 422 extra nodes, 0 pruned nodes, max_depth=10\n",
      "[17:53:36] /workspace/src/tree/updater_prune.cc:74: tree pruning end, 1 roots, 944 extra nodes, 0 pruned nodes, max_depth=10\n",
      "[17:53:37] /workspace/src/tree/updater_prune.cc:74: tree pruning end, 1 roots, 722 extra nodes, 0 pruned nodes, max_depth=10\n",
      "[17:53:37] /workspace/src/tree/updater_prune.cc:74: tree pruning end, 1 roots, 288 extra nodes, 0 pruned nodes, max_depth=10\n",
      "[17:53:37] /workspace/src/tree/updater_prune.cc:74: tree pruning end, 1 roots, 438 extra nodes, 0 pruned nodes, max_depth=10\n",
      "[17:53:37] /workspace/src/tree/updater_prune.cc:74: tree pruning end, 1 roots, 468 extra nodes, 0 pruned nodes, max_depth=10\n",
      "[17:53:38] /workspace/src/tree/updater_prune.cc:74: tree pruning end, 1 roots, 442 extra nodes, 0 pruned nodes, max_depth=10\n",
      "[17:53:38] /workspace/src/tree/updater_prune.cc:74: tree pruning end, 1 roots, 214 extra nodes, 0 pruned nodes, max_depth=10\n",
      "[17:53:38] /workspace/src/tree/updater_prune.cc:74: tree pruning end, 1 roots, 358 extra nodes, 0 pruned nodes, max_depth=10\n",
      "[17:53:38] /workspace/src/tree/updater_prune.cc:74: tree pruning end, 1 roots, 514 extra nodes, 0 pruned nodes, max_depth=10\n",
      "[17:53:38] /workspace/src/tree/updater_prune.cc:74: tree pruning end, 1 roots, 904 extra nodes, 0 pruned nodes, max_depth=10\n",
      "[17:53:39] /workspace/src/tree/updater_prune.cc:74: tree pruning end, 1 roots, 576 extra nodes, 0 pruned nodes, max_depth=10\n",
      "[17:53:39] /workspace/src/tree/updater_prune.cc:74: tree pruning end, 1 roots, 920 extra nodes, 0 pruned nodes, max_depth=10\n",
      "[17:53:39] /workspace/src/tree/updater_prune.cc:74: tree pruning end, 1 roots, 556 extra nodes, 0 pruned nodes, max_depth=10\n",
      "[17:53:39] /workspace/src/tree/updater_prune.cc:74: tree pruning end, 1 roots, 598 extra nodes, 0 pruned nodes, max_depth=10\n",
      "Test MAE: 254.72869729705937\n",
      "Test MAPE: 25.936838400784506\n"
     ]
    }
   ],
   "source": [
    "xgb_model =final_xg_reg.fit(X_train,y_train)\n",
    "test_predictions = xgb_model.predict(X_test)\n",
    "    \n",
    "mae.append(mean_absolute_error(y_test, test_predictions))\n",
    "mape.append(mean_absolute_percentage_error(y_test, test_predictions))\n",
    "\n",
    "print(\"Test MAE:\", np.mean(mae))\n",
    "print(\"Test MAPE:\", np.mean(mape))"
   ]
  },
  {
   "cell_type": "code",
   "execution_count": null,
   "metadata": {},
   "outputs": [],
   "source": []
  },
  {
   "cell_type": "code",
   "execution_count": null,
   "metadata": {},
   "outputs": [],
   "source": []
  },
  {
   "cell_type": "code",
   "execution_count": 118,
   "metadata": {},
   "outputs": [],
   "source": [
    "pipe_tree = make_pipeline(DecisionTreeRegressor(random_state=1))"
   ]
  },
  {
   "cell_type": "code",
   "execution_count": 119,
   "metadata": {},
   "outputs": [
    {
     "data": {
      "text/plain": [
       "array([2, 3])"
      ]
     },
     "execution_count": 119,
     "metadata": {},
     "output_type": "execute_result"
    }
   ],
   "source": [
    "# make an array of depths to choose from 1 to 10\n",
    "depths = np.arange(2, 4)\n",
    "depths"
   ]
  },
  {
   "cell_type": "code",
   "execution_count": 120,
   "metadata": {},
   "outputs": [
    {
     "data": {
      "text/plain": [
       "array([2, 3])"
      ]
     },
     "execution_count": 120,
     "metadata": {},
     "output_type": "execute_result"
    }
   ],
   "source": [
    "#make an array of min_sample_size to choose from 5 to 10\n",
    "min_samples_split = np.arange(2,4)\n",
    "min_samples_split"
   ]
  },
  {
   "cell_type": "code",
   "execution_count": 121,
   "metadata": {},
   "outputs": [],
   "source": [
    "#make an array of min_samples_leaf to choose from 1 to 200\n",
    "num_leafs = [5, 10, 50, 100]"
   ]
  },
  {
   "cell_type": "code",
   "execution_count": 122,
   "metadata": {},
   "outputs": [],
   "source": [
    "dt_param_grid = [{'decisiontreeregressor__max_depth':depths,\n",
    "              'decisiontreeregressor__min_samples_split':min_samples_split,\n",
    "               'decisiontreeregressor__min_samples_leaf':num_leafs}]"
   ]
  },
  {
   "cell_type": "code",
   "execution_count": 123,
   "metadata": {},
   "outputs": [],
   "source": [
    "def root_mean_squared_error(y_true, y_pred):\n",
    "    return np.sqrt(mean_squared_error(y_true, y_pred))"
   ]
  },
  {
   "cell_type": "code",
   "execution_count": 124,
   "metadata": {},
   "outputs": [],
   "source": [
    "rmse_scorer = make_scorer(root_mean_squared_error, greater_is_better=False)"
   ]
  },
  {
   "cell_type": "code",
   "execution_count": 125,
   "metadata": {},
   "outputs": [],
   "source": [
    "gs = GridSearchCV(estimator=pipe_tree, param_grid=dt_param_grid, scoring=rmse_scorer, cv=10)"
   ]
  },
  {
   "cell_type": "code",
   "execution_count": null,
   "metadata": {},
   "outputs": [],
   "source": []
  },
  {
   "cell_type": "code",
   "execution_count": 126,
   "metadata": {},
   "outputs": [],
   "source": [
    "X_train_and_validate, X_test, y_train_and_validate, y_test = train_test_split(\n",
    "    X, y, test_size = 0.30, random_state = 1\n",
    ")"
   ]
  },
  {
   "cell_type": "code",
   "execution_count": null,
   "metadata": {},
   "outputs": [],
   "source": []
  },
  {
   "cell_type": "code",
   "execution_count": 194,
   "metadata": {},
   "outputs": [
    {
     "name": "stdout",
     "output_type": "stream",
     "text": [
      "2020-02-27 16:01:55.616648\n",
      "2020-02-27 16:02:41.413270\n",
      "0:00:45.796622\n"
     ]
    }
   ],
   "source": [
    "now = datetime.now()\n",
    "print(now)\n",
    "gs = gs.fit(X_train_and_validate, y_train_and_validate)\n",
    "end = datetime.now()\n",
    "print(end)\n",
    "print(end-now)"
   ]
  },
  {
   "cell_type": "code",
   "execution_count": 195,
   "metadata": {},
   "outputs": [
    {
     "name": "stdout",
     "output_type": "stream",
     "text": [
      "456.21315272284\n"
     ]
    }
   ],
   "source": [
    "print(-gs.best_score_)"
   ]
  },
  {
   "cell_type": "code",
   "execution_count": 196,
   "metadata": {},
   "outputs": [
    {
     "data": {
      "text/plain": [
       "{'decisiontreeregressor__max_depth': 3,\n",
       " 'decisiontreeregressor__min_samples_leaf': 5,\n",
       " 'decisiontreeregressor__min_samples_split': 2}"
      ]
     },
     "execution_count": 196,
     "metadata": {},
     "output_type": "execute_result"
    }
   ],
   "source": [
    "best_params_ = gs.best_params_\n",
    "best_params_"
   ]
  },
  {
   "cell_type": "code",
   "execution_count": 197,
   "metadata": {},
   "outputs": [],
   "source": [
    "best_dtr_model = gs.best_estimator_"
   ]
  },
  {
   "cell_type": "code",
   "execution_count": 198,
   "metadata": {},
   "outputs": [
    {
     "name": "stdout",
     "output_type": "stream",
     "text": [
      "Pipeline(memory=None,\n",
      "     steps=[('decisiontreeregressor', DecisionTreeRegressor(criterion='mse', max_depth=3, max_features=None,\n",
      "           max_leaf_nodes=None, min_impurity_decrease=0.0,\n",
      "           min_impurity_split=None, min_samples_leaf=5,\n",
      "           min_samples_split=2, min_weight_fraction_leaf=0.0,\n",
      "           presort=False, random_state=1, splitter='best'))])\n"
     ]
    }
   ],
   "source": [
    "print(gs.best_estimator_)"
   ]
  },
  {
   "cell_type": "code",
   "execution_count": 127,
   "metadata": {},
   "outputs": [],
   "source": [
    "final_dtr_model = DecisionTreeRegressor(criterion='mse', max_depth=3, max_features=None,\n",
    "           max_leaf_nodes=None, min_impurity_decrease=0.0,\n",
    "           min_impurity_split=None, min_samples_leaf=5,\n",
    "           min_samples_split=2, min_weight_fraction_leaf=0.0,\n",
    "           presort=False, random_state=1, splitter='best')"
   ]
  },
  {
   "cell_type": "code",
   "execution_count": null,
   "metadata": {},
   "outputs": [],
   "source": []
  },
  {
   "cell_type": "code",
   "execution_count": 128,
   "metadata": {},
   "outputs": [
    {
     "name": "stdout",
     "output_type": "stream",
     "text": [
      "Test MAE: 259.026751845929\n",
      "Test MAPE: 26.329331005078416\n"
     ]
    }
   ],
   "source": [
    "dtr_model =final_dtr_model.fit(X_train,y_train)\n",
    "test_predictions = dtr_model.predict(X_test)\n",
    "    \n",
    "mae.append(mean_absolute_error(y_test, test_predictions))\n",
    "mape.append(mean_absolute_percentage_error(y_test, test_predictions))\n",
    "\n",
    "print(\"Test MAE:\", np.mean(mae))\n",
    "print(\"Test MAPE:\", np.mean(mape))"
   ]
  },
  {
   "cell_type": "code",
   "execution_count": null,
   "metadata": {},
   "outputs": [],
   "source": []
  },
  {
   "cell_type": "code",
   "execution_count": null,
   "metadata": {},
   "outputs": [],
   "source": [
    "#Upload test from local to colabs area\n",
    "uploaded = files.upload()"
   ]
  },
  {
   "cell_type": "code",
   "execution_count": 129,
   "metadata": {},
   "outputs": [
    {
     "data": {
      "text/html": [
       "<div>\n",
       "<style scoped>\n",
       "    .dataframe tbody tr th:only-of-type {\n",
       "        vertical-align: middle;\n",
       "    }\n",
       "\n",
       "    .dataframe tbody tr th {\n",
       "        vertical-align: top;\n",
       "    }\n",
       "\n",
       "    .dataframe thead th {\n",
       "        text-align: right;\n",
       "    }\n",
       "</style>\n",
       "<table border=\"1\" class=\"dataframe\">\n",
       "  <thead>\n",
       "    <tr style=\"text-align: right;\">\n",
       "      <th></th>\n",
       "      <th>0</th>\n",
       "      <th>1</th>\n",
       "    </tr>\n",
       "  </thead>\n",
       "  <tbody>\n",
       "    <tr>\n",
       "      <th>0</th>\n",
       "      <td>1273716598</td>\n",
       "      <td>Monday\\t9\\t39,95541479\\t32,74967882\\t39,953436...</td>\n",
       "    </tr>\n",
       "    <tr>\n",
       "      <th>1</th>\n",
       "      <td>1278773183</td>\n",
       "      <td>Saturday\\t14\\t39,88519384\\t32,79207537\\t39,894...</td>\n",
       "    </tr>\n",
       "    <tr>\n",
       "      <th>2</th>\n",
       "      <td>1288180189</td>\n",
       "      <td>Tuesday\\t18\\t39,88823416\\t32,83952448\\t39,8976...</td>\n",
       "    </tr>\n",
       "    <tr>\n",
       "      <th>3</th>\n",
       "      <td>1283497517</td>\n",
       "      <td>Thursday\\t18\\t39,8368727\\t32,807655\\t39,828773...</td>\n",
       "    </tr>\n",
       "    <tr>\n",
       "      <th>4</th>\n",
       "      <td>1278710560</td>\n",
       "      <td>Saturday\\t13\\t39,8621794\\t32,6052958\\t39,91099...</td>\n",
       "    </tr>\n",
       "    <tr>\n",
       "      <th>12486</th>\n",
       "      <td>1282776916</td>\n",
       "      <td>Thursday\\t8\\t39,99088385\\t32,73331568\\t39,9834...</td>\n",
       "    </tr>\n",
       "    <tr>\n",
       "      <th>12487</th>\n",
       "      <td>1276198094</td>\n",
       "      <td>Thursday\\t8\\t39,87284907\\t32,78721688\\t39,8592...</td>\n",
       "    </tr>\n",
       "    <tr>\n",
       "      <th>12488</th>\n",
       "      <td>1276171241</td>\n",
       "      <td>Thursday\\t6\\t40,0141268\\t32,77051852\\t39,98516...</td>\n",
       "    </tr>\n",
       "    <tr>\n",
       "      <th>12489</th>\n",
       "      <td>1273242277</td>\n",
       "      <td>Sunday\\t15\\t39,90535833\\t32,60610888\\t39,86391...</td>\n",
       "    </tr>\n",
       "    <tr>\n",
       "      <th>12490</th>\n",
       "      <td>1275437144</td>\n",
       "      <td>Wednesday\\t10\\t39,9191065\\t32,6693165\\t39,9385...</td>\n",
       "    </tr>\n",
       "  </tbody>\n",
       "</table>\n",
       "</div>"
      ],
      "text/plain": [
       "                0                                                  1\n",
       "0      1273716598  Monday\\t9\\t39,95541479\\t32,74967882\\t39,953436...\n",
       "1      1278773183  Saturday\\t14\\t39,88519384\\t32,79207537\\t39,894...\n",
       "2      1288180189  Tuesday\\t18\\t39,88823416\\t32,83952448\\t39,8976...\n",
       "3      1283497517  Thursday\\t18\\t39,8368727\\t32,807655\\t39,828773...\n",
       "4      1278710560  Saturday\\t13\\t39,8621794\\t32,6052958\\t39,91099...\n",
       "12486  1282776916  Thursday\\t8\\t39,99088385\\t32,73331568\\t39,9834...\n",
       "12487  1276198094  Thursday\\t8\\t39,87284907\\t32,78721688\\t39,8592...\n",
       "12488  1276171241  Thursday\\t6\\t40,0141268\\t32,77051852\\t39,98516...\n",
       "12489  1273242277  Sunday\\t15\\t39,90535833\\t32,60610888\\t39,86391...\n",
       "12490  1275437144  Wednesday\\t10\\t39,9191065\\t32,6693165\\t39,9385..."
      ]
     },
     "execution_count": 129,
     "metadata": {},
     "output_type": "execute_result"
    }
   ],
   "source": [
    "# Load estimate dataset\n",
    "estimate_df = pd.read_fwf(\"estimate.txt\", sep=\" \", header=None)\n",
    "#estimate_df.reset_index()\n",
    "estimate_df.head(5).append(estimate_df.tail(5))"
   ]
  },
  {
   "cell_type": "code",
   "execution_count": 130,
   "metadata": {},
   "outputs": [
    {
     "data": {
      "text/plain": [
       "(12491, 2)"
      ]
     },
     "execution_count": 130,
     "metadata": {},
     "output_type": "execute_result"
    }
   ],
   "source": [
    "estimate_df.shape"
   ]
  },
  {
   "cell_type": "code",
   "execution_count": 131,
   "metadata": {},
   "outputs": [
    {
     "data": {
      "text/html": [
       "<div>\n",
       "<style scoped>\n",
       "    .dataframe tbody tr th:only-of-type {\n",
       "        vertical-align: middle;\n",
       "    }\n",
       "\n",
       "    .dataframe tbody tr th {\n",
       "        vertical-align: top;\n",
       "    }\n",
       "\n",
       "    .dataframe thead th {\n",
       "        text-align: right;\n",
       "    }\n",
       "</style>\n",
       "<table border=\"1\" class=\"dataframe\">\n",
       "  <thead>\n",
       "    <tr style=\"text-align: right;\">\n",
       "      <th></th>\n",
       "      <th>travel_day</th>\n",
       "      <th>travel_hour</th>\n",
       "      <th>source_latitute</th>\n",
       "      <th>source_longitute</th>\n",
       "      <th>destination_latitute</th>\n",
       "      <th>destination_longitute</th>\n",
       "    </tr>\n",
       "  </thead>\n",
       "  <tbody>\n",
       "    <tr>\n",
       "      <th>0</th>\n",
       "      <td>Monday</td>\n",
       "      <td>9</td>\n",
       "      <td>39,95541479</td>\n",
       "      <td>32,74967882</td>\n",
       "      <td>39,9534366</td>\n",
       "      <td>32,73633476</td>\n",
       "    </tr>\n",
       "    <tr>\n",
       "      <th>1</th>\n",
       "      <td>Saturday</td>\n",
       "      <td>14</td>\n",
       "      <td>39,88519384</td>\n",
       "      <td>32,79207537</td>\n",
       "      <td>39,8944911</td>\n",
       "      <td>32,8090758</td>\n",
       "    </tr>\n",
       "    <tr>\n",
       "      <th>2</th>\n",
       "      <td>Tuesday</td>\n",
       "      <td>18</td>\n",
       "      <td>39,88823416</td>\n",
       "      <td>32,83952448</td>\n",
       "      <td>39,8976332</td>\n",
       "      <td>32,8309648</td>\n",
       "    </tr>\n",
       "    <tr>\n",
       "      <th>3</th>\n",
       "      <td>Thursday</td>\n",
       "      <td>18</td>\n",
       "      <td>39,8368727</td>\n",
       "      <td>32,807655</td>\n",
       "      <td>39,8287739</td>\n",
       "      <td>32,8112283</td>\n",
       "    </tr>\n",
       "    <tr>\n",
       "      <th>4</th>\n",
       "      <td>Saturday</td>\n",
       "      <td>13</td>\n",
       "      <td>39,8621794</td>\n",
       "      <td>32,6052958</td>\n",
       "      <td>39,910998</td>\n",
       "      <td>32,5958411</td>\n",
       "    </tr>\n",
       "  </tbody>\n",
       "</table>\n",
       "</div>"
      ],
      "text/plain": [
       "  travel_day travel_hour source_latitute source_longitute  \\\n",
       "0     Monday           9     39,95541479      32,74967882   \n",
       "1   Saturday          14     39,88519384      32,79207537   \n",
       "2    Tuesday          18     39,88823416      32,83952448   \n",
       "3   Thursday          18      39,8368727        32,807655   \n",
       "4   Saturday          13      39,8621794       32,6052958   \n",
       "\n",
       "  destination_latitute destination_longitute  \n",
       "0           39,9534366           32,73633476  \n",
       "1           39,8944911            32,8090758  \n",
       "2           39,8976332            32,8309648  \n",
       "3           39,8287739            32,8112283  \n",
       "4            39,910998            32,5958411  "
      ]
     },
     "execution_count": 131,
     "metadata": {},
     "output_type": "execute_result"
    }
   ],
   "source": [
    "split_data_2 = estimate_df[1].str.split(\"\\t\")\n",
    "data_2 = split_data_2.to_list()\n",
    "names_2 = [\"travel_day\", \"travel_hour\", \"source_latitute\", \"source_longitute\", \"destination_latitute\", \"destination_longitute\"]\n",
    "new_df_2 = pd.DataFrame(data_2, columns=names_2)\n",
    "new_df_2.head(5)"
   ]
  },
  {
   "cell_type": "code",
   "execution_count": 132,
   "metadata": {},
   "outputs": [
    {
     "data": {
      "text/html": [
       "<div>\n",
       "<style scoped>\n",
       "    .dataframe tbody tr th:only-of-type {\n",
       "        vertical-align: middle;\n",
       "    }\n",
       "\n",
       "    .dataframe tbody tr th {\n",
       "        vertical-align: top;\n",
       "    }\n",
       "\n",
       "    .dataframe thead th {\n",
       "        text-align: right;\n",
       "    }\n",
       "</style>\n",
       "<table border=\"1\" class=\"dataframe\">\n",
       "  <thead>\n",
       "    <tr style=\"text-align: right;\">\n",
       "      <th></th>\n",
       "      <th>travel_id</th>\n",
       "    </tr>\n",
       "  </thead>\n",
       "  <tbody>\n",
       "    <tr>\n",
       "      <th>0</th>\n",
       "      <td>1273716598</td>\n",
       "    </tr>\n",
       "    <tr>\n",
       "      <th>1</th>\n",
       "      <td>1278773183</td>\n",
       "    </tr>\n",
       "    <tr>\n",
       "      <th>2</th>\n",
       "      <td>1288180189</td>\n",
       "    </tr>\n",
       "    <tr>\n",
       "      <th>3</th>\n",
       "      <td>1283497517</td>\n",
       "    </tr>\n",
       "    <tr>\n",
       "      <th>4</th>\n",
       "      <td>1278710560</td>\n",
       "    </tr>\n",
       "  </tbody>\n",
       "</table>\n",
       "</div>"
      ],
      "text/plain": [
       "    travel_id\n",
       "0  1273716598\n",
       "1  1278773183\n",
       "2  1288180189\n",
       "3  1283497517\n",
       "4  1278710560"
      ]
     },
     "execution_count": 132,
     "metadata": {},
     "output_type": "execute_result"
    }
   ],
   "source": [
    "estimate_df.rename(columns={0: \"travel_id\"}, inplace= True)\n",
    "estimate_df = estimate_df.drop(columns=[1])\n",
    "estimate_df.head(5)"
   ]
  },
  {
   "cell_type": "code",
   "execution_count": 133,
   "metadata": {},
   "outputs": [
    {
     "data": {
      "text/html": [
       "<div>\n",
       "<style scoped>\n",
       "    .dataframe tbody tr th:only-of-type {\n",
       "        vertical-align: middle;\n",
       "    }\n",
       "\n",
       "    .dataframe tbody tr th {\n",
       "        vertical-align: top;\n",
       "    }\n",
       "\n",
       "    .dataframe thead th {\n",
       "        text-align: right;\n",
       "    }\n",
       "</style>\n",
       "<table border=\"1\" class=\"dataframe\">\n",
       "  <thead>\n",
       "    <tr style=\"text-align: right;\">\n",
       "      <th></th>\n",
       "      <th>travel_id</th>\n",
       "      <th>travel_day</th>\n",
       "      <th>travel_hour</th>\n",
       "      <th>source_latitute</th>\n",
       "      <th>source_longitute</th>\n",
       "      <th>destination_latitute</th>\n",
       "      <th>destination_longitute</th>\n",
       "    </tr>\n",
       "  </thead>\n",
       "  <tbody>\n",
       "    <tr>\n",
       "      <th>0</th>\n",
       "      <td>1273716598</td>\n",
       "      <td>Monday</td>\n",
       "      <td>9</td>\n",
       "      <td>39,95541479</td>\n",
       "      <td>32,74967882</td>\n",
       "      <td>39,9534366</td>\n",
       "      <td>32,73633476</td>\n",
       "    </tr>\n",
       "    <tr>\n",
       "      <th>1</th>\n",
       "      <td>1278773183</td>\n",
       "      <td>Saturday</td>\n",
       "      <td>14</td>\n",
       "      <td>39,88519384</td>\n",
       "      <td>32,79207537</td>\n",
       "      <td>39,8944911</td>\n",
       "      <td>32,8090758</td>\n",
       "    </tr>\n",
       "    <tr>\n",
       "      <th>2</th>\n",
       "      <td>1288180189</td>\n",
       "      <td>Tuesday</td>\n",
       "      <td>18</td>\n",
       "      <td>39,88823416</td>\n",
       "      <td>32,83952448</td>\n",
       "      <td>39,8976332</td>\n",
       "      <td>32,8309648</td>\n",
       "    </tr>\n",
       "    <tr>\n",
       "      <th>3</th>\n",
       "      <td>1283497517</td>\n",
       "      <td>Thursday</td>\n",
       "      <td>18</td>\n",
       "      <td>39,8368727</td>\n",
       "      <td>32,807655</td>\n",
       "      <td>39,8287739</td>\n",
       "      <td>32,8112283</td>\n",
       "    </tr>\n",
       "    <tr>\n",
       "      <th>4</th>\n",
       "      <td>1278710560</td>\n",
       "      <td>Saturday</td>\n",
       "      <td>13</td>\n",
       "      <td>39,8621794</td>\n",
       "      <td>32,6052958</td>\n",
       "      <td>39,910998</td>\n",
       "      <td>32,5958411</td>\n",
       "    </tr>\n",
       "  </tbody>\n",
       "</table>\n",
       "</div>"
      ],
      "text/plain": [
       "    travel_id travel_day travel_hour source_latitute source_longitute  \\\n",
       "0  1273716598     Monday           9     39,95541479      32,74967882   \n",
       "1  1278773183   Saturday          14     39,88519384      32,79207537   \n",
       "2  1288180189    Tuesday          18     39,88823416      32,83952448   \n",
       "3  1283497517   Thursday          18      39,8368727        32,807655   \n",
       "4  1278710560   Saturday          13      39,8621794       32,6052958   \n",
       "\n",
       "  destination_latitute destination_longitute  \n",
       "0           39,9534366           32,73633476  \n",
       "1           39,8944911            32,8090758  \n",
       "2           39,8976332            32,8309648  \n",
       "3           39,8287739            32,8112283  \n",
       "4            39,910998            32,5958411  "
      ]
     },
     "execution_count": 133,
     "metadata": {},
     "output_type": "execute_result"
    }
   ],
   "source": [
    "estimate_df = pd.concat([estimate_df, new_df_2], axis=1)\n",
    "estimate_df.head(5)"
   ]
  },
  {
   "cell_type": "code",
   "execution_count": null,
   "metadata": {},
   "outputs": [],
   "source": []
  },
  {
   "cell_type": "code",
   "execution_count": 134,
   "metadata": {
    "colab": {
     "base_uri": "https://localhost:8080/",
     "height": 612
    },
    "colab_type": "code",
    "executionInfo": {
     "elapsed": 539978,
     "status": "ok",
     "timestamp": 1582796220492,
     "user": {
      "displayName": "Eser İnan Arslan",
      "photoUrl": "https://lh3.googleusercontent.com/a-/AAuE7mAEXYsAQ5ofuOAq2VqhAAEj2Kib3xBlNNc3K0sfIQ=s64",
      "userId": "01966049699378036829"
     },
     "user_tz": -180
    },
    "id": "70TwaOxoS9q0",
    "outputId": "2a6cb595-0aca-412e-f545-bd5eb21316f6"
   },
   "outputs": [
    {
     "data": {
      "text/plain": [
       "array(['32.73633476', '32.8090758', '32.8309648', ..., '32.7636364',\n",
       "       '32.5943807', '32.7336969'], dtype=object)"
      ]
     },
     "execution_count": 134,
     "metadata": {},
     "output_type": "execute_result"
    }
   ],
   "source": [
    "estimate_df['source_latitute'] = estimate_df['source_latitute'].str.replace(',','.')\n",
    "estimate_df['source_latitute'].values\n",
    "\n",
    "estimate_df['source_longitute'] = estimate_df['source_longitute'].str.replace(',','.')\n",
    "estimate_df['source_longitute'].values\n",
    "\n",
    "estimate_df['destination_latitute'] = estimate_df['destination_latitute'].str.replace(',','.')\n",
    "estimate_df['destination_latitute'].values\n",
    "\n",
    "estimate_df['destination_longitute'] = estimate_df['destination_longitute'].str.replace(',','.')\n",
    "estimate_df['destination_longitute'].values"
   ]
  },
  {
   "cell_type": "code",
   "execution_count": 135,
   "metadata": {},
   "outputs": [
    {
     "data": {
      "text/html": [
       "<div>\n",
       "<style scoped>\n",
       "    .dataframe tbody tr th:only-of-type {\n",
       "        vertical-align: middle;\n",
       "    }\n",
       "\n",
       "    .dataframe tbody tr th {\n",
       "        vertical-align: top;\n",
       "    }\n",
       "\n",
       "    .dataframe thead th {\n",
       "        text-align: right;\n",
       "    }\n",
       "</style>\n",
       "<table border=\"1\" class=\"dataframe\">\n",
       "  <thead>\n",
       "    <tr style=\"text-align: right;\">\n",
       "      <th></th>\n",
       "      <th>travel_id</th>\n",
       "      <th>travel_day</th>\n",
       "      <th>travel_hour</th>\n",
       "      <th>source_latitute</th>\n",
       "      <th>source_longitute</th>\n",
       "      <th>destination_latitute</th>\n",
       "      <th>destination_longitute</th>\n",
       "    </tr>\n",
       "  </thead>\n",
       "  <tbody>\n",
       "    <tr>\n",
       "      <th>0</th>\n",
       "      <td>1273716598</td>\n",
       "      <td>Monday</td>\n",
       "      <td>9</td>\n",
       "      <td>39.95541479</td>\n",
       "      <td>32.74967882</td>\n",
       "      <td>39.9534366</td>\n",
       "      <td>32.73633476</td>\n",
       "    </tr>\n",
       "    <tr>\n",
       "      <th>1</th>\n",
       "      <td>1278773183</td>\n",
       "      <td>Saturday</td>\n",
       "      <td>14</td>\n",
       "      <td>39.88519384</td>\n",
       "      <td>32.79207537</td>\n",
       "      <td>39.8944911</td>\n",
       "      <td>32.8090758</td>\n",
       "    </tr>\n",
       "    <tr>\n",
       "      <th>2</th>\n",
       "      <td>1288180189</td>\n",
       "      <td>Tuesday</td>\n",
       "      <td>18</td>\n",
       "      <td>39.88823416</td>\n",
       "      <td>32.83952448</td>\n",
       "      <td>39.8976332</td>\n",
       "      <td>32.8309648</td>\n",
       "    </tr>\n",
       "    <tr>\n",
       "      <th>3</th>\n",
       "      <td>1283497517</td>\n",
       "      <td>Thursday</td>\n",
       "      <td>18</td>\n",
       "      <td>39.8368727</td>\n",
       "      <td>32.807655</td>\n",
       "      <td>39.8287739</td>\n",
       "      <td>32.8112283</td>\n",
       "    </tr>\n",
       "    <tr>\n",
       "      <th>4</th>\n",
       "      <td>1278710560</td>\n",
       "      <td>Saturday</td>\n",
       "      <td>13</td>\n",
       "      <td>39.8621794</td>\n",
       "      <td>32.6052958</td>\n",
       "      <td>39.910998</td>\n",
       "      <td>32.5958411</td>\n",
       "    </tr>\n",
       "  </tbody>\n",
       "</table>\n",
       "</div>"
      ],
      "text/plain": [
       "    travel_id travel_day travel_hour source_latitute source_longitute  \\\n",
       "0  1273716598     Monday           9     39.95541479      32.74967882   \n",
       "1  1278773183   Saturday          14     39.88519384      32.79207537   \n",
       "2  1288180189    Tuesday          18     39.88823416      32.83952448   \n",
       "3  1283497517   Thursday          18      39.8368727        32.807655   \n",
       "4  1278710560   Saturday          13      39.8621794       32.6052958   \n",
       "\n",
       "  destination_latitute destination_longitute  \n",
       "0           39.9534366           32.73633476  \n",
       "1           39.8944911            32.8090758  \n",
       "2           39.8976332            32.8309648  \n",
       "3           39.8287739            32.8112283  \n",
       "4            39.910998            32.5958411  "
      ]
     },
     "execution_count": 135,
     "metadata": {},
     "output_type": "execute_result"
    }
   ],
   "source": [
    "estimate_df.head(5)"
   ]
  },
  {
   "cell_type": "code",
   "execution_count": 136,
   "metadata": {},
   "outputs": [
    {
     "data": {
      "text/plain": [
       "<bound method Series.isnull of 0        39.95541479\n",
       "1        39.88519384\n",
       "2        39.88823416\n",
       "3         39.8368727\n",
       "4         39.8621794\n",
       "5         39.8625094\n",
       "6         39.8529194\n",
       "7        39.88729332\n",
       "8         39.8523624\n",
       "9        39.92875387\n",
       "10        39.9099147\n",
       "11       39.85820237\n",
       "12       39.95474722\n",
       "13       39.92453482\n",
       "14        39.8440216\n",
       "15        39.9177806\n",
       "16       39.79045984\n",
       "17         39.852376\n",
       "18        39.9224294\n",
       "19       39.89658453\n",
       "20       39.96233465\n",
       "21       39.92070635\n",
       "22       39.95848562\n",
       "23        39.8415794\n",
       "24        39.9562022\n",
       "25       39.96539785\n",
       "26       39.89430334\n",
       "27       39.93435228\n",
       "28         39.898024\n",
       "29       39.95532324\n",
       "            ...     \n",
       "12461     39.8910294\n",
       "12462     39.8533894\n",
       "12463    39.92169668\n",
       "12464     39.8845394\n",
       "12465    39.86177923\n",
       "12466     39.7503933\n",
       "12467     39.8668833\n",
       "12468    39.84967159\n",
       "12469     39.8386545\n",
       "12470    39.94421865\n",
       "12471    39.96480536\n",
       "12472     39.9272894\n",
       "12473    39.88403799\n",
       "12474     39.7811305\n",
       "12475    39.93809988\n",
       "12476     39.9260111\n",
       "12477    39.88792135\n",
       "12478     39.7931856\n",
       "12479    39.85898687\n",
       "12480    39.88152792\n",
       "12481     39.9238994\n",
       "12482     39.8848794\n",
       "12483    39.84569647\n",
       "12484    39.88119223\n",
       "12485    39.79270269\n",
       "12486    39.99088385\n",
       "12487    39.87284907\n",
       "12488     40.0141268\n",
       "12489    39.90535833\n",
       "12490     39.9191065\n",
       "Name: source_latitute, Length: 12491, dtype: object>"
      ]
     },
     "execution_count": 136,
     "metadata": {},
     "output_type": "execute_result"
    }
   ],
   "source": [
    "estimate_df.source_latitute.isnull"
   ]
  },
  {
   "cell_type": "code",
   "execution_count": 137,
   "metadata": {},
   "outputs": [
    {
     "data": {
      "text/plain": [
       "<bound method Series.isnull of 0        32.74967882\n",
       "1        32.79207537\n",
       "2        32.83952448\n",
       "3          32.807655\n",
       "4         32.6052958\n",
       "5         32.7909758\n",
       "6         32.7919658\n",
       "7        32.81405651\n",
       "8         32.8332984\n",
       "9        32.61880228\n",
       "10        32.6980657\n",
       "11        32.7555429\n",
       "12       32.69234011\n",
       "13       32.70815584\n",
       "14        32.8637483\n",
       "15        32.7071288\n",
       "16       33.01915398\n",
       "17       32.81483576\n",
       "18        32.7013658\n",
       "19       32.76631853\n",
       "20       32.75693438\n",
       "21       32.70131463\n",
       "22       32.75583384\n",
       "23        32.8390958\n",
       "24        32.7135848\n",
       "25       32.75261614\n",
       "26       32.55979464\n",
       "27       32.74857434\n",
       "28        32.5504474\n",
       "29       32.73754809\n",
       "            ...     \n",
       "12461     32.7530558\n",
       "12462     32.7704158\n",
       "12463    32.72069475\n",
       "12464     32.8198958\n",
       "12465    32.88012812\n",
       "12466      32.953566\n",
       "12467    32.86490748\n",
       "12468     32.8366774\n",
       "12469     32.8307989\n",
       "12470    32.72515032\n",
       "12471     32.8244295\n",
       "12472     32.7291058\n",
       "12473    32.83808253\n",
       "12474     33.0396487\n",
       "12475    32.75175783\n",
       "12476    32.72282908\n",
       "12477    32.84522555\n",
       "12478     32.9957681\n",
       "12479    32.89207766\n",
       "12480    32.75941012\n",
       "12481     32.7242258\n",
       "12482     32.8355558\n",
       "12483    32.82056734\n",
       "12484    32.67620585\n",
       "12485    32.85385821\n",
       "12486    32.73331568\n",
       "12487    32.78721688\n",
       "12488    32.77051852\n",
       "12489    32.60610888\n",
       "12490     32.6693165\n",
       "Name: source_longitute, Length: 12491, dtype: object>"
      ]
     },
     "execution_count": 137,
     "metadata": {},
     "output_type": "execute_result"
    }
   ],
   "source": [
    "estimate_df.source_longitute.isnull"
   ]
  },
  {
   "cell_type": "code",
   "execution_count": 138,
   "metadata": {},
   "outputs": [
    {
     "data": {
      "text/plain": [
       "<bound method Series.isnull of 0         39.9534366\n",
       "1         39.8944911\n",
       "2         39.8976332\n",
       "3         39.8287739\n",
       "4          39.910998\n",
       "5         39.8837691\n",
       "6         39.8492447\n",
       "7         39.8509326\n",
       "8         39.8857661\n",
       "9         39.9221955\n",
       "10        39.9447722\n",
       "11       39.88026451\n",
       "12        39.9406965\n",
       "13        39.9176447\n",
       "14        39.8386284\n",
       "15        39.9151657\n",
       "16        39.7810763\n",
       "17        39.8717672\n",
       "18        39.9364561\n",
       "19        39.8784793\n",
       "20        39.9428024\n",
       "21        39.9249307\n",
       "22        39.9544466\n",
       "23        39.8323864\n",
       "24        39.9327202\n",
       "25        39.9591796\n",
       "26        -1.1268606\n",
       "27        39.9224763\n",
       "28        39.9105662\n",
       "29        39.8686151\n",
       "            ...     \n",
       "12461     39.8964478\n",
       "12462     39.8407744\n",
       "12463     39.9458136\n",
       "12464    39.88094605\n",
       "12465     39.8262475\n",
       "12466    39.75353248\n",
       "12467     39.8893238\n",
       "12468      39.781731\n",
       "12469     39.8414139\n",
       "12470     39.9892545\n",
       "12471       39.78133\n",
       "12472    39.91567947\n",
       "12473     39.8838215\n",
       "12474     39.7853047\n",
       "12475     39.9818834\n",
       "12476    39.94872579\n",
       "12477     39.8677158\n",
       "12478     39.7621877\n",
       "12479     39.8576575\n",
       "12480    39.83878746\n",
       "12481     39.9831753\n",
       "12482     39.8595483\n",
       "12483     39.8443663\n",
       "12484     39.9138142\n",
       "12485     39.7910668\n",
       "12486     39.9834414\n",
       "12487     39.8592235\n",
       "12488     39.9851615\n",
       "12489     39.8639143\n",
       "12490    39.93850486\n",
       "Name: destination_latitute, Length: 12491, dtype: object>"
      ]
     },
     "execution_count": 138,
     "metadata": {},
     "output_type": "execute_result"
    }
   ],
   "source": [
    "estimate_df.destination_latitute.isnull"
   ]
  },
  {
   "cell_type": "code",
   "execution_count": 139,
   "metadata": {
    "colab": {},
    "colab_type": "code",
    "id": "-jPXd330WW68"
   },
   "outputs": [
    {
     "data": {
      "text/plain": [
       "<bound method Series.isnull of 0        32.73633476\n",
       "1         32.8090758\n",
       "2         32.8309648\n",
       "3         32.8112283\n",
       "4         32.5958411\n",
       "5         32.8083972\n",
       "6         32.8043083\n",
       "7         32.8379877\n",
       "8         32.9223558\n",
       "9         32.6100317\n",
       "10        32.7280448\n",
       "11       32.76280046\n",
       "12         32.699159\n",
       "13        32.7012433\n",
       "14        32.8309388\n",
       "15       32.73135994\n",
       "16        33.0396868\n",
       "17        32.8692091\n",
       "18        32.7157559\n",
       "19         32.794593\n",
       "20        32.7277018\n",
       "21         32.710545\n",
       "22        32.7377399\n",
       "23        32.8302219\n",
       "24        32.7257942\n",
       "25        32.7714144\n",
       "26         3.7246258\n",
       "27        32.7295341\n",
       "28        32.5102798\n",
       "29        32.7640182\n",
       "            ...     \n",
       "12461     32.7420566\n",
       "12462     32.7892775\n",
       "12463     32.7437396\n",
       "12464    32.83653508\n",
       "12465     32.8156572\n",
       "12466    32.96639571\n",
       "12467      32.869931\n",
       "12468     33.0359635\n",
       "12469     32.8309144\n",
       "12470     32.7349761\n",
       "12471     33.0391856\n",
       "12472    32.73367049\n",
       "12473     32.8147457\n",
       "12474     32.8791729\n",
       "12475     32.7329808\n",
       "12476    32.76771651\n",
       "12477     32.8040379\n",
       "12478     32.9633241\n",
       "12479     32.8342558\n",
       "12480     32.8468919\n",
       "12481     32.7547537\n",
       "12482     32.8435561\n",
       "12483     32.8358182\n",
       "12484     32.7108703\n",
       "12485     32.8594981\n",
       "12486     32.7636728\n",
       "12487     32.8227188\n",
       "12488     32.7636364\n",
       "12489     32.5943807\n",
       "12490     32.7336969\n",
       "Name: destination_longitute, Length: 12491, dtype: object>"
      ]
     },
     "execution_count": 139,
     "metadata": {},
     "output_type": "execute_result"
    }
   ],
   "source": [
    "estimate_df.destination_longitute.isnull"
   ]
  },
  {
   "cell_type": "code",
   "execution_count": 140,
   "metadata": {
    "colab": {},
    "colab_type": "code",
    "id": "GpWMWmnTAuly"
   },
   "outputs": [
    {
     "data": {
      "text/plain": [
       "travel_id                 int64\n",
       "travel_day               object\n",
       "travel_hour              object\n",
       "source_latitute          object\n",
       "source_longitute         object\n",
       "destination_latitute     object\n",
       "destination_longitute    object\n",
       "dtype: object"
      ]
     },
     "execution_count": 140,
     "metadata": {},
     "output_type": "execute_result"
    }
   ],
   "source": [
    "estimate_df.dtypes"
   ]
  },
  {
   "cell_type": "code",
   "execution_count": 141,
   "metadata": {},
   "outputs": [
    {
     "data": {
      "text/plain": [
       "travel_time                           int64\n",
       "travel_hour                           int64\n",
       "additional3_travel_hour_category       int8\n",
       "additional2_travel_hour_category       int8\n",
       "additional1_travel_hour_category       int8\n",
       "travel_hour_category                   int8\n",
       "additional2_distance                float64\n",
       "distance                            float64\n",
       "additional1_distance                float64\n",
       "destination_latitute_category          int8\n",
       "source_latitute                     float64\n",
       "Friday                                uint8\n",
       "source_latitude_category               int8\n",
       "source_location_cluster               int32\n",
       "Saturday                              uint8\n",
       "Thursday                              uint8\n",
       "destination_location_cluster          int32\n",
       "travel_id                             int64\n",
       "destination_latitute                float64\n",
       "Monday                                uint8\n",
       "source_longitute                    float64\n",
       "source_longitute_category              int8\n",
       "destination_longitute               float64\n",
       "Sunday                                uint8\n",
       "destination_longitute_category         int8\n",
       "dtype: object"
      ]
     },
     "execution_count": 141,
     "metadata": {},
     "output_type": "execute_result"
    }
   ],
   "source": [
    "train_df3.dtypes"
   ]
  },
  {
   "cell_type": "code",
   "execution_count": 142,
   "metadata": {
    "colab": {},
    "colab_type": "code",
    "id": "bszyC4UcAuWv"
   },
   "outputs": [],
   "source": [
    "estimate_df['travel_hour'] = estimate_df['travel_hour'].astype(int)\n",
    "estimate_df['source_latitute'] = estimate_df['source_latitute'].astype(float)\n",
    "estimate_df['source_longitute'] = estimate_df['source_longitute'].astype(float)\n",
    "estimate_df['destination_latitute'] = estimate_df['destination_latitute'].astype(float)\n",
    "estimate_df['destination_longitute'] = estimate_df['destination_longitute'].astype(float)"
   ]
  },
  {
   "cell_type": "code",
   "execution_count": null,
   "metadata": {
    "colab": {
     "base_uri": "https://localhost:8080/",
     "height": 85
    },
    "colab_type": "code",
    "executionInfo": {
     "elapsed": 577,
     "status": "ok",
     "timestamp": 1582796334003,
     "user": {
      "displayName": "Eser İnan Arslan",
      "photoUrl": "https://lh3.googleusercontent.com/a-/AAuE7mAEXYsAQ5ofuOAq2VqhAAEj2Kib3xBlNNc3K0sfIQ=s64",
      "userId": "01966049699378036829"
     },
     "user_tz": -180
    },
    "id": "6ZCPBJZWj-aM",
    "outputId": "50a3c8b2-d66b-426c-9fd0-ea38f43cd08c"
   },
   "outputs": [],
   "source": []
  },
  {
   "cell_type": "code",
   "execution_count": 143,
   "metadata": {
    "colab": {},
    "colab_type": "code",
    "id": "qTZDnpsDj-YK"
   },
   "outputs": [
    {
     "name": "stdout",
     "output_type": "stream",
     "text": [
      "Method : auto    - Running Time : 0:00:00.002400 - Number of bins : 231   - Head : [38.74390509 38.74962315 38.75534121] - Tail : [40.04762328 40.05334134]\n",
      "Method : fd      - Running Time : 0:00:00.001159 - Number of bins : 231   - Head : [38.74390509 38.74962315 38.75534121] - Tail : [40.04762328 40.05334134]\n",
      "Method : doane   - Running Time : 0:00:00.001444 - Number of bins : 25    - Head : [38.74390509 38.79870319 38.85350128] - Tail : [39.94946321 40.0042613 ]\n",
      "Method : scott   - Running Time : 0:00:00.000575 - Number of bins : 100   - Head : [38.74390509 38.75718948 38.77047386] - Tail : [40.03249063 40.04577501]\n",
      "Method : stone   - Running Time : 0:00:00.018009 - Number of bins : 85    - Head : [38.74390509 38.75956169 38.77521829] - Tail : [40.0277462 40.0434028]\n",
      "Method : rice    - Running Time : 0:00:00.000522 - Number of bins : 48    - Head : [38.74390509 38.7718871  38.7998691 ] - Tail : [40.00309539 40.03107739]\n",
      "Method : sturges - Running Time : 0:00:00.000430 - Number of bins : 16    - Head : [38.74390509 38.83158204 38.919259  ] - Tail : [39.88370549 39.97138245]\n",
      "Method : sqrt    - Running Time : 0:00:00.000459 - Number of bins : 113   - Head : [38.74390509 38.75564754 38.76738999] - Tail : [40.0355745  40.04731695]\n"
     ]
    }
   ],
   "source": [
    "all_bins_source_latitude = []\n",
    "all_bins_source_latitude = get_columns_bins(estimate_df.source_latitute)"
   ]
  },
  {
   "cell_type": "code",
   "execution_count": 144,
   "metadata": {
    "colab": {
     "base_uri": "https://localhost:8080/",
     "height": 34
    },
    "colab_type": "code",
    "executionInfo": {
     "elapsed": 770,
     "status": "ok",
     "timestamp": 1582796376560,
     "user": {
      "displayName": "Eser İnan Arslan",
      "photoUrl": "https://lh3.googleusercontent.com/a-/AAuE7mAEXYsAQ5ofuOAq2VqhAAEj2Kib3xBlNNc3K0sfIQ=s64",
      "userId": "01966049699378036829"
     },
     "user_tz": -180
    },
    "id": "iuyIJQhgj-WX",
    "outputId": "8ee5fc5c-ebb3-4b50-f916-21f6a0a18246"
   },
   "outputs": [
    {
     "data": {
      "text/plain": [
       "array([37.74390509, 38.82395796, 38.88685665, 38.94975533, 39.01265401,\n",
       "       39.0755527 , 39.1212972 , 39.16704169, 39.22994038, 39.29283906,\n",
       "       39.35573775, 39.40148224, 39.44722674, 39.51012543, 39.57302411,\n",
       "       39.6359228 , 39.69882148, 39.74456598, 39.79031048, 39.85320916,\n",
       "       39.91610784, 39.97900653, 41.0590594 ])"
      ]
     },
     "execution_count": 144,
     "metadata": {},
     "output_type": "execute_result"
    },
    {
     "data": {
      "image/png": "[encoded data removed]",
      "text/plain": [
       "<Figure size 432x288 with 1 Axes>"
      ]
     },
     "metadata": {
      "needs_background": "light"
     },
     "output_type": "display_data"
    }
   ],
   "source": [
    "source_latitude_bin,label = get_clustering_bins(pd.Series(all_bins_source_latitude[0]), quantile=0.1, n_samples=20)\n",
    "estimate_df.source_latitute.hist(bins=source_latitude_bin)\n",
    "source_latitude_bin"
   ]
  },
  {
   "cell_type": "code",
   "execution_count": 145,
   "metadata": {
    "colab": {
     "base_uri": "https://localhost:8080/",
     "height": 51
    },
    "colab_type": "code",
    "executionInfo": {
     "elapsed": 746,
     "status": "ok",
     "timestamp": 1582796389357,
     "user": {
      "displayName": "Eser İnan Arslan",
      "photoUrl": "https://lh3.googleusercontent.com/a-/AAuE7mAEXYsAQ5ofuOAq2VqhAAEj2Kib3xBlNNc3K0sfIQ=s64",
      "userId": "01966049699378036829"
     },
     "user_tz": -180
    },
    "id": "Bq0gaXvgA_se",
    "outputId": "69291b73-1e72-44ff-b123-b7cc62e0731e"
   },
   "outputs": [
    {
     "data": {
      "text/plain": [
       "(23, (39.853, 39.916]    6043\n",
       " (39.916, 39.979]    3127\n",
       " (39.79, 39.853]     2472\n",
       " (39.745, 39.79]      493\n",
       " (39.979, 41.059]     258\n",
       " (37.743, 38.824]      52\n",
       " (39.699, 39.745]      35\n",
       " (39.636, 39.699]       6\n",
       " (38.824, 38.887]       5\n",
       " (39.573, 39.636]       0\n",
       " (39.51, 39.573]        0\n",
       " (39.447, 39.51]        0\n",
       " (39.401, 39.447]       0\n",
       " (39.293, 39.356]       0\n",
       " (39.23, 39.293]        0\n",
       " (39.167, 39.23]        0\n",
       " (39.121, 39.167]       0\n",
       " (39.076, 39.121]       0\n",
       " (39.013, 39.076]       0\n",
       " (38.95, 39.013]        0\n",
       " (38.887, 38.95]        0\n",
       " (39.356, 39.401]       0\n",
       " Name: source_latitute, dtype: int64)"
      ]
     },
     "execution_count": 145,
     "metadata": {},
     "output_type": "execute_result"
    }
   ],
   "source": [
    "len(source_latitude_bin) , estimate_df.source_latitute.value_counts(bins=source_latitude_bin)\n"
   ]
  },
  {
   "cell_type": "code",
   "execution_count": 146,
   "metadata": {
    "colab": {},
    "colab_type": "code",
    "id": "Uzx_kDr8A_i-"
   },
   "outputs": [],
   "source": [
    "estimate_df2 = estimate_df.copy()"
   ]
  },
  {
   "cell_type": "code",
   "execution_count": 147,
   "metadata": {
    "colab": {},
    "colab_type": "code",
    "id": "kvHLCLNuA_YB"
   },
   "outputs": [
    {
     "data": {
      "text/html": [
       "<div>\n",
       "<style scoped>\n",
       "    .dataframe tbody tr th:only-of-type {\n",
       "        vertical-align: middle;\n",
       "    }\n",
       "\n",
       "    .dataframe tbody tr th {\n",
       "        vertical-align: top;\n",
       "    }\n",
       "\n",
       "    .dataframe thead th {\n",
       "        text-align: right;\n",
       "    }\n",
       "</style>\n",
       "<table border=\"1\" class=\"dataframe\">\n",
       "  <thead>\n",
       "    <tr style=\"text-align: right;\">\n",
       "      <th></th>\n",
       "      <th>travel_id</th>\n",
       "      <th>travel_day</th>\n",
       "      <th>travel_hour</th>\n",
       "      <th>source_latitute</th>\n",
       "      <th>source_longitute</th>\n",
       "      <th>destination_latitute</th>\n",
       "      <th>destination_longitute</th>\n",
       "      <th>source_latitude_category</th>\n",
       "    </tr>\n",
       "  </thead>\n",
       "  <tbody>\n",
       "    <tr>\n",
       "      <th>0</th>\n",
       "      <td>1273716598</td>\n",
       "      <td>Monday</td>\n",
       "      <td>9</td>\n",
       "      <td>39.955415</td>\n",
       "      <td>32.749679</td>\n",
       "      <td>39.953437</td>\n",
       "      <td>32.736335</td>\n",
       "      <td>20</td>\n",
       "    </tr>\n",
       "    <tr>\n",
       "      <th>1</th>\n",
       "      <td>1278773183</td>\n",
       "      <td>Saturday</td>\n",
       "      <td>14</td>\n",
       "      <td>39.885194</td>\n",
       "      <td>32.792075</td>\n",
       "      <td>39.894491</td>\n",
       "      <td>32.809076</td>\n",
       "      <td>19</td>\n",
       "    </tr>\n",
       "    <tr>\n",
       "      <th>2</th>\n",
       "      <td>1288180189</td>\n",
       "      <td>Tuesday</td>\n",
       "      <td>18</td>\n",
       "      <td>39.888234</td>\n",
       "      <td>32.839524</td>\n",
       "      <td>39.897633</td>\n",
       "      <td>32.830965</td>\n",
       "      <td>19</td>\n",
       "    </tr>\n",
       "    <tr>\n",
       "      <th>3</th>\n",
       "      <td>1283497517</td>\n",
       "      <td>Thursday</td>\n",
       "      <td>18</td>\n",
       "      <td>39.836873</td>\n",
       "      <td>32.807655</td>\n",
       "      <td>39.828774</td>\n",
       "      <td>32.811228</td>\n",
       "      <td>18</td>\n",
       "    </tr>\n",
       "    <tr>\n",
       "      <th>4</th>\n",
       "      <td>1278710560</td>\n",
       "      <td>Saturday</td>\n",
       "      <td>13</td>\n",
       "      <td>39.862179</td>\n",
       "      <td>32.605296</td>\n",
       "      <td>39.910998</td>\n",
       "      <td>32.595841</td>\n",
       "      <td>19</td>\n",
       "    </tr>\n",
       "    <tr>\n",
       "      <th>12486</th>\n",
       "      <td>1282776916</td>\n",
       "      <td>Thursday</td>\n",
       "      <td>8</td>\n",
       "      <td>39.990884</td>\n",
       "      <td>32.733316</td>\n",
       "      <td>39.983441</td>\n",
       "      <td>32.763673</td>\n",
       "      <td>21</td>\n",
       "    </tr>\n",
       "    <tr>\n",
       "      <th>12487</th>\n",
       "      <td>1276198094</td>\n",
       "      <td>Thursday</td>\n",
       "      <td>8</td>\n",
       "      <td>39.872849</td>\n",
       "      <td>32.787217</td>\n",
       "      <td>39.859223</td>\n",
       "      <td>32.822719</td>\n",
       "      <td>19</td>\n",
       "    </tr>\n",
       "    <tr>\n",
       "      <th>12488</th>\n",
       "      <td>1276171241</td>\n",
       "      <td>Thursday</td>\n",
       "      <td>6</td>\n",
       "      <td>40.014127</td>\n",
       "      <td>32.770519</td>\n",
       "      <td>39.985161</td>\n",
       "      <td>32.763636</td>\n",
       "      <td>21</td>\n",
       "    </tr>\n",
       "    <tr>\n",
       "      <th>12489</th>\n",
       "      <td>1273242277</td>\n",
       "      <td>Sunday</td>\n",
       "      <td>15</td>\n",
       "      <td>39.905358</td>\n",
       "      <td>32.606109</td>\n",
       "      <td>39.863914</td>\n",
       "      <td>32.594381</td>\n",
       "      <td>19</td>\n",
       "    </tr>\n",
       "    <tr>\n",
       "      <th>12490</th>\n",
       "      <td>1275437144</td>\n",
       "      <td>Wednesday</td>\n",
       "      <td>10</td>\n",
       "      <td>39.919106</td>\n",
       "      <td>32.669317</td>\n",
       "      <td>39.938505</td>\n",
       "      <td>32.733697</td>\n",
       "      <td>20</td>\n",
       "    </tr>\n",
       "  </tbody>\n",
       "</table>\n",
       "</div>"
      ],
      "text/plain": [
       "        travel_id travel_day  travel_hour  source_latitute  source_longitute  \\\n",
       "0      1273716598     Monday            9        39.955415         32.749679   \n",
       "1      1278773183   Saturday           14        39.885194         32.792075   \n",
       "2      1288180189    Tuesday           18        39.888234         32.839524   \n",
       "3      1283497517   Thursday           18        39.836873         32.807655   \n",
       "4      1278710560   Saturday           13        39.862179         32.605296   \n",
       "12486  1282776916   Thursday            8        39.990884         32.733316   \n",
       "12487  1276198094   Thursday            8        39.872849         32.787217   \n",
       "12488  1276171241   Thursday            6        40.014127         32.770519   \n",
       "12489  1273242277     Sunday           15        39.905358         32.606109   \n",
       "12490  1275437144  Wednesday           10        39.919106         32.669317   \n",
       "\n",
       "       destination_latitute  destination_longitute  source_latitude_category  \n",
       "0                 39.953437              32.736335                        20  \n",
       "1                 39.894491              32.809076                        19  \n",
       "2                 39.897633              32.830965                        19  \n",
       "3                 39.828774              32.811228                        18  \n",
       "4                 39.910998              32.595841                        19  \n",
       "12486             39.983441              32.763673                        21  \n",
       "12487             39.859223              32.822719                        19  \n",
       "12488             39.985161              32.763636                        21  \n",
       "12489             39.863914              32.594381                        19  \n",
       "12490             39.938505              32.733697                        20  "
      ]
     },
     "execution_count": 147,
     "metadata": {},
     "output_type": "execute_result"
    }
   ],
   "source": [
    "estimate_df2['source_latitude_category'] = pd.cut(estimate_df2.source_latitute, source_latitude_bin).cat.codes\n",
    "estimate_df2.head(5).append(estimate_df2.tail(5))"
   ]
  },
  {
   "cell_type": "code",
   "execution_count": null,
   "metadata": {
    "colab": {},
    "colab_type": "code",
    "id": "mOdFHV3sj-QA"
   },
   "outputs": [],
   "source": []
  },
  {
   "cell_type": "code",
   "execution_count": 148,
   "metadata": {
    "colab": {},
    "colab_type": "code",
    "id": "rc7RedUEBQGb"
   },
   "outputs": [
    {
     "name": "stdout",
     "output_type": "stream",
     "text": [
      "Method : auto    - Running Time : 0:00:00.002064 - Number of bins : 412   - Head : [32.4159426  32.42621443 32.43648627] - Tail : [36.61712229 36.62739413]\n",
      "Method : fd      - Running Time : 0:00:00.000921 - Number of bins : 412   - Head : [32.4159426  32.42621443 32.43648627] - Tail : [36.61712229 36.62739413]\n",
      "Method : doane   - Running Time : 0:00:00.001401 - Number of bins : 25    - Head : [32.4159426  32.59184774 32.76775288] - Tail : [36.28585568 36.46176082]\n",
      "Method : scott   - Running Time : 0:00:00.000625 - Number of bins : 103   - Head : [32.4159426  32.45733204 32.49872149] - Tail : [36.55488707 36.59627652]\n",
      "Method : stone   - Running Time : 0:00:00.018275 - Number of bins : 106   - Head : [32.4159426  32.45614949 32.49635638] - Tail : [36.55725218 36.59745907]\n",
      "Method : rice    - Running Time : 0:00:00.000672 - Number of bins : 48    - Head : [32.4159426 32.5057665 32.5955904] - Tail : [36.45801816 36.54784206]\n",
      "Method : sturges - Running Time : 0:00:00.000537 - Number of bins : 16    - Head : [32.4159426  32.69739082 32.97883905] - Tail : [36.07476951 36.35621774]\n",
      "Method : sqrt    - Running Time : 0:00:00.000491 - Number of bins : 113   - Head : [32.4159426  32.45363656 32.49133052] - Tail : [36.56227804 36.599972  ]\n"
     ]
    }
   ],
   "source": [
    "all_bins_source_longitute = []\n",
    "all_bins_source_longitute = get_columns_bins(estimate_df.source_longitute)"
   ]
  },
  {
   "cell_type": "code",
   "execution_count": 149,
   "metadata": {
    "colab": {},
    "colab_type": "code",
    "id": "NaRebAi4BQC3"
   },
   "outputs": [
    {
     "data": {
      "text/plain": [
       "array([31.4159426 , 32.45702993, 32.51866093, 32.59056376, 32.66246659,\n",
       "       32.73436942, 32.80627225, 32.87817508, 32.95007792, 33.02198075,\n",
       "       33.09388358, 33.16578641, 33.23768924, 33.30959207, 33.3814949 ,\n",
       "       33.45339773, 33.52530056, 33.59720339, 33.68964989, 33.78209639,\n",
       "       33.85399922, 33.92590205, 33.99780488, 34.06970771, 34.14161054,\n",
       "       34.21351337, 34.2854162 , 34.35731904, 34.42922187, 34.5011247 ,\n",
       "       34.57302753, 34.64493036, 34.71683319, 34.78873602, 34.86063885,\n",
       "       34.95308535, 35.04553185, 35.11743468, 35.18933751, 35.26124034,\n",
       "       35.33314317, 35.405046  , 35.47694883, 35.54885166, 35.62075449,\n",
       "       35.69265732, 35.76456016, 35.83646299, 35.90836582, 35.98026865,\n",
       "       36.05217148, 36.12407431, 36.21652081, 36.3089673 , 36.38087014,\n",
       "       36.45277297, 36.5246758 , 36.57603496, 37.63766596])"
      ]
     },
     "execution_count": 149,
     "metadata": {},
     "output_type": "execute_result"
    },
    {
     "data": {
      "image/png": "[encoded data removed]",
      "text/plain": [
       "<Figure size 432x288 with 1 Axes>"
      ]
     },
     "metadata": {
      "needs_background": "light"
     },
     "output_type": "display_data"
    }
   ],
   "source": [
    "source_longitute_bin,label = get_clustering_bins(pd.Series(all_bins_source_longitute[0]), quantile=0.04, n_samples=70)\n",
    "estimate_df.source_longitute.hist(bins=source_longitute_bin)\n",
    "source_longitute_bin"
   ]
  },
  {
   "cell_type": "code",
   "execution_count": 150,
   "metadata": {
    "colab": {
     "base_uri": "https://localhost:8080/",
     "height": 34
    },
    "colab_type": "code",
    "id": "zm1MPOrnBQAZ",
    "outputId": "c89e4a1d-7628-4385-e992-0aeb08e37aee"
   },
   "outputs": [
    {
     "data": {
      "text/plain": [
       "(59, (32.806, 32.878]    3738\n",
       " (32.734, 32.806]    3321\n",
       " (32.662, 32.734]    2231\n",
       " (32.591, 32.662]     874\n",
       " (32.519, 32.591]     849\n",
       " (32.878, 32.95]      842\n",
       " (32.95, 33.022]      311\n",
       " (32.457, 32.519]     143\n",
       " (33.022, 33.094]      88\n",
       " (31.415, 32.457]      37\n",
       " (36.576, 37.638]      32\n",
       " (36.525, 36.576]      21\n",
       " (36.453, 36.525]       4\n",
       " (35.765, 35.836]       0\n",
       " (33.238, 33.31]        0\n",
       " (33.854, 33.926]       0\n",
       " (33.782, 33.854]       0\n",
       " (33.69, 33.782]        0\n",
       " (33.597, 33.69]        0\n",
       " (33.525, 33.597]       0\n",
       " (33.453, 33.525]       0\n",
       " (33.381, 33.453]       0\n",
       " (33.31, 33.381]        0\n",
       " (33.166, 33.238]       0\n",
       " (33.998, 34.07]        0\n",
       " (33.094, 33.166]       0\n",
       " (35.836, 35.908]       0\n",
       " (35.908, 35.98]        0\n",
       " (35.98, 36.052]        0\n",
       " (36.052, 36.124]       0\n",
       " (36.124, 36.217]       0\n",
       " (36.217, 36.309]       0\n",
       " (36.309, 36.381]       0\n",
       " (36.381, 36.453]       0\n",
       " (33.926, 33.998]       0\n",
       " (34.07, 34.142]        0\n",
       " (35.693, 35.765]       0\n",
       " (34.142, 34.214]       0\n",
       " (35.621, 35.693]       0\n",
       " (35.549, 35.621]       0\n",
       " (35.477, 35.549]       0\n",
       " (35.405, 35.477]       0\n",
       " (35.333, 35.405]       0\n",
       " (35.261, 35.333]       0\n",
       " (35.189, 35.261]       0\n",
       " (35.117, 35.189]       0\n",
       " (35.046, 35.117]       0\n",
       " (34.953, 35.046]       0\n",
       " (34.861, 34.953]       0\n",
       " (34.789, 34.861]       0\n",
       " (34.717, 34.789]       0\n",
       " (34.645, 34.717]       0\n",
       " (34.573, 34.645]       0\n",
       " (34.501, 34.573]       0\n",
       " (34.357, 34.429]       0\n",
       " (34.285, 34.357]       0\n",
       " (34.214, 34.285]       0\n",
       " (34.429, 34.501]       0\n",
       " Name: source_longitute, dtype: int64)"
      ]
     },
     "execution_count": 150,
     "metadata": {},
     "output_type": "execute_result"
    }
   ],
   "source": [
    "len(source_longitute_bin) , estimate_df.source_longitute.value_counts(bins=source_longitute_bin)\n"
   ]
  },
  {
   "cell_type": "code",
   "execution_count": 151,
   "metadata": {
    "colab": {},
    "colab_type": "code",
    "id": "3eT8es73BP-j"
   },
   "outputs": [
    {
     "data": {
      "text/html": [
       "<div>\n",
       "<style scoped>\n",
       "    .dataframe tbody tr th:only-of-type {\n",
       "        vertical-align: middle;\n",
       "    }\n",
       "\n",
       "    .dataframe tbody tr th {\n",
       "        vertical-align: top;\n",
       "    }\n",
       "\n",
       "    .dataframe thead th {\n",
       "        text-align: right;\n",
       "    }\n",
       "</style>\n",
       "<table border=\"1\" class=\"dataframe\">\n",
       "  <thead>\n",
       "    <tr style=\"text-align: right;\">\n",
       "      <th></th>\n",
       "      <th>travel_id</th>\n",
       "      <th>travel_day</th>\n",
       "      <th>travel_hour</th>\n",
       "      <th>source_latitute</th>\n",
       "      <th>source_longitute</th>\n",
       "      <th>destination_latitute</th>\n",
       "      <th>destination_longitute</th>\n",
       "      <th>source_latitude_category</th>\n",
       "      <th>source_longitute_category</th>\n",
       "    </tr>\n",
       "  </thead>\n",
       "  <tbody>\n",
       "    <tr>\n",
       "      <th>0</th>\n",
       "      <td>1273716598</td>\n",
       "      <td>Monday</td>\n",
       "      <td>9</td>\n",
       "      <td>39.955415</td>\n",
       "      <td>32.749679</td>\n",
       "      <td>39.953437</td>\n",
       "      <td>32.736335</td>\n",
       "      <td>20</td>\n",
       "      <td>5</td>\n",
       "    </tr>\n",
       "    <tr>\n",
       "      <th>1</th>\n",
       "      <td>1278773183</td>\n",
       "      <td>Saturday</td>\n",
       "      <td>14</td>\n",
       "      <td>39.885194</td>\n",
       "      <td>32.792075</td>\n",
       "      <td>39.894491</td>\n",
       "      <td>32.809076</td>\n",
       "      <td>19</td>\n",
       "      <td>5</td>\n",
       "    </tr>\n",
       "    <tr>\n",
       "      <th>2</th>\n",
       "      <td>1288180189</td>\n",
       "      <td>Tuesday</td>\n",
       "      <td>18</td>\n",
       "      <td>39.888234</td>\n",
       "      <td>32.839524</td>\n",
       "      <td>39.897633</td>\n",
       "      <td>32.830965</td>\n",
       "      <td>19</td>\n",
       "      <td>6</td>\n",
       "    </tr>\n",
       "    <tr>\n",
       "      <th>3</th>\n",
       "      <td>1283497517</td>\n",
       "      <td>Thursday</td>\n",
       "      <td>18</td>\n",
       "      <td>39.836873</td>\n",
       "      <td>32.807655</td>\n",
       "      <td>39.828774</td>\n",
       "      <td>32.811228</td>\n",
       "      <td>18</td>\n",
       "      <td>6</td>\n",
       "    </tr>\n",
       "    <tr>\n",
       "      <th>4</th>\n",
       "      <td>1278710560</td>\n",
       "      <td>Saturday</td>\n",
       "      <td>13</td>\n",
       "      <td>39.862179</td>\n",
       "      <td>32.605296</td>\n",
       "      <td>39.910998</td>\n",
       "      <td>32.595841</td>\n",
       "      <td>19</td>\n",
       "      <td>3</td>\n",
       "    </tr>\n",
       "    <tr>\n",
       "      <th>12486</th>\n",
       "      <td>1282776916</td>\n",
       "      <td>Thursday</td>\n",
       "      <td>8</td>\n",
       "      <td>39.990884</td>\n",
       "      <td>32.733316</td>\n",
       "      <td>39.983441</td>\n",
       "      <td>32.763673</td>\n",
       "      <td>21</td>\n",
       "      <td>4</td>\n",
       "    </tr>\n",
       "    <tr>\n",
       "      <th>12487</th>\n",
       "      <td>1276198094</td>\n",
       "      <td>Thursday</td>\n",
       "      <td>8</td>\n",
       "      <td>39.872849</td>\n",
       "      <td>32.787217</td>\n",
       "      <td>39.859223</td>\n",
       "      <td>32.822719</td>\n",
       "      <td>19</td>\n",
       "      <td>5</td>\n",
       "    </tr>\n",
       "    <tr>\n",
       "      <th>12488</th>\n",
       "      <td>1276171241</td>\n",
       "      <td>Thursday</td>\n",
       "      <td>6</td>\n",
       "      <td>40.014127</td>\n",
       "      <td>32.770519</td>\n",
       "      <td>39.985161</td>\n",
       "      <td>32.763636</td>\n",
       "      <td>21</td>\n",
       "      <td>5</td>\n",
       "    </tr>\n",
       "    <tr>\n",
       "      <th>12489</th>\n",
       "      <td>1273242277</td>\n",
       "      <td>Sunday</td>\n",
       "      <td>15</td>\n",
       "      <td>39.905358</td>\n",
       "      <td>32.606109</td>\n",
       "      <td>39.863914</td>\n",
       "      <td>32.594381</td>\n",
       "      <td>19</td>\n",
       "      <td>3</td>\n",
       "    </tr>\n",
       "    <tr>\n",
       "      <th>12490</th>\n",
       "      <td>1275437144</td>\n",
       "      <td>Wednesday</td>\n",
       "      <td>10</td>\n",
       "      <td>39.919106</td>\n",
       "      <td>32.669317</td>\n",
       "      <td>39.938505</td>\n",
       "      <td>32.733697</td>\n",
       "      <td>20</td>\n",
       "      <td>4</td>\n",
       "    </tr>\n",
       "  </tbody>\n",
       "</table>\n",
       "</div>"
      ],
      "text/plain": [
       "        travel_id travel_day  travel_hour  source_latitute  source_longitute  \\\n",
       "0      1273716598     Monday            9        39.955415         32.749679   \n",
       "1      1278773183   Saturday           14        39.885194         32.792075   \n",
       "2      1288180189    Tuesday           18        39.888234         32.839524   \n",
       "3      1283497517   Thursday           18        39.836873         32.807655   \n",
       "4      1278710560   Saturday           13        39.862179         32.605296   \n",
       "12486  1282776916   Thursday            8        39.990884         32.733316   \n",
       "12487  1276198094   Thursday            8        39.872849         32.787217   \n",
       "12488  1276171241   Thursday            6        40.014127         32.770519   \n",
       "12489  1273242277     Sunday           15        39.905358         32.606109   \n",
       "12490  1275437144  Wednesday           10        39.919106         32.669317   \n",
       "\n",
       "       destination_latitute  destination_longitute  source_latitude_category  \\\n",
       "0                 39.953437              32.736335                        20   \n",
       "1                 39.894491              32.809076                        19   \n",
       "2                 39.897633              32.830965                        19   \n",
       "3                 39.828774              32.811228                        18   \n",
       "4                 39.910998              32.595841                        19   \n",
       "12486             39.983441              32.763673                        21   \n",
       "12487             39.859223              32.822719                        19   \n",
       "12488             39.985161              32.763636                        21   \n",
       "12489             39.863914              32.594381                        19   \n",
       "12490             39.938505              32.733697                        20   \n",
       "\n",
       "       source_longitute_category  \n",
       "0                              5  \n",
       "1                              5  \n",
       "2                              6  \n",
       "3                              6  \n",
       "4                              3  \n",
       "12486                          4  \n",
       "12487                          5  \n",
       "12488                          5  \n",
       "12489                          3  \n",
       "12490                          4  "
      ]
     },
     "execution_count": 151,
     "metadata": {},
     "output_type": "execute_result"
    }
   ],
   "source": [
    "estimate_df2['source_longitute_category'] = pd.cut(estimate_df.source_longitute, source_longitute_bin).cat.codes\n",
    "estimate_df2.head(5).append(estimate_df2.tail(5))"
   ]
  },
  {
   "cell_type": "code",
   "execution_count": null,
   "metadata": {
    "colab": {},
    "colab_type": "code",
    "id": "Hw7_cOvwBP73"
   },
   "outputs": [],
   "source": []
  },
  {
   "cell_type": "code",
   "execution_count": 152,
   "metadata": {
    "colab": {},
    "colab_type": "code",
    "id": "Zn4lvwpeBP6K"
   },
   "outputs": [
    {
     "data": {
      "text/plain": [
       "<matplotlib.axes._subplots.AxesSubplot at 0x7f291a72bbe0>"
      ]
     },
     "execution_count": 152,
     "metadata": {},
     "output_type": "execute_result"
    },
    {
     "data": {
      "image/png": "[encoded data removed]",
      "text/plain": [
       "<Figure size 432x288 with 1 Axes>"
      ]
     },
     "metadata": {
      "needs_background": "light"
     },
     "output_type": "display_data"
    }
   ],
   "source": [
    "final_destination_latitute_bins = [-2, 0, 39, 39.7, 39.8, 39.82, 39.84, 39.86, 39.87, 39.88, 39.89, 39.9, 39.92, 39.94, 39.96, 39.98, 40, 40.1, 41.5 ]\n",
    "estimate_df.destination_latitute.hist(bins=final_destination_latitute_bins)"
   ]
  },
  {
   "cell_type": "code",
   "execution_count": 153,
   "metadata": {
    "colab": {},
    "colab_type": "code",
    "id": "En1U8KbABP4A"
   },
   "outputs": [
    {
     "data": {
      "text/plain": [
       "(19, (39.84, 39.86]    1981\n",
       " (39.92, 39.94]    1333\n",
       " (39.9, 39.92]     1325\n",
       " (39.86, 39.87]    1188\n",
       " (39.87, 39.88]    1124\n",
       " (39.94, 39.96]    1033\n",
       " (39.88, 39.89]     994\n",
       " (39.89, 39.9]      985\n",
       " (39.7, 39.8]       804\n",
       " (39.82, 39.84]     741\n",
       " (39.8, 39.82]      301\n",
       " (39.96, 39.98]     299\n",
       " (39.98, 40.0]      251\n",
       " (0.0, 39.0]         57\n",
       " (40.0, 40.1]        57\n",
       " (39.0, 39.7]        11\n",
       " (-2.001, 0.0]        7\n",
       " (40.1, 41.5]         0\n",
       " Name: destination_latitute, dtype: int64)"
      ]
     },
     "execution_count": 153,
     "metadata": {},
     "output_type": "execute_result"
    }
   ],
   "source": [
    "len(final_destination_latitute_bins),estimate_df.destination_latitute.value_counts(bins=final_destination_latitute_bins)"
   ]
  },
  {
   "cell_type": "code",
   "execution_count": 154,
   "metadata": {
    "colab": {},
    "colab_type": "code",
    "id": "m0aki3vWBP0W"
   },
   "outputs": [
    {
     "data": {
      "text/html": [
       "<div>\n",
       "<style scoped>\n",
       "    .dataframe tbody tr th:only-of-type {\n",
       "        vertical-align: middle;\n",
       "    }\n",
       "\n",
       "    .dataframe tbody tr th {\n",
       "        vertical-align: top;\n",
       "    }\n",
       "\n",
       "    .dataframe thead th {\n",
       "        text-align: right;\n",
       "    }\n",
       "</style>\n",
       "<table border=\"1\" class=\"dataframe\">\n",
       "  <thead>\n",
       "    <tr style=\"text-align: right;\">\n",
       "      <th></th>\n",
       "      <th>travel_id</th>\n",
       "      <th>travel_day</th>\n",
       "      <th>travel_hour</th>\n",
       "      <th>source_latitute</th>\n",
       "      <th>source_longitute</th>\n",
       "      <th>destination_latitute</th>\n",
       "      <th>destination_longitute</th>\n",
       "      <th>source_latitude_category</th>\n",
       "      <th>source_longitute_category</th>\n",
       "      <th>destination_latitute_category</th>\n",
       "    </tr>\n",
       "  </thead>\n",
       "  <tbody>\n",
       "    <tr>\n",
       "      <th>0</th>\n",
       "      <td>1273716598</td>\n",
       "      <td>Monday</td>\n",
       "      <td>9</td>\n",
       "      <td>39.955415</td>\n",
       "      <td>32.749679</td>\n",
       "      <td>39.953437</td>\n",
       "      <td>32.736335</td>\n",
       "      <td>20</td>\n",
       "      <td>5</td>\n",
       "      <td>13</td>\n",
       "    </tr>\n",
       "    <tr>\n",
       "      <th>1</th>\n",
       "      <td>1278773183</td>\n",
       "      <td>Saturday</td>\n",
       "      <td>14</td>\n",
       "      <td>39.885194</td>\n",
       "      <td>32.792075</td>\n",
       "      <td>39.894491</td>\n",
       "      <td>32.809076</td>\n",
       "      <td>19</td>\n",
       "      <td>5</td>\n",
       "      <td>10</td>\n",
       "    </tr>\n",
       "    <tr>\n",
       "      <th>2</th>\n",
       "      <td>1288180189</td>\n",
       "      <td>Tuesday</td>\n",
       "      <td>18</td>\n",
       "      <td>39.888234</td>\n",
       "      <td>32.839524</td>\n",
       "      <td>39.897633</td>\n",
       "      <td>32.830965</td>\n",
       "      <td>19</td>\n",
       "      <td>6</td>\n",
       "      <td>10</td>\n",
       "    </tr>\n",
       "    <tr>\n",
       "      <th>3</th>\n",
       "      <td>1283497517</td>\n",
       "      <td>Thursday</td>\n",
       "      <td>18</td>\n",
       "      <td>39.836873</td>\n",
       "      <td>32.807655</td>\n",
       "      <td>39.828774</td>\n",
       "      <td>32.811228</td>\n",
       "      <td>18</td>\n",
       "      <td>6</td>\n",
       "      <td>5</td>\n",
       "    </tr>\n",
       "    <tr>\n",
       "      <th>4</th>\n",
       "      <td>1278710560</td>\n",
       "      <td>Saturday</td>\n",
       "      <td>13</td>\n",
       "      <td>39.862179</td>\n",
       "      <td>32.605296</td>\n",
       "      <td>39.910998</td>\n",
       "      <td>32.595841</td>\n",
       "      <td>19</td>\n",
       "      <td>3</td>\n",
       "      <td>11</td>\n",
       "    </tr>\n",
       "    <tr>\n",
       "      <th>12486</th>\n",
       "      <td>1282776916</td>\n",
       "      <td>Thursday</td>\n",
       "      <td>8</td>\n",
       "      <td>39.990884</td>\n",
       "      <td>32.733316</td>\n",
       "      <td>39.983441</td>\n",
       "      <td>32.763673</td>\n",
       "      <td>21</td>\n",
       "      <td>4</td>\n",
       "      <td>15</td>\n",
       "    </tr>\n",
       "    <tr>\n",
       "      <th>12487</th>\n",
       "      <td>1276198094</td>\n",
       "      <td>Thursday</td>\n",
       "      <td>8</td>\n",
       "      <td>39.872849</td>\n",
       "      <td>32.787217</td>\n",
       "      <td>39.859223</td>\n",
       "      <td>32.822719</td>\n",
       "      <td>19</td>\n",
       "      <td>5</td>\n",
       "      <td>6</td>\n",
       "    </tr>\n",
       "    <tr>\n",
       "      <th>12488</th>\n",
       "      <td>1276171241</td>\n",
       "      <td>Thursday</td>\n",
       "      <td>6</td>\n",
       "      <td>40.014127</td>\n",
       "      <td>32.770519</td>\n",
       "      <td>39.985161</td>\n",
       "      <td>32.763636</td>\n",
       "      <td>21</td>\n",
       "      <td>5</td>\n",
       "      <td>15</td>\n",
       "    </tr>\n",
       "    <tr>\n",
       "      <th>12489</th>\n",
       "      <td>1273242277</td>\n",
       "      <td>Sunday</td>\n",
       "      <td>15</td>\n",
       "      <td>39.905358</td>\n",
       "      <td>32.606109</td>\n",
       "      <td>39.863914</td>\n",
       "      <td>32.594381</td>\n",
       "      <td>19</td>\n",
       "      <td>3</td>\n",
       "      <td>7</td>\n",
       "    </tr>\n",
       "    <tr>\n",
       "      <th>12490</th>\n",
       "      <td>1275437144</td>\n",
       "      <td>Wednesday</td>\n",
       "      <td>10</td>\n",
       "      <td>39.919106</td>\n",
       "      <td>32.669317</td>\n",
       "      <td>39.938505</td>\n",
       "      <td>32.733697</td>\n",
       "      <td>20</td>\n",
       "      <td>4</td>\n",
       "      <td>12</td>\n",
       "    </tr>\n",
       "  </tbody>\n",
       "</table>\n",
       "</div>"
      ],
      "text/plain": [
       "        travel_id travel_day  travel_hour  source_latitute  source_longitute  \\\n",
       "0      1273716598     Monday            9        39.955415         32.749679   \n",
       "1      1278773183   Saturday           14        39.885194         32.792075   \n",
       "2      1288180189    Tuesday           18        39.888234         32.839524   \n",
       "3      1283497517   Thursday           18        39.836873         32.807655   \n",
       "4      1278710560   Saturday           13        39.862179         32.605296   \n",
       "12486  1282776916   Thursday            8        39.990884         32.733316   \n",
       "12487  1276198094   Thursday            8        39.872849         32.787217   \n",
       "12488  1276171241   Thursday            6        40.014127         32.770519   \n",
       "12489  1273242277     Sunday           15        39.905358         32.606109   \n",
       "12490  1275437144  Wednesday           10        39.919106         32.669317   \n",
       "\n",
       "       destination_latitute  destination_longitute  source_latitude_category  \\\n",
       "0                 39.953437              32.736335                        20   \n",
       "1                 39.894491              32.809076                        19   \n",
       "2                 39.897633              32.830965                        19   \n",
       "3                 39.828774              32.811228                        18   \n",
       "4                 39.910998              32.595841                        19   \n",
       "12486             39.983441              32.763673                        21   \n",
       "12487             39.859223              32.822719                        19   \n",
       "12488             39.985161              32.763636                        21   \n",
       "12489             39.863914              32.594381                        19   \n",
       "12490             39.938505              32.733697                        20   \n",
       "\n",
       "       source_longitute_category  destination_latitute_category  \n",
       "0                              5                             13  \n",
       "1                              5                             10  \n",
       "2                              6                             10  \n",
       "3                              6                              5  \n",
       "4                              3                             11  \n",
       "12486                          4                             15  \n",
       "12487                          5                              6  \n",
       "12488                          5                             15  \n",
       "12489                          3                              7  \n",
       "12490                          4                             12  "
      ]
     },
     "execution_count": 154,
     "metadata": {},
     "output_type": "execute_result"
    }
   ],
   "source": [
    "estimate_df2['destination_latitute_category'] = pd.cut(estimate_df.destination_latitute, final_destination_latitute_bins).cat.codes\n",
    "estimate_df2.head(5).append(estimate_df2.tail(5))"
   ]
  },
  {
   "cell_type": "code",
   "execution_count": null,
   "metadata": {
    "colab": {},
    "colab_type": "code",
    "id": "hqntK9fQBPvg"
   },
   "outputs": [],
   "source": []
  },
  {
   "cell_type": "code",
   "execution_count": 155,
   "metadata": {
    "colab": {},
    "colab_type": "code",
    "id": "bXEYF3Jbj-MQ"
   },
   "outputs": [
    {
     "data": {
      "text/plain": [
       "<matplotlib.axes._subplots.AxesSubplot at 0x7f291a62db70>"
      ]
     },
     "execution_count": 155,
     "metadata": {},
     "output_type": "execute_result"
    },
    {
     "data": {
      "image/png": "[encoded data removed]",
      "text/plain": [
       "<Figure size 432x288 with 1 Axes>"
      ]
     },
     "metadata": {
      "needs_background": "light"
     },
     "output_type": "display_data"
    }
   ],
   "source": [
    "final_destination_longitute_bins = [3, 32.2, 32.4, 32.6, 32.65, 32.7, 32.73, 32.76, 32.8, 32.83, 32.86, 32.9, 33, 34, 38]\n",
    "estimate_df.destination_longitute.hist(bins=final_destination_longitute_bins)"
   ]
  },
  {
   "cell_type": "code",
   "execution_count": 156,
   "metadata": {},
   "outputs": [
    {
     "data": {
      "text/plain": [
       "(15, (32.73, 32.76]    1797\n",
       " (32.76, 32.8]     1728\n",
       " (32.8, 32.83]     1717\n",
       " (32.83, 32.86]    1521\n",
       " (32.7, 32.73]     1385\n",
       " (32.4, 32.6]      1226\n",
       " (32.86, 32.9]      937\n",
       " (32.9, 33.0]       741\n",
       " (32.65, 32.7]      602\n",
       " (32.6, 32.65]      532\n",
       " (33.0, 34.0]       224\n",
       " (34.0, 38.0]        57\n",
       " (32.2, 32.4]        16\n",
       " (2.999, 32.2]        8\n",
       " Name: destination_longitute, dtype: int64)"
      ]
     },
     "execution_count": 156,
     "metadata": {},
     "output_type": "execute_result"
    }
   ],
   "source": [
    "len(final_destination_longitute_bins),estimate_df.destination_longitute.value_counts(bins=final_destination_longitute_bins)"
   ]
  },
  {
   "cell_type": "code",
   "execution_count": 157,
   "metadata": {},
   "outputs": [
    {
     "data": {
      "text/html": [
       "<div>\n",
       "<style scoped>\n",
       "    .dataframe tbody tr th:only-of-type {\n",
       "        vertical-align: middle;\n",
       "    }\n",
       "\n",
       "    .dataframe tbody tr th {\n",
       "        vertical-align: top;\n",
       "    }\n",
       "\n",
       "    .dataframe thead th {\n",
       "        text-align: right;\n",
       "    }\n",
       "</style>\n",
       "<table border=\"1\" class=\"dataframe\">\n",
       "  <thead>\n",
       "    <tr style=\"text-align: right;\">\n",
       "      <th></th>\n",
       "      <th>travel_id</th>\n",
       "      <th>travel_day</th>\n",
       "      <th>travel_hour</th>\n",
       "      <th>source_latitute</th>\n",
       "      <th>source_longitute</th>\n",
       "      <th>destination_latitute</th>\n",
       "      <th>destination_longitute</th>\n",
       "      <th>source_latitude_category</th>\n",
       "      <th>source_longitute_category</th>\n",
       "      <th>destination_latitute_category</th>\n",
       "      <th>destination_longitute_category</th>\n",
       "    </tr>\n",
       "  </thead>\n",
       "  <tbody>\n",
       "    <tr>\n",
       "      <th>0</th>\n",
       "      <td>1273716598</td>\n",
       "      <td>Monday</td>\n",
       "      <td>9</td>\n",
       "      <td>39.955415</td>\n",
       "      <td>32.749679</td>\n",
       "      <td>39.953437</td>\n",
       "      <td>32.736335</td>\n",
       "      <td>20</td>\n",
       "      <td>5</td>\n",
       "      <td>13</td>\n",
       "      <td>6</td>\n",
       "    </tr>\n",
       "    <tr>\n",
       "      <th>1</th>\n",
       "      <td>1278773183</td>\n",
       "      <td>Saturday</td>\n",
       "      <td>14</td>\n",
       "      <td>39.885194</td>\n",
       "      <td>32.792075</td>\n",
       "      <td>39.894491</td>\n",
       "      <td>32.809076</td>\n",
       "      <td>19</td>\n",
       "      <td>5</td>\n",
       "      <td>10</td>\n",
       "      <td>8</td>\n",
       "    </tr>\n",
       "    <tr>\n",
       "      <th>2</th>\n",
       "      <td>1288180189</td>\n",
       "      <td>Tuesday</td>\n",
       "      <td>18</td>\n",
       "      <td>39.888234</td>\n",
       "      <td>32.839524</td>\n",
       "      <td>39.897633</td>\n",
       "      <td>32.830965</td>\n",
       "      <td>19</td>\n",
       "      <td>6</td>\n",
       "      <td>10</td>\n",
       "      <td>9</td>\n",
       "    </tr>\n",
       "    <tr>\n",
       "      <th>3</th>\n",
       "      <td>1283497517</td>\n",
       "      <td>Thursday</td>\n",
       "      <td>18</td>\n",
       "      <td>39.836873</td>\n",
       "      <td>32.807655</td>\n",
       "      <td>39.828774</td>\n",
       "      <td>32.811228</td>\n",
       "      <td>18</td>\n",
       "      <td>6</td>\n",
       "      <td>5</td>\n",
       "      <td>8</td>\n",
       "    </tr>\n",
       "    <tr>\n",
       "      <th>4</th>\n",
       "      <td>1278710560</td>\n",
       "      <td>Saturday</td>\n",
       "      <td>13</td>\n",
       "      <td>39.862179</td>\n",
       "      <td>32.605296</td>\n",
       "      <td>39.910998</td>\n",
       "      <td>32.595841</td>\n",
       "      <td>19</td>\n",
       "      <td>3</td>\n",
       "      <td>11</td>\n",
       "      <td>2</td>\n",
       "    </tr>\n",
       "    <tr>\n",
       "      <th>12486</th>\n",
       "      <td>1282776916</td>\n",
       "      <td>Thursday</td>\n",
       "      <td>8</td>\n",
       "      <td>39.990884</td>\n",
       "      <td>32.733316</td>\n",
       "      <td>39.983441</td>\n",
       "      <td>32.763673</td>\n",
       "      <td>21</td>\n",
       "      <td>4</td>\n",
       "      <td>15</td>\n",
       "      <td>7</td>\n",
       "    </tr>\n",
       "    <tr>\n",
       "      <th>12487</th>\n",
       "      <td>1276198094</td>\n",
       "      <td>Thursday</td>\n",
       "      <td>8</td>\n",
       "      <td>39.872849</td>\n",
       "      <td>32.787217</td>\n",
       "      <td>39.859223</td>\n",
       "      <td>32.822719</td>\n",
       "      <td>19</td>\n",
       "      <td>5</td>\n",
       "      <td>6</td>\n",
       "      <td>8</td>\n",
       "    </tr>\n",
       "    <tr>\n",
       "      <th>12488</th>\n",
       "      <td>1276171241</td>\n",
       "      <td>Thursday</td>\n",
       "      <td>6</td>\n",
       "      <td>40.014127</td>\n",
       "      <td>32.770519</td>\n",
       "      <td>39.985161</td>\n",
       "      <td>32.763636</td>\n",
       "      <td>21</td>\n",
       "      <td>5</td>\n",
       "      <td>15</td>\n",
       "      <td>7</td>\n",
       "    </tr>\n",
       "    <tr>\n",
       "      <th>12489</th>\n",
       "      <td>1273242277</td>\n",
       "      <td>Sunday</td>\n",
       "      <td>15</td>\n",
       "      <td>39.905358</td>\n",
       "      <td>32.606109</td>\n",
       "      <td>39.863914</td>\n",
       "      <td>32.594381</td>\n",
       "      <td>19</td>\n",
       "      <td>3</td>\n",
       "      <td>7</td>\n",
       "      <td>2</td>\n",
       "    </tr>\n",
       "    <tr>\n",
       "      <th>12490</th>\n",
       "      <td>1275437144</td>\n",
       "      <td>Wednesday</td>\n",
       "      <td>10</td>\n",
       "      <td>39.919106</td>\n",
       "      <td>32.669317</td>\n",
       "      <td>39.938505</td>\n",
       "      <td>32.733697</td>\n",
       "      <td>20</td>\n",
       "      <td>4</td>\n",
       "      <td>12</td>\n",
       "      <td>6</td>\n",
       "    </tr>\n",
       "  </tbody>\n",
       "</table>\n",
       "</div>"
      ],
      "text/plain": [
       "        travel_id travel_day  travel_hour  source_latitute  source_longitute  \\\n",
       "0      1273716598     Monday            9        39.955415         32.749679   \n",
       "1      1278773183   Saturday           14        39.885194         32.792075   \n",
       "2      1288180189    Tuesday           18        39.888234         32.839524   \n",
       "3      1283497517   Thursday           18        39.836873         32.807655   \n",
       "4      1278710560   Saturday           13        39.862179         32.605296   \n",
       "12486  1282776916   Thursday            8        39.990884         32.733316   \n",
       "12487  1276198094   Thursday            8        39.872849         32.787217   \n",
       "12488  1276171241   Thursday            6        40.014127         32.770519   \n",
       "12489  1273242277     Sunday           15        39.905358         32.606109   \n",
       "12490  1275437144  Wednesday           10        39.919106         32.669317   \n",
       "\n",
       "       destination_latitute  destination_longitute  source_latitude_category  \\\n",
       "0                 39.953437              32.736335                        20   \n",
       "1                 39.894491              32.809076                        19   \n",
       "2                 39.897633              32.830965                        19   \n",
       "3                 39.828774              32.811228                        18   \n",
       "4                 39.910998              32.595841                        19   \n",
       "12486             39.983441              32.763673                        21   \n",
       "12487             39.859223              32.822719                        19   \n",
       "12488             39.985161              32.763636                        21   \n",
       "12489             39.863914              32.594381                        19   \n",
       "12490             39.938505              32.733697                        20   \n",
       "\n",
       "       source_longitute_category  destination_latitute_category  \\\n",
       "0                              5                             13   \n",
       "1                              5                             10   \n",
       "2                              6                             10   \n",
       "3                              6                              5   \n",
       "4                              3                             11   \n",
       "12486                          4                             15   \n",
       "12487                          5                              6   \n",
       "12488                          5                             15   \n",
       "12489                          3                              7   \n",
       "12490                          4                             12   \n",
       "\n",
       "       destination_longitute_category  \n",
       "0                                   6  \n",
       "1                                   8  \n",
       "2                                   9  \n",
       "3                                   8  \n",
       "4                                   2  \n",
       "12486                               7  \n",
       "12487                               8  \n",
       "12488                               7  \n",
       "12489                               2  \n",
       "12490                               6  "
      ]
     },
     "execution_count": 157,
     "metadata": {},
     "output_type": "execute_result"
    }
   ],
   "source": [
    "estimate_df2['destination_longitute_category'] = pd.cut(estimate_df.destination_longitute, final_destination_longitute_bins).cat.codes\n",
    "estimate_df2.head(5).append(estimate_df2.tail(5))"
   ]
  },
  {
   "cell_type": "code",
   "execution_count": null,
   "metadata": {},
   "outputs": [],
   "source": []
  },
  {
   "cell_type": "code",
   "execution_count": 158,
   "metadata": {},
   "outputs": [],
   "source": [
    "estimate_source_location_df = estimate_df2.copy()\n",
    "estimate_destination_location_df = estimate_df2.copy()"
   ]
  },
  {
   "cell_type": "code",
   "execution_count": 159,
   "metadata": {},
   "outputs": [],
   "source": [
    "estimate_source_location_df = estimate_source_location_df.drop(columns=['travel_id', 'travel_day', 'travel_hour','destination_latitute', 'destination_longitute', 'destination_latitute_category', 'destination_longitute_category'])\n",
    "estimate_destination_location_df = estimate_destination_location_df.drop(columns=['travel_id', 'travel_day', 'travel_hour', 'source_latitute', 'source_longitute', 'source_latitude_category', 'source_longitute_category'])"
   ]
  },
  {
   "cell_type": "code",
   "execution_count": 160,
   "metadata": {},
   "outputs": [
    {
     "data": {
      "text/plain": [
       "source_latitute              float64\n",
       "source_longitute             float64\n",
       "source_latitude_category        int8\n",
       "source_longitute_category       int8\n",
       "dtype: object"
      ]
     },
     "execution_count": 160,
     "metadata": {},
     "output_type": "execute_result"
    }
   ],
   "source": [
    "estimate_source_location_df.dtypes"
   ]
  },
  {
   "cell_type": "code",
   "execution_count": 161,
   "metadata": {},
   "outputs": [
    {
     "data": {
      "text/plain": [
       "destination_latitute              float64\n",
       "destination_longitute             float64\n",
       "destination_latitute_category        int8\n",
       "destination_longitute_category       int8\n",
       "dtype: object"
      ]
     },
     "execution_count": 161,
     "metadata": {},
     "output_type": "execute_result"
    }
   ],
   "source": [
    "estimate_destination_location_df.dtypes"
   ]
  },
  {
   "cell_type": "code",
   "execution_count": null,
   "metadata": {
    "colab": {},
    "colab_type": "code",
    "id": "gFKQwJ6rWj6s"
   },
   "outputs": [],
   "source": []
  },
  {
   "cell_type": "code",
   "execution_count": 162,
   "metadata": {},
   "outputs": [],
   "source": [
    "es_distortions = [] \n",
    "es_inertias = [] \n",
    "es_source_mapping1 = {} \n",
    "es_source_mapping2 = {}\n",
    "es_destination_mapping1 = {} \n",
    "es_destination_mapping2 = {} \n",
    "E1 = range(1,20)"
   ]
  },
  {
   "cell_type": "code",
   "execution_count": 163,
   "metadata": {},
   "outputs": [],
   "source": [
    "for k in E1: \n",
    "    #Building and fitting the model \n",
    "    kmeanModel = KMeans(n_clusters=k).fit(estimate_source_location_df) \n",
    "    kmeanModel.fit(estimate_source_location_df)     \n",
    "      \n",
    "    es_distortions.append(sum(np.min(cdist(estimate_source_location_df, kmeanModel.cluster_centers_, \n",
    "                      'euclidean'),axis=1)) / estimate_source_location_df.shape[0]) \n",
    "    es_inertias.append(kmeanModel.inertia_) \n",
    "  \n",
    "    es_source_mapping1[k] = sum(np.min(cdist(estimate_source_location_df, kmeanModel.cluster_centers_, \n",
    "                 'euclidean'),axis=1)) / estimate_source_location_df.shape[0] \n",
    "    es_source_mapping2[k] = kmeanModel.inertia_ "
   ]
  },
  {
   "cell_type": "code",
   "execution_count": 164,
   "metadata": {},
   "outputs": [
    {
     "name": "stdout",
     "output_type": "stream",
     "text": [
      "1 : 1.703694483378607\n",
      "2 : 1.442413967213751\n",
      "3 : 0.9877335749442957\n",
      "4 : 0.8008951767690098\n",
      "5 : 0.7022554823765277\n",
      "6 : 0.5831074702983823\n",
      "7 : 0.48001944373724187\n",
      "8 : 0.3864778544299283\n",
      "9 : 0.33808062512252085\n",
      "10 : 0.29219526260710366\n",
      "11 : 0.220684993924808\n",
      "12 : 0.2218818852579621\n",
      "13 : 0.17358526272613958\n",
      "14 : 0.14774351266170604\n",
      "15 : 0.13068949900552992\n",
      "16 : 0.11025942967332591\n",
      "17 : 0.1002562523285461\n",
      "18 : 0.08822513155931644\n",
      "19 : 0.07731109110907933\n"
     ]
    }
   ],
   "source": [
    "for key,val in es_source_mapping1.items(): \n",
    "\tprint(str(key)+' : '+str(val))"
   ]
  },
  {
   "cell_type": "code",
   "execution_count": 165,
   "metadata": {},
   "outputs": [
    {
     "data": {
      "image/png": "[encoded data removed]",
      "text/plain": [
       "<Figure size 432x288 with 1 Axes>"
      ]
     },
     "metadata": {
      "needs_background": "light"
     },
     "output_type": "display_data"
    }
   ],
   "source": [
    "plt.plot(E1, es_distortions, 'bx-') \n",
    "plt.xlabel('Values of E1') \n",
    "plt.ylabel('Distortion') \n",
    "plt.title('The Elbow Method using Distortion') \n",
    "plt.show()"
   ]
  },
  {
   "cell_type": "code",
   "execution_count": null,
   "metadata": {},
   "outputs": [],
   "source": []
  },
  {
   "cell_type": "code",
   "execution_count": 166,
   "metadata": {},
   "outputs": [
    {
     "name": "stdout",
     "output_type": "stream",
     "text": [
      "1 : 208971.69637789024\n",
      "2 : 37071.133242326185\n",
      "3 : 16610.787318967094\n",
      "4 : 10201.772469738375\n",
      "5 : 7476.5038545575\n",
      "6 : 5515.766696232811\n",
      "7 : 4371.810427209229\n",
      "8 : 3569.6299858864118\n",
      "9 : 2921.402040551121\n",
      "10 : 2515.4162825641874\n",
      "11 : 1960.4723959617818\n",
      "12 : 1795.1993106954983\n",
      "13 : 1397.8918668401088\n",
      "14 : 1147.2360876147732\n",
      "15 : 932.8227538557327\n",
      "16 : 767.1410491804505\n",
      "17 : 656.5320393511687\n",
      "18 : 566.1656890253198\n",
      "19 : 480.0981046463758\n"
     ]
    }
   ],
   "source": [
    "for key,val in es_source_mapping2.items(): \n",
    "\tprint(str(key)+' : '+str(val))"
   ]
  },
  {
   "cell_type": "code",
   "execution_count": 167,
   "metadata": {},
   "outputs": [
    {
     "data": {
      "image/png": "[encoded data removed]",
      "text/plain": [
       "<Figure size 432x288 with 1 Axes>"
      ]
     },
     "metadata": {
      "needs_background": "light"
     },
     "output_type": "display_data"
    }
   ],
   "source": [
    "plt.plot(E1, es_inertias, 'bx-') \n",
    "plt.xlabel('Values of E1') \n",
    "plt.ylabel('Inertia') \n",
    "plt.title('The Elbow Method using Inertia') \n",
    "plt.show() \n"
   ]
  },
  {
   "cell_type": "code",
   "execution_count": null,
   "metadata": {},
   "outputs": [],
   "source": []
  },
  {
   "cell_type": "code",
   "execution_count": 168,
   "metadata": {},
   "outputs": [
    {
     "name": "stdout",
     "output_type": "stream",
     "text": [
      "2020-02-27 17:46:49.694134\n",
      "KMeans(algorithm='auto', copy_x=True, init='k-means++', max_iter=300,\n",
      "    n_clusters=3, n_init=10, n_jobs=None, precompute_distances='auto',\n",
      "    random_state=None, tol=0.0001, verbose=0)\n",
      "2020-02-27 17:46:49.758044\n",
      "0:00:00.063910\n"
     ]
    }
   ],
   "source": [
    "now = datetime.now()\n",
    "print(now)\n",
    "\n",
    "K = 3\n",
    "es_km_1 = KMeans(n_clusters=K).fit(estimate_source_location_df)\n",
    "print(es_km_1)\n",
    "\n",
    "end = datetime.now()\n",
    "print(end)\n",
    "print(end-now)"
   ]
  },
  {
   "cell_type": "code",
   "execution_count": null,
   "metadata": {},
   "outputs": [],
   "source": []
  },
  {
   "cell_type": "code",
   "execution_count": 169,
   "metadata": {},
   "outputs": [],
   "source": [
    "es_distortions2 = [] \n",
    "es_inertias2 = [] \n",
    "\n",
    "E2 = range(1,20)"
   ]
  },
  {
   "cell_type": "code",
   "execution_count": 170,
   "metadata": {},
   "outputs": [],
   "source": [
    "for l in E2: \n",
    "    #Building and fitting the model \n",
    "    kmeanModel1 = KMeans(n_clusters=l).fit(estimate_destination_location_df) \n",
    "    kmeanModel1.fit(estimate_destination_location_df)     \n",
    "      \n",
    "    es_distortions2.append(sum(np.min(cdist(estimate_destination_location_df, kmeanModel1.cluster_centers_, \n",
    "                      'euclidean'),axis=1)) / estimate_destination_location_df.shape[0]) \n",
    "    es_inertias2.append(kmeanModel1.inertia_) \n",
    "  \n",
    "    es_destination_mapping1[l] = sum(np.min(cdist(estimate_destination_location_df, kmeanModel1.cluster_centers_, \n",
    "                 'euclidean'),axis=1)) / estimate_destination_location_df.shape[0] \n",
    "    es_destination_mapping2[l] = kmeanModel1.inertia_ "
   ]
  },
  {
   "cell_type": "code",
   "execution_count": 171,
   "metadata": {},
   "outputs": [
    {
     "name": "stdout",
     "output_type": "stream",
     "text": [
      "1 : 3.836504135094286\n",
      "2 : 2.4573587979551\n",
      "3 : 2.0768080869394554\n",
      "4 : 1.76063534351178\n",
      "5 : 1.7585970886796258\n",
      "6 : 1.4685847101878118\n",
      "7 : 1.3513753780928672\n",
      "8 : 1.2230035423159895\n",
      "9 : 1.135676697831799\n",
      "10 : 1.076686076062664\n",
      "11 : 1.021738987917086\n",
      "12 : 0.9998563492123062\n",
      "13 : 0.9240090156862039\n",
      "14 : 0.8893870831218466\n",
      "15 : 0.8813402614459648\n",
      "16 : 0.8461658610456865\n",
      "17 : 0.7955549079596157\n",
      "18 : 0.7887747191410799\n",
      "19 : 0.7328088931780113\n"
     ]
    }
   ],
   "source": [
    "for key,val in es_destination_mapping1.items(): \n",
    "\tprint(str(key)+' : '+str(val))"
   ]
  },
  {
   "cell_type": "code",
   "execution_count": 172,
   "metadata": {},
   "outputs": [
    {
     "data": {
      "image/png": "[encoded data removed]",
      "text/plain": [
       "<Figure size 432x288 with 1 Axes>"
      ]
     },
     "metadata": {
      "needs_background": "light"
     },
     "output_type": "display_data"
    }
   ],
   "source": [
    "plt.plot(E2, es_distortions2, 'bx-') \n",
    "plt.xlabel('Values of E2') \n",
    "plt.ylabel('Distortion') \n",
    "plt.title('The Elbow Method using Distortion') \n",
    "plt.show()"
   ]
  },
  {
   "cell_type": "code",
   "execution_count": 173,
   "metadata": {},
   "outputs": [
    {
     "name": "stdout",
     "output_type": "stream",
     "text": [
      "1 : 236244.90337353532\n",
      "2 : 115591.79331443715\n",
      "3 : 86889.90971555744\n",
      "4 : 65823.74402190158\n",
      "5 : 47644.37789343763\n",
      "6 : 35294.51696509577\n",
      "7 : 28967.35468899752\n",
      "8 : 24024.702448033837\n",
      "9 : 20725.752730717948\n",
      "10 : 18608.288551782967\n",
      "11 : 16568.61211362716\n",
      "12 : 15301.159461682795\n",
      "13 : 14226.71796119481\n",
      "14 : 12968.330721289993\n",
      "15 : 12289.618518720763\n",
      "16 : 11130.564431111437\n",
      "17 : 10243.493637574667\n",
      "18 : 9553.351531968656\n",
      "19 : 8598.545887300255\n"
     ]
    }
   ],
   "source": [
    "for key,val in es_destination_mapping2.items(): \n",
    "\tprint(str(key)+' : '+str(val))"
   ]
  },
  {
   "cell_type": "code",
   "execution_count": 174,
   "metadata": {},
   "outputs": [
    {
     "data": {
      "image/png": "[encoded data removed]",
      "text/plain": [
       "<Figure size 432x288 with 1 Axes>"
      ]
     },
     "metadata": {
      "needs_background": "light"
     },
     "output_type": "display_data"
    }
   ],
   "source": [
    "plt.plot(E2, es_inertias2, 'bx-') \n",
    "plt.xlabel('Values of E2') \n",
    "plt.ylabel('Inertia') \n",
    "plt.title('The Elbow Method using Inertia') \n",
    "plt.show()"
   ]
  },
  {
   "cell_type": "code",
   "execution_count": 175,
   "metadata": {},
   "outputs": [
    {
     "name": "stdout",
     "output_type": "stream",
     "text": [
      "2020-02-27 17:47:00.542453\n",
      "KMeans(algorithm='auto', copy_x=True, init='k-means++', max_iter=300,\n",
      "    n_clusters=4, n_init=10, n_jobs=None, precompute_distances='auto',\n",
      "    random_state=None, tol=0.0001, verbose=0)\n",
      "2020-02-27 17:47:00.642523\n",
      "0:00:00.100070\n"
     ]
    }
   ],
   "source": [
    "now = datetime.now()\n",
    "print(now)\n",
    "\n",
    "L = 4\n",
    "es_km_2 = KMeans(n_clusters=L).fit(estimate_destination_location_df)\n",
    "print(es_km_2)\n",
    "\n",
    "end = datetime.now()\n",
    "print(end)\n",
    "print(end-now)"
   ]
  },
  {
   "cell_type": "code",
   "execution_count": null,
   "metadata": {},
   "outputs": [],
   "source": []
  },
  {
   "cell_type": "code",
   "execution_count": 176,
   "metadata": {},
   "outputs": [
    {
     "data": {
      "text/plain": [
       "((12491, 11), 12491)"
      ]
     },
     "execution_count": 176,
     "metadata": {},
     "output_type": "execute_result"
    }
   ],
   "source": [
    "estimate_df2.shape, len(es_km_1.labels_)"
   ]
  },
  {
   "cell_type": "code",
   "execution_count": null,
   "metadata": {},
   "outputs": [],
   "source": []
  },
  {
   "cell_type": "code",
   "execution_count": null,
   "metadata": {},
   "outputs": [],
   "source": []
  },
  {
   "cell_type": "code",
   "execution_count": 177,
   "metadata": {},
   "outputs": [],
   "source": [
    "estimate_df2['source_location_cluster'] = es_km_1.labels_\n",
    "estimate_df2['destination_location_cluster'] = es_km_2.labels_\n"
   ]
  },
  {
   "cell_type": "code",
   "execution_count": 178,
   "metadata": {},
   "outputs": [
    {
     "data": {
      "text/html": [
       "<div>\n",
       "<style scoped>\n",
       "    .dataframe tbody tr th:only-of-type {\n",
       "        vertical-align: middle;\n",
       "    }\n",
       "\n",
       "    .dataframe tbody tr th {\n",
       "        vertical-align: top;\n",
       "    }\n",
       "\n",
       "    .dataframe thead th {\n",
       "        text-align: right;\n",
       "    }\n",
       "</style>\n",
       "<table border=\"1\" class=\"dataframe\">\n",
       "  <thead>\n",
       "    <tr style=\"text-align: right;\">\n",
       "      <th></th>\n",
       "      <th>travel_id</th>\n",
       "      <th>travel_day</th>\n",
       "      <th>travel_hour</th>\n",
       "      <th>source_latitute</th>\n",
       "      <th>source_longitute</th>\n",
       "      <th>destination_latitute</th>\n",
       "      <th>destination_longitute</th>\n",
       "      <th>source_latitude_category</th>\n",
       "      <th>source_longitute_category</th>\n",
       "      <th>destination_latitute_category</th>\n",
       "      <th>destination_longitute_category</th>\n",
       "      <th>source_location_cluster</th>\n",
       "      <th>destination_location_cluster</th>\n",
       "    </tr>\n",
       "  </thead>\n",
       "  <tbody>\n",
       "    <tr>\n",
       "      <th>0</th>\n",
       "      <td>1273716598</td>\n",
       "      <td>Monday</td>\n",
       "      <td>9</td>\n",
       "      <td>39.955415</td>\n",
       "      <td>32.749679</td>\n",
       "      <td>39.953437</td>\n",
       "      <td>32.736335</td>\n",
       "      <td>20</td>\n",
       "      <td>5</td>\n",
       "      <td>13</td>\n",
       "      <td>6</td>\n",
       "      <td>2</td>\n",
       "      <td>1</td>\n",
       "    </tr>\n",
       "    <tr>\n",
       "      <th>1</th>\n",
       "      <td>1278773183</td>\n",
       "      <td>Saturday</td>\n",
       "      <td>14</td>\n",
       "      <td>39.885194</td>\n",
       "      <td>32.792075</td>\n",
       "      <td>39.894491</td>\n",
       "      <td>32.809076</td>\n",
       "      <td>19</td>\n",
       "      <td>5</td>\n",
       "      <td>10</td>\n",
       "      <td>8</td>\n",
       "      <td>0</td>\n",
       "      <td>0</td>\n",
       "    </tr>\n",
       "    <tr>\n",
       "      <th>2</th>\n",
       "      <td>1288180189</td>\n",
       "      <td>Tuesday</td>\n",
       "      <td>18</td>\n",
       "      <td>39.888234</td>\n",
       "      <td>32.839524</td>\n",
       "      <td>39.897633</td>\n",
       "      <td>32.830965</td>\n",
       "      <td>19</td>\n",
       "      <td>6</td>\n",
       "      <td>10</td>\n",
       "      <td>9</td>\n",
       "      <td>0</td>\n",
       "      <td>0</td>\n",
       "    </tr>\n",
       "    <tr>\n",
       "      <th>3</th>\n",
       "      <td>1283497517</td>\n",
       "      <td>Thursday</td>\n",
       "      <td>18</td>\n",
       "      <td>39.836873</td>\n",
       "      <td>32.807655</td>\n",
       "      <td>39.828774</td>\n",
       "      <td>32.811228</td>\n",
       "      <td>18</td>\n",
       "      <td>6</td>\n",
       "      <td>5</td>\n",
       "      <td>8</td>\n",
       "      <td>0</td>\n",
       "      <td>3</td>\n",
       "    </tr>\n",
       "    <tr>\n",
       "      <th>4</th>\n",
       "      <td>1278710560</td>\n",
       "      <td>Saturday</td>\n",
       "      <td>13</td>\n",
       "      <td>39.862179</td>\n",
       "      <td>32.605296</td>\n",
       "      <td>39.910998</td>\n",
       "      <td>32.595841</td>\n",
       "      <td>19</td>\n",
       "      <td>3</td>\n",
       "      <td>11</td>\n",
       "      <td>2</td>\n",
       "      <td>2</td>\n",
       "      <td>2</td>\n",
       "    </tr>\n",
       "    <tr>\n",
       "      <th>12486</th>\n",
       "      <td>1282776916</td>\n",
       "      <td>Thursday</td>\n",
       "      <td>8</td>\n",
       "      <td>39.990884</td>\n",
       "      <td>32.733316</td>\n",
       "      <td>39.983441</td>\n",
       "      <td>32.763673</td>\n",
       "      <td>21</td>\n",
       "      <td>4</td>\n",
       "      <td>15</td>\n",
       "      <td>7</td>\n",
       "      <td>2</td>\n",
       "      <td>1</td>\n",
       "    </tr>\n",
       "    <tr>\n",
       "      <th>12487</th>\n",
       "      <td>1276198094</td>\n",
       "      <td>Thursday</td>\n",
       "      <td>8</td>\n",
       "      <td>39.872849</td>\n",
       "      <td>32.787217</td>\n",
       "      <td>39.859223</td>\n",
       "      <td>32.822719</td>\n",
       "      <td>19</td>\n",
       "      <td>5</td>\n",
       "      <td>6</td>\n",
       "      <td>8</td>\n",
       "      <td>0</td>\n",
       "      <td>0</td>\n",
       "    </tr>\n",
       "    <tr>\n",
       "      <th>12488</th>\n",
       "      <td>1276171241</td>\n",
       "      <td>Thursday</td>\n",
       "      <td>6</td>\n",
       "      <td>40.014127</td>\n",
       "      <td>32.770519</td>\n",
       "      <td>39.985161</td>\n",
       "      <td>32.763636</td>\n",
       "      <td>21</td>\n",
       "      <td>5</td>\n",
       "      <td>15</td>\n",
       "      <td>7</td>\n",
       "      <td>2</td>\n",
       "      <td>1</td>\n",
       "    </tr>\n",
       "    <tr>\n",
       "      <th>12489</th>\n",
       "      <td>1273242277</td>\n",
       "      <td>Sunday</td>\n",
       "      <td>15</td>\n",
       "      <td>39.905358</td>\n",
       "      <td>32.606109</td>\n",
       "      <td>39.863914</td>\n",
       "      <td>32.594381</td>\n",
       "      <td>19</td>\n",
       "      <td>3</td>\n",
       "      <td>7</td>\n",
       "      <td>2</td>\n",
       "      <td>2</td>\n",
       "      <td>2</td>\n",
       "    </tr>\n",
       "    <tr>\n",
       "      <th>12490</th>\n",
       "      <td>1275437144</td>\n",
       "      <td>Wednesday</td>\n",
       "      <td>10</td>\n",
       "      <td>39.919106</td>\n",
       "      <td>32.669317</td>\n",
       "      <td>39.938505</td>\n",
       "      <td>32.733697</td>\n",
       "      <td>20</td>\n",
       "      <td>4</td>\n",
       "      <td>12</td>\n",
       "      <td>6</td>\n",
       "      <td>2</td>\n",
       "      <td>1</td>\n",
       "    </tr>\n",
       "  </tbody>\n",
       "</table>\n",
       "</div>"
      ],
      "text/plain": [
       "        travel_id travel_day  travel_hour  source_latitute  source_longitute  \\\n",
       "0      1273716598     Monday            9        39.955415         32.749679   \n",
       "1      1278773183   Saturday           14        39.885194         32.792075   \n",
       "2      1288180189    Tuesday           18        39.888234         32.839524   \n",
       "3      1283497517   Thursday           18        39.836873         32.807655   \n",
       "4      1278710560   Saturday           13        39.862179         32.605296   \n",
       "12486  1282776916   Thursday            8        39.990884         32.733316   \n",
       "12487  1276198094   Thursday            8        39.872849         32.787217   \n",
       "12488  1276171241   Thursday            6        40.014127         32.770519   \n",
       "12489  1273242277     Sunday           15        39.905358         32.606109   \n",
       "12490  1275437144  Wednesday           10        39.919106         32.669317   \n",
       "\n",
       "       destination_latitute  destination_longitute  source_latitude_category  \\\n",
       "0                 39.953437              32.736335                        20   \n",
       "1                 39.894491              32.809076                        19   \n",
       "2                 39.897633              32.830965                        19   \n",
       "3                 39.828774              32.811228                        18   \n",
       "4                 39.910998              32.595841                        19   \n",
       "12486             39.983441              32.763673                        21   \n",
       "12487             39.859223              32.822719                        19   \n",
       "12488             39.985161              32.763636                        21   \n",
       "12489             39.863914              32.594381                        19   \n",
       "12490             39.938505              32.733697                        20   \n",
       "\n",
       "       source_longitute_category  destination_latitute_category  \\\n",
       "0                              5                             13   \n",
       "1                              5                             10   \n",
       "2                              6                             10   \n",
       "3                              6                              5   \n",
       "4                              3                             11   \n",
       "12486                          4                             15   \n",
       "12487                          5                              6   \n",
       "12488                          5                             15   \n",
       "12489                          3                              7   \n",
       "12490                          4                             12   \n",
       "\n",
       "       destination_longitute_category  source_location_cluster  \\\n",
       "0                                   6                        2   \n",
       "1                                   8                        0   \n",
       "2                                   9                        0   \n",
       "3                                   8                        0   \n",
       "4                                   2                        2   \n",
       "12486                               7                        2   \n",
       "12487                               8                        0   \n",
       "12488                               7                        2   \n",
       "12489                               2                        2   \n",
       "12490                               6                        2   \n",
       "\n",
       "       destination_location_cluster  \n",
       "0                                 1  \n",
       "1                                 0  \n",
       "2                                 0  \n",
       "3                                 3  \n",
       "4                                 2  \n",
       "12486                             1  \n",
       "12487                             0  \n",
       "12488                             1  \n",
       "12489                             2  \n",
       "12490                             1  "
      ]
     },
     "execution_count": 178,
     "metadata": {},
     "output_type": "execute_result"
    }
   ],
   "source": [
    "estimate_df2.head(5).append(estimate_df2.tail(5))"
   ]
  },
  {
   "cell_type": "code",
   "execution_count": null,
   "metadata": {},
   "outputs": [],
   "source": []
  },
  {
   "cell_type": "code",
   "execution_count": 179,
   "metadata": {},
   "outputs": [],
   "source": [
    "estimate_df2['distance'] = calculateDistance(estimate_df2['source_latitute'], estimate_df2['source_longitute'], estimate_df2['destination_latitute'], estimate_df2['destination_longitute'])"
   ]
  },
  {
   "cell_type": "code",
   "execution_count": null,
   "metadata": {},
   "outputs": [],
   "source": []
  },
  {
   "cell_type": "code",
   "execution_count": 180,
   "metadata": {},
   "outputs": [],
   "source": [
    "estimate_df2 = pd.concat([estimate_df2.drop(['travel_day'], axis=1), pd.get_dummies(estimate_df2.travel_day)], axis=1)"
   ]
  },
  {
   "cell_type": "code",
   "execution_count": 181,
   "metadata": {},
   "outputs": [
    {
     "data": {
      "text/html": [
       "<div>\n",
       "<style scoped>\n",
       "    .dataframe tbody tr th:only-of-type {\n",
       "        vertical-align: middle;\n",
       "    }\n",
       "\n",
       "    .dataframe tbody tr th {\n",
       "        vertical-align: top;\n",
       "    }\n",
       "\n",
       "    .dataframe thead th {\n",
       "        text-align: right;\n",
       "    }\n",
       "</style>\n",
       "<table border=\"1\" class=\"dataframe\">\n",
       "  <thead>\n",
       "    <tr style=\"text-align: right;\">\n",
       "      <th></th>\n",
       "      <th>travel_id</th>\n",
       "      <th>travel_hour</th>\n",
       "      <th>source_latitute</th>\n",
       "      <th>source_longitute</th>\n",
       "      <th>destination_latitute</th>\n",
       "      <th>destination_longitute</th>\n",
       "      <th>source_latitude_category</th>\n",
       "      <th>source_longitute_category</th>\n",
       "      <th>destination_latitute_category</th>\n",
       "      <th>destination_longitute_category</th>\n",
       "      <th>source_location_cluster</th>\n",
       "      <th>destination_location_cluster</th>\n",
       "      <th>distance</th>\n",
       "      <th>Friday</th>\n",
       "      <th>Monday</th>\n",
       "      <th>Saturday</th>\n",
       "      <th>Sunday</th>\n",
       "      <th>Thursday</th>\n",
       "      <th>Tuesday</th>\n",
       "      <th>Wednesday</th>\n",
       "    </tr>\n",
       "  </thead>\n",
       "  <tbody>\n",
       "    <tr>\n",
       "      <th>0</th>\n",
       "      <td>1273716598</td>\n",
       "      <td>9</td>\n",
       "      <td>39.955415</td>\n",
       "      <td>32.749679</td>\n",
       "      <td>39.953437</td>\n",
       "      <td>32.736335</td>\n",
       "      <td>20</td>\n",
       "      <td>5</td>\n",
       "      <td>13</td>\n",
       "      <td>6</td>\n",
       "      <td>2</td>\n",
       "      <td>1</td>\n",
       "      <td>0.013490</td>\n",
       "      <td>0</td>\n",
       "      <td>1</td>\n",
       "      <td>0</td>\n",
       "      <td>0</td>\n",
       "      <td>0</td>\n",
       "      <td>0</td>\n",
       "      <td>0</td>\n",
       "    </tr>\n",
       "    <tr>\n",
       "      <th>1</th>\n",
       "      <td>1278773183</td>\n",
       "      <td>14</td>\n",
       "      <td>39.885194</td>\n",
       "      <td>32.792075</td>\n",
       "      <td>39.894491</td>\n",
       "      <td>32.809076</td>\n",
       "      <td>19</td>\n",
       "      <td>5</td>\n",
       "      <td>10</td>\n",
       "      <td>8</td>\n",
       "      <td>0</td>\n",
       "      <td>0</td>\n",
       "      <td>0.019377</td>\n",
       "      <td>0</td>\n",
       "      <td>0</td>\n",
       "      <td>1</td>\n",
       "      <td>0</td>\n",
       "      <td>0</td>\n",
       "      <td>0</td>\n",
       "      <td>0</td>\n",
       "    </tr>\n",
       "    <tr>\n",
       "      <th>2</th>\n",
       "      <td>1288180189</td>\n",
       "      <td>18</td>\n",
       "      <td>39.888234</td>\n",
       "      <td>32.839524</td>\n",
       "      <td>39.897633</td>\n",
       "      <td>32.830965</td>\n",
       "      <td>19</td>\n",
       "      <td>6</td>\n",
       "      <td>10</td>\n",
       "      <td>9</td>\n",
       "      <td>0</td>\n",
       "      <td>0</td>\n",
       "      <td>0.012713</td>\n",
       "      <td>0</td>\n",
       "      <td>0</td>\n",
       "      <td>0</td>\n",
       "      <td>0</td>\n",
       "      <td>0</td>\n",
       "      <td>1</td>\n",
       "      <td>0</td>\n",
       "    </tr>\n",
       "    <tr>\n",
       "      <th>3</th>\n",
       "      <td>1283497517</td>\n",
       "      <td>18</td>\n",
       "      <td>39.836873</td>\n",
       "      <td>32.807655</td>\n",
       "      <td>39.828774</td>\n",
       "      <td>32.811228</td>\n",
       "      <td>18</td>\n",
       "      <td>6</td>\n",
       "      <td>5</td>\n",
       "      <td>8</td>\n",
       "      <td>0</td>\n",
       "      <td>3</td>\n",
       "      <td>0.008852</td>\n",
       "      <td>0</td>\n",
       "      <td>0</td>\n",
       "      <td>0</td>\n",
       "      <td>0</td>\n",
       "      <td>1</td>\n",
       "      <td>0</td>\n",
       "      <td>0</td>\n",
       "    </tr>\n",
       "    <tr>\n",
       "      <th>4</th>\n",
       "      <td>1278710560</td>\n",
       "      <td>13</td>\n",
       "      <td>39.862179</td>\n",
       "      <td>32.605296</td>\n",
       "      <td>39.910998</td>\n",
       "      <td>32.595841</td>\n",
       "      <td>19</td>\n",
       "      <td>3</td>\n",
       "      <td>11</td>\n",
       "      <td>2</td>\n",
       "      <td>2</td>\n",
       "      <td>2</td>\n",
       "      <td>0.049726</td>\n",
       "      <td>0</td>\n",
       "      <td>0</td>\n",
       "      <td>1</td>\n",
       "      <td>0</td>\n",
       "      <td>0</td>\n",
       "      <td>0</td>\n",
       "      <td>0</td>\n",
       "    </tr>\n",
       "    <tr>\n",
       "      <th>12486</th>\n",
       "      <td>1282776916</td>\n",
       "      <td>8</td>\n",
       "      <td>39.990884</td>\n",
       "      <td>32.733316</td>\n",
       "      <td>39.983441</td>\n",
       "      <td>32.763673</td>\n",
       "      <td>21</td>\n",
       "      <td>4</td>\n",
       "      <td>15</td>\n",
       "      <td>7</td>\n",
       "      <td>2</td>\n",
       "      <td>1</td>\n",
       "      <td>0.031256</td>\n",
       "      <td>0</td>\n",
       "      <td>0</td>\n",
       "      <td>0</td>\n",
       "      <td>0</td>\n",
       "      <td>1</td>\n",
       "      <td>0</td>\n",
       "      <td>0</td>\n",
       "    </tr>\n",
       "    <tr>\n",
       "      <th>12487</th>\n",
       "      <td>1276198094</td>\n",
       "      <td>8</td>\n",
       "      <td>39.872849</td>\n",
       "      <td>32.787217</td>\n",
       "      <td>39.859223</td>\n",
       "      <td>32.822719</td>\n",
       "      <td>19</td>\n",
       "      <td>5</td>\n",
       "      <td>6</td>\n",
       "      <td>8</td>\n",
       "      <td>0</td>\n",
       "      <td>0</td>\n",
       "      <td>0.038027</td>\n",
       "      <td>0</td>\n",
       "      <td>0</td>\n",
       "      <td>0</td>\n",
       "      <td>0</td>\n",
       "      <td>1</td>\n",
       "      <td>0</td>\n",
       "      <td>0</td>\n",
       "    </tr>\n",
       "    <tr>\n",
       "      <th>12488</th>\n",
       "      <td>1276171241</td>\n",
       "      <td>6</td>\n",
       "      <td>40.014127</td>\n",
       "      <td>32.770519</td>\n",
       "      <td>39.985161</td>\n",
       "      <td>32.763636</td>\n",
       "      <td>21</td>\n",
       "      <td>5</td>\n",
       "      <td>15</td>\n",
       "      <td>7</td>\n",
       "      <td>2</td>\n",
       "      <td>1</td>\n",
       "      <td>0.029772</td>\n",
       "      <td>0</td>\n",
       "      <td>0</td>\n",
       "      <td>0</td>\n",
       "      <td>0</td>\n",
       "      <td>1</td>\n",
       "      <td>0</td>\n",
       "      <td>0</td>\n",
       "    </tr>\n",
       "    <tr>\n",
       "      <th>12489</th>\n",
       "      <td>1273242277</td>\n",
       "      <td>15</td>\n",
       "      <td>39.905358</td>\n",
       "      <td>32.606109</td>\n",
       "      <td>39.863914</td>\n",
       "      <td>32.594381</td>\n",
       "      <td>19</td>\n",
       "      <td>3</td>\n",
       "      <td>7</td>\n",
       "      <td>2</td>\n",
       "      <td>2</td>\n",
       "      <td>2</td>\n",
       "      <td>0.043072</td>\n",
       "      <td>0</td>\n",
       "      <td>0</td>\n",
       "      <td>0</td>\n",
       "      <td>1</td>\n",
       "      <td>0</td>\n",
       "      <td>0</td>\n",
       "      <td>0</td>\n",
       "    </tr>\n",
       "    <tr>\n",
       "      <th>12490</th>\n",
       "      <td>1275437144</td>\n",
       "      <td>10</td>\n",
       "      <td>39.919106</td>\n",
       "      <td>32.669317</td>\n",
       "      <td>39.938505</td>\n",
       "      <td>32.733697</td>\n",
       "      <td>20</td>\n",
       "      <td>4</td>\n",
       "      <td>12</td>\n",
       "      <td>6</td>\n",
       "      <td>2</td>\n",
       "      <td>1</td>\n",
       "      <td>0.067239</td>\n",
       "      <td>0</td>\n",
       "      <td>0</td>\n",
       "      <td>0</td>\n",
       "      <td>0</td>\n",
       "      <td>0</td>\n",
       "      <td>0</td>\n",
       "      <td>1</td>\n",
       "    </tr>\n",
       "  </tbody>\n",
       "</table>\n",
       "</div>"
      ],
      "text/plain": [
       "        travel_id  travel_hour  source_latitute  source_longitute  \\\n",
       "0      1273716598            9        39.955415         32.749679   \n",
       "1      1278773183           14        39.885194         32.792075   \n",
       "2      1288180189           18        39.888234         32.839524   \n",
       "3      1283497517           18        39.836873         32.807655   \n",
       "4      1278710560           13        39.862179         32.605296   \n",
       "12486  1282776916            8        39.990884         32.733316   \n",
       "12487  1276198094            8        39.872849         32.787217   \n",
       "12488  1276171241            6        40.014127         32.770519   \n",
       "12489  1273242277           15        39.905358         32.606109   \n",
       "12490  1275437144           10        39.919106         32.669317   \n",
       "\n",
       "       destination_latitute  destination_longitute  source_latitude_category  \\\n",
       "0                 39.953437              32.736335                        20   \n",
       "1                 39.894491              32.809076                        19   \n",
       "2                 39.897633              32.830965                        19   \n",
       "3                 39.828774              32.811228                        18   \n",
       "4                 39.910998              32.595841                        19   \n",
       "12486             39.983441              32.763673                        21   \n",
       "12487             39.859223              32.822719                        19   \n",
       "12488             39.985161              32.763636                        21   \n",
       "12489             39.863914              32.594381                        19   \n",
       "12490             39.938505              32.733697                        20   \n",
       "\n",
       "       source_longitute_category  destination_latitute_category  \\\n",
       "0                              5                             13   \n",
       "1                              5                             10   \n",
       "2                              6                             10   \n",
       "3                              6                              5   \n",
       "4                              3                             11   \n",
       "12486                          4                             15   \n",
       "12487                          5                              6   \n",
       "12488                          5                             15   \n",
       "12489                          3                              7   \n",
       "12490                          4                             12   \n",
       "\n",
       "       destination_longitute_category  source_location_cluster  \\\n",
       "0                                   6                        2   \n",
       "1                                   8                        0   \n",
       "2                                   9                        0   \n",
       "3                                   8                        0   \n",
       "4                                   2                        2   \n",
       "12486                               7                        2   \n",
       "12487                               8                        0   \n",
       "12488                               7                        2   \n",
       "12489                               2                        2   \n",
       "12490                               6                        2   \n",
       "\n",
       "       destination_location_cluster  distance  Friday  Monday  Saturday  \\\n",
       "0                                 1  0.013490       0       1         0   \n",
       "1                                 0  0.019377       0       0         1   \n",
       "2                                 0  0.012713       0       0         0   \n",
       "3                                 3  0.008852       0       0         0   \n",
       "4                                 2  0.049726       0       0         1   \n",
       "12486                             1  0.031256       0       0         0   \n",
       "12487                             0  0.038027       0       0         0   \n",
       "12488                             1  0.029772       0       0         0   \n",
       "12489                             2  0.043072       0       0         0   \n",
       "12490                             1  0.067239       0       0         0   \n",
       "\n",
       "       Sunday  Thursday  Tuesday  Wednesday  \n",
       "0           0         0        0          0  \n",
       "1           0         0        0          0  \n",
       "2           0         0        1          0  \n",
       "3           0         1        0          0  \n",
       "4           0         0        0          0  \n",
       "12486       0         1        0          0  \n",
       "12487       0         1        0          0  \n",
       "12488       0         1        0          0  \n",
       "12489       1         0        0          0  \n",
       "12490       0         0        0          1  "
      ]
     },
     "execution_count": 181,
     "metadata": {},
     "output_type": "execute_result"
    }
   ],
   "source": [
    "estimate_df2.head(5).append(estimate_df2.tail(5))"
   ]
  },
  {
   "cell_type": "code",
   "execution_count": 182,
   "metadata": {},
   "outputs": [],
   "source": [
    "estimate_df2['travel_hour'] = estimate_df2['travel_hour'].astype(int)"
   ]
  },
  {
   "cell_type": "code",
   "execution_count": 183,
   "metadata": {},
   "outputs": [
    {
     "data": {
      "text/plain": [
       "<matplotlib.axes._subplots.AxesSubplot at 0x7f291a27fba8>"
      ]
     },
     "execution_count": 183,
     "metadata": {},
     "output_type": "execute_result"
    },
    {
     "data": {
      "image/png": "[encoded data removed]",
      "text/plain": [
       "<Figure size 432x288 with 1 Axes>"
      ]
     },
     "metadata": {
      "needs_background": "light"
     },
     "output_type": "display_data"
    }
   ],
   "source": [
    "travel_hour_bins = [0, 1, 6, 7, 8, 9, 12, 13, 14, 16, 17, 18, 19, 22, 24]\n",
    "\n",
    "estimate_df2.destination_longitute.hist(bins=travel_hour_bins)"
   ]
  },
  {
   "cell_type": "code",
   "execution_count": 184,
   "metadata": {},
   "outputs": [
    {
     "data": {
      "text/plain": [
       "(15, (9.0, 12.0]      1853\n",
       " (19.0, 22.0]     1558\n",
       " (7.0, 8.0]       1325\n",
       " (8.0, 9.0]       1048\n",
       " (14.0, 16.0]     1031\n",
       " (18.0, 19.0]      783\n",
       " (6.0, 7.0]        749\n",
       " (17.0, 18.0]      743\n",
       " (1.0, 6.0]        711\n",
       " (12.0, 13.0]      630\n",
       " (-0.001, 1.0]     598\n",
       " (16.0, 17.0]      564\n",
       " (13.0, 14.0]      465\n",
       " (22.0, 24.0]      433\n",
       " Name: travel_hour, dtype: int64)"
      ]
     },
     "execution_count": 184,
     "metadata": {},
     "output_type": "execute_result"
    }
   ],
   "source": [
    "len(travel_hour_bins),estimate_df2.travel_hour.value_counts(bins=travel_hour_bins)"
   ]
  },
  {
   "cell_type": "code",
   "execution_count": null,
   "metadata": {},
   "outputs": [],
   "source": []
  },
  {
   "cell_type": "code",
   "execution_count": 185,
   "metadata": {},
   "outputs": [
    {
     "data": {
      "text/html": [
       "<div>\n",
       "<style scoped>\n",
       "    .dataframe tbody tr th:only-of-type {\n",
       "        vertical-align: middle;\n",
       "    }\n",
       "\n",
       "    .dataframe tbody tr th {\n",
       "        vertical-align: top;\n",
       "    }\n",
       "\n",
       "    .dataframe thead th {\n",
       "        text-align: right;\n",
       "    }\n",
       "</style>\n",
       "<table border=\"1\" class=\"dataframe\">\n",
       "  <thead>\n",
       "    <tr style=\"text-align: right;\">\n",
       "      <th></th>\n",
       "      <th>travel_id</th>\n",
       "      <th>travel_hour</th>\n",
       "      <th>source_latitute</th>\n",
       "      <th>source_longitute</th>\n",
       "      <th>destination_latitute</th>\n",
       "      <th>destination_longitute</th>\n",
       "      <th>source_latitude_category</th>\n",
       "      <th>source_longitute_category</th>\n",
       "      <th>destination_latitute_category</th>\n",
       "      <th>destination_longitute_category</th>\n",
       "      <th>...</th>\n",
       "      <th>destination_location_cluster</th>\n",
       "      <th>distance</th>\n",
       "      <th>Friday</th>\n",
       "      <th>Monday</th>\n",
       "      <th>Saturday</th>\n",
       "      <th>Sunday</th>\n",
       "      <th>Thursday</th>\n",
       "      <th>Tuesday</th>\n",
       "      <th>Wednesday</th>\n",
       "      <th>travel_hour_category</th>\n",
       "    </tr>\n",
       "  </thead>\n",
       "  <tbody>\n",
       "    <tr>\n",
       "      <th>0</th>\n",
       "      <td>1273716598</td>\n",
       "      <td>9</td>\n",
       "      <td>39.955415</td>\n",
       "      <td>32.749679</td>\n",
       "      <td>39.953437</td>\n",
       "      <td>32.736335</td>\n",
       "      <td>20</td>\n",
       "      <td>5</td>\n",
       "      <td>13</td>\n",
       "      <td>6</td>\n",
       "      <td>...</td>\n",
       "      <td>1</td>\n",
       "      <td>0.013490</td>\n",
       "      <td>0</td>\n",
       "      <td>1</td>\n",
       "      <td>0</td>\n",
       "      <td>0</td>\n",
       "      <td>0</td>\n",
       "      <td>0</td>\n",
       "      <td>0</td>\n",
       "      <td>4</td>\n",
       "    </tr>\n",
       "    <tr>\n",
       "      <th>1</th>\n",
       "      <td>1278773183</td>\n",
       "      <td>14</td>\n",
       "      <td>39.885194</td>\n",
       "      <td>32.792075</td>\n",
       "      <td>39.894491</td>\n",
       "      <td>32.809076</td>\n",
       "      <td>19</td>\n",
       "      <td>5</td>\n",
       "      <td>10</td>\n",
       "      <td>8</td>\n",
       "      <td>...</td>\n",
       "      <td>0</td>\n",
       "      <td>0.019377</td>\n",
       "      <td>0</td>\n",
       "      <td>0</td>\n",
       "      <td>1</td>\n",
       "      <td>0</td>\n",
       "      <td>0</td>\n",
       "      <td>0</td>\n",
       "      <td>0</td>\n",
       "      <td>7</td>\n",
       "    </tr>\n",
       "    <tr>\n",
       "      <th>2</th>\n",
       "      <td>1288180189</td>\n",
       "      <td>18</td>\n",
       "      <td>39.888234</td>\n",
       "      <td>32.839524</td>\n",
       "      <td>39.897633</td>\n",
       "      <td>32.830965</td>\n",
       "      <td>19</td>\n",
       "      <td>6</td>\n",
       "      <td>10</td>\n",
       "      <td>9</td>\n",
       "      <td>...</td>\n",
       "      <td>0</td>\n",
       "      <td>0.012713</td>\n",
       "      <td>0</td>\n",
       "      <td>0</td>\n",
       "      <td>0</td>\n",
       "      <td>0</td>\n",
       "      <td>0</td>\n",
       "      <td>1</td>\n",
       "      <td>0</td>\n",
       "      <td>10</td>\n",
       "    </tr>\n",
       "    <tr>\n",
       "      <th>3</th>\n",
       "      <td>1283497517</td>\n",
       "      <td>18</td>\n",
       "      <td>39.836873</td>\n",
       "      <td>32.807655</td>\n",
       "      <td>39.828774</td>\n",
       "      <td>32.811228</td>\n",
       "      <td>18</td>\n",
       "      <td>6</td>\n",
       "      <td>5</td>\n",
       "      <td>8</td>\n",
       "      <td>...</td>\n",
       "      <td>3</td>\n",
       "      <td>0.008852</td>\n",
       "      <td>0</td>\n",
       "      <td>0</td>\n",
       "      <td>0</td>\n",
       "      <td>0</td>\n",
       "      <td>1</td>\n",
       "      <td>0</td>\n",
       "      <td>0</td>\n",
       "      <td>10</td>\n",
       "    </tr>\n",
       "    <tr>\n",
       "      <th>4</th>\n",
       "      <td>1278710560</td>\n",
       "      <td>13</td>\n",
       "      <td>39.862179</td>\n",
       "      <td>32.605296</td>\n",
       "      <td>39.910998</td>\n",
       "      <td>32.595841</td>\n",
       "      <td>19</td>\n",
       "      <td>3</td>\n",
       "      <td>11</td>\n",
       "      <td>2</td>\n",
       "      <td>...</td>\n",
       "      <td>2</td>\n",
       "      <td>0.049726</td>\n",
       "      <td>0</td>\n",
       "      <td>0</td>\n",
       "      <td>1</td>\n",
       "      <td>0</td>\n",
       "      <td>0</td>\n",
       "      <td>0</td>\n",
       "      <td>0</td>\n",
       "      <td>6</td>\n",
       "    </tr>\n",
       "    <tr>\n",
       "      <th>12486</th>\n",
       "      <td>1282776916</td>\n",
       "      <td>8</td>\n",
       "      <td>39.990884</td>\n",
       "      <td>32.733316</td>\n",
       "      <td>39.983441</td>\n",
       "      <td>32.763673</td>\n",
       "      <td>21</td>\n",
       "      <td>4</td>\n",
       "      <td>15</td>\n",
       "      <td>7</td>\n",
       "      <td>...</td>\n",
       "      <td>1</td>\n",
       "      <td>0.031256</td>\n",
       "      <td>0</td>\n",
       "      <td>0</td>\n",
       "      <td>0</td>\n",
       "      <td>0</td>\n",
       "      <td>1</td>\n",
       "      <td>0</td>\n",
       "      <td>0</td>\n",
       "      <td>3</td>\n",
       "    </tr>\n",
       "    <tr>\n",
       "      <th>12487</th>\n",
       "      <td>1276198094</td>\n",
       "      <td>8</td>\n",
       "      <td>39.872849</td>\n",
       "      <td>32.787217</td>\n",
       "      <td>39.859223</td>\n",
       "      <td>32.822719</td>\n",
       "      <td>19</td>\n",
       "      <td>5</td>\n",
       "      <td>6</td>\n",
       "      <td>8</td>\n",
       "      <td>...</td>\n",
       "      <td>0</td>\n",
       "      <td>0.038027</td>\n",
       "      <td>0</td>\n",
       "      <td>0</td>\n",
       "      <td>0</td>\n",
       "      <td>0</td>\n",
       "      <td>1</td>\n",
       "      <td>0</td>\n",
       "      <td>0</td>\n",
       "      <td>3</td>\n",
       "    </tr>\n",
       "    <tr>\n",
       "      <th>12488</th>\n",
       "      <td>1276171241</td>\n",
       "      <td>6</td>\n",
       "      <td>40.014127</td>\n",
       "      <td>32.770519</td>\n",
       "      <td>39.985161</td>\n",
       "      <td>32.763636</td>\n",
       "      <td>21</td>\n",
       "      <td>5</td>\n",
       "      <td>15</td>\n",
       "      <td>7</td>\n",
       "      <td>...</td>\n",
       "      <td>1</td>\n",
       "      <td>0.029772</td>\n",
       "      <td>0</td>\n",
       "      <td>0</td>\n",
       "      <td>0</td>\n",
       "      <td>0</td>\n",
       "      <td>1</td>\n",
       "      <td>0</td>\n",
       "      <td>0</td>\n",
       "      <td>1</td>\n",
       "    </tr>\n",
       "    <tr>\n",
       "      <th>12489</th>\n",
       "      <td>1273242277</td>\n",
       "      <td>15</td>\n",
       "      <td>39.905358</td>\n",
       "      <td>32.606109</td>\n",
       "      <td>39.863914</td>\n",
       "      <td>32.594381</td>\n",
       "      <td>19</td>\n",
       "      <td>3</td>\n",
       "      <td>7</td>\n",
       "      <td>2</td>\n",
       "      <td>...</td>\n",
       "      <td>2</td>\n",
       "      <td>0.043072</td>\n",
       "      <td>0</td>\n",
       "      <td>0</td>\n",
       "      <td>0</td>\n",
       "      <td>1</td>\n",
       "      <td>0</td>\n",
       "      <td>0</td>\n",
       "      <td>0</td>\n",
       "      <td>8</td>\n",
       "    </tr>\n",
       "    <tr>\n",
       "      <th>12490</th>\n",
       "      <td>1275437144</td>\n",
       "      <td>10</td>\n",
       "      <td>39.919106</td>\n",
       "      <td>32.669317</td>\n",
       "      <td>39.938505</td>\n",
       "      <td>32.733697</td>\n",
       "      <td>20</td>\n",
       "      <td>4</td>\n",
       "      <td>12</td>\n",
       "      <td>6</td>\n",
       "      <td>...</td>\n",
       "      <td>1</td>\n",
       "      <td>0.067239</td>\n",
       "      <td>0</td>\n",
       "      <td>0</td>\n",
       "      <td>0</td>\n",
       "      <td>0</td>\n",
       "      <td>0</td>\n",
       "      <td>0</td>\n",
       "      <td>1</td>\n",
       "      <td>5</td>\n",
       "    </tr>\n",
       "  </tbody>\n",
       "</table>\n",
       "<p>10 rows × 21 columns</p>\n",
       "</div>"
      ],
      "text/plain": [
       "        travel_id  travel_hour  source_latitute  source_longitute  \\\n",
       "0      1273716598            9        39.955415         32.749679   \n",
       "1      1278773183           14        39.885194         32.792075   \n",
       "2      1288180189           18        39.888234         32.839524   \n",
       "3      1283497517           18        39.836873         32.807655   \n",
       "4      1278710560           13        39.862179         32.605296   \n",
       "12486  1282776916            8        39.990884         32.733316   \n",
       "12487  1276198094            8        39.872849         32.787217   \n",
       "12488  1276171241            6        40.014127         32.770519   \n",
       "12489  1273242277           15        39.905358         32.606109   \n",
       "12490  1275437144           10        39.919106         32.669317   \n",
       "\n",
       "       destination_latitute  destination_longitute  source_latitude_category  \\\n",
       "0                 39.953437              32.736335                        20   \n",
       "1                 39.894491              32.809076                        19   \n",
       "2                 39.897633              32.830965                        19   \n",
       "3                 39.828774              32.811228                        18   \n",
       "4                 39.910998              32.595841                        19   \n",
       "12486             39.983441              32.763673                        21   \n",
       "12487             39.859223              32.822719                        19   \n",
       "12488             39.985161              32.763636                        21   \n",
       "12489             39.863914              32.594381                        19   \n",
       "12490             39.938505              32.733697                        20   \n",
       "\n",
       "       source_longitute_category  destination_latitute_category  \\\n",
       "0                              5                             13   \n",
       "1                              5                             10   \n",
       "2                              6                             10   \n",
       "3                              6                              5   \n",
       "4                              3                             11   \n",
       "12486                          4                             15   \n",
       "12487                          5                              6   \n",
       "12488                          5                             15   \n",
       "12489                          3                              7   \n",
       "12490                          4                             12   \n",
       "\n",
       "       destination_longitute_category  ...  destination_location_cluster  \\\n",
       "0                                   6  ...                             1   \n",
       "1                                   8  ...                             0   \n",
       "2                                   9  ...                             0   \n",
       "3                                   8  ...                             3   \n",
       "4                                   2  ...                             2   \n",
       "12486                               7  ...                             1   \n",
       "12487                               8  ...                             0   \n",
       "12488                               7  ...                             1   \n",
       "12489                               2  ...                             2   \n",
       "12490                               6  ...                             1   \n",
       "\n",
       "       distance  Friday  Monday  Saturday  Sunday  Thursday  Tuesday  \\\n",
       "0      0.013490       0       1         0       0         0        0   \n",
       "1      0.019377       0       0         1       0         0        0   \n",
       "2      0.012713       0       0         0       0         0        1   \n",
       "3      0.008852       0       0         0       0         1        0   \n",
       "4      0.049726       0       0         1       0         0        0   \n",
       "12486  0.031256       0       0         0       0         1        0   \n",
       "12487  0.038027       0       0         0       0         1        0   \n",
       "12488  0.029772       0       0         0       0         1        0   \n",
       "12489  0.043072       0       0         0       1         0        0   \n",
       "12490  0.067239       0       0         0       0         0        0   \n",
       "\n",
       "       Wednesday  travel_hour_category  \n",
       "0              0                     4  \n",
       "1              0                     7  \n",
       "2              0                    10  \n",
       "3              0                    10  \n",
       "4              0                     6  \n",
       "12486          0                     3  \n",
       "12487          0                     3  \n",
       "12488          0                     1  \n",
       "12489          0                     8  \n",
       "12490          1                     5  \n",
       "\n",
       "[10 rows x 21 columns]"
      ]
     },
     "execution_count": 185,
     "metadata": {},
     "output_type": "execute_result"
    }
   ],
   "source": [
    "estimate_df2['travel_hour_category'] = pd.cut(estimate_df2.travel_hour, travel_hour_bins).cat.codes\n",
    "estimate_df2.head(5).append(estimate_df2.tail(5))"
   ]
  },
  {
   "cell_type": "code",
   "execution_count": null,
   "metadata": {},
   "outputs": [],
   "source": []
  },
  {
   "cell_type": "code",
   "execution_count": 186,
   "metadata": {},
   "outputs": [],
   "source": [
    "estimate_df2['additional1_travel_hour_category'] = estimate_df2['travel_hour_category']\n",
    "estimate_df2['additional2_travel_hour_category'] = estimate_df2['travel_hour_category']\n",
    "estimate_df2['additional3_travel_hour_category'] = estimate_df2['travel_hour_category']\n",
    "\n",
    "estimate_df2['additional1_distance'] = estimate_df2['distance']\n",
    "estimate_df2['additional2_distance'] = estimate_df2['distance']\n",
    "estimate_df2['additional3_distance'] = estimate_df2['distance']"
   ]
  },
  {
   "cell_type": "code",
   "execution_count": 187,
   "metadata": {},
   "outputs": [
    {
     "data": {
      "text/plain": [
       "(12491, 27)"
      ]
     },
     "execution_count": 187,
     "metadata": {},
     "output_type": "execute_result"
    }
   ],
   "source": [
    "estimate_df2.shape"
   ]
  },
  {
   "cell_type": "code",
   "execution_count": 188,
   "metadata": {},
   "outputs": [
    {
     "data": {
      "text/plain": [
       "travel_id                             int64\n",
       "travel_hour                           int64\n",
       "source_latitute                     float64\n",
       "source_longitute                    float64\n",
       "destination_latitute                float64\n",
       "destination_longitute               float64\n",
       "source_latitude_category               int8\n",
       "source_longitute_category              int8\n",
       "destination_latitute_category          int8\n",
       "destination_longitute_category         int8\n",
       "source_location_cluster               int32\n",
       "destination_location_cluster          int32\n",
       "distance                            float64\n",
       "Friday                                uint8\n",
       "Monday                                uint8\n",
       "Saturday                              uint8\n",
       "Sunday                                uint8\n",
       "Thursday                              uint8\n",
       "Tuesday                               uint8\n",
       "Wednesday                             uint8\n",
       "travel_hour_category                   int8\n",
       "additional1_travel_hour_category       int8\n",
       "additional2_travel_hour_category       int8\n",
       "additional3_travel_hour_category       int8\n",
       "additional1_distance                float64\n",
       "additional2_distance                float64\n",
       "additional3_distance                float64\n",
       "dtype: object"
      ]
     },
     "execution_count": 188,
     "metadata": {},
     "output_type": "execute_result"
    }
   ],
   "source": [
    "estimate_df2.dtypes"
   ]
  },
  {
   "cell_type": "code",
   "execution_count": 189,
   "metadata": {},
   "outputs": [
    {
     "data": {
      "text/plain": [
       "Index(['travel_time', 'travel_hour', 'additional3_travel_hour_category',\n",
       "       'additional2_travel_hour_category', 'additional1_travel_hour_category',\n",
       "       'travel_hour_category', 'additional2_distance', 'distance',\n",
       "       'additional1_distance', 'destination_latitute_category',\n",
       "       'source_latitute', 'Friday', 'source_latitude_category',\n",
       "       'source_location_cluster', 'Saturday', 'Thursday',\n",
       "       'destination_location_cluster', 'travel_id', 'destination_latitute',\n",
       "       'Monday', 'source_longitute', 'source_longitute_category',\n",
       "       'destination_longitute', 'Sunday', 'destination_longitute_category'],\n",
       "      dtype='object')"
      ]
     },
     "execution_count": 189,
     "metadata": {},
     "output_type": "execute_result"
    }
   ],
   "source": [
    "best_accurate_columns.keys()"
   ]
  },
  {
   "cell_type": "code",
   "execution_count": 191,
   "metadata": {},
   "outputs": [],
   "source": [
    "best_estimate_accurate_columns = ['travel_hour', 'additional3_travel_hour_category',\n",
    "       'additional2_travel_hour_category', 'additional1_travel_hour_category',\n",
    "       'travel_hour_category', 'additional2_distance', 'distance',\n",
    "       'additional1_distance', 'source_location_cluster',\n",
    "       'destination_latitute_category', 'source_latitute', 'Friday',\n",
    "       'source_latitude_category', 'Saturday', 'Thursday', 'travel_id',\n",
    "       'destination_latitute', 'Monday', 'source_longitute',\n",
    "       'source_longitute_category', 'destination_longitute',\n",
    "       'destination_location_cluster', 'Sunday',\n",
    "       'destination_longitute_category']"
   ]
  },
  {
   "cell_type": "code",
   "execution_count": 192,
   "metadata": {},
   "outputs": [],
   "source": [
    "estimate_df3 = estimate_df2[best_estimate_accurate_columns]"
   ]
  },
  {
   "cell_type": "code",
   "execution_count": 193,
   "metadata": {},
   "outputs": [
    {
     "data": {
      "text/plain": [
       "Index(['travel_hour', 'additional3_travel_hour_category',\n",
       "       'additional2_travel_hour_category', 'additional1_travel_hour_category',\n",
       "       'travel_hour_category', 'additional2_distance', 'distance',\n",
       "       'additional1_distance', 'source_location_cluster',\n",
       "       'destination_latitute_category', 'source_latitute', 'Friday',\n",
       "       'source_latitude_category', 'Saturday', 'Thursday', 'travel_id',\n",
       "       'destination_latitute', 'Monday', 'source_longitute',\n",
       "       'source_longitute_category', 'destination_longitute',\n",
       "       'destination_location_cluster', 'Sunday',\n",
       "       'destination_longitute_category'],\n",
       "      dtype='object')"
      ]
     },
     "execution_count": 193,
     "metadata": {},
     "output_type": "execute_result"
    }
   ],
   "source": [
    "estimate_df3.columns"
   ]
  },
  {
   "cell_type": "code",
   "execution_count": null,
   "metadata": {},
   "outputs": [],
   "source": []
  },
  {
   "cell_type": "code",
   "execution_count": 215,
   "metadata": {},
   "outputs": [],
   "source": []
  },
  {
   "cell_type": "code",
   "execution_count": 219,
   "metadata": {},
   "outputs": [
    {
     "data": {
      "text/plain": [
       "array([ 416.55328,  982.855  ,  742.0248 , ...,  785.5727 , 1488.792  ,\n",
       "       1487.1781 ], dtype=float32)"
      ]
     },
     "execution_count": 219,
     "metadata": {},
     "output_type": "execute_result"
    }
   ],
   "source": [
    "predictions = xgb_model.predict(estimate_df3[X_test.columns])\n",
    "predictions"
   ]
  },
  {
   "cell_type": "code",
   "execution_count": 220,
   "metadata": {},
   "outputs": [
    {
     "data": {
      "image/png": "[encoded data removed]",
      "text/plain": [
       "<Figure size 648x576 with 1 Axes>"
      ]
     },
     "metadata": {
      "needs_background": "light"
     },
     "output_type": "display_data"
    }
   ],
   "source": [
    "#Plot predictions\n",
    "plt.figure(figsize=(9, 8))\n",
    "sns.distplot(predictions, color='r', bins=30, hist_kws={'alpha': 0.4});"
   ]
  },
  {
   "cell_type": "code",
   "execution_count": 221,
   "metadata": {},
   "outputs": [
    {
     "data": {
      "image/png": "[encoded data removed]",
      "text/plain": [
       "<Figure size 648x576 with 1 Axes>"
      ]
     },
     "metadata": {
      "needs_background": "light"
     },
     "output_type": "display_data"
    }
   ],
   "source": [
    "#Plot test data set\n",
    "plt.figure(figsize=(9, 8))\n",
    "sns.distplot(y, color='r', bins=30, hist_kws={'alpha': 0.4});"
   ]
  },
  {
   "cell_type": "code",
   "execution_count": 224,
   "metadata": {},
   "outputs": [
    {
     "data": {
      "text/html": [
       "<div>\n",
       "<style scoped>\n",
       "    .dataframe tbody tr th:only-of-type {\n",
       "        vertical-align: middle;\n",
       "    }\n",
       "\n",
       "    .dataframe tbody tr th {\n",
       "        vertical-align: top;\n",
       "    }\n",
       "\n",
       "    .dataframe thead th {\n",
       "        text-align: right;\n",
       "    }\n",
       "</style>\n",
       "<table border=\"1\" class=\"dataframe\">\n",
       "  <thead>\n",
       "    <tr style=\"text-align: right;\">\n",
       "      <th></th>\n",
       "      <th>travel_id</th>\n",
       "      <th>travel_day</th>\n",
       "      <th>travel_hour</th>\n",
       "      <th>source_latitute</th>\n",
       "      <th>source_longitute</th>\n",
       "      <th>destination_latitute</th>\n",
       "      <th>destination_longitute</th>\n",
       "    </tr>\n",
       "  </thead>\n",
       "  <tbody>\n",
       "    <tr>\n",
       "      <th>0</th>\n",
       "      <td>1273716598</td>\n",
       "      <td>Monday</td>\n",
       "      <td>9</td>\n",
       "      <td>39.955415</td>\n",
       "      <td>32.749679</td>\n",
       "      <td>39.953437</td>\n",
       "      <td>32.736335</td>\n",
       "    </tr>\n",
       "    <tr>\n",
       "      <th>1</th>\n",
       "      <td>1278773183</td>\n",
       "      <td>Saturday</td>\n",
       "      <td>14</td>\n",
       "      <td>39.885194</td>\n",
       "      <td>32.792075</td>\n",
       "      <td>39.894491</td>\n",
       "      <td>32.809076</td>\n",
       "    </tr>\n",
       "  </tbody>\n",
       "</table>\n",
       "</div>"
      ],
      "text/plain": [
       "    travel_id travel_day  travel_hour  source_latitute  source_longitute  \\\n",
       "0  1273716598     Monday            9        39.955415         32.749679   \n",
       "1  1278773183   Saturday           14        39.885194         32.792075   \n",
       "\n",
       "   destination_latitute  destination_longitute  \n",
       "0             39.953437              32.736335  \n",
       "1             39.894491              32.809076  "
      ]
     },
     "execution_count": 224,
     "metadata": {},
     "output_type": "execute_result"
    }
   ],
   "source": [
    "estimate_df.head(2)"
   ]
  },
  {
   "cell_type": "code",
   "execution_count": 222,
   "metadata": {},
   "outputs": [],
   "source": [
    "#Create result dataframe\n",
    "result_df = pd.DataFrame()"
   ]
  },
  {
   "cell_type": "code",
   "execution_count": 225,
   "metadata": {},
   "outputs": [],
   "source": [
    "#Copy house Id from test data set\n",
    "result_df['Id'] = estimate_df['travel_id'].astype(np.int64)"
   ]
  },
  {
   "cell_type": "code",
   "execution_count": 226,
   "metadata": {},
   "outputs": [],
   "source": [
    "#Set result saleprice\n",
    "result_df[\"predictions\"] = predictions"
   ]
  },
  {
   "cell_type": "code",
   "execution_count": 228,
   "metadata": {},
   "outputs": [
    {
     "data": {
      "text/html": [
       "<div>\n",
       "<style scoped>\n",
       "    .dataframe tbody tr th:only-of-type {\n",
       "        vertical-align: middle;\n",
       "    }\n",
       "\n",
       "    .dataframe tbody tr th {\n",
       "        vertical-align: top;\n",
       "    }\n",
       "\n",
       "    .dataframe thead th {\n",
       "        text-align: right;\n",
       "    }\n",
       "</style>\n",
       "<table border=\"1\" class=\"dataframe\">\n",
       "  <thead>\n",
       "    <tr style=\"text-align: right;\">\n",
       "      <th></th>\n",
       "      <th>Id</th>\n",
       "      <th>predictions</th>\n",
       "    </tr>\n",
       "  </thead>\n",
       "  <tbody>\n",
       "    <tr>\n",
       "      <th>0</th>\n",
       "      <td>1273716598</td>\n",
       "      <td>416.553284</td>\n",
       "    </tr>\n",
       "    <tr>\n",
       "      <th>1</th>\n",
       "      <td>1278773183</td>\n",
       "      <td>982.854980</td>\n",
       "    </tr>\n",
       "  </tbody>\n",
       "</table>\n",
       "</div>"
      ],
      "text/plain": [
       "           Id  predictions\n",
       "0  1273716598   416.553284\n",
       "1  1278773183   982.854980"
      ]
     },
     "execution_count": 228,
     "metadata": {},
     "output_type": "execute_result"
    }
   ],
   "source": [
    "result_df.head(2)"
   ]
  },
  {
   "cell_type": "code",
   "execution_count": 229,
   "metadata": {},
   "outputs": [],
   "source": [
    "#Export dataframe as a csv\n",
    "result_df.to_csv(\"prediction_results.csv\", index=0)"
   ]
  },
  {
   "cell_type": "code",
   "execution_count": null,
   "metadata": {},
   "outputs": [],
   "source": []
  },
  {
   "cell_type": "code",
   "execution_count": null,
   "metadata": {},
   "outputs": [],
   "source": []
  },
  {
   "cell_type": "code",
   "execution_count": null,
   "metadata": {},
   "outputs": [],
   "source": []
  },
  {
   "cell_type": "code",
   "execution_count": null,
   "metadata": {},
   "outputs": [],
   "source": []
  },
  {
   "cell_type": "code",
   "execution_count": 235,
   "metadata": {
    "colab": {
     "base_uri": "https://localhost:8080/",
     "height": 1000
    },
    "colab_type": "code",
    "executionInfo": {
     "elapsed": 6695374,
     "status": "ok",
     "timestamp": 1582741824426,
     "user": {
      "displayName": "Eser İnan Arslan",
      "photoUrl": "https://lh3.googleusercontent.com/a-/AAuE7mAEXYsAQ5ofuOAq2VqhAAEj2Kib3xBlNNc3K0sfIQ=s64",
      "userId": "01966049699378036829"
     },
     "user_tz": -180
    },
    "id": "ZqgCbrfCWj38",
    "outputId": "93f34f02-099b-4add-a3bb-12f4cad93be7"
   },
   "outputs": [
    {
     "name": "stderr",
     "output_type": "stream",
     "text": [
      "/usr/local/lib/python3.6/dist-packages/xgboost/core.py:587: FutureWarning: Series.base is deprecated and will be removed in a future version\n",
      "  if getattr(data, 'base', None) is not None and \\\n"
     ]
    },
    {
     "name": "stdout",
     "output_type": "stream",
     "text": [
      "[16:38:49] WARNING: /workspace/src/objective/regression_obj.cu:152: reg:linear is now deprecated in favor of reg:squarederror.\n"
     ]
    },
    {
     "name": "stderr",
     "output_type": "stream",
     "text": [
      "/usr/local/lib/python3.6/dist-packages/xgboost/core.py:587: FutureWarning: Series.base is deprecated and will be removed in a future version\n",
      "  if getattr(data, 'base', None) is not None and \\\n"
     ]
    },
    {
     "name": "stdout",
     "output_type": "stream",
     "text": [
      "[16:39:15] WARNING: /workspace/src/objective/regression_obj.cu:152: reg:linear is now deprecated in favor of reg:squarederror.\n"
     ]
    },
    {
     "name": "stderr",
     "output_type": "stream",
     "text": [
      "/usr/local/lib/python3.6/dist-packages/xgboost/core.py:587: FutureWarning: Series.base is deprecated and will be removed in a future version\n",
      "  if getattr(data, 'base', None) is not None and \\\n"
     ]
    },
    {
     "name": "stdout",
     "output_type": "stream",
     "text": [
      "[16:39:40] WARNING: /workspace/src/objective/regression_obj.cu:152: reg:linear is now deprecated in favor of reg:squarederror.\n"
     ]
    },
    {
     "name": "stderr",
     "output_type": "stream",
     "text": [
      "/usr/local/lib/python3.6/dist-packages/xgboost/core.py:587: FutureWarning: Series.base is deprecated and will be removed in a future version\n",
      "  if getattr(data, 'base', None) is not None and \\\n"
     ]
    },
    {
     "name": "stdout",
     "output_type": "stream",
     "text": [
      "[16:40:06] WARNING: /workspace/src/objective/regression_obj.cu:152: reg:linear is now deprecated in favor of reg:squarederror.\n"
     ]
    },
    {
     "name": "stderr",
     "output_type": "stream",
     "text": [
      "/usr/local/lib/python3.6/dist-packages/xgboost/core.py:587: FutureWarning: Series.base is deprecated and will be removed in a future version\n",
      "  if getattr(data, 'base', None) is not None and \\\n"
     ]
    },
    {
     "name": "stdout",
     "output_type": "stream",
     "text": [
      "[16:40:31] WARNING: /workspace/src/objective/regression_obj.cu:152: reg:linear is now deprecated in favor of reg:squarederror.\n"
     ]
    },
    {
     "name": "stderr",
     "output_type": "stream",
     "text": [
      "/usr/local/lib/python3.6/dist-packages/xgboost/core.py:587: FutureWarning: Series.base is deprecated and will be removed in a future version\n",
      "  if getattr(data, 'base', None) is not None and \\\n"
     ]
    },
    {
     "name": "stdout",
     "output_type": "stream",
     "text": [
      "[16:40:57] WARNING: /workspace/src/objective/regression_obj.cu:152: reg:linear is now deprecated in favor of reg:squarederror.\n"
     ]
    },
    {
     "name": "stderr",
     "output_type": "stream",
     "text": [
      "/usr/local/lib/python3.6/dist-packages/xgboost/core.py:587: FutureWarning: Series.base is deprecated and will be removed in a future version\n",
      "  if getattr(data, 'base', None) is not None and \\\n"
     ]
    },
    {
     "name": "stdout",
     "output_type": "stream",
     "text": [
      "[16:42:37] WARNING: /workspace/src/objective/regression_obj.cu:152: reg:linear is now deprecated in favor of reg:squarederror.\n"
     ]
    },
    {
     "name": "stderr",
     "output_type": "stream",
     "text": [
      "/usr/local/lib/python3.6/dist-packages/xgboost/core.py:587: FutureWarning: Series.base is deprecated and will be removed in a future version\n",
      "  if getattr(data, 'base', None) is not None and \\\n"
     ]
    },
    {
     "name": "stdout",
     "output_type": "stream",
     "text": [
      "[16:44:15] WARNING: /workspace/src/objective/regression_obj.cu:152: reg:linear is now deprecated in favor of reg:squarederror.\n"
     ]
    },
    {
     "name": "stderr",
     "output_type": "stream",
     "text": [
      "/usr/local/lib/python3.6/dist-packages/xgboost/core.py:587: FutureWarning: Series.base is deprecated and will be removed in a future version\n",
      "  if getattr(data, 'base', None) is not None and \\\n"
     ]
    },
    {
     "name": "stdout",
     "output_type": "stream",
     "text": [
      "[16:45:53] WARNING: /workspace/src/objective/regression_obj.cu:152: reg:linear is now deprecated in favor of reg:squarederror.\n"
     ]
    },
    {
     "name": "stderr",
     "output_type": "stream",
     "text": [
      "/usr/local/lib/python3.6/dist-packages/xgboost/core.py:587: FutureWarning: Series.base is deprecated and will be removed in a future version\n",
      "  if getattr(data, 'base', None) is not None and \\\n"
     ]
    },
    {
     "name": "stdout",
     "output_type": "stream",
     "text": [
      "[16:47:32] WARNING: /workspace/src/objective/regression_obj.cu:152: reg:linear is now deprecated in favor of reg:squarederror.\n"
     ]
    },
    {
     "name": "stderr",
     "output_type": "stream",
     "text": [
      "/usr/local/lib/python3.6/dist-packages/xgboost/core.py:587: FutureWarning: Series.base is deprecated and will be removed in a future version\n",
      "  if getattr(data, 'base', None) is not None and \\\n"
     ]
    },
    {
     "name": "stdout",
     "output_type": "stream",
     "text": [
      "[16:49:11] WARNING: /workspace/src/objective/regression_obj.cu:152: reg:linear is now deprecated in favor of reg:squarederror.\n"
     ]
    },
    {
     "name": "stderr",
     "output_type": "stream",
     "text": [
      "/usr/local/lib/python3.6/dist-packages/xgboost/core.py:587: FutureWarning: Series.base is deprecated and will be removed in a future version\n",
      "  if getattr(data, 'base', None) is not None and \\\n"
     ]
    },
    {
     "name": "stdout",
     "output_type": "stream",
     "text": [
      "[16:54:49] WARNING: /workspace/src/objective/regression_obj.cu:152: reg:linear is now deprecated in favor of reg:squarederror.\n"
     ]
    },
    {
     "name": "stderr",
     "output_type": "stream",
     "text": [
      "/usr/local/lib/python3.6/dist-packages/xgboost/core.py:587: FutureWarning: Series.base is deprecated and will be removed in a future version\n",
      "  if getattr(data, 'base', None) is not None and \\\n"
     ]
    },
    {
     "name": "stdout",
     "output_type": "stream",
     "text": [
      "[17:00:19] WARNING: /workspace/src/objective/regression_obj.cu:152: reg:linear is now deprecated in favor of reg:squarederror.\n"
     ]
    },
    {
     "name": "stderr",
     "output_type": "stream",
     "text": [
      "/usr/local/lib/python3.6/dist-packages/xgboost/core.py:587: FutureWarning: Series.base is deprecated and will be removed in a future version\n",
      "  if getattr(data, 'base', None) is not None and \\\n"
     ]
    },
    {
     "name": "stdout",
     "output_type": "stream",
     "text": [
      "[17:05:16] WARNING: /workspace/src/objective/regression_obj.cu:152: reg:linear is now deprecated in favor of reg:squarederror.\n"
     ]
    },
    {
     "name": "stderr",
     "output_type": "stream",
     "text": [
      "/usr/local/lib/python3.6/dist-packages/xgboost/core.py:587: FutureWarning: Series.base is deprecated and will be removed in a future version\n",
      "  if getattr(data, 'base', None) is not None and \\\n"
     ]
    },
    {
     "name": "stdout",
     "output_type": "stream",
     "text": [
      "[17:10:24] WARNING: /workspace/src/objective/regression_obj.cu:152: reg:linear is now deprecated in favor of reg:squarederror.\n"
     ]
    },
    {
     "name": "stderr",
     "output_type": "stream",
     "text": [
      "/usr/local/lib/python3.6/dist-packages/xgboost/core.py:587: FutureWarning: Series.base is deprecated and will be removed in a future version\n",
      "  if getattr(data, 'base', None) is not None and \\\n"
     ]
    },
    {
     "name": "stdout",
     "output_type": "stream",
     "text": [
      "[17:16:04] WARNING: /workspace/src/objective/regression_obj.cu:152: reg:linear is now deprecated in favor of reg:squarederror.\n"
     ]
    },
    {
     "name": "stderr",
     "output_type": "stream",
     "text": [
      "/usr/local/lib/python3.6/dist-packages/xgboost/core.py:587: FutureWarning: Series.base is deprecated and will be removed in a future version\n",
      "  if getattr(data, 'base', None) is not None and \\\n"
     ]
    },
    {
     "name": "stdout",
     "output_type": "stream",
     "text": [
      "[17:16:29] WARNING: /workspace/src/objective/regression_obj.cu:152: reg:linear is now deprecated in favor of reg:squarederror.\n"
     ]
    },
    {
     "name": "stderr",
     "output_type": "stream",
     "text": [
      "/usr/local/lib/python3.6/dist-packages/xgboost/core.py:587: FutureWarning: Series.base is deprecated and will be removed in a future version\n",
      "  if getattr(data, 'base', None) is not None and \\\n"
     ]
    },
    {
     "name": "stdout",
     "output_type": "stream",
     "text": [
      "[17:16:55] WARNING: /workspace/src/objective/regression_obj.cu:152: reg:linear is now deprecated in favor of reg:squarederror.\n"
     ]
    },
    {
     "name": "stderr",
     "output_type": "stream",
     "text": [
      "/usr/local/lib/python3.6/dist-packages/xgboost/core.py:587: FutureWarning: Series.base is deprecated and will be removed in a future version\n",
      "  if getattr(data, 'base', None) is not None and \\\n"
     ]
    },
    {
     "name": "stdout",
     "output_type": "stream",
     "text": [
      "[17:17:20] WARNING: /workspace/src/objective/regression_obj.cu:152: reg:linear is now deprecated in favor of reg:squarederror.\n"
     ]
    },
    {
     "name": "stderr",
     "output_type": "stream",
     "text": [
      "/usr/local/lib/python3.6/dist-packages/xgboost/core.py:587: FutureWarning: Series.base is deprecated and will be removed in a future version\n",
      "  if getattr(data, 'base', None) is not None and \\\n"
     ]
    },
    {
     "name": "stdout",
     "output_type": "stream",
     "text": [
      "[17:17:45] WARNING: /workspace/src/objective/regression_obj.cu:152: reg:linear is now deprecated in favor of reg:squarederror.\n"
     ]
    },
    {
     "name": "stderr",
     "output_type": "stream",
     "text": [
      "/usr/local/lib/python3.6/dist-packages/xgboost/core.py:587: FutureWarning: Series.base is deprecated and will be removed in a future version\n",
      "  if getattr(data, 'base', None) is not None and \\\n"
     ]
    },
    {
     "name": "stdout",
     "output_type": "stream",
     "text": [
      "[17:18:11] WARNING: /workspace/src/objective/regression_obj.cu:152: reg:linear is now deprecated in favor of reg:squarederror.\n"
     ]
    },
    {
     "name": "stderr",
     "output_type": "stream",
     "text": [
      "/usr/local/lib/python3.6/dist-packages/xgboost/core.py:587: FutureWarning: Series.base is deprecated and will be removed in a future version\n",
      "  if getattr(data, 'base', None) is not None and \\\n"
     ]
    },
    {
     "name": "stdout",
     "output_type": "stream",
     "text": [
      "[17:19:48] WARNING: /workspace/src/objective/regression_obj.cu:152: reg:linear is now deprecated in favor of reg:squarederror.\n"
     ]
    },
    {
     "name": "stderr",
     "output_type": "stream",
     "text": [
      "/usr/local/lib/python3.6/dist-packages/xgboost/core.py:587: FutureWarning: Series.base is deprecated and will be removed in a future version\n",
      "  if getattr(data, 'base', None) is not None and \\\n"
     ]
    },
    {
     "name": "stdout",
     "output_type": "stream",
     "text": [
      "[17:21:25] WARNING: /workspace/src/objective/regression_obj.cu:152: reg:linear is now deprecated in favor of reg:squarederror.\n"
     ]
    },
    {
     "name": "stderr",
     "output_type": "stream",
     "text": [
      "/usr/local/lib/python3.6/dist-packages/xgboost/core.py:587: FutureWarning: Series.base is deprecated and will be removed in a future version\n",
      "  if getattr(data, 'base', None) is not None and \\\n"
     ]
    },
    {
     "name": "stdout",
     "output_type": "stream",
     "text": [
      "[17:23:02] WARNING: /workspace/src/objective/regression_obj.cu:152: reg:linear is now deprecated in favor of reg:squarederror.\n"
     ]
    },
    {
     "name": "stderr",
     "output_type": "stream",
     "text": [
      "/usr/local/lib/python3.6/dist-packages/xgboost/core.py:587: FutureWarning: Series.base is deprecated and will be removed in a future version\n",
      "  if getattr(data, 'base', None) is not None and \\\n"
     ]
    },
    {
     "name": "stdout",
     "output_type": "stream",
     "text": [
      "[17:24:37] WARNING: /workspace/src/objective/regression_obj.cu:152: reg:linear is now deprecated in favor of reg:squarederror.\n"
     ]
    },
    {
     "name": "stderr",
     "output_type": "stream",
     "text": [
      "/usr/local/lib/python3.6/dist-packages/xgboost/core.py:587: FutureWarning: Series.base is deprecated and will be removed in a future version\n",
      "  if getattr(data, 'base', None) is not None and \\\n"
     ]
    },
    {
     "name": "stdout",
     "output_type": "stream",
     "text": [
      "[17:26:15] WARNING: /workspace/src/objective/regression_obj.cu:152: reg:linear is now deprecated in favor of reg:squarederror.\n"
     ]
    },
    {
     "name": "stderr",
     "output_type": "stream",
     "text": [
      "/usr/local/lib/python3.6/dist-packages/xgboost/core.py:587: FutureWarning: Series.base is deprecated and will be removed in a future version\n",
      "  if getattr(data, 'base', None) is not None and \\\n"
     ]
    },
    {
     "name": "stdout",
     "output_type": "stream",
     "text": [
      "[17:31:51] WARNING: /workspace/src/objective/regression_obj.cu:152: reg:linear is now deprecated in favor of reg:squarederror.\n"
     ]
    },
    {
     "name": "stderr",
     "output_type": "stream",
     "text": [
      "/usr/local/lib/python3.6/dist-packages/xgboost/core.py:587: FutureWarning: Series.base is deprecated and will be removed in a future version\n",
      "  if getattr(data, 'base', None) is not None and \\\n"
     ]
    },
    {
     "name": "stdout",
     "output_type": "stream",
     "text": [
      "[17:37:16] WARNING: /workspace/src/objective/regression_obj.cu:152: reg:linear is now deprecated in favor of reg:squarederror.\n"
     ]
    },
    {
     "name": "stderr",
     "output_type": "stream",
     "text": [
      "/usr/local/lib/python3.6/dist-packages/xgboost/core.py:587: FutureWarning: Series.base is deprecated and will be removed in a future version\n",
      "  if getattr(data, 'base', None) is not None and \\\n"
     ]
    },
    {
     "name": "stdout",
     "output_type": "stream",
     "text": [
      "[17:42:08] WARNING: /workspace/src/objective/regression_obj.cu:152: reg:linear is now deprecated in favor of reg:squarederror.\n"
     ]
    },
    {
     "name": "stderr",
     "output_type": "stream",
     "text": [
      "/usr/local/lib/python3.6/dist-packages/xgboost/core.py:587: FutureWarning: Series.base is deprecated and will be removed in a future version\n",
      "  if getattr(data, 'base', None) is not None and \\\n"
     ]
    },
    {
     "name": "stdout",
     "output_type": "stream",
     "text": [
      "[17:47:14] WARNING: /workspace/src/objective/regression_obj.cu:152: reg:linear is now deprecated in favor of reg:squarederror.\n"
     ]
    },
    {
     "name": "stderr",
     "output_type": "stream",
     "text": [
      "/usr/local/lib/python3.6/dist-packages/xgboost/core.py:587: FutureWarning: Series.base is deprecated and will be removed in a future version\n",
      "  if getattr(data, 'base', None) is not None and \\\n"
     ]
    },
    {
     "name": "stdout",
     "output_type": "stream",
     "text": [
      "[17:52:51] WARNING: /workspace/src/objective/regression_obj.cu:152: reg:linear is now deprecated in favor of reg:squarederror.\n"
     ]
    },
    {
     "name": "stderr",
     "output_type": "stream",
     "text": [
      "/usr/local/lib/python3.6/dist-packages/xgboost/core.py:587: FutureWarning: Series.base is deprecated and will be removed in a future version\n",
      "  if getattr(data, 'base', None) is not None and \\\n"
     ]
    },
    {
     "name": "stdout",
     "output_type": "stream",
     "text": [
      "[17:53:17] WARNING: /workspace/src/objective/regression_obj.cu:152: reg:linear is now deprecated in favor of reg:squarederror.\n"
     ]
    },
    {
     "name": "stderr",
     "output_type": "stream",
     "text": [
      "/usr/local/lib/python3.6/dist-packages/xgboost/core.py:587: FutureWarning: Series.base is deprecated and will be removed in a future version\n",
      "  if getattr(data, 'base', None) is not None and \\\n"
     ]
    },
    {
     "name": "stdout",
     "output_type": "stream",
     "text": [
      "[17:53:42] WARNING: /workspace/src/objective/regression_obj.cu:152: reg:linear is now deprecated in favor of reg:squarederror.\n"
     ]
    },
    {
     "name": "stderr",
     "output_type": "stream",
     "text": [
      "/usr/local/lib/python3.6/dist-packages/xgboost/core.py:587: FutureWarning: Series.base is deprecated and will be removed in a future version\n",
      "  if getattr(data, 'base', None) is not None and \\\n"
     ]
    },
    {
     "name": "stdout",
     "output_type": "stream",
     "text": [
      "[17:54:07] WARNING: /workspace/src/objective/regression_obj.cu:152: reg:linear is now deprecated in favor of reg:squarederror.\n"
     ]
    },
    {
     "name": "stderr",
     "output_type": "stream",
     "text": [
      "/usr/local/lib/python3.6/dist-packages/xgboost/core.py:587: FutureWarning: Series.base is deprecated and will be removed in a future version\n",
      "  if getattr(data, 'base', None) is not None and \\\n"
     ]
    },
    {
     "name": "stdout",
     "output_type": "stream",
     "text": [
      "[17:54:33] WARNING: /workspace/src/objective/regression_obj.cu:152: reg:linear is now deprecated in favor of reg:squarederror.\n"
     ]
    },
    {
     "name": "stderr",
     "output_type": "stream",
     "text": [
      "/usr/local/lib/python3.6/dist-packages/xgboost/core.py:587: FutureWarning: Series.base is deprecated and will be removed in a future version\n",
      "  if getattr(data, 'base', None) is not None and \\\n"
     ]
    },
    {
     "name": "stdout",
     "output_type": "stream",
     "text": [
      "[17:54:58] WARNING: /workspace/src/objective/regression_obj.cu:152: reg:linear is now deprecated in favor of reg:squarederror.\n"
     ]
    },
    {
     "name": "stderr",
     "output_type": "stream",
     "text": [
      "/usr/local/lib/python3.6/dist-packages/xgboost/core.py:587: FutureWarning: Series.base is deprecated and will be removed in a future version\n",
      "  if getattr(data, 'base', None) is not None and \\\n"
     ]
    },
    {
     "name": "stdout",
     "output_type": "stream",
     "text": [
      "[17:56:35] WARNING: /workspace/src/objective/regression_obj.cu:152: reg:linear is now deprecated in favor of reg:squarederror.\n"
     ]
    },
    {
     "name": "stderr",
     "output_type": "stream",
     "text": [
      "/usr/local/lib/python3.6/dist-packages/xgboost/core.py:587: FutureWarning: Series.base is deprecated and will be removed in a future version\n",
      "  if getattr(data, 'base', None) is not None and \\\n"
     ]
    },
    {
     "name": "stdout",
     "output_type": "stream",
     "text": [
      "[17:58:11] WARNING: /workspace/src/objective/regression_obj.cu:152: reg:linear is now deprecated in favor of reg:squarederror.\n"
     ]
    },
    {
     "name": "stderr",
     "output_type": "stream",
     "text": [
      "/usr/local/lib/python3.6/dist-packages/xgboost/core.py:587: FutureWarning: Series.base is deprecated and will be removed in a future version\n",
      "  if getattr(data, 'base', None) is not None and \\\n"
     ]
    },
    {
     "name": "stdout",
     "output_type": "stream",
     "text": [
      "[17:59:50] WARNING: /workspace/src/objective/regression_obj.cu:152: reg:linear is now deprecated in favor of reg:squarederror.\n"
     ]
    },
    {
     "name": "stderr",
     "output_type": "stream",
     "text": [
      "/usr/local/lib/python3.6/dist-packages/xgboost/core.py:587: FutureWarning: Series.base is deprecated and will be removed in a future version\n",
      "  if getattr(data, 'base', None) is not None and \\\n"
     ]
    },
    {
     "name": "stdout",
     "output_type": "stream",
     "text": [
      "[18:01:26] WARNING: /workspace/src/objective/regression_obj.cu:152: reg:linear is now deprecated in favor of reg:squarederror.\n"
     ]
    },
    {
     "name": "stderr",
     "output_type": "stream",
     "text": [
      "/usr/local/lib/python3.6/dist-packages/xgboost/core.py:587: FutureWarning: Series.base is deprecated and will be removed in a future version\n",
      "  if getattr(data, 'base', None) is not None and \\\n"
     ]
    },
    {
     "name": "stdout",
     "output_type": "stream",
     "text": [
      "[18:03:04] WARNING: /workspace/src/objective/regression_obj.cu:152: reg:linear is now deprecated in favor of reg:squarederror.\n"
     ]
    },
    {
     "name": "stderr",
     "output_type": "stream",
     "text": [
      "/usr/local/lib/python3.6/dist-packages/xgboost/core.py:587: FutureWarning: Series.base is deprecated and will be removed in a future version\n",
      "  if getattr(data, 'base', None) is not None and \\\n"
     ]
    },
    {
     "name": "stdout",
     "output_type": "stream",
     "text": [
      "[18:08:40] WARNING: /workspace/src/objective/regression_obj.cu:152: reg:linear is now deprecated in favor of reg:squarederror.\n"
     ]
    },
    {
     "name": "stderr",
     "output_type": "stream",
     "text": [
      "/usr/local/lib/python3.6/dist-packages/xgboost/core.py:587: FutureWarning: Series.base is deprecated and will be removed in a future version\n",
      "  if getattr(data, 'base', None) is not None and \\\n"
     ]
    },
    {
     "name": "stdout",
     "output_type": "stream",
     "text": [
      "[18:14:09] WARNING: /workspace/src/objective/regression_obj.cu:152: reg:linear is now deprecated in favor of reg:squarederror.\n"
     ]
    },
    {
     "name": "stderr",
     "output_type": "stream",
     "text": [
      "/usr/local/lib/python3.6/dist-packages/xgboost/core.py:587: FutureWarning: Series.base is deprecated and will be removed in a future version\n",
      "  if getattr(data, 'base', None) is not None and \\\n"
     ]
    },
    {
     "name": "stdout",
     "output_type": "stream",
     "text": [
      "[18:19:05] WARNING: /workspace/src/objective/regression_obj.cu:152: reg:linear is now deprecated in favor of reg:squarederror.\n"
     ]
    },
    {
     "name": "stderr",
     "output_type": "stream",
     "text": [
      "/usr/local/lib/python3.6/dist-packages/xgboost/core.py:587: FutureWarning: Series.base is deprecated and will be removed in a future version\n",
      "  if getattr(data, 'base', None) is not None and \\\n"
     ]
    },
    {
     "name": "stdout",
     "output_type": "stream",
     "text": [
      "[18:24:12] WARNING: /workspace/src/objective/regression_obj.cu:152: reg:linear is now deprecated in favor of reg:squarederror.\n"
     ]
    },
    {
     "name": "stderr",
     "output_type": "stream",
     "text": [
      "/usr/local/lib/python3.6/dist-packages/xgboost/core.py:587: FutureWarning: Series.base is deprecated and will be removed in a future version\n",
      "  if getattr(data, 'base', None) is not None and \\\n",
      "/usr/local/lib/python3.6/dist-packages/xgboost/core.py:588: FutureWarning: Series.base is deprecated and will be removed in a future version\n",
      "  data.base is not None and isinstance(data, np.ndarray) \\\n"
     ]
    },
    {
     "name": "stdout",
     "output_type": "stream",
     "text": [
      "[18:29:51] WARNING: /workspace/src/objective/regression_obj.cu:152: reg:linear is now deprecated in favor of reg:squarederror.\n",
      "XGBRegressor(alpha=10, base_score=0.5, booster='gbtree', colsample_bylevel=1,\n",
      "             colsample_bynode=1, colsample_bytree=0.9, gamma=0,\n",
      "             importance_type='gain', learning_rate=0.5, max_delta_step=0,\n",
      "             max_depth=10, max_features='auto', min_child_weight=1,\n",
      "             missing=None, n_estimators=50, n_jobs=1, nthread=None,\n",
      "             objective='reg:linear', random_state=0, reg_alpha=0, reg_lambda=1,\n",
      "             scale_pos_weight=1, seed=None, silent=None, subsample=1,\n",
      "             verbosity=1)\n"
     ]
    }
   ],
   "source": []
  },
  {
   "cell_type": "code",
   "execution_count": null,
   "metadata": {
    "colab": {},
    "colab_type": "code",
    "id": "MRuCYVe3Oeah"
   },
   "outputs": [],
   "source": []
  },
  {
   "cell_type": "code",
   "execution_count": null,
   "metadata": {
    "colab": {},
    "colab_type": "code",
    "id": "w-4-eWeSOeXU"
   },
   "outputs": [],
   "source": []
  },
  {
   "cell_type": "code",
   "execution_count": null,
   "metadata": {
    "colab": {},
    "colab_type": "code",
    "id": "cDseAnirOeU2"
   },
   "outputs": [],
   "source": []
  }
 ],
 "metadata": {
  "colab": {
   "authorship_tag": "ABX9TyOMqs9zSq534YWHUJMXIMJW",
   "collapsed_sections": [],
   "name": "travel_time_estimation.ipynb",
   "provenance": [],
   "toc_visible": true
  },
  "kernelspec": {
   "display_name": "Python 3",
   "language": "python",
   "name": "python3"
  },
  "language_info": {
   "codemirror_mode": {
    "name": "ipython",
    "version": 3
   },
   "file_extension": ".py",
   "mimetype": "text/x-python",
   "name": "python",
   "nbconvert_exporter": "python",
   "pygments_lexer": "ipython3",
   "version": "3.5.2"
  }
 },
 "nbformat": 4,
 "nbformat_minor": 2
}
