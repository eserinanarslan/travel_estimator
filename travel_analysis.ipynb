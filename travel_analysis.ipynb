{
 "nbformat": 4,
 "nbformat_minor": 0,
 "metadata": {
  "colab": {
   "name": "analysis.ipynb",
   "provenance": [],
   "collapsed_sections": [],
   "toc_visible": true,
   "authorship_tag": "ABX9TyOAIpXDnSjrk4P8YSxPgUF8"
  },
  "kernelspec": {
   "name": "python3",
   "display_name": "Python 3"
  },
  "pycharm": {
   "stem_cell": {
    "cell_type": "raw",
    "source": [],
    "metadata": {
     "collapsed": false
    }
   }
  }
 },
 "cells": [
  {
   "cell_type": "code",
   "metadata": {
    "id": "KWKTFmGqgJO5",
    "colab_type": "code",
    "colab": {}
   },
   "source": [
    "\n",
    "import pandas as pd\n",
    "import numpy as np"
   ],
   "execution_count": 0,
   "outputs": []
  },
  {
   "cell_type": "code",
   "metadata": {
    "id": "S0_tukrbgfbq",
    "colab_type": "code",
    "colab": {
     "base_uri": "https://localhost:8080/",
     "height": 359
    },
    "outputId": "322c61c7-133c-424d-e94b-a21271dc0763",
    "executionInfo": {
     "status": "ok",
     "timestamp": 1582821452868,
     "user_tz": -180,
     "elapsed": 1535,
     "user": {
      "displayName": "Eser İnan Arslan",
      "photoUrl": "https://lh3.googleusercontent.com/a-/AAuE7mAEXYsAQ5ofuOAq2VqhAAEj2Kib3xBlNNc3K0sfIQ=s64",
      "userId": "01966049699378036829"
     }
    }
   },
   "source": [
    "# Load Train and val label dataset\n",
    "train_df = pd.read_fwf(\"train.txt\", sep=\" \", header=None)\n",
    "#train_df.reset_index()\n",
    "train_df.head(5).append(train_df.tail(5))"
   ],
   "execution_count": 3,
   "outputs": [
    {
     "output_type": "execute_result",
     "data": {
      "text/html": [
       "<div>\n",
       "<style scoped>\n",
       "    .dataframe tbody tr th:only-of-type {\n",
       "        vertical-align: middle;\n",
       "    }\n",
       "\n",
       "    .dataframe tbody tr th {\n",
       "        vertical-align: top;\n",
       "    }\n",
       "\n",
       "    .dataframe thead th {\n",
       "        text-align: right;\n",
       "    }\n",
       "</style>\n",
       "<table border=\"1\" class=\"dataframe\">\n",
       "  <thead>\n",
       "    <tr style=\"text-align: right;\">\n",
       "      <th></th>\n",
       "      <th>0</th>\n",
       "      <th>1</th>\n",
       "    </tr>\n",
       "  </thead>\n",
       "  <tbody>\n",
       "    <tr>\n",
       "      <th>0</th>\n",
       "      <td>1278160345</td>\n",
       "      <td>962\\tFriday\\t20\\t39,8851194\\t32,8562758\\t39,87...</td>\n",
       "    </tr>\n",
       "    <tr>\n",
       "      <th>1</th>\n",
       "      <td>1274461376</td>\n",
       "      <td>916\\tTuesday\\t8\\t39,8834635\\t32,8335031\\t39,89...</td>\n",
       "    </tr>\n",
       "    <tr>\n",
       "      <th>2</th>\n",
       "      <td>1278402853</td>\n",
       "      <td>1175\\tSaturday\\t2\\t39,9164664\\t32,7246981\\t39,...</td>\n",
       "    </tr>\n",
       "    <tr>\n",
       "      <th>3</th>\n",
       "      <td>1272398564</td>\n",
       "      <td>1630\\tSaturday\\t15\\t39,93071844\\t32,61985895\\t...</td>\n",
       "    </tr>\n",
       "    <tr>\n",
       "      <th>4</th>\n",
       "      <td>1279996323</td>\n",
       "      <td>561\\tSunday\\t18\\t39,914876\\t32,72881434\\t39,93...</td>\n",
       "    </tr>\n",
       "    <tr>\n",
       "      <th>178085</th>\n",
       "      <td>1271716250</td>\n",
       "      <td>328\\tFriday\\t20\\t39,89996651\\t32,75756675\\t39,...</td>\n",
       "    </tr>\n",
       "    <tr>\n",
       "      <th>178086</th>\n",
       "      <td>1275289045</td>\n",
       "      <td>842\\tWednesday\\t6\\t39,87718115\\t32,81464391\\t3...</td>\n",
       "    </tr>\n",
       "    <tr>\n",
       "      <th>178087</th>\n",
       "      <td>1269676370</td>\n",
       "      <td>517\\tWednesday\\t19\\t39,7956454\\t32,8746088\\t39...</td>\n",
       "    </tr>\n",
       "    <tr>\n",
       "      <th>178088</th>\n",
       "      <td>1273331688</td>\n",
       "      <td>797\\tSunday\\t18\\t39,8658282\\t32,8524761\\t39,88...</td>\n",
       "    </tr>\n",
       "    <tr>\n",
       "      <th>178089</th>\n",
       "      <td>1291915508</td>\n",
       "      <td>919\\tSunday\\t0\\t39,9457001\\t32,7596329\\t39,954...</td>\n",
       "    </tr>\n",
       "  </tbody>\n",
       "</table>\n",
       "</div>"
      ],
      "text/plain": [
       "                 0                                                  1\n",
       "0       1278160345  962\\tFriday\\t20\\t39,8851194\\t32,8562758\\t39,87...\n",
       "1       1274461376  916\\tTuesday\\t8\\t39,8834635\\t32,8335031\\t39,89...\n",
       "2       1278402853  1175\\tSaturday\\t2\\t39,9164664\\t32,7246981\\t39,...\n",
       "3       1272398564  1630\\tSaturday\\t15\\t39,93071844\\t32,61985895\\t...\n",
       "4       1279996323  561\\tSunday\\t18\\t39,914876\\t32,72881434\\t39,93...\n",
       "178085  1271716250  328\\tFriday\\t20\\t39,89996651\\t32,75756675\\t39,...\n",
       "178086  1275289045  842\\tWednesday\\t6\\t39,87718115\\t32,81464391\\t3...\n",
       "178087  1269676370  517\\tWednesday\\t19\\t39,7956454\\t32,8746088\\t39...\n",
       "178088  1273331688  797\\tSunday\\t18\\t39,8658282\\t32,8524761\\t39,88...\n",
       "178089  1291915508  919\\tSunday\\t0\\t39,9457001\\t32,7596329\\t39,954..."
      ]
     },
     "metadata": {
      "tags": []
     },
     "execution_count": 3
    }
   ]
  },
  {
   "cell_type": "code",
   "metadata": {
    "id": "Zx_6v6Q0gqXh",
    "colab_type": "code",
    "colab": {
     "base_uri": "https://localhost:8080/",
     "height": 204
    },
    "outputId": "e79ca41c-b27e-4b5c-fe6a-57f2651b73af",
    "executionInfo": {
     "status": "ok",
     "timestamp": 1582821467849,
     "user_tz": -180,
     "elapsed": 1305,
     "user": {
      "displayName": "Eser İnan Arslan",
      "photoUrl": "https://lh3.googleusercontent.com/a-/AAuE7mAEXYsAQ5ofuOAq2VqhAAEj2Kib3xBlNNc3K0sfIQ=s64",
      "userId": "01966049699378036829"
     }
    }
   },
   "source": [
    "split_data = train_df[1].str.split(\"\\t\")\n",
    "data = split_data.to_list()\n",
    "names = [\"travel_time\", \"travel_day\", \"travel_hour\", \"source_latitute\", \"source_longitute\", \"destination_latitute\", \"destination_longitute\"]\n",
    "new_df = pd.DataFrame(data, columns=names)\n",
    "new_df.head(5)"
   ],
   "execution_count": 4,
   "outputs": [
    {
     "output_type": "execute_result",
     "data": {
      "text/html": [
       "<div>\n",
       "<style scoped>\n",
       "    .dataframe tbody tr th:only-of-type {\n",
       "        vertical-align: middle;\n",
       "    }\n",
       "\n",
       "    .dataframe tbody tr th {\n",
       "        vertical-align: top;\n",
       "    }\n",
       "\n",
       "    .dataframe thead th {\n",
       "        text-align: right;\n",
       "    }\n",
       "</style>\n",
       "<table border=\"1\" class=\"dataframe\">\n",
       "  <thead>\n",
       "    <tr style=\"text-align: right;\">\n",
       "      <th></th>\n",
       "      <th>travel_time</th>\n",
       "      <th>travel_day</th>\n",
       "      <th>travel_hour</th>\n",
       "      <th>source_latitute</th>\n",
       "      <th>source_longitute</th>\n",
       "      <th>destination_latitute</th>\n",
       "      <th>destination_longitute</th>\n",
       "    </tr>\n",
       "  </thead>\n",
       "  <tbody>\n",
       "    <tr>\n",
       "      <th>0</th>\n",
       "      <td>962</td>\n",
       "      <td>Friday</td>\n",
       "      <td>20</td>\n",
       "      <td>39,8851194</td>\n",
       "      <td>32,8562758</td>\n",
       "      <td>39,8718379</td>\n",
       "      <td>32,8222507</td>\n",
       "    </tr>\n",
       "    <tr>\n",
       "      <th>1</th>\n",
       "      <td>916</td>\n",
       "      <td>Tuesday</td>\n",
       "      <td>8</td>\n",
       "      <td>39,8834635</td>\n",
       "      <td>32,8335031</td>\n",
       "      <td>39,8912282</td>\n",
       "      <td>32,85792586</td>\n",
       "    </tr>\n",
       "    <tr>\n",
       "      <th>2</th>\n",
       "      <td>1175</td>\n",
       "      <td>Saturday</td>\n",
       "      <td>2</td>\n",
       "      <td>39,9164664</td>\n",
       "      <td>32,7246981</td>\n",
       "      <td>39,9414644</td>\n",
       "      <td>32,7183841</td>\n",
       "    </tr>\n",
       "    <tr>\n",
       "      <th>3</th>\n",
       "      <td>1630</td>\n",
       "      <td>Saturday</td>\n",
       "      <td>15</td>\n",
       "      <td>39,93071844</td>\n",
       "      <td>32,61985895</td>\n",
       "      <td>39,9023246</td>\n",
       "      <td>32,5240639</td>\n",
       "    </tr>\n",
       "    <tr>\n",
       "      <th>4</th>\n",
       "      <td>561</td>\n",
       "      <td>Sunday</td>\n",
       "      <td>18</td>\n",
       "      <td>39,914876</td>\n",
       "      <td>32,72881434</td>\n",
       "      <td>39,9307344</td>\n",
       "      <td>32,7187225</td>\n",
       "    </tr>\n",
       "  </tbody>\n",
       "</table>\n",
       "</div>"
      ],
      "text/plain": [
       "  travel_time travel_day  ... destination_latitute destination_longitute\n",
       "0         962     Friday  ...           39,8718379            32,8222507\n",
       "1         916    Tuesday  ...           39,8912282           32,85792586\n",
       "2        1175   Saturday  ...           39,9414644            32,7183841\n",
       "3        1630   Saturday  ...           39,9023246            32,5240639\n",
       "4         561     Sunday  ...           39,9307344            32,7187225\n",
       "\n",
       "[5 rows x 7 columns]"
      ]
     },
     "metadata": {
      "tags": []
     },
     "execution_count": 4
    }
   ]
  },
  {
   "cell_type": "code",
   "metadata": {
    "id": "OEmMXaK9hpIe",
    "colab_type": "code",
    "colab": {
     "base_uri": "https://localhost:8080/",
     "height": 153
    },
    "outputId": "e9af608d-d7a8-45ff-8508-62696532ea75",
    "executionInfo": {
     "status": "ok",
     "timestamp": 1582821716686,
     "user_tz": -180,
     "elapsed": 1082,
     "user": {
      "displayName": "Eser İnan Arslan",
      "photoUrl": "https://lh3.googleusercontent.com/a-/AAuE7mAEXYsAQ5ofuOAq2VqhAAEj2Kib3xBlNNc3K0sfIQ=s64",
      "userId": "01966049699378036829"
     }
    }
   },
   "source": [
    "new_df.dtypes"
   ],
   "execution_count": 7,
   "outputs": [
    {
     "output_type": "execute_result",
     "data": {
      "text/plain": [
       "travel_time              object\n",
       "travel_day               object\n",
       "travel_hour              object\n",
       "source_latitute          object\n",
       "source_longitute         object\n",
       "destination_latitute     object\n",
       "destination_longitute    object\n",
       "dtype: object"
      ]
     },
     "metadata": {
      "tags": []
     },
     "execution_count": 7
    }
   ]
  },
  {
   "cell_type": "code",
   "metadata": {
    "id": "Hgt9Durmh06r",
    "colab_type": "code",
    "colab": {}
   },
   "source": [
    "new_df['travel_time'] = new_df['travel_time'].astype(int)"
   ],
   "execution_count": 0,
   "outputs": []
  },
  {
   "cell_type": "code",
   "metadata": {
    "id": "PaGAmlabguFq",
    "colab_type": "code",
    "colab": {
     "base_uri": "https://localhost:8080/",
     "height": 170
    },
    "outputId": "c8e03fa5-183f-4ac0-f19c-e6eaceb9425b",
    "executionInfo": {
     "status": "ok",
     "timestamp": 1582821967481,
     "user_tz": -180,
     "elapsed": 1004,
     "user": {
      "displayName": "Eser İnan Arslan",
      "photoUrl": "https://lh3.googleusercontent.com/a-/AAuE7mAEXYsAQ5ofuOAq2VqhAAEj2Kib3xBlNNc3K0sfIQ=s64",
      "userId": "01966049699378036829"
     }
    }
   },
   "source": [
    "new_df.groupby([\"travel_day\"])[\"travel_time\"].mean().sort_values()"
   ],
   "execution_count": 16,
   "outputs": [
    {
     "output_type": "execute_result",
     "data": {
      "text/plain": [
       "travel_day\n",
       "Sunday       1013.866670\n",
       "Monday       1062.712122\n",
       "Tuesday      1087.123104\n",
       "Wednesday    1093.185522\n",
       "Thursday     1109.956135\n",
       "Saturday     1113.639413\n",
       "Friday       1126.855139\n",
       "Name: travel_time, dtype: float64"
      ]
     },
     "metadata": {
      "tags": []
     },
     "execution_count": 16
    }
   ]
  },
  {
   "cell_type": "code",
   "metadata": {
    "id": "A4lLPnvLiFUE",
    "colab_type": "code",
    "colab": {}
   },
   "source": [
    ""
   ],
   "execution_count": 0,
   "outputs": []
  },
  {
   "cell_type": "code",
   "metadata": {
    "id": "s7briTQYhdfz",
    "colab_type": "code",
    "colab": {
     "base_uri": "https://localhost:8080/",
     "height": 459
    },
    "outputId": "eaa206a9-f0b9-4da0-87d1-66a296f0508b",
    "executionInfo": {
     "status": "ok",
     "timestamp": 1582821960485,
     "user_tz": -180,
     "elapsed": 921,
     "user": {
      "displayName": "Eser İnan Arslan",
      "photoUrl": "https://lh3.googleusercontent.com/a-/AAuE7mAEXYsAQ5ofuOAq2VqhAAEj2Kib3xBlNNc3K0sfIQ=s64",
      "userId": "01966049699378036829"
     }
    }
   },
   "source": [
    "new_df.groupby([\"travel_hour\"])[\"travel_time\"].mean().sort_values()"
   ],
   "execution_count": 15,
   "outputs": [
    {
     "output_type": "execute_result",
     "data": {
      "text/plain": [
       "travel_hour\n",
       "3      917.227855\n",
       "2      938.275787\n",
       "1      940.481655\n",
       "4      941.610146\n",
       "0      949.800553\n",
       "23     964.482094\n",
       "22     973.998274\n",
       "21     987.987354\n",
       "6     1001.237907\n",
       "9     1018.738185\n",
       "5     1036.037212\n",
       "20    1038.034531\n",
       "10    1039.493087\n",
       "11    1045.471501\n",
       "7     1074.925037\n",
       "12    1075.277957\n",
       "13    1101.786016\n",
       "8     1110.472337\n",
       "19    1161.001933\n",
       "14    1165.899525\n",
       "15    1181.272013\n",
       "16    1231.414820\n",
       "17    1255.315581\n",
       "18    1308.405457\n",
       "Name: travel_time, dtype: float64"
      ]
     },
     "metadata": {
      "tags": []
     },
     "execution_count": 15
    }
   ]
  },
  {
   "cell_type": "code",
   "metadata": {
    "id": "LoYz-GLyiIdR",
    "colab_type": "code",
    "colab": {
     "base_uri": "https://localhost:8080/",
     "height": 238
    },
    "outputId": "1f05959c-2f28-44df-8244-70794650e246",
    "executionInfo": {
     "status": "ok",
     "timestamp": 1582821947163,
     "user_tz": -180,
     "elapsed": 923,
     "user": {
      "displayName": "Eser İnan Arslan",
      "photoUrl": "https://lh3.googleusercontent.com/a-/AAuE7mAEXYsAQ5ofuOAq2VqhAAEj2Kib3xBlNNc3K0sfIQ=s64",
      "userId": "01966049699378036829"
     }
    }
   },
   "source": [
    "new_df.groupby([\"travel_day\", \"travel_hour\"])[\"travel_time\"].mean().sort_values()"
   ],
   "execution_count": 14,
   "outputs": [
    {
     "output_type": "execute_result",
     "data": {
      "text/plain": [
       "travel_day  travel_hour\n",
       "Friday      3               803.193333\n",
       "Thursday    3               831.348837\n",
       "Wednesday   2               838.450450\n",
       "            3               838.880682\n",
       "Tuesday     1               853.876161\n",
       "                              ...     \n",
       "Thursday    17             1328.478261\n",
       "Wednesday   18             1333.680955\n",
       "Friday      17             1347.382243\n",
       "Thursday    18             1383.322325\n",
       "Friday      18             1408.843672\n",
       "Name: travel_time, Length: 168, dtype: float64"
      ]
     },
     "metadata": {
      "tags": []
     },
     "execution_count": 14
    }
   ]
  },
  {
   "cell_type": "code",
   "metadata": {
    "id": "Rpf8LcnriOW-",
    "colab_type": "code",
    "colab": {
     "base_uri": "https://localhost:8080/",
     "height": 34
    },
    "outputId": "f8092928-bd2b-4d49-c3f5-5828f881b258",
    "executionInfo": {
     "status": "ok",
     "timestamp": 1582822024092,
     "user_tz": -180,
     "elapsed": 995,
     "user": {
      "displayName": "Eser İnan Arslan",
      "photoUrl": "https://lh3.googleusercontent.com/a-/AAuE7mAEXYsAQ5ofuOAq2VqhAAEj2Kib3xBlNNc3K0sfIQ=s64",
      "userId": "01966049699378036829"
     }
    }
   },
   "source": [
    "new_df[\"travel_time\"].max(), new_df[\"travel_time\"].min(), new_df[\"travel_time\"].mean()"
   ],
   "execution_count": 17,
   "outputs": [
    {
     "output_type": "execute_result",
     "data": {
      "text/plain": [
       "(10719, 155, 1089.282346004829)"
      ]
     },
     "metadata": {
      "tags": []
     },
     "execution_count": 17
    }
   ]
  },
  {
   "cell_type": "code",
   "metadata": {
    "id": "xL90447Di19D",
    "colab_type": "code",
    "colab": {
     "base_uri": "https://localhost:8080/",
     "height": 238
    },
    "outputId": "61ef8ac6-61a2-4f29-9d44-9de850eda0e8",
    "executionInfo": {
     "status": "ok",
     "timestamp": 1582822092821,
     "user_tz": -180,
     "elapsed": 1491,
     "user": {
      "displayName": "Eser İnan Arslan",
      "photoUrl": "https://lh3.googleusercontent.com/a-/AAuE7mAEXYsAQ5ofuOAq2VqhAAEj2Kib3xBlNNc3K0sfIQ=s64",
      "userId": "01966049699378036829"
     }
    }
   },
   "source": [
    "new_df.groupby([\"source_latitute\", \"source_longitute\"])[\"travel_time\"].mean().sort_values()"
   ],
   "execution_count": 18,
   "outputs": [
    {
     "output_type": "execute_result",
     "data": {
      "text/plain": [
       "source_latitute  source_longitute\n",
       "39,9340771       32,7948647            155.0\n",
       "39,96780281      32,69588976           156.0\n",
       "39,8930346       32,5475065            158.0\n",
       "39,90526678      32,89783022           158.0\n",
       "39,91530706      32,73236773           158.0\n",
       "                                      ...   \n",
       "39,96666155      32,74281619          9321.0\n",
       "39,87700369      32,76549837          9379.0\n",
       "39,89817907      32,74288676          9395.0\n",
       "39,93698217      32,70945666          9733.0\n",
       "39,85192587      32,54507944         10719.0\n",
       "Name: travel_time, Length: 175920, dtype: float64"
      ]
     },
     "metadata": {
      "tags": []
     },
     "execution_count": 18
    }
   ]
  },
  {
   "cell_type": "code",
   "metadata": {
    "id": "QSFJTwzBjGn_",
    "colab_type": "code",
    "colab": {
     "base_uri": "https://localhost:8080/",
     "height": 238
    },
    "outputId": "143d5422-330c-4080-fabc-7fcbbae5edee",
    "executionInfo": {
     "status": "ok",
     "timestamp": 1582822129061,
     "user_tz": -180,
     "elapsed": 1958,
     "user": {
      "displayName": "Eser İnan Arslan",
      "photoUrl": "https://lh3.googleusercontent.com/a-/AAuE7mAEXYsAQ5ofuOAq2VqhAAEj2Kib3xBlNNc3K0sfIQ=s64",
      "userId": "01966049699378036829"
     }
    }
   },
   "source": [
    "new_df.groupby([\"destination_latitute\", \"destination_longitute\"])[\"travel_time\"].mean().sort_values()"
   ],
   "execution_count": 19,
   "outputs": [
    {
     "output_type": "execute_result",
     "data": {
      "text/plain": [
       "destination_latitute  destination_longitute\n",
       "39,9312597            32,79599179                155.0\n",
       "39,9605896            32,6975263                 156.0\n",
       "39,9000108            32,8985791                 158.0\n",
       "39,918514             32,7321773                 158.0\n",
       "39,8722286            32,8285883                 158.0\n",
       "                                                ...   \n",
       "39,951975             32,7370624                9321.0\n",
       "39,87558603           32,7794539                9379.0\n",
       "39,8917449            32,8680038                9395.0\n",
       "39,9251434            32,5949306                9733.0\n",
       "39,87185              32,5897069               10719.0\n",
       "Name: travel_time, Length: 177959, dtype: float64"
      ]
     },
     "metadata": {
      "tags": []
     },
     "execution_count": 19
    }
   ]
  },
  {
   "cell_type": "code",
   "metadata": {
    "id": "O4RH2nUtjPW6",
    "colab_type": "code",
    "colab": {
     "base_uri": "https://localhost:8080/",
     "height": 238
    },
    "outputId": "264f31c5-2cf7-43d8-b2d0-70b73d49a30b",
    "executionInfo": {
     "status": "ok",
     "timestamp": 1582822203409,
     "user_tz": -180,
     "elapsed": 1931,
     "user": {
      "displayName": "Eser İnan Arslan",
      "photoUrl": "https://lh3.googleusercontent.com/a-/AAuE7mAEXYsAQ5ofuOAq2VqhAAEj2Kib3xBlNNc3K0sfIQ=s64",
      "userId": "01966049699378036829"
     }
    }
   },
   "source": [
    "new_df.groupby([\"source_latitute\", \"destination_latitute\"])[\"travel_time\"].mean().sort_values()"
   ],
   "execution_count": 20,
   "outputs": [
    {
     "output_type": "execute_result",
     "data": {
      "text/plain": [
       "source_latitute  destination_latitute\n",
       "39,9340771       39,9312597                155.0\n",
       "39,96780281      39,9605896                156.0\n",
       "39,8930346       39,9001288                158.0\n",
       "39,87156012      39,8722286                158.0\n",
       "39,91530706      39,918514                 158.0\n",
       "                                          ...   \n",
       "39,96666155      39,951975                9321.0\n",
       "39,87700369      39,87558603              9379.0\n",
       "39,89817907      39,8917449               9395.0\n",
       "39,93698217      39,9251434               9733.0\n",
       "39,85192587      39,87185                10719.0\n",
       "Name: travel_time, Length: 178069, dtype: float64"
      ]
     },
     "metadata": {
      "tags": []
     },
     "execution_count": 20
    }
   ]
  },
  {
   "cell_type": "code",
   "metadata": {
    "id": "VwfsQhvajXsb",
    "colab_type": "code",
    "colab": {
     "base_uri": "https://localhost:8080/",
     "height": 238
    },
    "outputId": "57371d49-6264-440e-a038-5f17c03ce270",
    "executionInfo": {
     "status": "ok",
     "timestamp": 1582822207875,
     "user_tz": -180,
     "elapsed": 1907,
     "user": {
      "displayName": "Eser İnan Arslan",
      "photoUrl": "https://lh3.googleusercontent.com/a-/AAuE7mAEXYsAQ5ofuOAq2VqhAAEj2Kib3xBlNNc3K0sfIQ=s64",
      "userId": "01966049699378036829"
     }
    }
   },
   "source": [
    "new_df.groupby([\"source_longitute\", \"destination_longitute\"])[\"travel_time\"].mean().sort_values()"
   ],
   "execution_count": 21,
   "outputs": [
    {
     "output_type": "execute_result",
     "data": {
      "text/plain": [
       "source_longitute  destination_longitute\n",
       "32,7948647        32,79599179                155.0\n",
       "32,69588976       32,6975263                 156.0\n",
       "32,73236773       32,7321773                 158.0\n",
       "32,89783022       32,8985791                 158.0\n",
       "32,82355234       32,8285883                 158.0\n",
       "                                            ...   \n",
       "32,74281619       32,7370624                9321.0\n",
       "32,76549837       32,7794539                9379.0\n",
       "32,74288676       32,8680038                9395.0\n",
       "32,70945666       32,5949306                9733.0\n",
       "32,54507944       32,5897069               10719.0\n",
       "Name: travel_time, Length: 178071, dtype: float64"
      ]
     },
     "metadata": {
      "tags": []
     },
     "execution_count": 21
    }
   ]
  },
  {
   "cell_type": "code",
   "metadata": {
    "id": "9a_t6ZZHjinK",
    "colab_type": "code",
    "colab": {}
   },
   "source": [
    ""
   ],
   "execution_count": 0,
   "outputs": []
  }
 ]
}